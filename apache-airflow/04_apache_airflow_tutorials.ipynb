{
  "nbformat": 4,
  "nbformat_minor": 0,
  "metadata": {
    "colab": {
      "provenance": [],
      "authorship_tag": "ABX9TyM+J+4ZOb9U/tgAq4a3WunP",
      "include_colab_link": true
    },
    "kernelspec": {
      "name": "python3",
      "display_name": "Python 3"
    },
    "language_info": {
      "name": "python"
    }
  },
  "cells": [
    {
      "cell_type": "markdown",
      "metadata": {
        "id": "view-in-github",
        "colab_type": "text"
      },
      "source": [
        "<a href=\"https://colab.research.google.com/github/thecodemancer/study-with-me/blob/main/apache-airflow/04_apache_airflow_tutorials.ipynb\" target=\"_parent\"><img src=\"https://colab.research.google.com/assets/colab-badge.svg\" alt=\"Open In Colab\"/></a>"
      ]
    },
    {
      "cell_type": "markdown",
      "source": [
        "<center><img src=\"https://i0.wp.com/blog.knoldus.com/wp-content/uploads/2021/05/pasted-image-0-1.png?fit=549%2C215&ssl=1\" /></center>"
      ],
      "metadata": {
        "id": "EOBNT5nUVUqI"
      }
    },
    {
      "cell_type": "markdown",
      "source": [
        "# Tutorials\n",
        "Once you have Airflow up and running with the Quick Start, these tutorials are a great way to get a sense for how Airflow works.\n",
        "\n",
        "- [Fundamental Concepts](https://airflow.apache.org/docs/apache-airflow/stable/tutorial/fundamentals.html)\n",
        "- [Working with TaskFlow](https://airflow.apache.org/docs/apache-airflow/stable/tutorial/taskflow.html)\n",
        "- [Building a Running Pipeline](https://airflow.apache.org/docs/apache-airflow/stable/tutorial/pipeline.html)"
      ],
      "metadata": {
        "id": "86Yq06eyVO1y"
      }
    },
    {
      "cell_type": "markdown",
      "source": [
        "\n",
        "\n",
        "---\n",
        "\n",
        "\n",
        "If you made it this far, follow [David Regalado](https://beacons.ai/davidregalado) for more code!"
      ],
      "metadata": {
        "id": "EinJjY0clvOc"
      }
    },
    {
      "cell_type": "code",
      "source": [],
      "metadata": {
        "id": "Xgwj7gMRlvnN"
      },
      "execution_count": null,
      "outputs": []
    }
  ]
}