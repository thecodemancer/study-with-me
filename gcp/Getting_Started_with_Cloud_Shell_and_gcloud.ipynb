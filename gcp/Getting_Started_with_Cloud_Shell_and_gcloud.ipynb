{
  "nbformat": 4,
  "nbformat_minor": 0,
  "metadata": {
    "colab": {
      "name": "getting started with cloud shell and gcloud.ipynb",
      "provenance": [],
      "authorship_tag": "ABX9TyMP+8xN+LzNnQeyNgClp6Kd",
      "include_colab_link": true
    },
    "kernelspec": {
      "name": "python3",
      "display_name": "Python 3"
    },
    "language_info": {
      "name": "python"
    }
  },
  "cells": [
    {
      "cell_type": "markdown",
      "metadata": {
        "id": "view-in-github",
        "colab_type": "text"
      },
      "source": [
        "<a href=\"https://colab.research.google.com/github/thecodemancer/study-with-me/blob/main/gcp/Getting_Started_with_Cloud_Shell_and_gcloud.ipynb\" target=\"_parent\"><img src=\"https://colab.research.google.com/assets/colab-badge.svg\" alt=\"Open In Colab\"/></a>"
      ]
    },
    {
      "cell_type": "markdown",
      "source": [
        "# Getting Started with Cloud Shell and gcloud"
      ],
      "metadata": {
        "id": "VBrk4QWPcYmw"
      }
    },
    {
      "cell_type": "markdown",
      "source": [
        "## Overview\n",
        "\n",
        "**Cloud Shell** provides you with command-line access to computing resources hosted on Google Cloud. Cloud Shell is a Debian-based virtual machine with a persistent 5-GB home directory, which makes it easy for you to manage your Google Cloud projects and resources. The **gcloud** command-line tool and other utilities you need are pre-installed in Cloud Shell, which allows you to get up and running quickly.\n",
        "\n",
        "In this hands-on lab, you learn how to connect to computing resources hosted on Google Cloud via Cloud Shell with the gcloud tool.\n",
        "\n",
        "You are encouraged to type the commands themselves, which reinforces the core concepts. "
      ],
      "metadata": {
        "id": "AbLNPam1cciG"
      }
    },
    {
      "cell_type": "markdown",
      "source": [
        "## Task 1. Configure your environment\n",
        "\n",
        "Certain **Google Compute Engine** resources live in regions or zones. A region is a specific geographical location where you can run your resources. Each region has one or more zones. For example, the `us-central1` region denotes a region in the Central United States that has zones `us-central1-a`, `us-central1-b`, `us-central1-c`, and `us-central1-f`. The following table shows zones in their respective regions:\n",
        "\n",
        "\n",
        "| Western US      | Central US | Eastern US | Western Europe | Eastern Asia |\n",
        "| ----------- | ----------- | ----------- | ----------- | ----------- |\n",
        "| us-west1-a | us-central1-a | us-east1-b\t| europe-west1-b\t| asia-east1-a |\n",
        "| us-west1-b | us-central1-b | us-east1-c\t| europe-west1c\t| asia-east1-b |\n",
        "| - | us-central1-c\t| us-east1-d\t| europe-west1-d\t| aisia-east1-c |\n",
        "| - | us-central1-f | - | - | - |\n",
        "\n",
        "Resources that live in a zone are referred to as zonal resources. Virtual machine instances and persistent disks live in a zone. If you want to attach a persistent disk to a virtual machine instance, both resources must be in the same zone. Similarly, if you want to assign a static IP address to an instance, the instance must be in the same region as the static IP address."
      ],
      "metadata": {
        "id": "LOlv7KSHdHa_"
      }
    },
    {
      "cell_type": "markdown",
      "source": [
        "1. Set the region to ____\n"
      ],
      "metadata": {
        "id": "QEyoN-WCjwa8"
      }
    },
    {
      "cell_type": "code",
      "source": [
        "gcloud config set compute/region"
      ],
      "metadata": {
        "id": "ZM50EHh1li_7"
      },
      "execution_count": null,
      "outputs": []
    },
    {
      "cell_type": "markdown",
      "source": [
        "2. To view the project region setting, run the following command:"
      ],
      "metadata": {
        "id": "IcCIKq77lltR"
      }
    },
    {
      "cell_type": "code",
      "source": [
        "gcloud config get-value compute/region"
      ],
      "metadata": {
        "id": "iINkjCRqlnpx"
      },
      "execution_count": null,
      "outputs": []
    },
    {
      "cell_type": "markdown",
      "source": [
        "3. Set the zone to ____ :"
      ],
      "metadata": {
        "id": "SDTg27aJlpOq"
      }
    },
    {
      "cell_type": "code",
      "source": [
        "gcloud config set compute/zone"
      ],
      "metadata": {
        "id": "__DxLTgpls1a"
      },
      "execution_count": null,
      "outputs": []
    },
    {
      "cell_type": "markdown",
      "source": [
        "4. To view the project zone setting, run the following command:"
      ],
      "metadata": {
        "id": "DLR42wFilu2h"
      }
    },
    {
      "cell_type": "code",
      "source": [
        "gcloud config get-value compute/zone"
      ],
      "metadata": {
        "id": "9b6iysAQlxih"
      },
      "execution_count": null,
      "outputs": []
    },
    {
      "cell_type": "markdown",
      "source": [
        "### Finding project information\n",
        "\n",
        "1. Copy your project ID to your clipboard or text editor. \n",
        "\n",
        "In the Cloud Console, on the Dashboard, under **Project info**. (Click **Navigation menu**, and then click **Cloud overview** > **Dashboard**.)\n",
        "\n",
        "2. In Cloud Shell, run the following `gcloud` command, to view the project id for your project:\n",
        "\n"
      ],
      "metadata": {
        "id": "HYZgg5OQknw6"
      }
    },
    {
      "cell_type": "code",
      "source": [
        "gcloud config get-value project"
      ],
      "metadata": {
        "id": "yAMAz2kpkbiT"
      },
      "execution_count": null,
      "outputs": []
    },
    {
      "cell_type": "markdown",
      "source": [
        "3. In Cloud Shell, run the following gcloud command to view details about the project:\n",
        "\n"
      ],
      "metadata": {
        "id": "Po_tmpUCmNvJ"
      }
    },
    {
      "cell_type": "code",
      "source": [
        "gcloud compute project-info describe --project $(gcloud config get-value project) "
      ],
      "metadata": {
        "id": "2JgeWY44mOkH"
      },
      "execution_count": null,
      "outputs": []
    },
    {
      "cell_type": "markdown",
      "source": [
        "Find the zone and region metadata values in the output. You'll use the zone (**google-compute-default-zone**) from the output later in this lab."
      ],
      "metadata": {
        "id": "03WT588mmQ0x"
      }
    },
    {
      "cell_type": "markdown",
      "source": [
        "### Setting environment variables\n",
        "\n",
        "Environment variables define your environment and help save time when you write scripts that contain APIs or executables.\n",
        "\n",
        "1. Create an environment variable to store your Project ID, replacing **\\<your_project_ID>** with the value for name from the gcloud compute project-info describe command you ran earlier:\n",
        "\n"
      ],
      "metadata": {
        "id": "VQFm4rTs28df"
      }
    },
    {
      "cell_type": "code",
      "source": [
        "export PROJECT_ID=$(gcloud config get-value project)"
      ],
      "metadata": {
        "id": "XQN1LI-w2omy"
      },
      "execution_count": null,
      "outputs": []
    },
    {
      "cell_type": "markdown",
      "source": [
        "2. Create an environment variable to store your Zone, replacing **\\<your_zone>** with the value for zone from the **gcloud compute project-info describe** command you ran earlier:\n",
        "\n"
      ],
      "metadata": {
        "id": "5lFJn-qP3ey2"
      }
    },
    {
      "cell_type": "code",
      "source": [
        "export ZONE=$(gcloud config get-value compute/zone)"
      ],
      "metadata": {
        "id": "mGGlrWVQ3nmM"
      },
      "execution_count": null,
      "outputs": []
    },
    {
      "cell_type": "markdown",
      "source": [
        "3. To verify that your variables were set properly, run the following commands:\n",
        "\n"
      ],
      "metadata": {
        "id": "Vrjw3MM_3qpW"
      }
    },
    {
      "cell_type": "code",
      "source": [
        "echo -e \"PROJECT ID: $PROJECT_ID\\nZONE: $ZONE\""
      ],
      "metadata": {
        "id": "1huh68Ou3spr"
      },
      "execution_count": null,
      "outputs": []
    },
    {
      "cell_type": "markdown",
      "source": [
        "If the variables were set correctly, the echo commands will output your Project ID and Zone."
      ],
      "metadata": {
        "id": "-NHv3ki03x9W"
      }
    },
    {
      "cell_type": "markdown",
      "source": [
        "### Creating a virtual machine with the gcloud tool\n",
        "\n",
        "Use the gcloud tool to create a new virtual machine (VM) instance.\n",
        "\n",
        "1. To create your VM, run the following command:"
      ],
      "metadata": {
        "id": "GbhKWcju3vHl"
      }
    },
    {
      "cell_type": "code",
      "source": [
        "gcloud compute instances create gcelab2 --machine-type e2-medium --zone $ZONE"
      ],
      "metadata": {
        "id": "geuao5kI_vwQ"
      },
      "execution_count": null,
      "outputs": []
    },
    {
      "cell_type": "markdown",
      "source": [
        "- To open help for the create command, run the following command:\n",
        "\n"
      ],
      "metadata": {
        "id": "c2SI3qsz_0jP"
      }
    },
    {
      "cell_type": "code",
      "source": [
        "gcloud compute instances create --help"
      ],
      "metadata": {
        "id": "P5WV5J0x4IXA"
      },
      "execution_count": null,
      "outputs": []
    },
    {
      "cell_type": "markdown",
      "source": [
        "### Explore gcloud commands\n",
        "\n",
        "The **gcloud** tool offers simple usage guidelines that are available by adding the **-h** flag (for help) onto the end of any **gcloud** command.\n",
        "\n",
        "Run the following command:\n",
        "\n",
        "\n"
      ],
      "metadata": {
        "id": "zTxGJCmU4bB9"
      }
    },
    {
      "cell_type": "code",
      "source": [
        "gcloud -h"
      ],
      "metadata": {
        "id": "ERSGj6mD4cYw"
      },
      "execution_count": null,
      "outputs": []
    },
    {
      "cell_type": "markdown",
      "source": [
        "You can access more verbose help by appending the **--help** flag onto a command or running the **gcloud help** command.\n",
        "\n",
        "2. Run the following command:\n",
        "\n",
        "\n"
      ],
      "metadata": {
        "id": "EkrmJheK4oEl"
      }
    },
    {
      "cell_type": "code",
      "source": [
        "gcloud config --help"
      ],
      "metadata": {
        "id": "YL7s_EBM4rre"
      },
      "execution_count": null,
      "outputs": []
    },
    {
      "cell_type": "markdown",
      "source": [
        "- Run the following command:\n",
        "\n"
      ],
      "metadata": {
        "id": "WfEceezK40HU"
      }
    },
    {
      "cell_type": "code",
      "source": [
        "gcloud help config"
      ],
      "metadata": {
        "id": "jIKR8s8b41Uj"
      },
      "execution_count": null,
      "outputs": []
    },
    {
      "cell_type": "markdown",
      "source": [
        "The results of the **gcloud config** --help and gcloud help config commands are equivalent. Both return long, detailed help.\n",
        "\n",
        "gcloud [Global Flags](https://cloud.google.com/sdk/gcloud/reference/) govern the behavior of commands on a per-invocation level. Flags override any values set in SDK properties.\n",
        "\n",
        "4. View the list of configurations in your environment:\n",
        "\n",
        "\n",
        "\n"
      ],
      "metadata": {
        "id": "PzfPGjh04-oU"
      }
    },
    {
      "cell_type": "code",
      "source": [
        "gcloud config list  "
      ],
      "metadata": {
        "id": "q9ybyCUL7jth"
      },
      "execution_count": null,
      "outputs": []
    },
    {
      "cell_type": "markdown",
      "source": [
        "5. To see all properties and their settings:\n",
        "\n"
      ],
      "metadata": {
        "id": "KupFx0wS7qIa"
      }
    },
    {
      "cell_type": "code",
      "source": [
        "gcloud config list --all"
      ],
      "metadata": {
        "id": "xmA4gCtc7q7S"
      },
      "execution_count": null,
      "outputs": []
    },
    {
      "cell_type": "markdown",
      "source": [
        "6. List your components:\n",
        "\n"
      ],
      "metadata": {
        "id": "OyK5Eg0F7sfx"
      }
    },
    {
      "cell_type": "code",
      "source": [
        "gcloud components list"
      ],
      "metadata": {
        "id": "Gv2bF22w7tzn"
      },
      "execution_count": null,
      "outputs": []
    },
    {
      "cell_type": "markdown",
      "source": [
        "This command displays the gcloud components that are ready for you to use in this lab.\n",
        "\n"
      ],
      "metadata": {
        "id": "EsBdX61B7uYp"
      }
    },
    {
      "cell_type": "markdown",
      "source": [
        "## Task 2. Filtering command line output\n",
        "\n",
        "The gcloud CLI is a powerful tool for working at the command line. You may want specific information to be displayed.\n",
        "\n",
        "1. List the compute instance available in the project:"
      ],
      "metadata": {
        "id": "KP_11ANr7z4R"
      }
    },
    {
      "cell_type": "code",
      "source": [
        "gcloud compute instances list"
      ],
      "metadata": {
        "id": "XDA6Hzqy70jt"
      },
      "execution_count": null,
      "outputs": []
    },
    {
      "cell_type": "markdown",
      "source": [
        "2. List the gcelab2 virtual machine:\n",
        "\n"
      ],
      "metadata": {
        "id": "snku3OP58QeB"
      }
    },
    {
      "cell_type": "code",
      "source": [
        "gcloud compute instances list --filter=\"name=('gcelab2')\""
      ],
      "metadata": {
        "id": "VQmcObUb8RE5"
      },
      "execution_count": null,
      "outputs": []
    },
    {
      "cell_type": "markdown",
      "source": [
        "3. List the Firewall rules in the project:\n",
        "\n"
      ],
      "metadata": {
        "id": "91Hs8FzZ8rk5"
      }
    },
    {
      "cell_type": "code",
      "source": [
        "gcloud compute firewall-rules list"
      ],
      "metadata": {
        "id": "4HtU7uhE8tCx"
      },
      "execution_count": null,
      "outputs": []
    },
    {
      "cell_type": "markdown",
      "source": [
        "4. List the Firewall rules for the default network:\n",
        "\n"
      ],
      "metadata": {
        "id": "oesK5-jB8u7T"
      }
    },
    {
      "cell_type": "code",
      "source": [
        "gcloud compute firewall-rules list --filter=\"network='default'\""
      ],
      "metadata": {
        "id": "ZddWgO5C8vYH"
      },
      "execution_count": null,
      "outputs": []
    },
    {
      "cell_type": "markdown",
      "source": [
        "5. List the Firewall rules for the default network where the allow rule matches an ICMP rule:\n",
        "\n"
      ],
      "metadata": {
        "id": "2xabuXuV8y5p"
      }
    },
    {
      "cell_type": "code",
      "source": [
        "gcloud compute firewall-rules list --filter=\"NETWORK:'default' AND ALLOW:'icmp'\""
      ],
      "metadata": {
        "id": "srNDKLXA8zaz"
      },
      "execution_count": null,
      "outputs": []
    },
    {
      "cell_type": "markdown",
      "source": [
        "## Task 3. Connecting to your VM instance\n",
        "\n",
        "**gcloud** compute makes connecting to your instances easy. The **gcloud compute ssh** command provides a wrapper around SSH, which takes care of authentication and the mapping of instance names to IP addresses.\n",
        "\n",
        "1. To connect to your VM with SSH, run the following command:"
      ],
      "metadata": {
        "id": "dSuFkZ_Z83DZ"
      }
    },
    {
      "cell_type": "code",
      "source": [
        "gcloud compute ssh gcelab2 --zone $ZONE"
      ],
      "metadata": {
        "id": "Etv2J30T818R"
      },
      "execution_count": null,
      "outputs": []
    },
    {
      "cell_type": "markdown",
      "source": [
        "To continue, type **Y**.\n",
        "\n",
        "To leave the passphrase empty, press **ENTER** twice.\n",
        "\n",
        "Install nginx web server on to virtual machine:\n",
        "\n",
        "\n"
      ],
      "metadata": {
        "id": "nEd3nsbA9Dxh"
      }
    },
    {
      "cell_type": "code",
      "source": [
        "sudo apt install -y nginx"
      ],
      "metadata": {
        "id": "rIGLUGc59E8E"
      },
      "execution_count": null,
      "outputs": []
    },
    {
      "cell_type": "markdown",
      "source": [
        "5. You don't need to do anything here, so to disconnect from SSH and exit the remote shell, run the following command:\n",
        "\n"
      ],
      "metadata": {
        "id": "bOBCdffT9Z0h"
      }
    },
    {
      "cell_type": "code",
      "source": [
        "exit"
      ],
      "metadata": {
        "id": "HZpHUCT49aT1"
      },
      "execution_count": null,
      "outputs": []
    },
    {
      "cell_type": "markdown",
      "source": [
        "## Task 4. Updating the Firewall\n",
        "\n",
        "When using compute resources such as virtual machines, it's important to understand the associated firewall rules.\n",
        "\n",
        "1. List the firewall rules for the project:"
      ],
      "metadata": {
        "id": "VYCRX4D79ebh"
      }
    },
    {
      "cell_type": "code",
      "source": [
        "gcloud compute firewall-rules list"
      ],
      "metadata": {
        "id": "pWx3YJ6H9e38"
      },
      "execution_count": null,
      "outputs": []
    },
    {
      "cell_type": "markdown",
      "source": [
        "From the above we can see we have two networks available. The default network is where our virtual machine gcelab2 is located.\n",
        "\n",
        "2. Try to access the nginx service running on the gcelab2 virtual machine.\n",
        "\n",
        "3. Add a tag to the virtual machine:\n",
        "\n"
      ],
      "metadata": {
        "id": "Kw0DYt2f9oz7"
      }
    },
    {
      "cell_type": "code",
      "source": [
        "gcloud compute instances add-tags gcelab2 --tags http-server,https-server"
      ],
      "metadata": {
        "id": "TxSqWpDs9qCo"
      },
      "execution_count": null,
      "outputs": []
    },
    {
      "cell_type": "markdown",
      "source": [
        "4. Update the firewall rule to allow:\n",
        "\n"
      ],
      "metadata": {
        "id": "sF5Cpvvu-LTg"
      }
    },
    {
      "cell_type": "code",
      "source": [
        "gcloud compute firewall-rules create default-allow-http --direction=INGRESS --priority=1000 --network=default --action=ALLOW --rules=tcp:80 --source-ranges=0.0.0.0/0 --target-tags=http-server"
      ],
      "metadata": {
        "id": "uN1kbBRZ-MK6"
      },
      "execution_count": null,
      "outputs": []
    },
    {
      "cell_type": "markdown",
      "source": [
        "5. List the firewall rules for the project:\n",
        "\n"
      ],
      "metadata": {
        "id": "VbFY5b7K-OpY"
      }
    },
    {
      "cell_type": "code",
      "source": [
        "gcloud compute firewall-rules list --filter=ALLOW:'80'"
      ],
      "metadata": {
        "id": "Nywl3wSe-PX5"
      },
      "execution_count": null,
      "outputs": []
    },
    {
      "cell_type": "markdown",
      "source": [
        "6. Verify communication is possible for http to the virtual machine:\n",
        "\n"
      ],
      "metadata": {
        "id": "LGEpK2D5-R2Y"
      }
    },
    {
      "cell_type": "code",
      "source": [
        "curl http://$(gcloud compute instances list --filter=name:gcelab2 --format='value(EXTERNAL_IP)')"
      ],
      "metadata": {
        "id": "spEKNIWY-TJ7"
      },
      "execution_count": null,
      "outputs": []
    },
    {
      "cell_type": "markdown",
      "source": [
        "## Task 5. Viewing the system logs\n",
        "\n",
        "1. View the available logs on the system:\n",
        "\n"
      ],
      "metadata": {
        "id": "iUh7SvCl-XFB"
      }
    },
    {
      "cell_type": "code",
      "source": [
        "gcloud logging logs list "
      ],
      "metadata": {
        "id": "Kl2ujrrQ-YJ9"
      },
      "execution_count": null,
      "outputs": []
    },
    {
      "cell_type": "markdown",
      "source": [
        "2. View the logs that relate to compute resources:\n",
        "\n"
      ],
      "metadata": {
        "id": "sG92osh1-msA"
      }
    },
    {
      "cell_type": "code",
      "source": [
        "gcloud logging logs list --filter=\"compute\" "
      ],
      "metadata": {
        "id": "RTEdXqWV-nqI"
      },
      "execution_count": null,
      "outputs": []
    },
    {
      "cell_type": "markdown",
      "source": [
        "3. Read the logs related to the resource type of **gce_instance**:\n",
        "\n"
      ],
      "metadata": {
        "id": "KN_tQSvN-oZ5"
      }
    },
    {
      "cell_type": "code",
      "source": [
        "gcloud logging read \"resource.type=gce_instance\" --limit 5"
      ],
      "metadata": {
        "id": "WFrBNqZX-uwa"
      },
      "execution_count": null,
      "outputs": []
    },
    {
      "cell_type": "markdown",
      "source": [
        "4. Read the logs for a specific virtual machine:\n",
        "\n"
      ],
      "metadata": {
        "id": "8Sxb5xbr-wLY"
      }
    },
    {
      "cell_type": "code",
      "source": [
        "gcloud logging read \"resource.type=gce_instance AND labels.instance_name='gcelab2'\" --limit 5"
      ],
      "metadata": {
        "id": "NCChK2cr-wn4"
      },
      "execution_count": null,
      "outputs": []
    },
    {
      "cell_type": "markdown",
      "source": [
        "## Congratulations!\n",
        "\n",
        "You did it!"
      ],
      "metadata": {
        "id": "nvFJ3Xd0-zEQ"
      }
    },
    {
      "cell_type": "code",
      "source": [
        ""
      ],
      "metadata": {
        "id": "4LcV5401-9zJ"
      },
      "execution_count": null,
      "outputs": []
    }
  ]
}