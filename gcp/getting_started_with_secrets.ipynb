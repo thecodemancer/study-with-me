{
  "nbformat": 4,
  "nbformat_minor": 0,
  "metadata": {
    "colab": {
      "provenance": [],
      "authorship_tag": "ABX9TyP3ZdN/06IYI08QVqYdP7ya",
      "include_colab_link": true
    },
    "kernelspec": {
      "name": "python3",
      "display_name": "Python 3"
    },
    "language_info": {
      "name": "python"
    }
  },
  "cells": [
    {
      "cell_type": "markdown",
      "metadata": {
        "id": "view-in-github",
        "colab_type": "text"
      },
      "source": [
        "<a href=\"https://colab.research.google.com/github/thecodemancer/study-with-me/blob/main/gcp/getting_started_with_secrets.ipynb\" target=\"_parent\"><img src=\"https://colab.research.google.com/assets/colab-badge.svg\" alt=\"Open In Colab\"/></a>"
      ]
    },
    {
      "cell_type": "markdown",
      "source": [
        "# Dealing with Secrets\n",
        "<center>\n",
        "<img src=\"https://www.apa.org/images/2020-09-exposing-secrets_tcm7-277839.jpg\" />\n",
        "</center>"
      ],
      "metadata": {
        "id": "1POQqkYPWjaq"
      }
    },
    {
      "cell_type": "markdown",
      "source": [
        "## Setting up the development environment"
      ],
      "metadata": {
        "id": "Y_A9cVC8XdM2"
      }
    },
    {
      "cell_type": "code",
      "execution_count": null,
      "metadata": {
        "colab": {
          "base_uri": "https://localhost:8080/"
        },
        "id": "YkEaOEgJDS3v",
        "outputId": "2b5894bb-1af8-4ecf-9227-fbbb3bd342ea"
      },
      "outputs": [
        {
          "output_type": "stream",
          "name": "stdout",
          "text": [
            "Collecting google.cloud\n",
            "  Downloading google_cloud-0.34.0-py2.py3-none-any.whl (1.8 kB)\n",
            "Installing collected packages: google.cloud\n",
            "Successfully installed google.cloud-0.34.0\n"
          ]
        }
      ],
      "source": [
        "!pip install google.cloud"
      ]
    },
    {
      "cell_type": "code",
      "source": [
        "!pip3 install --user google-cloud-secret-manager==2.10.0"
      ],
      "metadata": {
        "colab": {
          "base_uri": "https://localhost:8080/",
          "height": 536
        },
        "id": "ZBakNt0LDUIu",
        "outputId": "be045d71-b9d0-49f5-b86b-c42c42ca58d4"
      },
      "execution_count": null,
      "outputs": [
        {
          "output_type": "stream",
          "name": "stdout",
          "text": [
            "Collecting google-cloud-secret-manager==2.10.0\n",
            "  Downloading google_cloud_secret_manager-2.10.0-py2.py3-none-any.whl (97 kB)\n",
            "\u001b[2K     \u001b[90m━━━━━━━━━━━━━━━━━━━━━━━━━━━━━━━━━━━━━━━━\u001b[0m \u001b[32m97.6/97.6 kB\u001b[0m \u001b[31m1.6 MB/s\u001b[0m eta \u001b[36m0:00:00\u001b[0m\n",
            "\u001b[?25hRequirement already satisfied: google-api-core[grpc]!=2.0.*,!=2.1.*,!=2.2.*,!=2.3.0,<3.0.0dev,>=1.31.5 in /usr/local/lib/python3.10/dist-packages (from google-cloud-secret-manager==2.10.0) (2.11.1)\n",
            "Requirement already satisfied: grpc-google-iam-v1<0.13dev,>=0.12.3 in /usr/local/lib/python3.10/dist-packages (from google-cloud-secret-manager==2.10.0) (0.12.6)\n",
            "Requirement already satisfied: proto-plus>=1.15.0 in /usr/local/lib/python3.10/dist-packages (from google-cloud-secret-manager==2.10.0) (1.22.3)\n",
            "Requirement already satisfied: googleapis-common-protos<2.0.dev0,>=1.56.2 in /usr/local/lib/python3.10/dist-packages (from google-api-core[grpc]!=2.0.*,!=2.1.*,!=2.2.*,!=2.3.0,<3.0.0dev,>=1.31.5->google-cloud-secret-manager==2.10.0) (1.59.1)\n",
            "Requirement already satisfied: protobuf!=3.20.0,!=3.20.1,!=4.21.0,!=4.21.1,!=4.21.2,!=4.21.3,!=4.21.4,!=4.21.5,<5.0.0.dev0,>=3.19.5 in /usr/local/lib/python3.10/dist-packages (from google-api-core[grpc]!=2.0.*,!=2.1.*,!=2.2.*,!=2.3.0,<3.0.0dev,>=1.31.5->google-cloud-secret-manager==2.10.0) (3.20.3)\n",
            "Requirement already satisfied: google-auth<3.0.dev0,>=2.14.1 in /usr/local/lib/python3.10/dist-packages (from google-api-core[grpc]!=2.0.*,!=2.1.*,!=2.2.*,!=2.3.0,<3.0.0dev,>=1.31.5->google-cloud-secret-manager==2.10.0) (2.17.3)\n",
            "Requirement already satisfied: requests<3.0.0.dev0,>=2.18.0 in /usr/local/lib/python3.10/dist-packages (from google-api-core[grpc]!=2.0.*,!=2.1.*,!=2.2.*,!=2.3.0,<3.0.0dev,>=1.31.5->google-cloud-secret-manager==2.10.0) (2.27.1)\n",
            "Requirement already satisfied: grpcio<2.0dev,>=1.33.2 in /usr/local/lib/python3.10/dist-packages (from google-api-core[grpc]!=2.0.*,!=2.1.*,!=2.2.*,!=2.3.0,<3.0.0dev,>=1.31.5->google-cloud-secret-manager==2.10.0) (1.56.0)\n",
            "Requirement already satisfied: grpcio-status<2.0.dev0,>=1.33.2 in /usr/local/lib/python3.10/dist-packages (from google-api-core[grpc]!=2.0.*,!=2.1.*,!=2.2.*,!=2.3.0,<3.0.0dev,>=1.31.5->google-cloud-secret-manager==2.10.0) (1.48.2)\n",
            "Requirement already satisfied: cachetools<6.0,>=2.0.0 in /usr/local/lib/python3.10/dist-packages (from google-auth<3.0.dev0,>=2.14.1->google-api-core[grpc]!=2.0.*,!=2.1.*,!=2.2.*,!=2.3.0,<3.0.0dev,>=1.31.5->google-cloud-secret-manager==2.10.0) (5.3.1)\n",
            "Requirement already satisfied: pyasn1-modules>=0.2.1 in /usr/local/lib/python3.10/dist-packages (from google-auth<3.0.dev0,>=2.14.1->google-api-core[grpc]!=2.0.*,!=2.1.*,!=2.2.*,!=2.3.0,<3.0.0dev,>=1.31.5->google-cloud-secret-manager==2.10.0) (0.3.0)\n",
            "Requirement already satisfied: six>=1.9.0 in /usr/local/lib/python3.10/dist-packages (from google-auth<3.0.dev0,>=2.14.1->google-api-core[grpc]!=2.0.*,!=2.1.*,!=2.2.*,!=2.3.0,<3.0.0dev,>=1.31.5->google-cloud-secret-manager==2.10.0) (1.16.0)\n",
            "Requirement already satisfied: rsa<5,>=3.1.4 in /usr/local/lib/python3.10/dist-packages (from google-auth<3.0.dev0,>=2.14.1->google-api-core[grpc]!=2.0.*,!=2.1.*,!=2.2.*,!=2.3.0,<3.0.0dev,>=1.31.5->google-cloud-secret-manager==2.10.0) (4.9)\n",
            "Requirement already satisfied: urllib3<1.27,>=1.21.1 in /usr/local/lib/python3.10/dist-packages (from requests<3.0.0.dev0,>=2.18.0->google-api-core[grpc]!=2.0.*,!=2.1.*,!=2.2.*,!=2.3.0,<3.0.0dev,>=1.31.5->google-cloud-secret-manager==2.10.0) (1.26.16)\n",
            "Requirement already satisfied: certifi>=2017.4.17 in /usr/local/lib/python3.10/dist-packages (from requests<3.0.0.dev0,>=2.18.0->google-api-core[grpc]!=2.0.*,!=2.1.*,!=2.2.*,!=2.3.0,<3.0.0dev,>=1.31.5->google-cloud-secret-manager==2.10.0) (2023.5.7)\n",
            "Requirement already satisfied: charset-normalizer~=2.0.0 in /usr/local/lib/python3.10/dist-packages (from requests<3.0.0.dev0,>=2.18.0->google-api-core[grpc]!=2.0.*,!=2.1.*,!=2.2.*,!=2.3.0,<3.0.0dev,>=1.31.5->google-cloud-secret-manager==2.10.0) (2.0.12)\n",
            "Requirement already satisfied: idna<4,>=2.5 in /usr/local/lib/python3.10/dist-packages (from requests<3.0.0.dev0,>=2.18.0->google-api-core[grpc]!=2.0.*,!=2.1.*,!=2.2.*,!=2.3.0,<3.0.0dev,>=1.31.5->google-cloud-secret-manager==2.10.0) (3.4)\n",
            "Requirement already satisfied: pyasn1<0.6.0,>=0.4.6 in /usr/local/lib/python3.10/dist-packages (from pyasn1-modules>=0.2.1->google-auth<3.0.dev0,>=2.14.1->google-api-core[grpc]!=2.0.*,!=2.1.*,!=2.2.*,!=2.3.0,<3.0.0dev,>=1.31.5->google-cloud-secret-manager==2.10.0) (0.5.0)\n",
            "Installing collected packages: google-cloud-secret-manager\n",
            "Successfully installed google-cloud-secret-manager-2.10.0\n"
          ]
        },
        {
          "output_type": "display_data",
          "data": {
            "application/vnd.colab-display-data+json": {
              "pip_warning": {
                "packages": [
                  "google"
                ]
              }
            }
          },
          "metadata": {}
        }
      ]
    },
    {
      "cell_type": "code",
      "source": [
        "!gcloud auth list"
      ],
      "metadata": {
        "colab": {
          "base_uri": "https://localhost:8080/"
        },
        "id": "7qm-R21iDWP0",
        "outputId": "dd60f00b-6652-4d15-e344-3002deb90b04"
      },
      "execution_count": null,
      "outputs": [
        {
          "output_type": "stream",
          "name": "stdout",
          "text": [
            "\n",
            "No credentialed accounts.\n",
            "\n",
            "To login, run:\n",
            "  $ gcloud auth login `ACCOUNT`\n",
            "\n"
          ]
        }
      ]
    },
    {
      "cell_type": "code",
      "source": [
        "!gcloud config set account davidregalado255@gmail.com"
      ],
      "metadata": {
        "colab": {
          "base_uri": "https://localhost:8080/"
        },
        "id": "ZZEFslB6DYE_",
        "outputId": "a6bcfc2b-d30a-4c43-94a2-e8544069b262"
      },
      "execution_count": null,
      "outputs": [
        {
          "output_type": "stream",
          "name": "stdout",
          "text": [
            "Updated property [core/account].\n"
          ]
        }
      ]
    },
    {
      "cell_type": "code",
      "source": [
        "!gcloud config list project"
      ],
      "metadata": {
        "colab": {
          "base_uri": "https://localhost:8080/"
        },
        "id": "gWHa4v9xDgaT",
        "outputId": "dcf1c741-2cc5-4296-9f15-3db83ce19269"
      },
      "execution_count": null,
      "outputs": [
        {
          "output_type": "stream",
          "name": "stdout",
          "text": [
            "[core]\n",
            "project (unset)\n",
            "\n",
            "Your active configuration is: [default]\n"
          ]
        }
      ]
    },
    {
      "cell_type": "code",
      "source": [
        "!gcloud config set project formal-shell-295407"
      ],
      "metadata": {
        "colab": {
          "base_uri": "https://localhost:8080/"
        },
        "id": "xLUHlLx_DiP-",
        "outputId": "6e46de1c-c368-45c4-a422-99ed30cde151"
      },
      "execution_count": null,
      "outputs": [
        {
          "output_type": "stream",
          "name": "stdout",
          "text": [
            "\u001b[1;33mWARNING:\u001b[0m You do not appear to have access to project [formal-shell-295407] or it does not exist.\n",
            "Are you sure you wish to set property [core/project] to formal-shell-295407?\n",
            "\n",
            "Do you want to continue (Y/n)?  Y\n",
            "\n",
            "Updated property [core/project].\n"
          ]
        }
      ]
    },
    {
      "cell_type": "code",
      "source": [
        "!gcloud config list project"
      ],
      "metadata": {
        "colab": {
          "base_uri": "https://localhost:8080/"
        },
        "id": "ldY7SYyFDxB7",
        "outputId": "ad21d9e6-c934-423a-a622-9dc2842c0a51"
      },
      "execution_count": null,
      "outputs": [
        {
          "output_type": "stream",
          "name": "stdout",
          "text": [
            "[core]\n",
            "project = formal-shell-295407\n",
            "\n",
            "Your active configuration is: [default]\n"
          ]
        }
      ]
    },
    {
      "cell_type": "code",
      "source": [
        "!gcloud services enable secretmanager.googleapis.com"
      ],
      "metadata": {
        "colab": {
          "base_uri": "https://localhost:8080/"
        },
        "id": "9MZyWaxgD8PW",
        "outputId": "7b54e8ae-5911-4ce0-e979-5e52025b7632"
      },
      "execution_count": null,
      "outputs": [
        {
          "output_type": "stream",
          "name": "stdout",
          "text": [
            "\u001b[1;31mERROR:\u001b[0m (gcloud.services.enable) Your current active account [davidregalado255@gmail.com] does not have any valid credentials\n",
            "Please run:\n",
            "\n",
            "  $ gcloud auth login\n",
            "\n",
            "to obtain new credentials.\n",
            "\n",
            "For service account, please activate it first:\n",
            "\n",
            "  $ gcloud auth activate-service-account ACCOUNT\n"
          ]
        }
      ]
    },
    {
      "cell_type": "code",
      "source": [
        "!gcloud auth login"
      ],
      "metadata": {
        "colab": {
          "base_uri": "https://localhost:8080/"
        },
        "id": "YtFwlHtTEBUh",
        "outputId": "a3fae1d2-3a9d-4942-b000-0586ce1a79cb"
      },
      "execution_count": null,
      "outputs": [
        {
          "output_type": "stream",
          "name": "stdout",
          "text": [
            "Go to the following link in your browser:\n",
            "\n",
            "    https://accounts.google.com/o/oauth2/auth?response_type=code&client_id=32555940559.apps.googleusercontent.com&redirect_uri=https%3A%2F%2Fsdk.cloud.google.com%2Fauthcode.html&scope=openid+https%3A%2F%2Fwww.googleapis.com%2Fauth%2Fuserinfo.email+https%3A%2F%2Fwww.googleapis.com%2Fauth%2Fcloud-platform+https%3A%2F%2Fwww.googleapis.com%2Fauth%2Fappengine.admin+https%3A%2F%2Fwww.googleapis.com%2Fauth%2Fsqlservice.login+https%3A%2F%2Fwww.googleapis.com%2Fauth%2Fcompute+https%3A%2F%2Fwww.googleapis.com%2Fauth%2Faccounts.reauth&state=on513Fl5PZ9Qwpu8ZQqHFx9LXWbWHI&prompt=consent&access_type=offline&code_challenge=J1HQ0e4c4qW6AxRlNmIioAe-FvyoYHWu6mD-NX-XkPg&code_challenge_method=S256\n",
            "\n",
            "Enter authorization code: 4/0AZEOvhX8KMbU3Iz16ZQhDMHzct1LZthjyO92M3O64OWKXHNhBN5SYIuUYoL0JjI83SHVnw\n",
            "\n",
            "You are now logged in as [davidregalado255@gmail.com].\n",
            "Your current project is [formal-shell-295407].  You can change this setting by running:\n",
            "  $ gcloud config set project PROJECT_ID\n"
          ]
        }
      ]
    },
    {
      "cell_type": "code",
      "source": [
        "!gcloud services enable secretmanager.googleapis.com"
      ],
      "metadata": {
        "id": "ks_YtjKqEFQn"
      },
      "execution_count": 11,
      "outputs": []
    },
    {
      "cell_type": "markdown",
      "source": [
        "## Python Code"
      ],
      "metadata": {
        "id": "TrNfikqaF8UB"
      }
    },
    {
      "cell_type": "markdown",
      "source": [
        "Let's start by importing the secretmanager library. If it doesn't work, restart and try again."
      ],
      "metadata": {
        "id": "dOXu7EaKGfQ1"
      }
    },
    {
      "cell_type": "code",
      "source": [
        "from google.cloud import secretmanager"
      ],
      "metadata": {
        "id": "ch1hnzepFoZz"
      },
      "execution_count": 1,
      "outputs": []
    },
    {
      "cell_type": "code",
      "source": [
        "\"\"\"\n",
        "Utilities for interacting with Google Cloud services\n",
        "\"\"\"\n",
        "from typing import Any\n",
        "import json\n",
        "# import googleapiclient.discovery\n",
        "\n",
        "# def get_project_number(project_name):\n",
        "#   \"\"\"Gets the project number from a project name.\"\"\"\n",
        "#  project_service = googleapiclient.discovery.build('cloudresourcemanager', 'v3')\n",
        "#   request = project_service.projects().get(name='projects/{}'.format(project_name))\n",
        "#   response = request.execute()\n",
        "#   return response\n",
        "\n",
        "def get_gcloud_secret_by_name(secret_name: str, gcloud_project: str, version: int = None) -> Any:\n",
        "    \"\"\"\n",
        "    Get the value of a Google secret from Secret Manager. Version defaults to \"latest\" if not specified otherwise\n",
        "    :param secret_name: Name of secret to retrieve\n",
        "    :param gcloud_project: Name of google cloud project\n",
        "    :param version: Version of secret, optional, defaults to latest version\n",
        "    :return: secret value\n",
        "    \"\"\"\n",
        "    if not version:\n",
        "        version = \"latest\"\n",
        "\n",
        "    client = secretmanager.SecretManagerServiceClient()\n",
        "\n",
        "    secret_request_string = (\n",
        "        f\"projects/{gcloud_project}/secrets/{secret_name}/versions/{version}\"\n",
        "    )\n",
        "    response = client.access_secret_version(name=secret_request_string)\n",
        "\n",
        "    return response.payload.data.decode(\"utf-8\")\n"
      ],
      "metadata": {
        "id": "2NTIZxrLGvAn"
      },
      "execution_count": 34,
      "outputs": []
    },
    {
      "cell_type": "markdown",
      "source": [
        "Reading a secret that is a string"
      ],
      "metadata": {
        "id": "AcnenbdVStwI"
      }
    },
    {
      "cell_type": "code",
      "source": [
        "GOOGLE_CLOUD_PROJECT=\"formal-shell-295407\"\n",
        "SECRET_NAME=\"MYSECRET\"\n",
        "get_gcloud_secret_by_name(SECRET_NAME, GOOGLE_CLOUD_PROJECT)"
      ],
      "metadata": {
        "colab": {
          "base_uri": "https://localhost:8080/",
          "height": 35
        },
        "id": "05Y1_uFzLtu7",
        "outputId": "9927e676-f909-4e60-f851-fd9c590a237f"
      },
      "execution_count": 45,
      "outputs": [
        {
          "output_type": "execute_result",
          "data": {
            "text/plain": [
              "'Hello secret!'"
            ],
            "application/vnd.google.colaboratory.intrinsic+json": {
              "type": "string"
            }
          },
          "metadata": {},
          "execution_count": 45
        }
      ]
    },
    {
      "cell_type": "markdown",
      "source": [
        "Reading a secret that is a key pair"
      ],
      "metadata": {
        "id": "o-OBAajkSb1-"
      }
    },
    {
      "cell_type": "code",
      "source": [
        "SECRET_NAME=\"Compute-Engine-default-service-account-08f51050dbedd8bae5aa96d73ddb4780d5d571e2\"\n",
        "secrets = json.loads(get_gcloud_secret_by_name(SECRET_NAME, GOOGLE_CLOUD_PROJECT))"
      ],
      "metadata": {
        "id": "6Z_MuZvXN1mD"
      },
      "execution_count": 37,
      "outputs": []
    },
    {
      "cell_type": "code",
      "source": [
        "from google.cloud import storage\n",
        "from google.oauth2 import service_account\n",
        "credentials = service_account.Credentials.from_service_account_info(secrets)\n",
        "client = storage.Client(project=GOOGLE_CLOUD_PROJECT, credentials=credentials)\n",
        "INPUT_BUCKET=\"thecodemancer\"\n",
        "input_bucket = client.get_bucket(INPUT_BUCKET)\n",
        "print(input_bucket)"
      ],
      "metadata": {
        "colab": {
          "base_uri": "https://localhost:8080/"
        },
        "id": "0rVeM6qLRiz8",
        "outputId": "dd596c7a-add8-499b-9ed3-258257a10d9c"
      },
      "execution_count": 47,
      "outputs": [
        {
          "output_type": "stream",
          "name": "stdout",
          "text": [
            "<Bucket: thecodemancer>\n"
          ]
        }
      ]
    },
    {
      "cell_type": "code",
      "source": [
        "dir(input_bucket)"
      ],
      "metadata": {
        "colab": {
          "base_uri": "https://localhost:8080/"
        },
        "id": "cylYZVt5S7jS",
        "outputId": "896cb33d-f470-4ae8-f89d-94e5a3953e44"
      },
      "execution_count": 39,
      "outputs": [
        {
          "output_type": "execute_result",
          "data": {
            "text/plain": [
              "['STORAGE_CLASSES',\n",
              " '_LOCATION_TYPES',\n",
              " '_MAX_OBJECTS_FOR_ITERATION',\n",
              " '__class__',\n",
              " '__delattr__',\n",
              " '__dict__',\n",
              " '__dir__',\n",
              " '__doc__',\n",
              " '__eq__',\n",
              " '__format__',\n",
              " '__ge__',\n",
              " '__getattribute__',\n",
              " '__gt__',\n",
              " '__hash__',\n",
              " '__init__',\n",
              " '__init_subclass__',\n",
              " '__le__',\n",
              " '__lt__',\n",
              " '__module__',\n",
              " '__ne__',\n",
              " '__new__',\n",
              " '__reduce__',\n",
              " '__reduce_ex__',\n",
              " '__repr__',\n",
              " '__setattr__',\n",
              " '__sizeof__',\n",
              " '__str__',\n",
              " '__subclasshook__',\n",
              " '__weakref__',\n",
              " '_acl',\n",
              " '_changes',\n",
              " '_client',\n",
              " '_default_object_acl',\n",
              " '_encryption_headers',\n",
              " '_label_removals',\n",
              " '_location',\n",
              " '_patch_property',\n",
              " '_properties',\n",
              " '_query_params',\n",
              " '_require_client',\n",
              " '_set_properties',\n",
              " '_user_project',\n",
              " 'acl',\n",
              " 'add_lifecycle_abort_incomplete_multipart_upload_rule',\n",
              " 'add_lifecycle_delete_rule',\n",
              " 'add_lifecycle_set_storage_class_rule',\n",
              " 'autoclass_enabled',\n",
              " 'autoclass_toggle_time',\n",
              " 'blob',\n",
              " 'clear_lifecyle_rules',\n",
              " 'client',\n",
              " 'configure_website',\n",
              " 'copy_blob',\n",
              " 'cors',\n",
              " 'create',\n",
              " 'data_locations',\n",
              " 'default_event_based_hold',\n",
              " 'default_kms_key_name',\n",
              " 'default_object_acl',\n",
              " 'delete',\n",
              " 'delete_blob',\n",
              " 'delete_blobs',\n",
              " 'disable_logging',\n",
              " 'disable_website',\n",
              " 'enable_logging',\n",
              " 'etag',\n",
              " 'exists',\n",
              " 'from_string',\n",
              " 'generate_signed_url',\n",
              " 'generate_upload_policy',\n",
              " 'get_blob',\n",
              " 'get_iam_policy',\n",
              " 'get_logging',\n",
              " 'get_notification',\n",
              " 'iam_configuration',\n",
              " 'id',\n",
              " 'labels',\n",
              " 'lifecycle_rules',\n",
              " 'list_blobs',\n",
              " 'list_notifications',\n",
              " 'location',\n",
              " 'location_type',\n",
              " 'lock_retention_policy',\n",
              " 'make_private',\n",
              " 'make_public',\n",
              " 'metageneration',\n",
              " 'name',\n",
              " 'notification',\n",
              " 'owner',\n",
              " 'patch',\n",
              " 'path',\n",
              " 'path_helper',\n",
              " 'project_number',\n",
              " 'reload',\n",
              " 'rename_blob',\n",
              " 'requester_pays',\n",
              " 'retention_period',\n",
              " 'retention_policy_effective_time',\n",
              " 'retention_policy_locked',\n",
              " 'rpo',\n",
              " 'self_link',\n",
              " 'set_iam_policy',\n",
              " 'storage_class',\n",
              " 'test_iam_permissions',\n",
              " 'time_created',\n",
              " 'update',\n",
              " 'user_project',\n",
              " 'versioning_enabled']"
            ]
          },
          "metadata": {},
          "execution_count": 39
        }
      ]
    },
    {
      "cell_type": "code",
      "source": [
        "for blob in input_bucket.list_blobs():\n",
        "  print(blob)"
      ],
      "metadata": {
        "colab": {
          "base_uri": "https://localhost:8080/"
        },
        "id": "uyWmarGNU__s",
        "outputId": "fa053c3a-0b8d-4a2b-86fd-0df102e4b8ff"
      },
      "execution_count": 48,
      "outputs": [
        {
          "output_type": "stream",
          "name": "stdout",
          "text": [
            "<Blob: thecodemancer, .bashrc, 1685361306391252>\n",
            "<Blob: thecodemancer, .config/gcloud/.last_survey_prompt.yaml, 1685361306444219>\n",
            "<Blob: thecodemancer, .config/gcloud/active_config, 1685361306451575>\n",
            "<Blob: thecodemancer, .config/gcloud/configurations/config_default, 1685361306445216>\n",
            "<Blob: thecodemancer, .config/gcloud/gce, 1685361306387695>\n",
            "<Blob: thecodemancer, .config/gcloud/logs/2023.05.29/11.53.11.357715.log, 1685361306605289>\n",
            "<Blob: thecodemancer, .docker/config.json, 1685361306687165>\n",
            "<Blob: thecodemancer, .gsutil/credstore2, 1685361306728492>\n",
            "<Blob: thecodemancer, .gsutil/credstore2.lock, 1685361306698490>\n",
            "<Blob: thecodemancer, .gsutil/gcecredcache, 1685361306705492>\n",
            "<Blob: thecodemancer, .gsutil/gcecredcache.lock, 1685361306738835>\n",
            "<Blob: thecodemancer, Revelo/logo.jpeg, 1688600754824770>\n",
            "<Blob: thecodemancer, Revelo/softwareengineering.png, 1673135048697310>\n",
            "<Blob: thecodemancer, Untitled.ipynb, 1685361554830150>\n",
            "<Blob: thecodemancer, input/, 1688606986444567>\n",
            "<Blob: thecodemancer, input/file.tar, 1688610833115654>\n",
            "<Blob: thecodemancer, output/, 1688606976617069>\n"
          ]
        }
      ]
    },
    {
      "cell_type": "markdown",
      "metadata": {
        "id": "Ba3tYIzFYIUD"
      },
      "source": [
        "---\n",
        "If you made it this far, follow [David Regalado](https://beacons.ai/davidregalado) for more code!"
      ]
    }
  ]
}