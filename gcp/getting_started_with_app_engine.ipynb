{
  "nbformat": 4,
  "nbformat_minor": 0,
  "metadata": {
    "colab": {
      "name": "getting_started_with_app_engine.ipynb",
      "provenance": [],
      "authorship_tag": "ABX9TyODVvGFpTeJlCt+pI+kG+Mz",
      "include_colab_link": true
    },
    "kernelspec": {
      "name": "python3",
      "display_name": "Python 3"
    },
    "language_info": {
      "name": "python"
    }
  },
  "cells": [
    {
      "cell_type": "markdown",
      "metadata": {
        "id": "view-in-github",
        "colab_type": "text"
      },
      "source": [
        "<a href=\"https://colab.research.google.com/github/thecodemancer/study-with-me/blob/main/gcp/getting_started_with_app_engine.ipynb\" target=\"_parent\"><img src=\"https://colab.research.google.com/assets/colab-badge.svg\" alt=\"Open In Colab\"/></a>"
      ]
    },
    {
      "cell_type": "markdown",
      "source": [
        "<img src=\"https://blog.back4app.com/wp-content/uploads/2021/02/Google-App-Engine.png\" />\n",
        "\n",
        "\n",
        "# Getting Started with App Engine\n",
        "## Overview\n",
        "In this lab, you create and deploy a simple App Engine application using a virtual environment in the Google Cloud Shell.\n",
        "\n",
        "## Objectives\n",
        "In this lab, you learn how to perform the following tasks:\n",
        "\n",
        "* Initialize App Engine.\n",
        "\n",
        "* Preview an App Engine application running locally in Cloud Shell.\n",
        "\n",
        "* Deploy an App Engine application, so that others can reach it.\n",
        "\n",
        "* Disable an App Engine application, when you no longer want it to be visible."
      ],
      "metadata": {
        "id": "lUv_OahJcF-u"
      }
    },
    {
      "cell_type": "markdown",
      "source": [
        "## Task 1: Initialize App Engine\n",
        "\n",
        "1. Initialize your App Engine app with your project and choose its region:\n",
        "\n"
      ],
      "metadata": {
        "id": "fLEZeCB7YKON"
      }
    },
    {
      "cell_type": "code",
      "execution_count": null,
      "metadata": {
        "id": "YwU1UT_KYGQd"
      },
      "outputs": [],
      "source": [
        "gcloud app create --project=$DEVSHELL_PROJECT_ID"
      ]
    },
    {
      "cell_type": "markdown",
      "source": [
        "2. Clone the source code repository for a sample application in the hello_world directory:"
      ],
      "metadata": {
        "id": "103U2nc3ZwMv"
      }
    },
    {
      "cell_type": "code",
      "source": [
        "git clone https://github.com/GoogleCloudPlatform/python-docs-samples"
      ],
      "metadata": {
        "id": "5q61buM-YRv9"
      },
      "execution_count": null,
      "outputs": []
    },
    {
      "cell_type": "markdown",
      "source": [
        "3. Navigate to the source directory"
      ],
      "metadata": {
        "id": "RSL8v1MJZyGk"
      }
    },
    {
      "cell_type": "code",
      "source": [
        "cd python-docs-samples/appengine/standard_python3/hello_world"
      ],
      "metadata": {
        "id": "xAC6I1a6YS0V"
      },
      "execution_count": null,
      "outputs": []
    },
    {
      "cell_type": "markdown",
      "source": [
        "## Task 2: Run Hello World application locally"
      ],
      "metadata": {
        "id": "-4ra_veBYMSd"
      }
    },
    {
      "cell_type": "markdown",
      "source": [
        "1. Create a Dockerfile\n",
        "\n"
      ],
      "metadata": {
        "id": "5t-D14xRZ6MO"
      }
    },
    {
      "cell_type": "code",
      "source": [
        "touch Dockerfile"
      ],
      "metadata": {
        "id": "o9lLiqaqYNEU"
      },
      "execution_count": null,
      "outputs": []
    },
    {
      "cell_type": "markdown",
      "source": [
        "2. Edit the Dockerfile [hint: nano Dockerfile] to contain the following content.\n",
        "\n"
      ],
      "metadata": {
        "id": "6ABC7p74Z_qG"
      }
    },
    {
      "cell_type": "markdown",
      "source": [
        "Add\n",
        "\n",
        "FROM python:3.7\n",
        "\n",
        "WORKDIR /app\n",
        "\n",
        "COPY . .\n",
        "\n",
        "RUN pip install gunicorn\n",
        "\n",
        "RUN pip install -r requirements.txt\n",
        "\n",
        "ENV PORT=8080\n",
        "\n",
        "CMD exec gunicorn --bind :$PORT --workers 1 --threads 8 main:app\n"
      ],
      "metadata": {
        "id": "32L5mrCqYeL-"
      }
    },
    {
      "cell_type": "markdown",
      "source": [
        "3. Build a container image to run a Python virtual environment.\n",
        "\n"
      ],
      "metadata": {
        "id": "ftmnYOKoacJU"
      }
    },
    {
      "cell_type": "code",
      "source": [
        "docker build -t test-python . "
      ],
      "metadata": {
        "id": "Mq-99wNeYXYE"
      },
      "execution_count": null,
      "outputs": []
    },
    {
      "cell_type": "markdown",
      "source": [
        "4. Run the application:"
      ],
      "metadata": {
        "id": "mBF12_ShaeeM"
      }
    },
    {
      "cell_type": "code",
      "source": [
        "docker run --rm -p 8080:8080 test-python "
      ],
      "metadata": {
        "id": "LY7szk8_aiZM"
      },
      "execution_count": null,
      "outputs": []
    },
    {
      "cell_type": "markdown",
      "source": [
        "5. In Cloud Shell, click Web preview (Web Preview) > Preview on port 8080 to preview the application."
      ],
      "metadata": {
        "id": "4AaEIAoiahO-"
      }
    },
    {
      "cell_type": "markdown",
      "source": [
        "## Task 3: Deploy and run Hello World on App Engine\n"
      ],
      "metadata": {
        "id": "iu6F_pRZYkwU"
      }
    },
    {
      "cell_type": "markdown",
      "source": [
        "1. Navigate to the source directory:"
      ],
      "metadata": {
        "id": "ZNhiLV_gbCgW"
      }
    },
    {
      "cell_type": "code",
      "source": [
        "cd ~/python-docs-samples/appengine/standard_python3/hello_world"
      ],
      "metadata": {
        "id": "6SyehvwDYmPm"
      },
      "execution_count": null,
      "outputs": []
    },
    {
      "cell_type": "markdown",
      "source": [
        "2. Deploy your Hello World application.\n",
        "\n"
      ],
      "metadata": {
        "id": "43ZvyK5CbFaN"
      }
    },
    {
      "cell_type": "code",
      "source": [
        "gcloud app deploy"
      ],
      "metadata": {
        "id": "F3Befpo0YnjW"
      },
      "execution_count": null,
      "outputs": []
    },
    {
      "cell_type": "markdown",
      "source": [
        "3. Launch your browser to view the app at http://YOUR_PROJECT_ID.appspot.com"
      ],
      "metadata": {
        "id": "TY1KhPtebKi2"
      }
    },
    {
      "cell_type": "code",
      "source": [
        "gcloud app browse"
      ],
      "metadata": {
        "id": "2JTOqaHcYoqN"
      },
      "execution_count": null,
      "outputs": []
    }
  ]
}