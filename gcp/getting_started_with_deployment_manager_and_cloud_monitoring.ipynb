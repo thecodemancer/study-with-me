{
  "nbformat": 4,
  "nbformat_minor": 0,
  "metadata": {
    "colab": {
      "name": "getting_started_with_deployment_manager_and_cloud_monitoring.ipynb",
      "provenance": [],
      "authorship_tag": "ABX9TyNe6KSBMairMjJcAl0IcRRa",
      "include_colab_link": true
    },
    "kernelspec": {
      "name": "python3",
      "display_name": "Python 3"
    },
    "language_info": {
      "name": "python"
    }
  },
  "cells": [
    {
      "cell_type": "markdown",
      "metadata": {
        "id": "view-in-github",
        "colab_type": "text"
      },
      "source": [
        "<a href=\"https://colab.research.google.com/github/thecodemancer/study-with-me/blob/main/gcp/getting_started_with_deployment_manager_and_cloud_monitoring.ipynb\" target=\"_parent\"><img src=\"https://colab.research.google.com/assets/colab-badge.svg\" alt=\"Open In Colab\"/></a>"
      ]
    },
    {
      "cell_type": "markdown",
      "source": [
        "<img src=\"https://img.stackshare.io/service/6810/deployment-manager-3.png\" />\n",
        "\n",
        "# Getting Started with Deployment Manager and Cloud Monitoring\n",
        "\n",
        "## Overview\n",
        "In this lab, you create a deployment using Deployment Manager and use it to maintain a consistent state of your deployment. You will also view resource usage in a VM instance using Cloud Monitoring.\n",
        "\n",
        "##Objectives\n",
        "\n",
        "* Create a Deployment Manager deployment.\n",
        "* Update a Deployment Manager deployment.\n",
        "* View the load on a VM instance using Cloud Monitoring."
      ],
      "metadata": {
        "id": "05iGFe8xhkM6"
      }
    },
    {
      "cell_type": "markdown",
      "source": [
        "## Task 1: Sign in to the Google Cloud Platform (GCP) Console\n"
      ],
      "metadata": {
        "id": "xcw76NDMhzKc"
      }
    },
    {
      "cell_type": "markdown",
      "source": [
        "## Task 2: Confirm that needed APIs are enabled"
      ],
      "metadata": {
        "id": "UaRmbt2Th7KF"
      }
    },
    {
      "cell_type": "markdown",
      "source": [
        "In the GCP Console, on the Navigation menu (Navigation menu), click **APIs & services**.\n",
        "\n",
        "Scroll down in the list of enabled APIs, and confirm that these APIs are enabled:\n",
        "\n",
        "* Cloud Deployment Manager v2 API\n",
        "* Cloud Runtime Configuration API\n",
        "* Cloud Monitoring API (Stackdriver monitoring API)"
      ],
      "metadata": {
        "id": "pQ4OqsEPiN_g"
      }
    },
    {
      "cell_type": "markdown",
      "source": [
        "## Task 3: Create a Deployment Manager deployment"
      ],
      "metadata": {
        "id": "0wmlzAQdh8yf"
      }
    },
    {
      "cell_type": "markdown",
      "source": [
        "1. At the Cloud Shell prompt, type this:\n",
        "\n"
      ],
      "metadata": {
        "id": "Obzv6kVliiNv"
      }
    },
    {
      "cell_type": "code",
      "source": [
        "export MY_ZONE=us-central1-a"
      ],
      "metadata": {
        "id": "4sJ3UHUph8Xb"
      },
      "execution_count": null,
      "outputs": []
    },
    {
      "cell_type": "markdown",
      "source": [
        "2. At the Cloud Shell prompt, download an editable Deployment Manager template:"
      ],
      "metadata": {
        "id": "YRGUCvTgi02n"
      }
    },
    {
      "cell_type": "code",
      "source": [
        "gsutil cp gs://cloud-training/gcpfcoreinfra/mydeploy.yaml mydeploy.yaml"
      ],
      "metadata": {
        "id": "OXTUVyDKjAKo"
      },
      "execution_count": null,
      "outputs": []
    },
    {
      "cell_type": "markdown",
      "source": [
        "3. In the Cloud Shell, use the sed command to replace the PROJECT_ID placeholder string with your Google Cloud Platform project ID using this command:\n",
        "\n"
      ],
      "metadata": {
        "id": "lsxd3JnhjB3n"
      }
    },
    {
      "cell_type": "code",
      "source": [
        "sed -i -e \"s/PROJECT_ID/$DEVSHELL_PROJECT_ID/\" mydeploy.yaml"
      ],
      "metadata": {
        "id": "Tjt1RL7BjFCH"
      },
      "execution_count": null,
      "outputs": []
    },
    {
      "cell_type": "markdown",
      "source": [
        "4. In the Cloud Shell, use the sed command to replace the ZONE placeholder string with your Google Cloud Platform zone using this command:\n",
        "\n"
      ],
      "metadata": {
        "id": "Kkh4Zui1jnu3"
      }
    },
    {
      "cell_type": "code",
      "source": [
        "sed -i -e \"s/ZONE/$MY_ZONE/\" mydeploy.yaml"
      ],
      "metadata": {
        "id": "620CxjZ8jvXH"
      },
      "execution_count": null,
      "outputs": []
    },
    {
      "cell_type": "markdown",
      "source": [
        "5. View the mydeploy.yaml file, with your modifications, with this command:\n",
        "\n"
      ],
      "metadata": {
        "id": "2AiGRjV7jHDn"
      }
    },
    {
      "cell_type": "code",
      "source": [
        "cat mydeploy.yaml"
      ],
      "metadata": {
        "id": "2NxcV1fEjKAw"
      },
      "execution_count": null,
      "outputs": []
    },
    {
      "cell_type": "markdown",
      "source": [
        "6. Build a deployment from the template:\n",
        "\n"
      ],
      "metadata": {
        "id": "6v8ullRijM6v"
      }
    },
    {
      "cell_type": "code",
      "source": [
        "gcloud deployment-manager deployments create my-first-depl --config mydeploy.yaml"
      ],
      "metadata": {
        "id": "9g-7uwUGjRD3"
      },
      "execution_count": null,
      "outputs": []
    },
    {
      "cell_type": "markdown",
      "source": [
        "7. Confirm that the deployment was successful. In the GCP Console, on the Navigation menu (Navigation menu), click Compute Engine > VM instances. You will see that a VM instance called my-vm has been created, as specified by the template.\n",
        "8. Click on the VM instance's name to open its VM instance details screen.\n",
        "9. Scroll down to the Custom metadata section. Confirm that the startup script you specified in your Deployment Manager template has been installed."
      ],
      "metadata": {
        "id": "iZUrfB8NjVOo"
      }
    },
    {
      "cell_type": "markdown",
      "source": [
        "## Task 4: Update a Deployment Manager deployment"
      ],
      "metadata": {
        "id": "T6Lk3xsph-f_"
      }
    },
    {
      "cell_type": "markdown",
      "source": [
        "1. Return to your Cloud Shell prompt. Launch the nano text editor to edit the mydeploy.yaml file:\n",
        "\n"
      ],
      "metadata": {
        "id": "EAxxXAeZkKYp"
      }
    },
    {
      "cell_type": "code",
      "source": [
        "nano mydeploy.yaml"
      ],
      "metadata": {
        "id": "7CHmUaj7iAmX"
      },
      "execution_count": null,
      "outputs": []
    },
    {
      "cell_type": "markdown",
      "source": [
        "2. Find the line that sets the value of the startup script, value: \"apt-get update\", and edit it so that it looks like this:\n",
        "\n"
      ],
      "metadata": {
        "id": "yzRsUK9fkNC_"
      }
    },
    {
      "cell_type": "code",
      "source": [
        "      value: \"apt-get update; apt-get install nginx-light -y\""
      ],
      "metadata": {
        "id": "_C0VD1KzkSXJ"
      },
      "execution_count": null,
      "outputs": []
    },
    {
      "cell_type": "markdown",
      "source": [
        "3. Press Ctrl+O and then press Enter to save your edited file.\n",
        "4. Press Ctrl+X to exit the nano text editor.\n",
        "5. Return to your Cloud Shell prompt. Enter this command to cause Deployment Manager to update your deployment to install the new startup script:\n",
        "\n"
      ],
      "metadata": {
        "id": "l7Gf5y5mkZa4"
      }
    },
    {
      "cell_type": "code",
      "source": [
        "gcloud deployment-manager deployments update my-first-depl --config mydeploy.yaml"
      ],
      "metadata": {
        "id": "TjH3ytRbkjRQ"
      },
      "execution_count": null,
      "outputs": []
    },
    {
      "cell_type": "markdown",
      "source": [
        "6. In the GCP console, on the Navigation menu (Navigation menu), click Compute Engine > VM instances.\n",
        "7. Click on the my-vm VM instance's name to open its VM instance details pane.\n",
        "8. Scroll down to the Custom metadata section. Confirm that the startup script has been updated to the value you declared in your Deployment Manager template.\n",
        "\n"
      ],
      "metadata": {
        "id": "p42oasOFkroI"
      }
    },
    {
      "cell_type": "markdown",
      "source": [
        "## Task 5: View the Load on a VM using Cloud Monitoring"
      ],
      "metadata": {
        "id": "HXbSqWyRiBT3"
      }
    },
    {
      "cell_type": "markdown",
      "source": [
        "1. In the GCP Console, on the Navigation menu (Navigation menu), click Compute Engine > **VM instances**.\n",
        "\n",
        "2. Select the checkbox for **my-vm** and click on STOP.\n",
        "\n",
        "3. Click on **STOP** again to confirm.\n",
        "\n",
        "4. Click on the VM instance's name to open its VM instance details screen.\n",
        "\n",
        "5. Click on EDIT (pencil icon).\n",
        "\n",
        "6. Scroll down to the bottom of the page and select **Compute Engine default service account** from **Service accounts** dropdown.\n",
        "\n",
        "7. Select **Allow full access** to all Cloud APIs for **Access scopes**.\n",
        "\n",
        "8. Click on Save.\n",
        "\n",
        "9. Now, restart the VM by clicking on Start at the top of the VM instance details screen page.\n",
        "\n",
        "10. Click on START again to confirm.\n",
        "\n",
        "11. In the GCP Console, on the Navigation menu (Navigation menu), click Compute Engine > VM instances.\n",
        "\n",
        "12. To open a command prompt on the my-vm instance, click **SSH** in its row in the VM instances list.\n",
        "\n",
        "13. In the ssh session on my-vm, execute this command to create a CPU load:\n"
      ],
      "metadata": {
        "id": "yb-_oSbolCEB"
      }
    },
    {
      "cell_type": "code",
      "source": [
        "dd if=/dev/urandom | gzip -9 >> /dev/null &"
      ],
      "metadata": {
        "id": "3j79wzqZk_7Q"
      },
      "execution_count": null,
      "outputs": []
    },
    {
      "cell_type": "markdown",
      "source": [
        "This Linux pipeline forces the CPU to work on compressing a continuous stream of random data.\n",
        "\n"
      ],
      "metadata": {
        "id": "bnThWGPllUYG"
      }
    },
    {
      "cell_type": "markdown",
      "source": [
        "### Create a Monitoring workspace\n"
      ],
      "metadata": {
        "id": "ju3HH-k2lpUg"
      }
    },
    {
      "cell_type": "markdown",
      "source": [
        "1. In the Google Cloud Platform Console, click on Navigation menu > **Monitoring**.\n",
        "2. Wait for your workspace to be provisioned.\n",
        "3. Click on Settings option from the left panel and confirm that the GCP project which Qwiklabs created for you is shown under the GCP Projects section.\n",
        "4. Run the commands shown on screen in the SSH window of your VM instance to install both the Monitoring and Logging agents.\n",
        "\n",
        "\n",
        "\n",
        "\n"
      ],
      "metadata": {
        "id": "Nmo9qSiSlvAH"
      }
    },
    {
      "cell_type": "code",
      "source": [
        "curl -sSO https://dl.google.com/cloudagents/install-monitoring-agent.sh\n",
        "sudo bash install-monitoring-agent.sh"
      ],
      "metadata": {
        "id": "ZTv2Egz1lTve"
      },
      "execution_count": null,
      "outputs": []
    },
    {
      "cell_type": "code",
      "source": [
        "curl -sSO https://dl.google.com/cloudagents/install-logging-agent.sh\n",
        "sudo bash install-logging-agent.sh"
      ],
      "metadata": {
        "id": "guoK8YkXl7LR"
      },
      "execution_count": null,
      "outputs": []
    },
    {
      "cell_type": "markdown",
      "source": [
        "5. Once both of the agents have been installed on your project's VM, click **Metrics Explorer** under the main Cloud Monitoring menu on the far left.\n",
        "\n",
        "6. In the **Metrics Explorer** pane, Click on **Select a Metric** dropdown under Resource & Metric and then select **VM instance > Instance > CPU usage**.\n",
        "\n",
        "7. Click **Apply**. In the resulting graph, notice that CPU usage increased sharply a few minutes ago.\n",
        "\n",
        "8. Terminate your workload generator. Return to your ssh session on my-vm and enter this command:"
      ],
      "metadata": {
        "id": "35zvTYZgl9bQ"
      }
    },
    {
      "cell_type": "code",
      "source": [
        "kill %1"
      ],
      "metadata": {
        "id": "ddvF-FDQmAXh"
      },
      "execution_count": null,
      "outputs": []
    }
  ]
}