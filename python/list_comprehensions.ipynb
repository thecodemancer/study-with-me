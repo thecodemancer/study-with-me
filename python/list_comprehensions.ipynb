{
  "nbformat": 4,
  "nbformat_minor": 0,
  "metadata": {
    "colab": {
      "name": "list_comprehensions.ipynb",
      "provenance": [],
      "authorship_tag": "ABX9TyNAW3+fq+e1KnpOYeiTyIDP",
      "include_colab_link": true
    },
    "kernelspec": {
      "name": "python3",
      "display_name": "Python 3"
    },
    "language_info": {
      "name": "python"
    }
  },
  "cells": [
    {
      "cell_type": "markdown",
      "metadata": {
        "id": "view-in-github",
        "colab_type": "text"
      },
      "source": [
        "<a href=\"https://colab.research.google.com/github/thecodemancer/study-with-me/blob/main/python/list_comprehensions.ipynb\" target=\"_parent\"><img src=\"https://colab.research.google.com/assets/colab-badge.svg\" alt=\"Open In Colab\"/></a>"
      ]
    },
    {
      "cell_type": "markdown",
      "source": [
        "# List comprehensions\n",
        "\n",
        "List comprehensions are a concise and efficient way to define new container data containers.\n",
        "already existing.\n",
        "\n",
        "The different syntax possibilities are as follows:\n",
        "\n",
        "Syntax: expression for item in iterable\n",
        "Syntax with if: expression for item in iterable if condition\n",
        "Syntax with if/else: if_expression if condition else else_expression for item in iterable\n",
        "\n",
        "If we wanted to square each element of a list, we could iterate through each element, square it, and add it to a list.\n",
        "new list, as seen below."
      ],
      "metadata": {
        "id": "ymQ4NxW4IroU"
      }
    },
    {
      "cell_type": "code",
      "execution_count": null,
      "metadata": {
        "colab": {
          "base_uri": "https://localhost:8080/"
        },
        "id": "9Yh3Ef3JHxDG",
        "outputId": "1d0c10e7-aed5-45de-9c42-d4c9716b3630"
      },
      "outputs": [
        {
          "output_type": "stream",
          "name": "stdout",
          "text": [
            "[1, 4, 9]\n"
          ]
        }
      ],
      "source": [
        "empty_lst = []\n",
        "full_lst = [1,2,3]\n",
        "for item in full_lst:\n",
        " empty_lst.append(item**2)\n",
        "\n",
        "print(empty_lst)\n"
      ]
    },
    {
      "cell_type": "markdown",
      "source": [
        "We could rewrite this as a list comprehension, which is to condense the square, add, and loop all into one\n",
        "line."
      ],
      "metadata": {
        "id": "jk1DG05MI4Ac"
      }
    },
    {
      "cell_type": "code",
      "source": [
        "lst = [item**2 for item in full_lst]\n",
        "print(lst)"
      ],
      "metadata": {
        "colab": {
          "base_uri": "https://localhost:8080/"
        },
        "id": "Ob9sGzLaIq0E",
        "outputId": "a8ef8c24-f0f9-4ba8-a8a4-422d3543910b"
      },
      "execution_count": null,
      "outputs": [
        {
          "output_type": "stream",
          "name": "stdout",
          "text": [
            "[1, 4, 9]\n"
          ]
        }
      ]
    },
    {
      "cell_type": "markdown",
      "source": [
        "We can also filter on our list comprehensions by including a condition, as we do below."
      ],
      "metadata": {
        "id": "rAg6ApDGJNNj"
      }
    },
    {
      "cell_type": "code",
      "source": [
        "lst = [1,5,10,15,20,25]\n",
        "new_lst = [item for item in lst if item > 7]\n",
        "print(new_lst)"
      ],
      "metadata": {
        "colab": {
          "base_uri": "https://localhost:8080/"
        },
        "id": "ZwDeGyL1I2rS",
        "outputId": "a1a94a40-df57-4a12-ba9d-12b787820dc1"
      },
      "execution_count": null,
      "outputs": [
        {
          "output_type": "stream",
          "name": "stdout",
          "text": [
            "[10, 15, 20, 25]\n"
          ]
        }
      ]
    },
    {
      "cell_type": "markdown",
      "source": [
        "Now we include an if-else statement in the list comprehension."
      ],
      "metadata": {
        "id": "miZWql8wNUOG"
      }
    },
    {
      "cell_type": "code",
      "source": [
        "lst = [1,5,10,15,20,25]\n",
        "new_lst = [True if i > 7 else False for i in lst]\n",
        "print(new_lst)\n"
      ],
      "metadata": {
        "colab": {
          "base_uri": "https://localhost:8080/"
        },
        "id": "W-7wOvePJZcv",
        "outputId": "05b34a3b-079e-4425-ec95-ca788ed88c27"
      },
      "execution_count": null,
      "outputs": [
        {
          "output_type": "stream",
          "name": "stdout",
          "text": [
            "[False, False, True, True, True, True]\n"
          ]
        }
      ]
    },
    {
      "cell_type": "markdown",
      "source": [
        "Next, we zip two lists and pass the contents to the list function, which will return a list of tuples. We can use\n",
        "a dictionary comprehension list passing each tuple to be taken to key-value pairs. Thus, we can quickly convert\n",
        "with two lines of code two lists in a dictionary."
      ],
      "metadata": {
        "id": "nRubLXSFOPFX"
      }
    },
    {
      "cell_type": "code",
      "source": [
        "keys = [\"a\", \"b\", \"c\"]\n",
        "vals = [1,2,3]\n",
        "\n",
        "zipped_lst = list(zip(keys,vals))\n",
        "my_dict = dict(i for i in zipped_lst)\n",
        "print(zipped_lst)\n",
        "print(my_dict)"
      ],
      "metadata": {
        "colab": {
          "base_uri": "https://localhost:8080/"
        },
        "id": "k6I_W8b1NXlv",
        "outputId": "ffae3159-0be7-49cc-beda-6887362315f5"
      },
      "execution_count": null,
      "outputs": [
        {
          "output_type": "stream",
          "name": "stdout",
          "text": [
            "[('a', 1), ('b', 2), ('c', 3)]\n",
            "{'a': 1, 'b': 2, 'c': 3}\n"
          ]
        }
      ]
    },
    {
      "cell_type": "markdown",
      "source": [
        "## Timeit\n",
        "\n",
        "The timeit module allows the user to test the speed of the code"
      ],
      "metadata": {
        "id": "Y8eQdMMMnQZd"
      }
    },
    {
      "cell_type": "code",
      "source": [
        "import timeit"
      ],
      "metadata": {
        "id": "2iaENxqSOp1t"
      },
      "execution_count": null,
      "outputs": []
    },
    {
      "cell_type": "code",
      "source": [
        "def my_function_1():\n",
        "  lst = []\n",
        "  for i in range(100000):\n",
        "    lst.append(i**2)\n",
        "\n",
        "trial_1 = timeit.timeit(my_function_1, number = 1)\n",
        "print(trial_1)"
      ],
      "metadata": {
        "colab": {
          "base_uri": "https://localhost:8080/"
        },
        "id": "Gvl_TYvtnX4-",
        "outputId": "5efdb8fc-a82b-4b1c-9e9c-d3a9eeb49a26"
      },
      "execution_count": null,
      "outputs": [
        {
          "output_type": "stream",
          "name": "stdout",
          "text": [
            "0.06330725300000495\n"
          ]
        }
      ]
    },
    {
      "cell_type": "code",
      "source": [
        "def my_function_2():\n",
        "  lst = [x**2 for x in range(10000)]\n",
        "  \n",
        "trial_2 = timeit.timeit(my_function_2, number = 1)\n",
        "print(trial_2)\n"
      ],
      "metadata": {
        "colab": {
          "base_uri": "https://localhost:8080/"
        },
        "id": "k_IV_zVsndpd",
        "outputId": "0d67795d-d53e-4897-c003-a3d7d5253161"
      },
      "execution_count": null,
      "outputs": [
        {
          "output_type": "stream",
          "name": "stdout",
          "text": [
            "0.006548914999996214\n"
          ]
        }
      ]
    },
    {
      "cell_type": "markdown",
      "source": [
        "Although the difference is technically minimal, the first function takes ten times as long as the second function.\n",
        "second. Despite being a simple example, in practice our code will run through\n",
        "huge data sets and we will reuse the functions over and over again. save time with code\n",
        "efficient can be the difference between seconds and minutes."
      ],
      "metadata": {
        "id": "MqpBJCogoLv4"
      }
    },
    {
      "cell_type": "code",
      "source": [
        "def my_function_3():\n",
        "  lst = []\n",
        "  for i in range(1000000):\n",
        "    lst.append(i**2)\n",
        "trial_1 = timeit.timeit(my_function_3, number = 10)\n",
        "print(trial_1)\n"
      ],
      "metadata": {
        "colab": {
          "base_uri": "https://localhost:8080/"
        },
        "id": "d21G53TNnmTl",
        "outputId": "7c3bb51c-d61c-4db6-9967-9c57b28901fc"
      },
      "execution_count": null,
      "outputs": [
        {
          "output_type": "stream",
          "name": "stdout",
          "text": [
            "4.883420225999998\n"
          ]
        }
      ]
    },
    {
      "cell_type": "code",
      "source": [
        "def my_function_4():\n",
        "  lst = [x**2 for x in range(1000000)]\n",
        "\n",
        "trial_2 = timeit.timeit(my_function_4, number = 10)\n",
        "print(trial_2)\n"
      ],
      "metadata": {
        "colab": {
          "base_uri": "https://localhost:8080/"
        },
        "id": "fvDbQc4en2Qr",
        "outputId": "1c98e98d-b664-4409-97c8-bbe91525456b"
      },
      "execution_count": null,
      "outputs": [
        {
          "output_type": "stream",
          "name": "stdout",
          "text": [
            "3.632424389000022\n"
          ]
        }
      ]
    },
    {
      "cell_type": "code",
      "source": [
        ""
      ],
      "metadata": {
        "id": "eokDixmXn8l_"
      },
      "execution_count": null,
      "outputs": []
    }
  ]
}