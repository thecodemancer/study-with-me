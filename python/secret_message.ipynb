{
  "nbformat": 4,
  "nbformat_minor": 0,
  "metadata": {
    "colab": {
      "name": "secret-message.ipynb",
      "provenance": [],
      "authorship_tag": "ABX9TyOLKbw6lrc8WitzLIWzqX/B",
      "include_colab_link": true
    },
    "kernelspec": {
      "name": "python3",
      "display_name": "Python 3"
    },
    "language_info": {
      "name": "python"
    }
  },
  "cells": [
    {
      "cell_type": "markdown",
      "metadata": {
        "id": "view-in-github",
        "colab_type": "text"
      },
      "source": [
        "<a href=\"https://colab.research.google.com/github/thecodemancer/study-with-me/blob/main/python/secret_message.ipynb\" target=\"_parent\"><img src=\"https://colab.research.google.com/assets/colab-badge.svg\" alt=\"Open In Colab\"/></a>"
      ]
    },
    {
      "cell_type": "markdown",
      "source": [
        "# ord()\n",
        "The ord() function returns an integer representing the Unicode character. Example:"
      ],
      "metadata": {
        "id": "duu1DFZFblAD"
      }
    },
    {
      "cell_type": "code",
      "source": [
        "ord('I')"
      ],
      "metadata": {
        "colab": {
          "base_uri": "https://localhost:8080/"
        },
        "id": "eyKu774ubtDM",
        "outputId": "d7e8cc19-8f79-4e24-baee-5c61fa1d1c49"
      },
      "execution_count": 8,
      "outputs": [
        {
          "output_type": "execute_result",
          "data": {
            "text/plain": [
              "73"
            ]
          },
          "metadata": {},
          "execution_count": 8
        }
      ]
    },
    {
      "cell_type": "markdown",
      "source": [
        "# chr()\n",
        "\n",
        "The chr() method converts an integer to its unicode character and returns it.  Example:"
      ],
      "metadata": {
        "id": "R3ONfoeQcBwQ"
      }
    },
    {
      "cell_type": "code",
      "source": [
        "chr(73)"
      ],
      "metadata": {
        "colab": {
          "base_uri": "https://localhost:8080/",
          "height": 36
        },
        "id": "3YnME_y4cJaf",
        "outputId": "029c252e-b56c-472f-ad54-22a1086d7413"
      },
      "execution_count": 9,
      "outputs": [
        {
          "output_type": "execute_result",
          "data": {
            "text/plain": [
              "'I'"
            ],
            "application/vnd.google.colaboratory.intrinsic+json": {
              "type": "string"
            }
          },
          "metadata": {},
          "execution_count": 9
        }
      ]
    },
    {
      "cell_type": "markdown",
      "source": [
        "# Secret Message\n",
        "Based on what we learned, can you decipher this secret message?"
      ],
      "metadata": {
        "id": "B2eSoMGGcYiF"
      }
    },
    {
      "cell_type": "code",
      "execution_count": 1,
      "metadata": {
        "id": "eTnqRo1patD4"
      },
      "outputs": [],
      "source": [
        "secret=\"Ibqqz!Uivstebz\\\"\""
      ]
    },
    {
      "cell_type": "code",
      "source": [
        "msg=\"\""
      ],
      "metadata": {
        "id": "YgZvOMyWbDKT"
      },
      "execution_count": 2,
      "outputs": []
    },
    {
      "cell_type": "code",
      "source": [
        "for char in secret:\n",
        "  msg+=chr(ord(char)-1)"
      ],
      "metadata": {
        "id": "FhsVMmRtbEs2"
      },
      "execution_count": 3,
      "outputs": []
    },
    {
      "cell_type": "code",
      "source": [
        "print(msg)"
      ],
      "metadata": {
        "colab": {
          "base_uri": "https://localhost:8080/"
        },
        "id": "GAMYvxpdbLuf",
        "outputId": "73d9fe4f-77be-49f2-8a25-2e3713308a0d"
      },
      "execution_count": 4,
      "outputs": [
        {
          "output_type": "stream",
          "name": "stdout",
          "text": [
            "Happy Thursday!\n"
          ]
        }
      ]
    }
  ]
}