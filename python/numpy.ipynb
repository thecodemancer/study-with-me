{
  "nbformat": 4,
  "nbformat_minor": 0,
  "metadata": {
    "colab": {
      "name": "numpy.ipynb",
      "provenance": [],
      "authorship_tag": "ABX9TyPpK0OwuYMFLTtKrmZwf2PN",
      "include_colab_link": true
    },
    "kernelspec": {
      "name": "python3",
      "display_name": "Python 3"
    },
    "language_info": {
      "name": "python"
    }
  },
  "cells": [
    {
      "cell_type": "markdown",
      "metadata": {
        "id": "view-in-github",
        "colab_type": "text"
      },
      "source": [
        "<a href=\"https://colab.research.google.com/github/thecodemancer/study-with-me/blob/main/python/numpy.ipynb\" target=\"_parent\"><img src=\"https://colab.research.google.com/assets/colab-badge.svg\" alt=\"Open In Colab\"/></a>"
      ]
    },
    {
      "cell_type": "markdown",
      "source": [
        "# numpy arrays\n",
        "\n",
        "Multidimensional arrays of data.\n",
        "\n",
        "- They can be one, two, three, four, five and even six dimensional.\n",
        "- Efficient when performing linear algebra operations.\n",
        "- element-by-element operations.\n"
      ],
      "metadata": {
        "id": "vpvu7EhblTSZ"
      }
    },
    {
      "cell_type": "code",
      "execution_count": 10,
      "metadata": {
        "id": "rzaWG_Q-lJYf"
      },
      "outputs": [],
      "source": [
        " import numpy as np\n"
      ]
    },
    {
      "cell_type": "code",
      "source": [
        "np.__version__"
      ],
      "metadata": {
        "colab": {
          "base_uri": "https://localhost:8080/",
          "height": 35
        },
        "id": "6a432TGblLFZ",
        "outputId": "3137237d-030f-44f1-a167-5d0305f06bc4"
      },
      "execution_count": 11,
      "outputs": [
        {
          "output_type": "execute_result",
          "data": {
            "text/plain": [
              "'1.21.6'"
            ],
            "application/vnd.google.colaboratory.intrinsic+json": {
              "type": "string"
            }
          },
          "metadata": {},
          "execution_count": 11
        }
      ]
    },
    {
      "cell_type": "markdown",
      "source": [
        "Next, we create a 1D NumPy array to demonstrate its functionality."
      ],
      "metadata": {
        "id": "cKZoVIJ8lft_"
      }
    },
    {
      "cell_type": "code",
      "source": [
        "a = np.array([1,2,3,4,5,6])"
      ],
      "metadata": {
        "id": "LeUKJ6anlROh"
      },
      "execution_count": 12,
      "outputs": []
    },
    {
      "cell_type": "code",
      "source": [
        "a.shape"
      ],
      "metadata": {
        "colab": {
          "base_uri": "https://localhost:8080/"
        },
        "id": "dcV2fDojlrBl",
        "outputId": "df41e44d-b06c-48e8-e36f-d487b6da85d4"
      },
      "execution_count": 13,
      "outputs": [
        {
          "output_type": "execute_result",
          "data": {
            "text/plain": [
              "(6,)"
            ]
          },
          "metadata": {},
          "execution_count": 13
        }
      ]
    },
    {
      "cell_type": "markdown",
      "source": [
        "## One-Dimensional NumPy *Arrays*"
      ],
      "metadata": {
        "id": "d1MRC_2blwNP"
      }
    },
    {
      "cell_type": "markdown",
      "source": [
        "Brackets are used to index and cut arrays, as with lists and tuples. The first element of an array is index 0, not 1\n"
      ],
      "metadata": {
        "id": "sBGi25yyl0jG"
      }
    },
    {
      "cell_type": "code",
      "source": [
        "a = np.array([1,2,3,4,5,6])"
      ],
      "metadata": {
        "id": "k2qyqK1KlrVn"
      },
      "execution_count": 14,
      "outputs": []
    },
    {
      "cell_type": "code",
      "source": [
        "a[0]"
      ],
      "metadata": {
        "colab": {
          "base_uri": "https://localhost:8080/"
        },
        "id": "j3h2DmZol6Fa",
        "outputId": "6aaa4da9-33fc-42dd-feee-40324387268d"
      },
      "execution_count": 15,
      "outputs": [
        {
          "output_type": "execute_result",
          "data": {
            "text/plain": [
              "1"
            ]
          },
          "metadata": {},
          "execution_count": 15
        }
      ]
    },
    {
      "cell_type": "markdown",
      "source": [
        "The notation for subtraction is array[start_position:end_position], where the end position is excluded. For example, array[0:2] will return\n",
        "the items indexed 0 and 1, not the 0, 1 and 2."
      ],
      "metadata": {
        "id": "Tuw_euHxl8qx"
      }
    },
    {
      "cell_type": "code",
      "source": [
        "a[0:2]"
      ],
      "metadata": {
        "colab": {
          "base_uri": "https://localhost:8080/"
        },
        "id": "CFnPp-VTl6aU",
        "outputId": "82cc4601-d9d8-4e90-87bc-7908c433a51c"
      },
      "execution_count": 16,
      "outputs": [
        {
          "output_type": "execute_result",
          "data": {
            "text/plain": [
              "array([1, 2])"
            ]
          },
          "metadata": {},
          "execution_count": 16
        }
      ]
    },
    {
      "cell_type": "code",
      "source": [
        " a[1:3]"
      ],
      "metadata": {
        "colab": {
          "base_uri": "https://localhost:8080/"
        },
        "id": "5ou4CxO1l_bD",
        "outputId": "60c177b5-5882-4b37-f9b9-581e797d87e4"
      },
      "execution_count": 17,
      "outputs": [
        {
          "output_type": "execute_result",
          "data": {
            "text/plain": [
              "array([2, 3])"
            ]
          },
          "metadata": {},
          "execution_count": 17
        }
      ]
    },
    {
      "cell_type": "markdown",
      "source": [
        "The last element of an array can be accessed with -1, as is the case with lists and tuples."
      ],
      "metadata": {
        "id": "cg-IdJiImDdP"
      }
    },
    {
      "cell_type": "code",
      "source": [
        "a[-1]"
      ],
      "metadata": {
        "colab": {
          "base_uri": "https://localhost:8080/"
        },
        "id": "OaODNGFnmBDw",
        "outputId": "c7155ba8-8b37-4596-fefa-e2ba17e91e33"
      },
      "execution_count": 18,
      "outputs": [
        {
          "output_type": "execute_result",
          "data": {
            "text/plain": [
              "6"
            ]
          },
          "metadata": {},
          "execution_count": 18
        }
      ]
    },
    {
      "cell_type": "markdown",
      "source": [
        "## 2-D Two-Dimensional NumPy Arrays"
      ],
      "metadata": {
        "id": "q-W_jma4mekf"
      }
    },
    {
      "cell_type": "markdown",
      "source": [
        "2D NumPy arrays are arrays in two dimensions, that is, matrices. They can be defined with a list of lists, where each element of\n",
        "a nested list is a row.\n",
        "Next, we define a matrix with two rows and three columns. When we use array.shape, the number of rows and columns is seen in\n",
        "order."
      ],
      "metadata": {
        "id": "xI5KS_i1mjqv"
      }
    },
    {
      "cell_type": "code",
      "source": [
        "array = np.array([\n",
        " [1,2,3],\n",
        " [2,3,4]\n",
        "])\n",
        "array.shape"
      ],
      "metadata": {
        "colab": {
          "base_uri": "https://localhost:8080/"
        },
        "id": "OBOfwG9ImD1e",
        "outputId": "0f23a6c0-49a7-4a67-f151-d9c76f7cf817"
      },
      "execution_count": 19,
      "outputs": [
        {
          "output_type": "execute_result",
          "data": {
            "text/plain": [
              "(2, 3)"
            ]
          },
          "metadata": {},
          "execution_count": 19
        }
      ]
    },
    {
      "cell_type": "code",
      "source": [
        "array"
      ],
      "metadata": {
        "colab": {
          "base_uri": "https://localhost:8080/"
        },
        "id": "Mom6Kajdmm-4",
        "outputId": "6cb5d212-3bfe-4219-8f20-b5c75b995d03"
      },
      "execution_count": 20,
      "outputs": [
        {
          "output_type": "execute_result",
          "data": {
            "text/plain": [
              "array([[1, 2, 3],\n",
              "       [2, 3, 4]])"
            ]
          },
          "metadata": {},
          "execution_count": 20
        }
      ]
    },
    {
      "cell_type": "markdown",
      "source": [
        "When subtracting indices from 2D arrays, we must define the rows and columns that we want Python to return. The code that\n",
        "we have below will execute the entire data array because the colon with no indices before and after means \"show everything\".\n",
        "When we subtract indices from 2D arrays, the comma is used to separate the values we want to index first into rows and then into\n",
        "columns. The syntax is array[rows_to_select, columns_to_select]"
      ],
      "metadata": {
        "id": "-jhstxmKmsd_"
      }
    },
    {
      "cell_type": "code",
      "source": [
        "array[:,:]"
      ],
      "metadata": {
        "colab": {
          "base_uri": "https://localhost:8080/"
        },
        "id": "_HUsD6r5moeJ",
        "outputId": "2486aa74-5b05-4b71-985b-059375141bc1"
      },
      "execution_count": 21,
      "outputs": [
        {
          "output_type": "execute_result",
          "data": {
            "text/plain": [
              "array([[1, 2, 3],\n",
              "       [2, 3, 4]])"
            ]
          },
          "metadata": {},
          "execution_count": 21
        }
      ]
    },
    {
      "cell_type": "markdown",
      "source": [
        "Adding 0:1 before the comma tells NumPy to display only row 0, since row 1 is excluded."
      ],
      "metadata": {
        "id": "-vVa4Cz6myOu"
      }
    },
    {
      "cell_type": "code",
      "source": [
        "array[0:1,:]"
      ],
      "metadata": {
        "colab": {
          "base_uri": "https://localhost:8080/"
        },
        "id": "Vhy_M-0smvGz",
        "outputId": "9126ecd5-e509-4300-86ef-a7f049a5c54e"
      },
      "execution_count": 22,
      "outputs": [
        {
          "output_type": "execute_result",
          "data": {
            "text/plain": [
              "array([[1, 2, 3]])"
            ]
          },
          "metadata": {},
          "execution_count": 22
        }
      ]
    },
    {
      "cell_type": "markdown",
      "source": [
        "Adding 0:2 after the comma tells NumPy to display only columns 0 and 1, since 2 is excluded"
      ],
      "metadata": {
        "id": "k2NN6C4jmy6-"
      }
    },
    {
      "cell_type": "code",
      "source": [
        "array[:,0:2]\n"
      ],
      "metadata": {
        "colab": {
          "base_uri": "https://localhost:8080/"
        },
        "id": "MPBVLTv8myn7",
        "outputId": "ccd68082-f476-4f5d-b30b-24717e6246e3"
      },
      "execution_count": 23,
      "outputs": [
        {
          "output_type": "execute_result",
          "data": {
            "text/plain": [
              "array([[1, 2],\n",
              "       [2, 3]])"
            ]
          },
          "metadata": {},
          "execution_count": 23
        }
      ]
    },
    {
      "cell_type": "markdown",
      "source": [
        "If we put them together, we will get columns 0 and 1 from row 1"
      ],
      "metadata": {
        "id": "0qgHHMJtnMte"
      }
    },
    {
      "cell_type": "code",
      "source": [
        "array[0:1,0:2]"
      ],
      "metadata": {
        "colab": {
          "base_uri": "https://localhost:8080/"
        },
        "id": "Z64LEHhPnFS9",
        "outputId": "1bb13f20-5850-4466-9379-237371e0e34c"
      },
      "execution_count": 24,
      "outputs": [
        {
          "output_type": "execute_result",
          "data": {
            "text/plain": [
              "array([[1, 2]])"
            ]
          },
          "metadata": {},
          "execution_count": 24
        }
      ]
    },
    {
      "cell_type": "markdown",
      "source": [
        "## loops\n",
        "\n",
        "Loops can also be made on NumPy arrays, as we will see next.\n",
        "\n",
        "In this example we have a 1D NumPy array (6). Since there are six elements and only one dimension, the loop displays them one at a time."
      ],
      "metadata": {
        "id": "WLvYR7JZnUhl"
      }
    },
    {
      "cell_type": "code",
      "source": [
        "a = np.array([1,2,3,4,5,6])\n",
        "a.shape"
      ],
      "metadata": {
        "colab": {
          "base_uri": "https://localhost:8080/"
        },
        "id": "r8vVnatunRij",
        "outputId": "9be72894-42f4-428f-93f0-dbf650175c73"
      },
      "execution_count": 26,
      "outputs": [
        {
          "output_type": "execute_result",
          "data": {
            "text/plain": [
              "(6,)"
            ]
          },
          "metadata": {},
          "execution_count": 26
        }
      ]
    },
    {
      "cell_type": "code",
      "source": [
        "for i in a:\n",
        " print(i)"
      ],
      "metadata": {
        "colab": {
          "base_uri": "https://localhost:8080/"
        },
        "id": "k0LJ4CTjnaFn",
        "outputId": "049afc61-bf28-4d9d-f300-ca4cd502b4bd"
      },
      "execution_count": 27,
      "outputs": [
        {
          "output_type": "stream",
          "name": "stdout",
          "text": [
            "1\n",
            "2\n",
            "3\n",
            "4\n",
            "5\n",
            "6\n"
          ]
        }
      ]
    },
    {
      "cell_type": "markdown",
      "source": [
        "In this case we have a 2D array (2, 3) so the loop returns two arrays with three elements each."
      ],
      "metadata": {
        "id": "vKrrVA-nnizO"
      }
    },
    {
      "cell_type": "code",
      "source": [
        "array = np.array([\n",
        " [1,2,3],\n",
        " [2,3,4]\n",
        "])\n",
        "array.shape\n"
      ],
      "metadata": {
        "colab": {
          "base_uri": "https://localhost:8080/"
        },
        "id": "UKEWRo4Tncw4",
        "outputId": "81a07d3b-42c9-43c6-efa0-229596441d54"
      },
      "execution_count": 28,
      "outputs": [
        {
          "output_type": "execute_result",
          "data": {
            "text/plain": [
              "(2, 3)"
            ]
          },
          "metadata": {},
          "execution_count": 28
        }
      ]
    },
    {
      "cell_type": "code",
      "source": [
        "for i in array:\n",
        " print(i)\n"
      ],
      "metadata": {
        "colab": {
          "base_uri": "https://localhost:8080/"
        },
        "id": "XJRHJfPYnmNO",
        "outputId": "ba281ecb-d8f1-4471-de7b-2a6538552396"
      },
      "execution_count": 29,
      "outputs": [
        {
          "output_type": "stream",
          "name": "stdout",
          "text": [
            "[1 2 3]\n",
            "[2 3 4]\n"
          ]
        }
      ]
    },
    {
      "cell_type": "markdown",
      "source": [
        "The shape attribute returns the number of elements for each array.\n",
        "\n",
        "Although it is not part of the program, we will explain an example of a loop in an array with three rows and four columns.\n",
        "\n",
        "If we wanted to pass each of the arrays, we would see that we have three dimensions, so two of them correspond to those\n",
        "3 by 4 arrays."
      ],
      "metadata": {
        "id": "enYE-QBEntU1"
      }
    },
    {
      "cell_type": "code",
      "source": [
        " array = np.array([\n",
        " [1,2,3,4],\n",
        " [2,3,4,4],\n",
        " [2,3,4,4]\n",
        "])\n",
        "array1 = np.array([\n",
        " [5,6,7,4],\n",
        " [4,6,9,4],\n",
        " [2,3,4,4]\n",
        "])\n",
        "tensor = np.array([array, array1])\n",
        "tensor.shape"
      ],
      "metadata": {
        "colab": {
          "base_uri": "https://localhost:8080/"
        },
        "id": "F1kovPUMno09",
        "outputId": "16d2c6a9-42ac-4465-c400-c96d227576f0"
      },
      "execution_count": 30,
      "outputs": [
        {
          "output_type": "execute_result",
          "data": {
            "text/plain": [
              "(2, 3, 4)"
            ]
          },
          "metadata": {},
          "execution_count": 30
        }
      ]
    },
    {
      "cell_type": "code",
      "source": [
        "for i in tensor:\n",
        " print(i)\n",
        " print(\"-----------------\")"
      ],
      "metadata": {
        "colab": {
          "base_uri": "https://localhost:8080/"
        },
        "id": "v7pAAWPHn5Qy",
        "outputId": "24f9c9ce-6a0f-46d2-dfbf-84ed4506539a"
      },
      "execution_count": 31,
      "outputs": [
        {
          "output_type": "stream",
          "name": "stdout",
          "text": [
            "[[1 2 3 4]\n",
            " [2 3 4 4]\n",
            " [2 3 4 4]]\n",
            "-----------------\n",
            "[[5 6 7 4]\n",
            " [4 6 9 4]\n",
            " [2 3 4 4]]\n",
            "-----------------\n"
          ]
        }
      ]
    },
    {
      "cell_type": "markdown",
      "source": [
        "## Calculations with arrays\n",
        "\n",
        "The array class has many built-in math methods, such as .sum(), .min(), .max(), .mean(), .std(), etc. Although not a method\n",
        "proper to the array class, NumPy has a separate function to calculate the mean: np.median(array_to_find_the_mean)."
      ],
      "metadata": {
        "id": "F1lKY2nVn-5m"
      }
    },
    {
      "cell_type": "code",
      "source": [
        "a = np.array([1,2,3,4])"
      ],
      "metadata": {
        "id": "Y-UpApumn7Y4"
      },
      "execution_count": 32,
      "outputs": []
    },
    {
      "cell_type": "code",
      "source": [
        "a.sum()"
      ],
      "metadata": {
        "colab": {
          "base_uri": "https://localhost:8080/"
        },
        "id": "p7ViG_3BoDWS",
        "outputId": "af62ddb8-33ec-4654-e069-9122a72bc147"
      },
      "execution_count": 33,
      "outputs": [
        {
          "output_type": "execute_result",
          "data": {
            "text/plain": [
              "10"
            ]
          },
          "metadata": {},
          "execution_count": 33
        }
      ]
    },
    {
      "cell_type": "code",
      "source": [
        "a.min()"
      ],
      "metadata": {
        "colab": {
          "base_uri": "https://localhost:8080/"
        },
        "id": "5N5w98KioDjG",
        "outputId": "97f07401-57fb-4dd8-d860-969abf894766"
      },
      "execution_count": 34,
      "outputs": [
        {
          "output_type": "execute_result",
          "data": {
            "text/plain": [
              "1"
            ]
          },
          "metadata": {},
          "execution_count": 34
        }
      ]
    },
    {
      "cell_type": "code",
      "source": [
        "a.max()"
      ],
      "metadata": {
        "colab": {
          "base_uri": "https://localhost:8080/"
        },
        "id": "Wo-YZFxeoEdj",
        "outputId": "363e639d-9294-4aec-ba5c-105558ad2857"
      },
      "execution_count": 35,
      "outputs": [
        {
          "output_type": "execute_result",
          "data": {
            "text/plain": [
              "4"
            ]
          },
          "metadata": {},
          "execution_count": 35
        }
      ]
    },
    {
      "cell_type": "code",
      "source": [
        "a.mean()"
      ],
      "metadata": {
        "colab": {
          "base_uri": "https://localhost:8080/"
        },
        "id": "fKlQJS4joGQu",
        "outputId": "03ab74a7-9ab0-4b9a-8f57-ae1df531ecdb"
      },
      "execution_count": 36,
      "outputs": [
        {
          "output_type": "execute_result",
          "data": {
            "text/plain": [
              "2.5"
            ]
          },
          "metadata": {},
          "execution_count": 36
        }
      ]
    },
    {
      "cell_type": "code",
      "source": [
        "a.std()"
      ],
      "metadata": {
        "colab": {
          "base_uri": "https://localhost:8080/"
        },
        "id": "O3jCwZ2ZoHi_",
        "outputId": "76d93f88-de1a-4709-b137-1fcaaae914d6"
      },
      "execution_count": 37,
      "outputs": [
        {
          "output_type": "execute_result",
          "data": {
            "text/plain": [
              "1.118033988749895"
            ]
          },
          "metadata": {},
          "execution_count": 37
        }
      ]
    },
    {
      "cell_type": "code",
      "source": [
        "np.median(a)"
      ],
      "metadata": {
        "colab": {
          "base_uri": "https://localhost:8080/"
        },
        "id": "L9kBldg3oJOE",
        "outputId": "2147a927-d1bc-46ca-9f03-e8e1fae9303c"
      },
      "execution_count": 38,
      "outputs": [
        {
          "output_type": "execute_result",
          "data": {
            "text/plain": [
              "2.5"
            ]
          },
          "metadata": {},
          "execution_count": 38
        }
      ]
    },
    {
      "cell_type": "markdown",
      "source": [
        "Calculations on arrays can be done element by element, that is, the operation is performed on each element of the array. This\n",
        "allows you to create concise and efficient code.\n",
        "find_the_mean)."
      ],
      "metadata": {
        "id": "fdkc6SaFoNV2"
      }
    },
    {
      "cell_type": "code",
      "source": [
        "a"
      ],
      "metadata": {
        "colab": {
          "base_uri": "https://localhost:8080/"
        },
        "id": "glD7njdLoKqg",
        "outputId": "fdbea808-f27c-4725-d9af-7b0e898ca79b"
      },
      "execution_count": 39,
      "outputs": [
        {
          "output_type": "execute_result",
          "data": {
            "text/plain": [
              "array([1, 2, 3, 4])"
            ]
          },
          "metadata": {},
          "execution_count": 39
        }
      ]
    },
    {
      "cell_type": "code",
      "source": [
        "a**2"
      ],
      "metadata": {
        "colab": {
          "base_uri": "https://localhost:8080/"
        },
        "id": "oQiUE2VXoPas",
        "outputId": "b8c604c7-14cd-4e33-90f0-cf668545ffb2"
      },
      "execution_count": 41,
      "outputs": [
        {
          "output_type": "execute_result",
          "data": {
            "text/plain": [
              "array([ 1,  4,  9, 16])"
            ]
          },
          "metadata": {},
          "execution_count": 41
        }
      ]
    },
    {
      "cell_type": "code",
      "source": [
        "a+2"
      ],
      "metadata": {
        "colab": {
          "base_uri": "https://localhost:8080/"
        },
        "id": "0R7BHrBIoQbx",
        "outputId": "7c0f1604-b664-4949-c334-9e382e0e832e"
      },
      "execution_count": 42,
      "outputs": [
        {
          "output_type": "execute_result",
          "data": {
            "text/plain": [
              "array([3, 4, 5, 6])"
            ]
          },
          "metadata": {},
          "execution_count": 42
        }
      ]
    },
    {
      "cell_type": "code",
      "source": [
        "a-5"
      ],
      "metadata": {
        "colab": {
          "base_uri": "https://localhost:8080/"
        },
        "id": "6mESGZ4toSQ5",
        "outputId": "3e15d570-5235-4a5e-e671-40c5a9e2c500"
      },
      "execution_count": 43,
      "outputs": [
        {
          "output_type": "execute_result",
          "data": {
            "text/plain": [
              "array([-4, -3, -2, -1])"
            ]
          },
          "metadata": {},
          "execution_count": 43
        }
      ]
    },
    {
      "cell_type": "code",
      "source": [
        "a*2"
      ],
      "metadata": {
        "colab": {
          "base_uri": "https://localhost:8080/"
        },
        "id": "Qq6OO0J5oTmD",
        "outputId": "1cdcb812-5f3e-40d5-efb5-ce95175c892c"
      },
      "execution_count": 44,
      "outputs": [
        {
          "output_type": "execute_result",
          "data": {
            "text/plain": [
              "array([2, 4, 6, 8])"
            ]
          },
          "metadata": {},
          "execution_count": 44
        }
      ]
    },
    {
      "cell_type": "code",
      "source": [
        "a/2"
      ],
      "metadata": {
        "colab": {
          "base_uri": "https://localhost:8080/"
        },
        "id": "3bwrIK8roUy-",
        "outputId": "1bd07f59-d7cc-4890-d105-ee2d06a901b8"
      },
      "execution_count": 45,
      "outputs": [
        {
          "output_type": "execute_result",
          "data": {
            "text/plain": [
              "array([0.5, 1. , 1.5, 2. ])"
            ]
          },
          "metadata": {},
          "execution_count": 45
        }
      ]
    },
    {
      "cell_type": "markdown",
      "source": [
        "## axis parameter\n",
        "If we had a multidimensional array like a 2D, we would have to specify in which axis (axis) the calculation will be performed. For example: NumPy\n",
        "should I calculate the sum of each row or each column?"
      ],
      "metadata": {
        "id": "cl7x1es6oZ-l"
      }
    },
    {
      "cell_type": "code",
      "source": [
        " array = np.array([\n",
        " [1,2,3],\n",
        " [2,3,4]\n",
        "])\n",
        "array.shape"
      ],
      "metadata": {
        "colab": {
          "base_uri": "https://localhost:8080/"
        },
        "id": "HO5f_zhsoV2e",
        "outputId": "fb6bc702-0dee-45f2-b0ec-88d07bb1c2f9"
      },
      "execution_count": 46,
      "outputs": [
        {
          "output_type": "execute_result",
          "data": {
            "text/plain": [
              "(2, 3)"
            ]
          },
          "metadata": {},
          "execution_count": 46
        }
      ]
    },
    {
      "cell_type": "markdown",
      "source": [
        "When we set axis = 0, we are telling NumPy to add along axis 0, that is, the columns. This can\n",
        "be strange, since when we look at the shape of the array, we see that it is (2,3) and we expect to receive back two values. Instead of\n",
        "So, think of NumPy passing along the x-axis and adding each column. Sum “along” the 0-axis."
      ],
      "metadata": {
        "id": "v1lJAZJAofal"
      }
    },
    {
      "cell_type": "code",
      "source": [
        "array.sum(axis = 0)"
      ],
      "metadata": {
        "colab": {
          "base_uri": "https://localhost:8080/"
        },
        "id": "y8pwBZlboco5",
        "outputId": "3bcf547a-4f35-4723-8e14-58a26d4c4421"
      },
      "execution_count": 47,
      "outputs": [
        {
          "output_type": "execute_result",
          "data": {
            "text/plain": [
              "array([3, 5, 7])"
            ]
          },
          "metadata": {},
          "execution_count": 47
        }
      ]
    },
    {
      "cell_type": "markdown",
      "source": [
        "If we set the value of the axis to 1 we get the sum of each row, since it is done along the second axis"
      ],
      "metadata": {
        "id": "WiKtO4B8pRwD"
      }
    },
    {
      "cell_type": "code",
      "source": [
        "array.sum(axis = 1)\n"
      ],
      "metadata": {
        "colab": {
          "base_uri": "https://localhost:8080/"
        },
        "id": "g0ouxitHpOOy",
        "outputId": "11a8099f-f859-4c02-e3d0-1900c35f5bf3"
      },
      "execution_count": 48,
      "outputs": [
        {
          "output_type": "execute_result",
          "data": {
            "text/plain": [
              "array([6, 9])"
            ]
          },
          "metadata": {},
          "execution_count": 48
        }
      ]
    },
    {
      "cell_type": "markdown",
      "source": [
        "If we do not give a value to the axis, all the values of the array will be added"
      ],
      "metadata": {
        "id": "lJaqgl0Xpccc"
      }
    },
    {
      "cell_type": "code",
      "source": [
        "array.sum()"
      ],
      "metadata": {
        "colab": {
          "base_uri": "https://localhost:8080/"
        },
        "id": "yYdXSPktpUO-",
        "outputId": "2c1cce40-47d3-4a85-af73-69cd1196fc02"
      },
      "execution_count": 49,
      "outputs": [
        {
          "output_type": "execute_result",
          "data": {
            "text/plain": [
              "15"
            ]
          },
          "metadata": {},
          "execution_count": 49
        }
      ]
    },
    {
      "cell_type": "markdown",
      "source": [
        "The axis argument is important in NumPy as it allows us to perform different calculations of rows and columns. We can change sum to any other type of operation that we know of, like mean or max."
      ],
      "metadata": {
        "id": "FPSlhFpFphnb"
      }
    },
    {
      "cell_type": "code",
      "source": [
        "array.mean(axis = 0)"
      ],
      "metadata": {
        "colab": {
          "base_uri": "https://localhost:8080/"
        },
        "id": "u1aLeJPvpeY4",
        "outputId": "7391d43d-b448-47d1-937a-5d320e9fc5c0"
      },
      "execution_count": 50,
      "outputs": [
        {
          "output_type": "execute_result",
          "data": {
            "text/plain": [
              "array([1.5, 2.5, 3.5])"
            ]
          },
          "metadata": {},
          "execution_count": 50
        }
      ]
    },
    {
      "cell_type": "code",
      "source": [
        "array.mean(axis = 1)"
      ],
      "metadata": {
        "colab": {
          "base_uri": "https://localhost:8080/"
        },
        "id": "1FzAs1ompnzE",
        "outputId": "617fb2c6-468a-4add-c728-c90220a2d59d"
      },
      "execution_count": 51,
      "outputs": [
        {
          "output_type": "execute_result",
          "data": {
            "text/plain": [
              "array([2., 3.])"
            ]
          },
          "metadata": {},
          "execution_count": 51
        }
      ]
    },
    {
      "cell_type": "markdown",
      "source": [
        "Note that the results we get are NumPy arrays, which can be further manipulated if necessary."
      ],
      "metadata": {
        "id": "bdvGc9zppviz"
      }
    },
    {
      "cell_type": "code",
      "source": [
        "col_means = array.mean(axis = 0)\n",
        "col_means[0:2]"
      ],
      "metadata": {
        "colab": {
          "base_uri": "https://localhost:8080/"
        },
        "id": "aVI-AzN0psWx",
        "outputId": "85212299-0abb-4453-8b86-65623ccabf61"
      },
      "execution_count": 52,
      "outputs": [
        {
          "output_type": "execute_result",
          "data": {
            "text/plain": [
              "array([1.5, 2.5])"
            ]
          },
          "metadata": {},
          "execution_count": 52
        }
      ]
    },
    {
      "cell_type": "code",
      "source": [
        ""
      ],
      "metadata": {
        "id": "f6MHrjR2pxmB"
      },
      "execution_count": null,
      "outputs": []
    }
  ]
}