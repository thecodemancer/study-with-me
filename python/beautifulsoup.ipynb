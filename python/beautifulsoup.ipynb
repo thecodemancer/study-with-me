{
  "nbformat": 4,
  "nbformat_minor": 0,
  "metadata": {
    "colab": {
      "provenance": [],
      "authorship_tag": "ABX9TyPz8MJssmLepnLWTATJH264",
      "include_colab_link": true
    },
    "kernelspec": {
      "name": "python3",
      "display_name": "Python 3"
    }
  },
  "cells": [
    {
      "cell_type": "markdown",
      "metadata": {
        "id": "view-in-github",
        "colab_type": "text"
      },
      "source": [
        "<a href=\"https://colab.research.google.com/github/thecodemancer/study-with-me/blob/main/python/beautifulsoup.ipynb\" target=\"_parent\"><img src=\"https://colab.research.google.com/assets/colab-badge.svg\" alt=\"Open In Colab\"/></a>"
      ]
    },
    {
      "cell_type": "code",
      "metadata": {
        "id": "I7gPAj0mf1yf"
      },
      "source": [
        "import urllib\n",
        "from bs4 import BeautifulSoup"
      ],
      "execution_count": 1,
      "outputs": []
    },
    {
      "cell_type": "code",
      "metadata": {
        "id": "UXswq9Z4f7aW",
        "colab": {
          "base_uri": "https://localhost:8080/"
        },
        "outputId": "88289922-7d90-4c9a-e893-37c66b461b20"
      },
      "source": [
        "url = r\"https://www.ers.usda.gov/data-products/fruit-and-vegetable-prices/\"\n",
        "mybytes = urllib.request.urlopen(url)\n",
        "type(mybytes)"
      ],
      "execution_count": 2,
      "outputs": [
        {
          "output_type": "execute_result",
          "data": {
            "text/plain": [
              "http.client.HTTPResponse"
            ]
          },
          "metadata": {},
          "execution_count": 2
        }
      ]
    },
    {
      "cell_type": "code",
      "source": [
        "mybytes = mybytes.read().decode(\"utf8\")\n",
        "type(mybytes)"
      ],
      "metadata": {
        "colab": {
          "base_uri": "https://localhost:8080/"
        },
        "id": "_JSjXQ7njAA0",
        "outputId": "b402b05c-044a-4c81-e87c-f22c3c899c46"
      },
      "execution_count": 3,
      "outputs": [
        {
          "output_type": "execute_result",
          "data": {
            "text/plain": [
              "str"
            ]
          },
          "metadata": {},
          "execution_count": 3
        }
      ]
    },
    {
      "cell_type": "code",
      "metadata": {
        "colab": {
          "base_uri": "https://localhost:8080/",
          "height": 35
        },
        "id": "EVkWKCwrFYn0",
        "outputId": "5c3fc3de-3c5f-4ccb-b8c8-e75f1072655b"
      },
      "source": [
        "mybytes[0:100]"
      ],
      "execution_count": 4,
      "outputs": [
        {
          "output_type": "execute_result",
          "data": {
            "text/plain": [
              "'\\n\\n<!DOCTYPE html>\\n<!--[if lt IE 7 ]> <html lang=\"en\" class=\"no-js ie6 ie iefont\"> <![endif]-->\\n<!--['"
            ],
            "application/vnd.google.colaboratory.intrinsic+json": {
              "type": "string"
            }
          },
          "metadata": {},
          "execution_count": 4
        }
      ]
    },
    {
      "cell_type": "code",
      "metadata": {
        "colab": {
          "base_uri": "https://localhost:8080/"
        },
        "id": "RwqNCvidFgbN",
        "outputId": "37b5cb54-53e6-450a-9fd8-3ed905329495"
      },
      "source": [
        "parsed_html = BeautifulSoup(mybytes, \"html.parser\")\n",
        "#parsed_html = BeautifulSoup(mybytes, features=\"lxml\")\n",
        "type(parsed_html)"
      ],
      "execution_count": 6,
      "outputs": [
        {
          "output_type": "execute_result",
          "data": {
            "text/plain": [
              "bs4.BeautifulSoup"
            ]
          },
          "metadata": {},
          "execution_count": 6
        }
      ]
    },
    {
      "cell_type": "code",
      "source": [
        "type(parsed_html.head)\n",
        "type(parsed_html.body)"
      ],
      "metadata": {
        "colab": {
          "base_uri": "https://localhost:8080/"
        },
        "id": "iiqpamkejdAO",
        "outputId": "eaacf4ee-97d3-436d-fb60-fb3277fcede0"
      },
      "execution_count": 13,
      "outputs": [
        {
          "output_type": "execute_result",
          "data": {
            "text/plain": [
              "bs4.element.Tag"
            ]
          },
          "metadata": {},
          "execution_count": 13
        }
      ]
    },
    {
      "cell_type": "code",
      "source": [
        "parsed_html.head.title"
      ],
      "metadata": {
        "colab": {
          "base_uri": "https://localhost:8080/"
        },
        "id": "mqAPjuS1j0kg",
        "outputId": "7977767f-0d3c-44b6-809a-aed7e82de712"
      },
      "execution_count": 14,
      "outputs": [
        {
          "output_type": "execute_result",
          "data": {
            "text/plain": [
              "<title>USDA ERS - Fruit and Vegetable Prices</title>"
            ]
          },
          "metadata": {},
          "execution_count": 14
        }
      ]
    },
    {
      "cell_type": "code",
      "source": [
        "parsed_html.body.h1"
      ],
      "metadata": {
        "colab": {
          "base_uri": "https://localhost:8080/"
        },
        "id": "77EMQlLrkDel",
        "outputId": "4bc3a992-e371-4abc-aa75-eeffe121d477"
      },
      "execution_count": 18,
      "outputs": [
        {
          "output_type": "execute_result",
          "data": {
            "text/plain": [
              "<h1 class=\"displayTitle\">Fruit and Vegetable Prices</h1>"
            ]
          },
          "metadata": {},
          "execution_count": 18
        }
      ]
    },
    {
      "cell_type": "code",
      "source": [
        "parsed_html.find('tr')"
      ],
      "metadata": {
        "colab": {
          "base_uri": "https://localhost:8080/"
        },
        "id": "y1mEhrQekQrN",
        "outputId": "2ff1a12d-4f62-4aef-f614-9589c524fe48"
      },
      "execution_count": 19,
      "outputs": [
        {
          "output_type": "execute_result",
          "data": {
            "text/plain": [
              "<tr>\n",
              "<th scope=\"col\">Data Set</th>\n",
              "<th class=\"text-center\" scope=\"col\">Last Updated</th>\n",
              "<th class=\"text-center\" scope=\"col\">Next Update</th>\n",
              "</tr>"
            ]
          },
          "metadata": {},
          "execution_count": 19
        }
      ]
    },
    {
      "cell_type": "code",
      "source": [
        "parsed_html.find_all('tr')[0:3]"
      ],
      "metadata": {
        "colab": {
          "base_uri": "https://localhost:8080/"
        },
        "id": "KBLOaqd4kVB-",
        "outputId": "6ecb1249-2835-4aa9-b219-b2e53ee378c3"
      },
      "execution_count": 23,
      "outputs": [
        {
          "output_type": "execute_result",
          "data": {
            "text/plain": [
              "[<tr>\n",
              " <th scope=\"col\">Data Set</th>\n",
              " <th class=\"text-center\" scope=\"col\">Last Updated</th>\n",
              " <th class=\"text-center\" scope=\"col\">Next Update</th>\n",
              " </tr>, <tr>\n",
              " <td colspan=\"3\" scope=\"row\"><strong><span id=\"Fruit\">Fruit</span></strong></td>\n",
              " </tr>, <tr>\n",
              " <td>\n",
              " <a href=\"/webdocs/DataFiles/51035/apples.xlsx?v=490.1\" onclick=\"var s = s_gi(s_account);\n",
              "                                         s.linkTrackVars = 'prop16,prop17,prop18,eVar15,eVar16,eVar17,events';\n",
              "                                         s.linkTrackEvents = 'event4';\n",
              "                                         s.prop16 = '/webdocs/DataFiles/51035/apples.xlsx?v=490.1';\n",
              "                                         s.prop17 = 'File:Fruit and Vegetable Prices';\n",
              "                                         s.prop18 = 'File';\n",
              "                                         s.eVar15 = '/webdocs/DataFiles/51035/apples.xlsx?v=490.1';\n",
              "                                         s.eVar16 = 'File:Fruit and Vegetable Prices';\n",
              "                                         s.eVar17 = 'File';\n",
              "                                         s.events = 'event4';\n",
              "                                         s.tl(this, 'd', 'File:Fruit and Vegetable Prices');\" target=\"_blank\">Apples-Average retail price per pound or pint and per cup equivalent</a>\n",
              " <a aria-label=\"Apples-Average retail price per pound or pint and per cup equivalent\" href=\"/webdocs/DataFiles/51035/apples.csv?v=490.1\" onclick=\"var s = s_gi(s_account);\n",
              "                                         s.linkTrackVars = 'prop16,prop17,prop18,eVar15,eVar16,eVar17,events';\n",
              "                                         s.linkTrackEvents = 'event4';\n",
              "                                         s.prop16 = '/webdocs/DataFiles/51035/apples.csv?v=490.1';\n",
              "                                         s.prop17 = 'File:Fruit and Vegetable Prices';\n",
              "                                         s.prop18 = 'File';\n",
              "                                         s.eVar15 = '/webdocs/DataFiles/51035/apples.csv?v=490.1';\n",
              "                                         s.eVar16 = 'File:Fruit and Vegetable Prices';\n",
              "                                         s.eVar17 = 'File';\n",
              "                                         s.events = 'event4';\n",
              "                                         s.tl(this, 'd', 'File:Fruit and Vegetable Prices');\" target=\"_blank\" title=\"Apples-Average retail price per pound or pint and per cup equivalent\"></a>\n",
              " <!--<a href=\"/webdocs/DataFiles/51035/apples.csv?v=490.1\" target=\"_blank\"></a>-->\n",
              " </td>\n",
              " <td class=\"text-center\" data-label=\"Last Updated\">7/11/2018</td>\n",
              " <td class=\"text-center\" data-label=\"Next Updated\"></td>\n",
              " </tr>]"
            ]
          },
          "metadata": {},
          "execution_count": 23
        }
      ]
    },
    {
      "cell_type": "markdown",
      "metadata": {
        "id": "Ba3tYIzFYIUD"
      },
      "source": [
        "---\n",
        "If you made it this far, follow [David Regalado](https://beacons.ai/davidregalado) for more code!"
      ]
    }
  ]
}