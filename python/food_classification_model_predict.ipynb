{
  "nbformat": 4,
  "nbformat_minor": 0,
  "metadata": {
    "colab": {
      "name": "food_classification_model_predict.ipynb",
      "provenance": [],
      "authorship_tag": "ABX9TyNWy9ZYKXaYYh6aESszqcbw",
      "include_colab_link": true
    },
    "kernelspec": {
      "name": "python3",
      "display_name": "Python 3"
    },
    "language_info": {
      "name": "python"
    }
  },
  "cells": [
    {
      "cell_type": "markdown",
      "metadata": {
        "id": "view-in-github",
        "colab_type": "text"
      },
      "source": [
        "<a href=\"https://colab.research.google.com/github/thecodemancer/study-with-me/blob/main/python/food_classification_model_predict.ipynb\" target=\"_parent\"><img src=\"https://colab.research.google.com/assets/colab-badge.svg\" alt=\"Open In Colab\"/></a>"
      ]
    },
    {
      "cell_type": "markdown",
      "source": [
        "![ceviche.avif](https://t1.rg.ltmcdn.com/es/posts/7/4/1/ceviche_peruano_18147_orig.jpg)"
      ],
      "metadata": {
        "id": "ZLaqSvZUkbrK"
      }
    },
    {
      "cell_type": "markdown",
      "source": [
        "# Overview\n",
        "\n",
        "This model is trained to recognize 2023 food dishes from images. It is based on MobileNet V1.\n",
        "\n",
        "# Input\n",
        "This model takes images as input.\n",
        "\n",
        "Inputs are expected to be 3-channel RGB color images of size 224 x 224, scaled to [0, 1].\n",
        "\n",
        "# Output\n",
        "This model outputs to image_classifier.\n",
        "\n",
        "image_classifier: A probability vector of dimension 2024, corresponding to a background class and one of 2023 food dishes in the labelmap.\n",
        "\n",
        "# Model architecture\n",
        "For details of the model architecture, see MobileNet V1.\n",
        "\n",
        "# Suitable usecases\n",
        "This model is trained to recognize 2023 food dishes. The training set includes entrees, side dishes, desserts, snacks, etc.\n",
        "\n",
        "# Unsuitable usecases\n",
        "Do not use this model to determine whether an object is edible or not.\n",
        "This model is not suitable for predicting the ingredients of a food dish. Do not use this model to predict allergen or nutrition information.\n",
        "\n",
        "# Known limitations\n",
        "This model assumes that its input image contains a well-cropped food dish. If a non-food image is input to the model or if the dish is not well-cropped, the output of the model may be meaningless.\n",
        "This model was trained on a dataset skewed toward North American foods."
      ],
      "metadata": {
        "id": "JVI1FWMnlftC"
      }
    },
    {
      "cell_type": "code",
      "execution_count": 179,
      "metadata": {
        "colab": {
          "base_uri": "https://localhost:8080/"
        },
        "id": "2I8EJu5KjQaa",
        "outputId": "fbd145a9-c81e-4f7a-b0b6-cbef2df5ffcf"
      },
      "outputs": [
        {
          "output_type": "stream",
          "name": "stdout",
          "text": [
            "INFO:tensorflow:Saver not created because there are no variables in the graph to restore\n"
          ]
        },
        {
          "output_type": "stream",
          "name": "stderr",
          "text": [
            "INFO:tensorflow:Saver not created because there are no variables in the graph to restore\n"
          ]
        }
      ],
      "source": [
        "# Import TF2 version\n",
        "import tensorflow.compat.v2 as tf\n",
        "import tensorflow_hub as hub\n",
        "\n",
        "m = hub.KerasLayer('https://tfhub.dev/google/aiy/vision/classifier/food_V1/1')"
      ]
    },
    {
      "cell_type": "code",
      "source": [
        "# Import other libraries\n",
        "import numpy as np\n",
        "import pandas as pd\n",
        "import cv2\n",
        "from skimage import io"
      ],
      "metadata": {
        "id": "d3apOD3-jUFB"
      },
      "execution_count": 180,
      "outputs": []
    },
    {
      "cell_type": "code",
      "source": [
        "mysterious_food_url = \"https://t1.rg.ltmcdn.com/es/posts/7/4/1/ceviche_peruano_18147_orig.jpg\" #ceviche\n",
        "#mysterious_food_url = \"https://imgmedia.buenazo.pe/1200x660/buenazo/original/2020/09/15/5f6108f5462f6040a51d2ac4.jpg\" #arroz con pollo\n",
        "#mysterious_food_url = \"https://finde.latercera.com/wp-content/uploads/2020/07/empanadas-entrada-listo-.jpg\" #empanada\n",
        "input_shape = (224, 224)"
      ],
      "metadata": {
        "id": "ijeXCt1WjdOS"
      },
      "execution_count": 181,
      "outputs": []
    },
    {
      "cell_type": "code",
      "source": [
        "image = np.asarray(io.imread(mysterious_food_url), dtype=\"float\")\n",
        "image"
      ],
      "metadata": {
        "colab": {
          "base_uri": "https://localhost:8080/"
        },
        "id": "94gkD1r-jga3",
        "outputId": "8047b9a6-17d9-4a18-fc04-46b7aa86726c"
      },
      "execution_count": 182,
      "outputs": [
        {
          "output_type": "execute_result",
          "data": {
            "text/plain": [
              "array([[[253., 253., 253.],\n",
              "        [253., 253., 253.],\n",
              "        [253., 253., 253.],\n",
              "        ...,\n",
              "        [239., 231., 242.],\n",
              "        [239., 231., 242.],\n",
              "        [239., 231., 242.]],\n",
              "\n",
              "       [[253., 253., 253.],\n",
              "        [253., 253., 253.],\n",
              "        [253., 253., 253.],\n",
              "        ...,\n",
              "        [239., 231., 242.],\n",
              "        [239., 231., 242.],\n",
              "        [239., 231., 242.]],\n",
              "\n",
              "       [[253., 253., 253.],\n",
              "        [253., 253., 253.],\n",
              "        [253., 253., 253.],\n",
              "        ...,\n",
              "        [239., 231., 242.],\n",
              "        [239., 231., 242.],\n",
              "        [239., 231., 242.]],\n",
              "\n",
              "       ...,\n",
              "\n",
              "       [[239., 238., 244.],\n",
              "        [240., 239., 245.],\n",
              "        [240., 239., 245.],\n",
              "        ...,\n",
              "        [204., 214., 224.],\n",
              "        [201., 211., 221.],\n",
              "        [207., 217., 227.]],\n",
              "\n",
              "       [[239., 238., 244.],\n",
              "        [240., 239., 245.],\n",
              "        [240., 239., 245.],\n",
              "        ...,\n",
              "        [205., 215., 225.],\n",
              "        [205., 215., 225.],\n",
              "        [208., 218., 228.]],\n",
              "\n",
              "       [[239., 238., 244.],\n",
              "        [240., 239., 245.],\n",
              "        [240., 239., 245.],\n",
              "        ...,\n",
              "        [204., 214., 224.],\n",
              "        [205., 215., 225.],\n",
              "        [205., 215., 225.]]])"
            ]
          },
          "metadata": {},
          "execution_count": 182
        }
      ]
    },
    {
      "cell_type": "code",
      "source": [
        "image = cv2.resize(image, dsize=input_shape, interpolation=cv2.INTER_CUBIC)\n",
        "image"
      ],
      "metadata": {
        "colab": {
          "base_uri": "https://localhost:8080/"
        },
        "id": "abqLjkS5ji0X",
        "outputId": "604ca3b3-9e2b-4691-dffa-99af151ad186"
      },
      "execution_count": 183,
      "outputs": [
        {
          "output_type": "execute_result",
          "data": {
            "text/plain": [
              "array([[[253.        , 253.        , 253.        ],\n",
              "        [253.        , 253.        , 253.        ],\n",
              "        [253.        , 253.        , 253.        ],\n",
              "        ...,\n",
              "        [240.        , 233.        , 240.        ],\n",
              "        [240.        , 233.        , 240.        ],\n",
              "        [239.        , 231.        , 242.        ]],\n",
              "\n",
              "       [[253.        , 253.        , 253.        ],\n",
              "        [253.        , 253.        , 253.        ],\n",
              "        [253.        , 253.        , 253.        ],\n",
              "        ...,\n",
              "        [240.        , 233.        , 240.        ],\n",
              "        [240.        , 233.        , 240.        ],\n",
              "        [239.        , 232.1038208 , 239.7923584 ]],\n",
              "\n",
              "       [[253.        , 253.        , 253.        ],\n",
              "        [253.        , 253.        , 253.        ],\n",
              "        [253.        , 253.        , 253.        ],\n",
              "        ...,\n",
              "        [240.        , 233.        , 240.        ],\n",
              "        [240.        , 233.        , 240.        ],\n",
              "        [239.00000918, 232.00000918, 239.95032656]],\n",
              "\n",
              "       ...,\n",
              "\n",
              "       [[238.49330229, 237.49330229, 243.49330229],\n",
              "        [236.90151119, 235.90151119, 241.90151119],\n",
              "        [237.46674104, 236.46674104, 242.46674104],\n",
              "        ...,\n",
              "        [195.60239624, 205.60239624, 215.60239624],\n",
              "        [197.24551665, 207.24551665, 217.24551665],\n",
              "        [208.83372665, 218.83372665, 228.83372665]],\n",
              "\n",
              "       [[239.40489107, 238.40489107, 244.40489107],\n",
              "        [237.80148836, 236.80148836, 242.80148836],\n",
              "        [237.20077379, 236.20077379, 242.20077379],\n",
              "        ...,\n",
              "        [194.94108636, 204.94108636, 214.94108636],\n",
              "        [202.05100674, 212.05100674, 222.05100674],\n",
              "        [191.48718905, 201.48718905, 211.48718905]],\n",
              "\n",
              "       [[240.09204674, 239.09204674, 245.09204674],\n",
              "        [238.47989118, 237.47989118, 243.47989118],\n",
              "        [237.        , 236.        , 242.        ],\n",
              "        ...,\n",
              "        [207.45953633, 217.45953633, 227.45953633],\n",
              "        [209.32308257, 219.32308257, 229.32308257],\n",
              "        [204.84759767, 214.84759767, 224.84759767]]])"
            ]
          },
          "metadata": {},
          "execution_count": 183
        }
      ]
    },
    {
      "cell_type": "code",
      "source": [
        "# Scale values to [0, 1].\n",
        "image = image / image.max()\n",
        "image"
      ],
      "metadata": {
        "colab": {
          "base_uri": "https://localhost:8080/"
        },
        "id": "qiTjCP9ljqE6",
        "outputId": "44a5fb2e-b971-4ae9-d177-703f95be0a13"
      },
      "execution_count": 184,
      "outputs": [
        {
          "output_type": "execute_result",
          "data": {
            "text/plain": [
              "array([[[0.9345038 , 0.9345038 , 0.9345038 ],\n",
              "        [0.9345038 , 0.9345038 , 0.9345038 ],\n",
              "        [0.9345038 , 0.9345038 , 0.9345038 ],\n",
              "        ...,\n",
              "        [0.88648582, 0.86062998, 0.88648582],\n",
              "        [0.88648582, 0.86062998, 0.88648582],\n",
              "        [0.88279213, 0.8532426 , 0.8938732 ]],\n",
              "\n",
              "       [[0.9345038 , 0.9345038 , 0.9345038 ],\n",
              "        [0.9345038 , 0.9345038 , 0.9345038 ],\n",
              "        [0.9345038 , 0.9345038 , 0.9345038 ],\n",
              "        ...,\n",
              "        [0.88648582, 0.86062998, 0.88648582],\n",
              "        [0.88648582, 0.86062998, 0.88648582],\n",
              "        [0.88279213, 0.85731978, 0.88571886]],\n",
              "\n",
              "       [[0.9345038 , 0.9345038 , 0.9345038 ],\n",
              "        [0.9345038 , 0.9345038 , 0.9345038 ],\n",
              "        [0.9345038 , 0.9345038 , 0.9345038 ],\n",
              "        ...,\n",
              "        [0.88648582, 0.86062998, 0.88648582],\n",
              "        [0.88648582, 0.86062998, 0.88648582],\n",
              "        [0.88279216, 0.85693633, 0.88630234]],\n",
              "\n",
              "       ...,\n",
              "\n",
              "       [[0.88092054, 0.87722685, 0.899389  ],\n",
              "        [0.87504096, 0.87134727, 0.89350942],\n",
              "        [0.87712874, 0.87343505, 0.8955972 ],\n",
              "        ...,\n",
              "        [0.72249479, 0.7594317 , 0.79636861],\n",
              "        [0.72856397, 0.76550088, 0.80243779],\n",
              "        [0.77136724, 0.80830415, 0.84524106]],\n",
              "\n",
              "       [[0.88428767, 0.88059398, 0.90275613],\n",
              "        [0.8783652 , 0.87467151, 0.89683365],\n",
              "        [0.87614634, 0.87245265, 0.8946148 ],\n",
              "        ...,\n",
              "        [0.72005212, 0.75698903, 0.79392594],\n",
              "        [0.74631397, 0.78325088, 0.82018779],\n",
              "        [0.70729449, 0.7442314 , 0.78116831]],\n",
              "\n",
              "       [[0.88682581, 0.88313212, 0.90529427],\n",
              "        [0.88087101, 0.87717732, 0.89933946],\n",
              "        [0.87540475, 0.87171106, 0.8938732 ],\n",
              "        ...,\n",
              "        [0.76629141, 0.80322831, 0.84016522],\n",
              "        [0.77317477, 0.81011168, 0.84704859],\n",
              "        [0.75664371, 0.79358062, 0.83051753]]])"
            ]
          },
          "metadata": {},
          "execution_count": 184
        }
      ]
    },
    {
      "cell_type": "code",
      "source": [
        "# The model expects an input of (?, 224, 224, 3).\n",
        "images = np.expand_dims(image, 0)\n",
        "images"
      ],
      "metadata": {
        "colab": {
          "base_uri": "https://localhost:8080/"
        },
        "id": "w69YuxrCjuWz",
        "outputId": "527fd058-958f-4850-8e9c-2a4f49ecc277"
      },
      "execution_count": 185,
      "outputs": [
        {
          "output_type": "execute_result",
          "data": {
            "text/plain": [
              "array([[[[0.9345038 , 0.9345038 , 0.9345038 ],\n",
              "         [0.9345038 , 0.9345038 , 0.9345038 ],\n",
              "         [0.9345038 , 0.9345038 , 0.9345038 ],\n",
              "         ...,\n",
              "         [0.88648582, 0.86062998, 0.88648582],\n",
              "         [0.88648582, 0.86062998, 0.88648582],\n",
              "         [0.88279213, 0.8532426 , 0.8938732 ]],\n",
              "\n",
              "        [[0.9345038 , 0.9345038 , 0.9345038 ],\n",
              "         [0.9345038 , 0.9345038 , 0.9345038 ],\n",
              "         [0.9345038 , 0.9345038 , 0.9345038 ],\n",
              "         ...,\n",
              "         [0.88648582, 0.86062998, 0.88648582],\n",
              "         [0.88648582, 0.86062998, 0.88648582],\n",
              "         [0.88279213, 0.85731978, 0.88571886]],\n",
              "\n",
              "        [[0.9345038 , 0.9345038 , 0.9345038 ],\n",
              "         [0.9345038 , 0.9345038 , 0.9345038 ],\n",
              "         [0.9345038 , 0.9345038 , 0.9345038 ],\n",
              "         ...,\n",
              "         [0.88648582, 0.86062998, 0.88648582],\n",
              "         [0.88648582, 0.86062998, 0.88648582],\n",
              "         [0.88279216, 0.85693633, 0.88630234]],\n",
              "\n",
              "        ...,\n",
              "\n",
              "        [[0.88092054, 0.87722685, 0.899389  ],\n",
              "         [0.87504096, 0.87134727, 0.89350942],\n",
              "         [0.87712874, 0.87343505, 0.8955972 ],\n",
              "         ...,\n",
              "         [0.72249479, 0.7594317 , 0.79636861],\n",
              "         [0.72856397, 0.76550088, 0.80243779],\n",
              "         [0.77136724, 0.80830415, 0.84524106]],\n",
              "\n",
              "        [[0.88428767, 0.88059398, 0.90275613],\n",
              "         [0.8783652 , 0.87467151, 0.89683365],\n",
              "         [0.87614634, 0.87245265, 0.8946148 ],\n",
              "         ...,\n",
              "         [0.72005212, 0.75698903, 0.79392594],\n",
              "         [0.74631397, 0.78325088, 0.82018779],\n",
              "         [0.70729449, 0.7442314 , 0.78116831]],\n",
              "\n",
              "        [[0.88682581, 0.88313212, 0.90529427],\n",
              "         [0.88087101, 0.87717732, 0.89933946],\n",
              "         [0.87540475, 0.87171106, 0.8938732 ],\n",
              "         ...,\n",
              "         [0.76629141, 0.80322831, 0.84016522],\n",
              "         [0.77317477, 0.81011168, 0.84704859],\n",
              "         [0.75664371, 0.79358062, 0.83051753]]]])"
            ]
          },
          "metadata": {},
          "execution_count": 185
        }
      ]
    },
    {
      "cell_type": "code",
      "source": [
        "output = m(images)\n",
        "print(output)"
      ],
      "metadata": {
        "colab": {
          "base_uri": "https://localhost:8080/"
        },
        "id": "qarFAM5jjznP",
        "outputId": "875090de-f348-4f59-a9b9-7c51ad88e4fc"
      },
      "execution_count": 186,
      "outputs": [
        {
          "output_type": "stream",
          "name": "stdout",
          "text": [
            "tf.Tensor(\n",
            "[[1.3755466e-11 3.1406493e-08 4.5174867e-10 ... 2.1996420e-09\n",
            "  8.2277585e-10 9.7932712e-12]], shape=(1, 2024), dtype=float32)\n"
          ]
        }
      ]
    },
    {
      "cell_type": "code",
      "source": [
        "predicted_index = output.numpy().argmax()\n",
        "print(predicted_index)"
      ],
      "metadata": {
        "colab": {
          "base_uri": "https://localhost:8080/"
        },
        "id": "m7sm8bXjj5zg",
        "outputId": "5a7dfc44-41c6-46d7-904e-ee3256f71bb8"
      },
      "execution_count": 187,
      "outputs": [
        {
          "output_type": "stream",
          "name": "stdout",
          "text": [
            "1923\n"
          ]
        }
      ]
    },
    {
      "cell_type": "code",
      "source": [
        "df = pd.read_csv(labelmap_url)\n",
        "print(df.head())"
      ],
      "metadata": {
        "colab": {
          "base_uri": "https://localhost:8080/"
        },
        "id": "MG57maIuj-KB",
        "outputId": "cbfb1e43-2879-4c08-b2da-12b045b14811"
      },
      "execution_count": 188,
      "outputs": [
        {
          "output_type": "stream",
          "name": "stdout",
          "text": [
            "   id               name\n",
            "0   0     __background__\n",
            "1   1            Chaudin\n",
            "2   2         Bambalouni\n",
            "3   3            Ghoriba\n",
            "4   4  Mango sticky rice\n"
          ]
        }
      ]
    },
    {
      "cell_type": "code",
      "source": [
        "df.loc[1923]"
      ],
      "metadata": {
        "colab": {
          "base_uri": "https://localhost:8080/"
        },
        "id": "zwnZYD58rCMC",
        "outputId": "53d61ea1-5013-4bdc-ed52-3c2a36bb4bb1"
      },
      "execution_count": 189,
      "outputs": [
        {
          "output_type": "execute_result",
          "data": {
            "text/plain": [
              "id         1923\n",
              "name    Ceviche\n",
              "Name: 1923, dtype: object"
            ]
          },
          "metadata": {},
          "execution_count": 189
        }
      ]
    },
    {
      "cell_type": "code",
      "source": [
        "df.loc[1394]"
      ],
      "metadata": {
        "colab": {
          "base_uri": "https://localhost:8080/"
        },
        "id": "ypX1fRSvrb_i",
        "outputId": "e4345731-444b-4119-8bf0-943463479ae7"
      },
      "execution_count": 190,
      "outputs": [
        {
          "output_type": "execute_result",
          "data": {
            "text/plain": [
              "id                 1394\n",
              "name    Arroz con pollo\n",
              "Name: 1394, dtype: object"
            ]
          },
          "metadata": {},
          "execution_count": 190
        }
      ]
    },
    {
      "cell_type": "code",
      "source": [
        "df.loc[470]"
      ],
      "metadata": {
        "colab": {
          "base_uri": "https://localhost:8080/"
        },
        "id": "cxHUxa6ErJRj",
        "outputId": "4b271b06-7cf4-435c-8b6f-88ddc3cdba38"
      },
      "execution_count": 191,
      "outputs": [
        {
          "output_type": "execute_result",
          "data": {
            "text/plain": [
              "id           470\n",
              "name    Empanada\n",
              "Name: 470, dtype: object"
            ]
          },
          "metadata": {},
          "execution_count": 191
        }
      ]
    },
    {
      "cell_type": "code",
      "source": [
        "classes = list(df[\"name\"])\n",
        "print(classes)"
      ],
      "metadata": {
        "colab": {
          "base_uri": "https://localhost:8080/"
        },
        "id": "7yWllK_qq71b",
        "outputId": "57f8d65f-dfcb-438c-eb68-49060c6790a6"
      },
      "execution_count": 192,
      "outputs": [
        {
          "output_type": "stream",
          "name": "stdout",
          "text": [
            "['__background__', 'Chaudin', 'Bambalouni', 'Ghoriba', 'Mango sticky rice', 'Jianbing', 'Aguachile', 'Carrozza', 'Miyan kuka', 'Efo riro', 'Ayam masak merah', 'Chiffon pie', '/g/11b8_rxx4d', 'Riso patate e cozze', 'Bazin', 'Black bottom pie', 'Palóc soup', 'Sailor sandwich', 'Tuwo shinkafa', 'Carne a la tampiqueña', 'Pastel azteca', 'Fujian red wine chicken', 'Boeber', 'Lady Baltimore cake', 'Yam khai dao', 'Texas Tommy', 'Har cheong gai', 'Kolokythopita', 'Karydopita', 'Rinflajš', 'Hainanese curry rice', 'Sonoran hot dog', '/g/11cfty6q3', 'Afghani burger', 'Teochew porridge', 'Minestra di ceci', 'Pastrami on rye', 'Roast beef sandwich', 'Chahan', 'Ekuru', 'Sciusceddu', 'Breakfast burrito', '/g/11dyjj24g', 'Sausage Stroganoff', 'Roti jala', 'Pirao', 'Casatiello', 'Khanom tan', 'Muamba chicken', 'Dobradinha', 'Bruckfleisch', 'Molote', 'Spongata', 'Funge', '/g/1212ghsj', 'Köttbullar', \"Ka'ak\", 'Papet vaudois', '/g/12148tdg', 'Prosciutto di Norcia', 'Malloreddus', '/g/1214g6v_', 'Pannenkoek', 'Dirty macaroni', '/g/12175t2y', 'Garlic butter shrimp', 'Fricasse', 'Stracciatella', '/g/121b74wr', 'Sartù', 'Matelote', 'Baodu', 'Mattentaart', 'Cartellate', 'Gyeran-ppang', 'Torta Pasqualina', 'Caltaboș', 'Khanom mo kaeng', 'Suimono', 'Dimlama', 'Tavë Kosi', '/g/121p63r3', '/g/121slhcd', 'Kalach', 'Jambon persillé', 'Pork Bones', 'Pozharsky cutlet', 'Roccocò', 'Feijão de óleo de palma', 'Calulu', \"Bey's Soup\", '/g/1226mnbh', 'Thịt kho tàu', 'Bon bon chicken', 'Zoque', 'Bint al-sahn', 'Tempoyak', 'Puran poli', '/g/122m40vc', 'Chueo-tang', 'Naem', '/g/122qyvy7', '/g/122rd60t', 'Pizokel', '/g/122vxtxs', 'Schiacciata', 'Daheen', 'Chapssal-tteok', '/g/123267k_', 'Crescentina modenese', 'Pansotti', 'Fried eggplant', 'Portuguese seafood rice', 'Tripes à la mode de Caen', '/g/12353lp9', 'Brenebon', 'Gnocco fritto', '/g/12384pzv', 'Tahu tek-tek', 'Bibikkan', 'Squid tongseng', '/g/12fgs6199', 'Bundevara', 'Sop saudara', '/g/155q8w2m', 'Erbazzone', 'Kisra', 'Meat from tiblica', '/g/1hc0hhj4r', 'Yufka', 'Pisarei e faśö', '/g/1pznmr_ch', 'Pampushka', 'Makowiec', 'Saleeg', '/m/0100fwt6', 'Jókai bean soup', 'Bookbinder soup', 'Selat solo', 'Kutsinta', 'Sago soup', 'Vinegret', 'Shrimp and grits', 'Sirop de Liège', 'Woku', 'Muhallebi', 'Gepuk', 'Fouée', 'Octopus', 'Koba', 'Bò lúc lắc', \"Squid lū'au\", 'Shrimp Louie', 'Black pudding', 'Cherry kebab', 'Pitsi-pitsî', 'Sabich salad', 'Mie kocok', 'Maraca pie', 'Banga', 'Baccalà alla lucana', 'Nasi tumpang', 'Gratin dauphinois', 'Arroz chaufa', 'Kuih', 'Ayam goreng', 'Chongos zamoranos', '/m/011c708', 'Mămăligă', 'Candied almonds', 'Lasagne', 'Pecel Lele', 'Lettuce soup', 'Acquacotta', 'Pork blood soup', '/m/011sq8kg', 'Buridda', 'Maccu', 'Turkey Devonshire', 'Ginestrata', 'Garmugia', 'Meringue', 'Peanut butter and jelly sandwich', 'Couque de Dinant', 'Omo tuo', 'Thapthim krop', 'Pie tee', 'Sutarfeni', 'Raclette', 'Wotou', 'Punugulu', 'Succotash', 'Chim chum', 'Wachipa', 'Boat noodles', 'Tantuni', 'Shab Deg', 'Chả giò', 'Ciabatta Bacon Cheeseburger', 'Mie kangkung', 'Tuwo masara', 'Kokonte', 'Akple', '/m/012vypzp', 'Kwareżimal', 'Bento', 'Osechi', 'Okonomiyaki', 'Miso soup', 'Dango', 'Onigiri', 'Hiyayakko', 'Tempura', 'Mochi', 'Peppersoup', 'Caldo de queso', 'Dodo ikire', 'Uirō', 'Hong dou tang', 'Kakigōri', 'Khichu', 'Bolo de arroz', 'Chips and dip', 'Murgh musallam', 'Utica greens', 'Zaalouk', 'Mutton curry', 'Mughlai paratha', 'Tuo Zaafi', 'Bánh bột lọc', '/m/013f387h', 'Cheeseburger', 'Jelly bean', 'Apple pie', 'Udon', 'Falafel', 'Agedashi dōfu', 'Dashi', 'Tortell', 'Omelette', 'Crème brûlée', 'Cucumber soup', 'French toast', 'Tripe', 'Pepperoni', 'Salami', 'Kimchi', 'Knödel', 'Takoyaki', 'Halva', 'Pigs in a blanket', 'Spanakopita', 'Pumpkin pie', 'Jambalaya', 'Club sandwich', 'Churro', 'Turducken', 'Welsh rarebit', 'Hot dog', 'Oyakodon', 'Meatball', 'Waldorf salad', 'Potato salad', 'Satay', 'Pemmican', 'Mämmi', 'Fideuà', 'Waffle', 'Pancake', 'Quiche', 'Borscht', 'Bratwurst', 'Foie gras', 'Burrito', 'Goulash', 'Spotted dick', 'Coq au vin', 'Ratatouille', 'Cornbread', 'Souvlaki', 'Chow mein', 'Roast beef', 'Peking duck', 'Fried chicken', 'Croquembouche', 'Tahini', 'Gumbo', 'Fajita', 'Chicken fried steak', 'Sukiyaki', 'Scrapple', 'Chili con carne', 'Monte Cristo sandwich', 'Kielbasa', 'Polenta', 'Reuben sandwich', \"S'more\", 'Andouille', 'Beignet', 'Crêpe', 'Gulai', 'Breakfast sausage', 'Chorizo', 'Gyro', 'Nachos', 'Larb', 'Couscous', 'Meze', 'Cheesesteak', 'Frozen yogurt', 'Injera', 'Muesli', 'Meatloaf', 'Fuet', 'Nattō', 'Banana split', 'Pączki', 'Pound cake', 'Fuqi feipian', 'Nasi lemak', 'Flan', 'Pad thai', 'Yakitori', 'Amanattō', 'Tom kha kai', 'Lokma', 'Mooncake', 'Idli', 'Spätzle', 'Nopalito', 'Sincronizada', 'Žganci', 'Totopo', 'Folar', 'Cherry pie', 'Umeboshi', 'Patty', 'Saltah', 'Khinkali', 'Shkedei marak', 'Tekkadon', 'Chadachadi', 'Kaipen', 'Draw soup', 'Shahan ful', 'Shiro', \"Ga'at\", 'Skordalia', 'Budae jjigae', 'Anju', 'Fried Coke', 'Lemang', 'Basundi', 'Brown Betty', 'Khabees', 'Kottu', 'Isterband', 'Ciauscolo', 'Khatkhate', 'Pan de muerto', 'Caponata', '/m/0267f9w', 'Sabaayad', 'Miyeok-guk', 'Imoni', 'Pitha', 'Kedgeree', 'Bife a cavalo', 'Yaki udon', 'She-crab soup', 'Koozh', 'Keşkek', 'Cabidela', 'Gerber sandwich', 'Zagorski Štrukli', 'Himbasha', 'Sataraš', 'Kakuni', 'Enormous Omelet Sandwich', 'Turrón', 'Tsukudani', 'Hawaiian haystack', 'Kateh', 'Stoemp', 'Pajeon', 'Ġbejna', 'Kaya toast', 'Fit-fit', 'Kitcha', 'Thalipeeth', 'Figgy pudding', 'Cachupa', 'Cherries jubilee', 'Crappit heid', 'Mince and tatties', 'Anadama bread', 'Carbonara', 'Kladdkaka', 'Shakshouka', 'Chicken Vesuvio', 'Jibarito', 'Chicken Divan', 'Motsunabe', 'Sonofabitch stew', 'Corn pudding', 'Johnny Marzetti', 'Mostarda', 'Maafe', 'Churma', 'Chole bhature', 'Dobos torte', 'Carne de porco à alentejana', 'Khao soi', 'Kissel', 'Cottage loaf', 'Silver needle noodles', 'Shrimp DeJonghe', 'Kiritanpo', 'Bean pie', 'Churchkhela', 'Yahni', 'Gringas', 'Annin tofu', 'Jiaozi', 'Breakfast sandwich', 'Tanghulu', 'Black sesame soup', 'Gougère', 'Namul', 'Kosambari', \"Ma'amoul\", 'Caldo de pollo', 'Loukaniko', 'Doberge cake', 'Nasi campur', 'Snack cake', 'Taiyaki', 'Karnıyarık', 'Pierogi', 'Macaroni and cheese', 'Huevos motuleños', 'Chislic', 'Corn dog', 'Shawarma', 'Zongzi', 'Dumpling', 'Syrniki', 'King cake', 'Soufflé', 'Gyūdon', 'Chicken nugget', 'Bulgogi', 'Eggs Benedict', 'Hot dry noodles', 'Mashed potato', 'Anpan', 'Quesadilla', 'Youtiao', 'Congee', 'Sekihan', 'Semla', 'Arctic roll', 'Castella', 'Hanabiramochi', 'Falukorv', 'Ketupat', 'Rendang', 'Chocolate brownie', 'Mapo doufu', 'Chinese noodles', 'Empanada', 'Fried rice', 'Chicago-style pizza', 'Cuban sandwich', 'Tarte Tatin', 'Yakisoba', 'Dagwood sandwich', 'Cheesecake', 'Samosa', \"Devil's food cake\", 'Shashlik', 'Horseshoe sandwich', 'City chicken', 'Key lime pie', 'Potato skins', 'Haejang-guk', 'Burmese tofu', 'Shumai', 'Sour cherry soup', 'Gigandes plaki', 'Majboos', 'Chicken curry', 'Shrimp Creole', 'Pork tenderloin sandwich', 'Dampfnudel', 'Finnan haddie', 'Kenkey', 'Pincho', 'Gundruk', 'Chilorio', 'Koulourakia', 'Bryndzové halušky', 'Imagawayaki', 'Vasilopita', 'Strapačky', \"Po' boy\", 'Capirotada', 'Beef Manhattan', 'Sandwich loaf', 'Jian dui', 'Almond biscuit', 'West Slavic fermented cereal soups', 'Fried plantain', 'Stuffed peppers', 'Piperade', 'Rogan josh', 'Fabada asturiana', 'Potato wedges', 'Calisson', 'Prawn ball', 'Kushikatsu', 'Lo mai chi', 'Manchet', 'Leek soup', 'Vanillerostbraten', 'Hangtown fry', 'Cabbie claw', 'Chitranna', 'Ragi mudde', 'Denver sandwich', 'Laverbread', 'Elote', 'Kulolo', 'Oxtail soup', 'Pantua', 'Corn relish', 'Pogača', 'Qubani-ka-Meetha', 'Boondi', 'Arrosticini', 'Panelle', 'Santula', 'Tofu skin roll', 'Crispy fried chicken', 'Steamed meatball', 'Lobio', 'Suman', 'Hōtō', 'Matbukha', '/m/02rgjs1', 'Açorda', 'Makdous', 'Soto', 'Frangollo', 'Patty melt', 'Taro dumpling', 'Entomatada', 'Bánh cuốn', 'Corunda', 'Zhaliang', 'Cassoulet', 'Debrecener', 'Scampi', 'Pilaf', 'Sambar', 'Century egg', 'Escargot', 'Cong you bing', 'Beef noodle soup', 'Magiritsa', 'Gugelhupf', 'Sachima', 'White rice', 'Maultasche', 'American chop suey', 'Fish slice', 'Sea cucumber', 'Beef ball', 'Siu yuk', 'Seafood birdsnest', 'White cut chicken', '/m/02vwryj', 'Satsivi', 'Malpua', 'Chhena gaja', 'Flying Jacob', 'Steak de Burgo', 'Crab Louie', 'Butter chicken', 'Amok trey', 'Menemen', 'Piadina', 'Orange cuttlefish', 'Fudge', 'Cottage Pudding', 'Meatcake', 'Buttermilk pie', 'Kalamay', 'Puto', 'Dal makhani', 'Mixiote', 'Bagel dog', 'Bún riêu', 'Feijoada', 'Pho', 'Milk toast', 'Liver and onions', 'Iced bun', 'Sheer khurma', 'Yi mein', 'Shrimp roe noodles', 'Lai fun', 'Oil noodles', 'Kal-guksu', 'Youmian', 'Avgolemono', 'Pork roll', 'Tart', 'Leberkäse', 'Kalakukko', 'Mustamakkara', 'Baba ghanoush', 'Karelian pasty', 'Shortcake', 'Profiterole', 'Moussaka', 'Dulce de leche', 'Blaa', 'Risotto', 'Funnel cake', 'Fried dough', 'Consommé', 'Clam chowder', 'Tartiflette', 'Red curry', 'Tandoori chicken', 'Gazpacho', 'Prosciutto', 'Boerewors', 'Baked potato', 'Bouillabaisse', 'Kralan', 'Chireta', 'Bakewell tart', 'Grits', 'Shaved ice', 'Choco pie', 'Cumian', 'Jokbal', 'Grillades', 'Hotteok', 'Ezogelin soup', 'Knedle', 'Masgouf', 'Sope', 'Coconut rice', 'Bakarkhani', 'Asida', 'Dirt cake', 'Sel roti', 'Kalakand', 'Ghevar', 'Sussex pond pudding', 'Lontong', 'Bánh bèo', 'Pringá', 'Bull roast', 'Stuffed ham', 'Lablabi', 'Gooey butter cake', 'Carciofi alla giudia', 'Yin si juan', 'Babi panggang', 'Chao hong guo', 'Fun guo', 'Khira sagara', 'Coconut bar', 'Sundae', 'Tuna fish sandwich', 'Zhangcha duck', 'Marry girl cake', 'Frijoles charros', 'Rosca de reyes', 'Happy Faces', 'Deviled crab', 'Sundubu-jjigae', 'Sinseollo', 'Dongchimi', 'Nabak-kimchi', 'Dhondas', 'Soan papdi', 'Baek-kimchi', 'Chicken riggies', 'Afelia', 'Gulyásleves', 'Marie biscuit', 'Café liégeois', 'Chè', 'Pootharekulu', 'Escalope', 'Rajma', 'Beshbarmak', 'Torta Tre Monti', 'French dip', 'Pumpkin-coconut custard', 'Rose hip soup', 'Veggie burger', 'Steak tartare', 'Bologna sausage', 'Pâté', 'Bibimbap', 'Shahi paneer', 'Fufu', 'Pyttipanna', 'Chicken sandwich', 'Ghari', 'Michigan salad', 'Cabinet pudding', 'American fried rice', 'Korovai', 'Churrasco', 'Pasulj', 'Mitraillette', 'Salată de boeuf', 'Rice pudding', 'Rösti', 'Naryn', 'Kaldereta', 'Makroudh', 'Kachumbari', 'Tsukemono', 'Cheese fries', 'Slatko', 'Qatayef', 'Passatelli', 'Sweet potato soup', 'Shchi', 'Kulfi', 'Dolma', 'Kai yang', 'Shark fin soup', 'Pozole', 'Pakora', 'Chantilly cake', 'Krówki', 'Russian tea cake', 'Ox-tongue pastry', 'Sachertorte', 'Palitaw', 'Jolpan', 'Mantou', 'Finger steaks', 'Steak sandwich', 'Talo', 'Erkuai', 'Mixian', 'St. Louis-style pizza', 'Moambe', 'Upma', 'Panjiri', 'Eggs Sardou', 'Shanghai fried noodles', 'Quarkkäulchen', 'Cupcake', 'Snickerdoodle', 'Farl', 'Coleslaw', 'Calas', 'Beef Stroganoff', 'Shimotsukare', 'Squab', 'Basbousa', 'Watalappam', 'Tepsi baytinijan', 'Kuli-kuli', 'Shabu-shabu', 'Sundae', 'Fried brain sandwich', 'Rollmops', 'Higashi', 'Panna cotta', 'Aloo gobi', 'Aspic', 'Obatzda', 'Gulab jamun', 'Tuna casserole', 'Ribollita', 'Chomchom', 'Rassolnik', 'Jeongol', 'Cantonese seafood soup', 'Eggplant Salad', 'Kürtőskalács', 'Pölsa', 'Lobster roll', 'Sloppy joe', 'Schnitzel', 'Bacalhau', 'Sfenj', 'Menudo', 'Gujia', 'Liver soup', 'Panocha', 'Chakapuli', 'Sklandrausis', 'Liver pâté', 'Rullepølse', 'Frikadeller', 'Frikandel', 'Cinnamon roll', 'Scotch pie', 'Hot wiener', 'Wodzionka', 'Greek salad', 'Raita', \"Dong'an chicken\", 'Boortsog', 'Coca', 'Champon', 'Tabbouleh', 'Korokke', 'Chile relleno', 'Brandade', 'Hoppang', 'Gozinaki', 'Lazarakia', 'Puff Puff', 'Fatteh', 'Speculaas', 'Karasumi', 'Brandy snaps', 'Trdelník', 'Cocido madrileño', 'Red velvet cake', 'Kringle', 'Quenelle', 'Toasted ravioli', 'Tajine', 'Cranachan', 'Rusk', 'Mille-feuille', 'Acorn noodle soup', 'Gachas', 'Jingisukan', 'Thekua', 'Ghugni', 'Tarama', 'Italian beef', 'Challah', 'Fried ice cream', 'Onion ring', 'Smoked meat', 'Dahi vada', 'Mother-in-law', 'Blondie', 'Guk', 'Hiyashi chūka', 'Sweet shells', 'Salisbury steak', 'Poffertjes', 'Eggs Neptune', 'Galbi-jjim', 'Agwi-jjim', 'Ladob', 'Instant-boiled mutton', 'Cincalok', 'Jook-sing noodles', 'Potbrood', 'Burkinabe cuisine', 'Taralli', 'Carbonade flamande', 'Xôi', 'Sauerbraten', 'Spiedie', 'Gimbap', 'Czernina', 'Kroppkaka', \"Buddha's delight\", 'Pain au chocolat', 'Goetta', 'German chocolate cake', 'Melt sandwich', 'Popiah', 'Haleem', 'Hornazo', 'Janchi-guksu', 'Kipper', 'Bossam', 'Arbroath smokie', 'Bologna sandwich', 'Cobbler', 'Kouign-amann', 'Char kway teow', 'Rostbrätel', 'Doenjang-jjigae', 'Tharid', 'Hainanese chicken rice', 'Bak kut teh', 'Cabbage roll', 'Runza', 'Bananas Foster', 'Kozhukkatta', 'Kūčiukai', 'Smørrebrød', 'Kutia', 'Deviled egg', 'Buchteln', 'Apple strudel', 'Wonton', 'Chess pie', 'Pirozhki', 'Douzhi', 'Macaroni soup', 'Crossing-the-bridge noodles', 'Lechazo', 'Rolled oyster', 'Asam pedas', 'Mi krop', 'Patoleo', 'Rigó Jancsi', 'Ollada', 'Garbure', 'Sabudana Khichadi', 'Potée', 'Phanaeng curry', 'Madeleine', 'Mashed pumpkin', 'Suet pudding', 'Bombay mix', 'Namagashi', 'Struffoli', 'Dak-galbi', 'Chuchvara', 'Misal', 'Patatnik', 'Yuxiang', 'Frozen banana', 'Psarosoupa', 'Mekitsa', 'Sanna', 'Qazı', 'Sorbetes', \"Potatoes O'Brien\", 'Tom yum', 'Balushahi', 'Arroz a la cubana', 'Jalebi', 'Sopaipilla', 'Ukha', 'Svíčková', 'Túrós csusza', 'Pinnekjøtt', 'Salty liquorice', 'Lemon ice box pie', 'Knickerbocker glory', 'Zhajiangmian', 'Cobb salad', 'Misua', 'Shoofly pie', 'Bhakri', 'Apple cake', 'Orange chicken', 'Jamón serrano', 'Bundt cake', 'Bara brith', 'Hot pot', 'Kung Pao chicken', 'Mulukhiyah', 'Piti', 'Double ka meetha', 'Choila', 'Moustalevria', 'Arizona cheese crisp', 'Rice Krispies Treats', 'Liangpi', 'Prinskorv', 'Salmorejo', 'Chicken Française', 'Fläskkorv', 'Glorified rice', '/m/04zzsvg', 'Stinky tofu', 'Muffuletta', 'Soy sauce chicken', 'Chicken fingers', 'Pecan pie', 'Eba', 'Parfait', 'Ndolé', 'Cheese sandwich', \"Carne de vinha d'alhos\", 'Bob Andy pie', 'Cincinnati chili', 'Frico', 'Tapioca pudding', 'Minestrone', 'Boxty', 'Naengmyeon', 'Seven-layer salad', '/m/0553tg', 'Cawl', 'Chocolate pudding', 'Hotdish', 'Ciccioli', 'Douhua', 'Berliner', 'Fried fish', 'Apple crisp', 'Boudin', 'Yusheng', 'Babka', 'Pizzoccheri', 'Welsh cake', 'Parker House roll', 'Tripe soup', 'Chimichanga', 'Jucy Lucy', 'Dodger Dog', 'Pastiera', 'Huarache', 'Solkadhi', 'Schupfnudel', 'Waldorf pudding', 'Harees', 'Ash reshteh', 'Celery Victor', 'Diples', 'Kompot', 'French onion soup', 'Tres leches cake', 'Torta caprese', 'Black Forest gateau', 'Pâté aux pommes de terre', 'Lâpa', 'Bündner Nusstorte', 'Hachee', 'Spaghetti aglio e olio', 'Whoopie pie', 'Ais kacang', 'Chermoula', 'Gado-gado', 'Merguez', 'Snickers salad', 'Giouvetsi', 'Kharcho', 'Chicken fried bacon', 'Dessert bar', 'Coulibiac', 'Thieboudienne', 'Rabri', 'Sapin-sapin', 'Sealed crustless sandwich', 'Carne asada', 'Coyotas', 'Chocolate-covered bacon', 'Stroopwafel', 'Gravlax', 'Pot pie', 'Ghormeh sabzi', 'Surf and turf', 'Brunswick stew', 'Mititei', 'Fluffernutter', 'Khaja', 'Stottie cake', 'London broil', 'Fasolada', 'Strudel', 'Øllebrød', 'Tamago kake gohan', 'Hot water corn bread', 'Philippine adobo', 'Hulatang', 'Dyrlægens natmad', 'Chistorra', 'Polkagris', 'Galbi-tang', 'Mrouzia', 'Gopchang-jeongol', 'Miang kham', 'Clams casino', 'Nanbanzuke', 'Dripping cake', 'Cookie salad', 'Usal', 'Mandu-guk', 'Smalahove', 'Kokis', 'Ori-tang', 'Pakhala', 'Cream pie', 'Butajiru', 'New England boiled dinner', 'Chhena jalebi', 'Pastitsio', 'Panucho', 'Chhena kheeri', 'Kifli', 'Solyanka', 'Sadhya', 'Cullen skink', 'Havregrynskugle', 'Harira', 'Cornish game hen', 'Beef on weck', 'Tompouce', 'Caldo de siete mares', 'Millionbøf', 'Chicago-style hot dog', 'Risalamande', 'Alinazik kebab', 'Medisterpølse', 'Sarson da saag', 'Liangfen', 'Pistolette', 'Steamed clams', 'Ulam', 'Kheer', 'Tlacoyo', 'Tarator', '/m/061ptq', '/m/062p8x', 'Cochinita pibil', 'Buddha Jumps Over the Wall', 'Sfouf', 'Ham and cheese sandwich', '\"Peanut butter', '\"Bacon', 'Chicken karahi', 'Maple bacon donut', 'Litti', 'Nam Khao', 'Nam tok', 'Baozi', 'Kibbeh', 'Kushari', 'Jiuniang', '/m/06603bl', 'Machher Jhol', 'Fahsa', 'Mysore pak', 'Chalupa', 'Swiss roll', 'Balkenbrij', 'Tortas de aceite', 'Popover', 'Falooda', 'Macaroni salad', 'Barbacoa', 'Hushpuppy', 'Luther Burger', 'Ragout', 'Bánh bao', 'Moronga', 'Hayashi rice', 'Zürcher Geschnetzeltes', 'Éclair', 'Colcannon', 'Bear claw', 'Francesinha', 'Wat', 'Loco moco', 'Hot milk cake', 'Hoe', 'Gordita', 'Macaron', 'Pepperoni roll', 'Rasgulla', 'Angel wings', 'Huevos rancheros', 'Caprese salad', 'Kombdi vade', 'Yong tau foo', 'Chai tow kway', 'Machaca', 'Ugali', 'Arròs negre', 'Kimchi fried rice', 'Frybread', 'Halo-halo', 'Shiokara', 'Janssons frestelse', 'Hot Brown', 'Torta', 'Ćevapi', 'Salt water taffy', 'Çılbır', 'Murtabak', 'Tahu goreng', 'Soto ayam', 'Mee siam', 'Submarine sandwich', 'Halušky', 'Kimchi-jjigae', 'Fish ball', 'Blodpalt', 'Lebanon bologna', 'Okroshka', 'Linzer torte', 'Shrikhand', 'Yakiniku', 'Huevos divorciados', 'Nihari', 'Sautéed reindeer', 'Hasty pudding', 'Mission burrito', 'Sweet and sour pork', 'Rødgrød', 'Booyah', 'Bienenstich', 'Dressed herring', 'New York-style pizza', 'Bistek', 'Sinigang', 'Fios de ovos', 'Vitello tonnato', 'Bisque', '/m/06w9wv4', 'Modak', 'New Haven-style pizza', 'California-style pizza', 'Wrap', 'Puri', 'Jamón', 'Khash', 'Beef bourguignon', 'Truffade', 'Bò nướng lá lốt', 'Ful medames', 'Aligot', 'Kolach', 'Guaiwei', 'Kesme', 'Funeral potatoes', 'Sushi', 'Arancini', 'Creamed corn', 'Mozzarella sticks', 'American goulash', 'Gofio', 'Soup alla Canavese', 'Red beans and rice', 'Rössypottu', 'Fläskpannkaka', 'Hyderabadi biryani', 'Baeckeoffe', 'Eton mess', 'Khachapuri', 'Banoffee pie', 'Ants climbing a tree', 'Dandan noodles', 'Suanla chaoshou', 'Samgye-tang', 'Spam musubi', 'Bridie', 'Kaju katli', 'Chocolate-covered potato chips', 'Enne gai', 'Ruske kape', 'Spaghetti', 'Grass jelly', 'Salt potatoes', 'Katsudon', 'Pasanda', 'Banitsa', 'Flammekueche', 'Twice-cooked pork', 'Kare-kare', 'Laobing', 'Banmian', 'Honey cake', 'Swiss wing', 'Michigan hot dog', 'Tong sui', 'Taco', 'Sosatie', 'Pap', 'Umngqusho', 'Malva pudding', 'Vichyssoise', 'Zōni', 'Maxwell Street Polish', 'Vetkoek', 'Mealie bread', 'Chakalaka', 'Frikkadel', '/m/07fr1x', 'Tteokguk', 'Coney Island hot dog', 'Tirokafteri', 'Fesikh', 'Boston cream pie', 'Buttermilk koldskål', 'White boiled shrimp', 'Bagnun', 'Buntil', '/m/07l949', 'Pisto', 'Dhokla', 'Al pastor', 'St. Paul sandwich', 'Melonpan', 'Haupia', 'Lángos', 'Étouffée', 'Galaktoboureko', 'Börek', 'Suya', 'Rye bread', \"Escudella i carn d'olla\", 'Gari', 'Tilkut', 'Botok', 'Tatws Pum Munud', 'Char siu', 'Burgoo', 'Cacık', 'Barfi', 'Mulligan stew', 'Biangbiang noodles', 'Banana pudding', 'Crab cake', 'Chinese sausage', 'Veal', 'Curry bread', 'Pastry heart', 'Crème caramel', 'Panada', 'Pie à la Mode', 'Bonus Jack', 'Princess cake', 'Harihari-nabe', 'Hot chicken', 'Chhena Jhili', 'Grape pie', 'Chicken bog', 'Sausage gravy', 'Derby pie', 'Ice cream cake', 'Swiss steak', '/m/083tx9', 'Stack cake', 'Lobster Newberg', 'Nikujaga', 'Manti', 'Parmigiana', 'Palatschinke', 'Gujeolpan', 'Rajas con crema', 'Mak-guksu', 'Tetrazzini', 'Squid', 'Palak paneer', 'Krumkake', 'Bolani', 'Pork and beans', 'Nian gao', 'Oysters Rockefeller', 'Tavče gravče', 'Bakkwa', 'Xacuti', 'Sarapatel', 'Taquito', 'Egg drop soup', 'Shaobing', 'Chawanmushi', 'Nshima/Nsima', 'Pollock roe', 'Slinger', 'Japchae', 'St. Honoré cake', 'Barm cake', 'Tulumba', 'Xiaolongbao', 'Delmonico steak', 'Stromboli', 'Kanafeh', 'Hamdog', 'Garri', 'Kofta', 'Chana masala', 'Salo', 'Lung fung soup', 'Dirty rice', 'Urnebes', 'Andouillette', 'Landjäger', \"Fisherman's soup\", 'Romeritos', 'Lane cake', 'Pork jelly', 'Idiyappam', 'Smörgåstårta', 'Smažený sýr', 'Arroz con pollo', '/m/08xmsn', 'Petit gâteau', 'Tea egg', 'Cocada amarela', 'Japanese curry', 'Qeema', 'Unagi', \"Hoppin' John\", 'Gyūhi', 'Clafoutis', 'Green curry', 'Gỏi cuốn', 'Chilli crab', 'Lo mai gai', 'Lo mein', 'Puttu', 'Fried pie', 'Spanish rice', 'Nuea phat phrik', 'Jeow bong', 'Massaman curry', 'Ostkaka', 'Guilinggao', 'Spettekaka', 'Cudighi', 'Saltimbocca', 'Sfogliatella', 'Beef chow fun', 'Chow mein sandwich', 'Carnitas', 'Chinese steamed eggs', 'Oyster omelette', 'Garden salad', 'Salade niçoise', 'Dal bhat', 'Biscuits and gravy', 'Omurice', 'Pao cai', 'Nasi liwet', 'Thai suki', 'Moo shu pork', 'Corn crab soup', 'Fabes con almejas', 'Golden Opulence Sundae', 'Ketoprak', 'Mala Mogodu', 'Tekwan', 'Vatrushka', 'Yin Yang fish', 'Boston cream doughnut', 'Ramen', 'Home fries', 'Mustacciuoli', 'Clam cake', 'Sarma', 'Shahe fen', 'Charleston red rice', 'Fish head curry', 'Podvarak', 'Pihtije', 'Popara', 'Kačamak', 'Seolleongtang', 'Gołąbki', 'Szaloncukor', 'Kalduny', 'Zrazy', 'Panettone', 'Ambelopoulia', 'Persimmon pudding', 'Floating island', 'Zeeuwse bolus', 'Ambuyat', 'Smulpaj', 'Moravian spice cookies', 'Mee pok', 'Jjigae', 'Pizza bagel', 'Tteok', 'Brændende kærlighed', 'Beaten biscuit', 'Æbleflæsk', 'Chicken paprikash', 'Tangyuan', 'Tuna pot', 'Burnt ends', 'Jamón ibérico', 'Rakfisk', 'Zarangollo', 'Túró Rudi', 'Flummery', 'Cecina', 'Galinha à portuguesa', 'Ankimo', 'Galinha à africana', 'Cha siu bao', 'Fugu chiri', 'Assidat Zgougou', 'Oxtail stew', 'Laping', 'Chaku', 'Caldillo de perro', 'Sopa de Gato', 'Keledoş', 'Mücver', 'Brotzeit', 'Shekerbura', 'Oeufs en meurette', 'Pappa al pomodoro', 'Teurgoule', 'Bánh xèo', 'Musakhan', 'Maqluba', 'Bob chorba', 'Rum baba', 'Veda bread', 'Fried shrimp', 'Pastilla', 'Strawberry delight', 'Cheese dream', 'Frejon', 'Gyeran-jjim', 'Revithia', 'Nasi bogana', 'Torta de gazpacho', 'Double Down', 'Seri Muka', 'Obi non', 'Garganelli', 'Kig ha farz', 'Mississippi mud pie', \"Eve's pudding\", 'Amala', 'Okinawa soba', 'Lamian', 'Soki', 'Chicken Maryland', 'Chanpurū', 'Mlinci', 'Smyrna meatballs', 'Tavern sandwich', 'Yangzhou fried rice', 'Qutab', 'Dum Aloo', 'Queijo do Pico', 'Cocada', \"Calf's liver and bacon\", 'Moules-frites', 'Anarsa', 'Tlayuda', 'Šakotis', 'Jollof rice', 'Moin moin', 'Jam roly-poly', 'Hochzeitssuppe', 'Mucenici', 'Ema datshi', 'Ngo hiang', 'Jello salad', 'Claypot chicken rice', 'Maeun-tang', 'Cifantuan', 'Rhubarb pie', 'Olla podrida', 'Har gow', 'Sayur lodeh', 'Memela', 'Wenchang chicken', 'Galinhada', 'Lecsó', 'Gypsy tart', 'Bougatsa', 'Germknödel', 'Haystack', 'Yule log', 'Butter cookie', 'Chicken à la King', 'Méchoui', 'Croquette', 'Shami kebab', 'Chicken and waffles', 'Poke', 'Punsch-roll', 'Turtle soup', 'Kansar', 'Glamorgan sausage', 'Mango pudding', 'Bánh canh', 'Caparrones', 'Zopf', 'Bath bun', 'Chelsea bun', 'London bun', 'Saffron bun', 'Chakhchoukha', 'Angel food cake', 'Lalab', 'Suckling pig', 'Barmbrack', 'Kotlet schabowy', 'Pastel de nata', 'Shave ice', 'Tipsy cake', 'Creamed eggs on toast', 'Kerak telor', 'Ogok-bap', 'Mortadella', 'Nut roll', 'Fried green tomatoes', 'Beondegi', 'Tsoureki', 'Tiropita', 'Pljeskavica', 'Karađorđeva šnicla', 'Kokoretsi', 'Skilpadjies', 'Corn chowder', 'Tarhana', 'Tufahije', 'Birria', 'Veal Orloff', 'Fattoush', 'Pane carasau', 'Rab cake', 'Buffalo burger', 'Treacle tart', 'Hamburger', 'Stamppot', 'Kopytka', 'Khai yat sai', 'Minchee', 'Kinema', 'Sgabeo', 'Chili dog', 'Spaghetti alle vongole', 'Bavarian cream', 'Bhaji', 'Kachori', 'Chowder', 'Scotch broth', 'Pea soup', 'Kitfo', 'Gored gored', 'Bánh chưng', 'Bún bò Huế', 'Bò 7 món', 'Cơm tấm', 'Ambrosia', 'Rönttönen', 'Balchão', 'Gibassier', 'Bacalhau à Zé do Pipo', 'Pane di Altamura', 'Mykyrokka', 'Paska', 'Blackberry pie', 'Mince pie', 'Corn cookie', 'Francesinha poveira', 'Picadillo', 'Runeberg torte', 'Khakhra', 'Ohn no khao swè', 'Sultsina', '/m/0crv0m', 'Paella', 'Espetada', 'Pathiri', 'Horumonyaki', 'Khubz', 'Ciorbă', 'Kimchi-buchimgae', 'Sesame chicken', 'Thukpa', 'Chwinamul', 'Kabuni', 'Jhunka', 'Jolada rotti', 'Spoonbread', 'Kulich', 'Phat khing', 'Namasu', 'Wonton noodles', 'Johnnycake', 'Panellets', 'Manjū', 'Mandi', 'Fortune cookie', 'Noppe', 'Slavink', 'Cockle bread', 'Caruru', 'Chả lụa', 'Pan bagnat', 'Sardenara', 'Enchilada', 'Sausage sandwich', 'Pistachio pudding', 'Chikki', 'Champorado', 'Coconut cake', 'Kaassoufflé', 'Carne pizzaiola', 'Khauk swè thoke', 'Gamja-tang', 'Kadhi', 'Green bean casserole', 'Apple dumpling', 'Cozonac', 'Pissaladière', 'Phat si-io', 'Drunken noodles', 'Jing Jiang Rou Si', 'Enduri Pitha', 'Kakara pitha', 'Tarta de Santiago', '/m/0dn9nd', 'Sheftalia', 'Soybean sprout', 'Italian hot dog', 'Makchang', 'Meeshay', 'Bacalhau com natas', 'Mazurek', 'Nan gyi thohk', 'Ajapsandali', 'Carac', 'Mont di', 'Geng', 'Vispipuuro', 'Bakso', 'Canjica', 'Fougasse', \"Fool's Gold Loaf\", 'Blueberry pie', 'Pickled cucumber', 'Ogbono soup', 'Champ', 'Oysters en brochette', 'Paskha', 'Shish taouk', 'Acarajé', 'Ras malai', 'San-nakji', 'Bungeo-ppang', 'Skilandis', 'Gosh-e Fil', 'Nasi dagang', 'Gheimeh', 'Fesenjān', 'Bacalhau à Gomes de Sá', 'Fårikål', 'Bedfordshire clanger', 'Tonkatsu', 'Thai fried rice', 'Manakish', 'Schweinshaxe', 'Chorba', 'Oliebol', 'Ropa vieja', 'Natchitoches meat pie', 'Icebox cake', 'Sorrel soup', 'Lahoh', 'Bolillo', 'Mollete', 'Caldeirada', 'Ogi', 'Watergate salad', 'Yaksik', 'Half-smoke', 'Dakos', 'Sweet potato pie', 'Cappon magro', 'Serundeng', 'Rijstevlaai', 'Ajoblanco', 'Yaka mein', 'Jujeh kabab', 'Soy egg', 'Shuizhu', 'Puliyogare', 'Sago', 'Laulau', 'Curtido', 'Tapai', 'Press cake', 'Cuchifritos', 'Vlaai', 'Malvern pudding', 'Baklava', 'Cheese dog', 'Luchi', 'Cowboy beans', 'Sandesh', 'Steak Diane', 'Lobster stew', 'Finikia', 'Bibingka', 'Tafelspitz', 'Ploye', 'Sayur asem', 'Trinxat', 'Nikuman', 'Cozido à portuguesa', 'Bacalhau à Brás', 'Tomato compote', 'Sesame seed candy', 'Dhebra', 'Kaeng pa', 'Mas riha', 'Zosui', 'Yassa', 'Pambazo', 'Imarti', 'Bacalhau com todos', 'Black pepper crab', 'Queso flameado', 'Black and white cookie', 'Red braised pork belly', 'Krofne', 'Uštipci', 'Rožata', 'Punjena paprika', 'Fusi', 'Maneštra', 'Kroštule', 'Fritule', 'Protein bar', 'Cordon bleu', 'Pirog', 'Pachi Pulusu', 'Frigărui', 'Chhena poda', 'Poornalu', 'Ponganalu', 'Bing', 'Flaouna', 'Chakodi', 'Aloo paratha', 'Konro', 'Cemita', 'Asinan', 'Broa', 'Trifle', 'Rat na', 'Borlengo', 'Gazpachuelo', 'Esterházy torte', 'Magenbrot', 'Detroit-style pizza', 'Fuling jiabing', 'Lakhamari', 'Mućkalica', 'Sukhdi', 'Kilishi', 'Baji', 'Peanut butter cookie', 'Rabbit pie', \"Paling in 't groen\", 'Chataamari', 'Lawar', 'Arisa Pitha', 'Empal gentong', 'Carne asada fries', 'Takikomi gohan', 'Kamameshi', 'Pasta salad', 'Fasole cu cârnați', 'Zelnik', 'Plăcintă', 'Tongseng', 'Soto mie', 'Sarburma', 'Lutefisk', 'Khichdi', 'Briouat', 'Chili burger', 'Bolo de mel', 'Clootie', 'Seswaa', 'Tahu sumedang', 'Pichelsteiner', 'Bread soup', 'Scotcheroos', 'Kartoffelkäse', 'Schuxen', 'Caramel', 'Zwetschgenkuchen', 'Alloco', 'Vangibath', 'Torricado', 'Phat phrik khing', 'Tomato and egg soup', '/m/0h65ym4', 'Spanakorizo', 'Ostropel', 'Tamale', 'Seattle-style hot dog', 'Ammonia cookie', 'Boston baked beans', 'Amandine', 'Duck blood and vermicelli soup', 'Azerbaijani pakhlava', 'Bakwan', 'Wallenbergare', 'Pastry', 'Melomakarono', 'Cocido lebaniego', 'Koi', 'Stir-fried tomato and scrambled eggs', 'Flæskesteg', \"Beggar's Chicken\", '/m/0hzpvf0', 'Konkonte', 'Stuffed squash', 'Kaeng som', 'Kentucky jam cake', 'Murături', 'Tochitură', 'Urap', 'Cornulețe', 'Quad City-style pizza', 'Paneer tikka', 'Ciorbă de perișoare', '/m/0j66841', 'Shaker lemon pie', 'Doodhpak', 'Ceviche', 'Cabbage soup', 'Nasi timbel', 'Pa amb tomàquet', 'Escalivada', 'Međimurska gibanica', 'Khanom chan', 'Ohaw', 'Baghrir', 'Hummingbird cake', 'Neapolitan pizza', 'Doughnut', 'Hummus', 'Nimono', 'Chocolate chip cookie', 'Bún ốc', 'Cheese straw', 'Sausage', 'Frogeye salad', 'Senate bean soup', 'Botifarra', 'Leberknödel', 'Laziji', 'Quzi', 'Chazuke', 'Sandwich', 'BLT', 'Chikhirtma', 'Pico de gallo', 'Oden', 'Tostada', 'Chilaquiles', 'Cocido montañés', 'Lontong Cap Go Meh', 'Porra antequerana', 'Kedjenou', 'Tourin', 'Attiéké', 'Dak-bokkeum-tang', 'Žemlovka', 'Dovga', 'Rice and gravy', 'Sai ua', 'Nam ngiao', 'Kaeng khae', 'Kaeng tai pla', 'Dim sum', 'Tahri', 'Bolo do caco', 'Buffalo wing', 'Pustakari', 'Pieds paquets', 'Tinginys', 'Sunnundallu', 'Lapskaus', 'Caldo tlalpeño', 'Milho frito', 'Kalu dodol', 'Poppyseed muffin', 'Peanut soup', 'Tarte à la Bouillie', 'Caldo gallego', 'Samay Baji', 'Limburger sandwich', 'Huachinango a la Veracruzana', 'Sambal stingray', 'Kuluban', 'Modjeska', 'Pan dulce', 'Florina pepper', 'Oysters Bienville', 'Cronut', 'Duck rice', 'Sulu köfte', 'Toyga soup', 'Majjige huli', 'Ikan goreng', 'Lekor', 'Ciulama', 'Ayam bakar', 'Hinava', 'Waakye', 'Salbute', 'Kuchmachi', 'Kibinai', 'Lobiani', 'Chanakhi', 'Baghali ghatogh', 'Pkhali', 'Poc Chuc', 'Bionico', 'Bamischijf', 'Racuchy', 'Kuurdak', 'Hokkien fried rice', 'Mu kratha', 'Thong yip', 'Zuppa toscana', 'Dhindo', 'Thiakry', 'Kondowole']\n"
          ]
        }
      ]
    },
    {
      "cell_type": "code",
      "source": [
        "print(\"Prediction: \", classes[predicted_index])"
      ],
      "metadata": {
        "colab": {
          "base_uri": "https://localhost:8080/"
        },
        "id": "rNFFtuChkBDm",
        "outputId": "bd4a6867-5fd8-4af3-cd30-fd6909e8e899"
      },
      "execution_count": 193,
      "outputs": [
        {
          "output_type": "stream",
          "name": "stdout",
          "text": [
            "Prediction:  Ceviche\n"
          ]
        }
      ]
    }
  ]
}