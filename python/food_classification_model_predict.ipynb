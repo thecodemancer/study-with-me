{
  "nbformat": 4,
  "nbformat_minor": 0,
  "metadata": {
    "colab": {
      "name": "food_classification_model_predict.ipynb",
      "provenance": [],
      "authorship_tag": "ABX9TyODhKgBEQRcBtrP+TXupoh0",
      "include_colab_link": true
    },
    "kernelspec": {
      "name": "python3",
      "display_name": "Python 3"
    },
    "language_info": {
      "name": "python"
    }
  },
  "cells": [
    {
      "cell_type": "markdown",
      "metadata": {
        "id": "view-in-github",
        "colab_type": "text"
      },
      "source": [
        "<a href=\"https://colab.research.google.com/github/thecodemancer/study-with-me/blob/main/python/food_classification_model_predict.ipynb\" target=\"_parent\"><img src=\"https://colab.research.google.com/assets/colab-badge.svg\" alt=\"Open In Colab\"/></a>"
      ]
    },
    {
      "cell_type": "markdown",
      "source": [
        "# 🍽 Food Classification Model Predict\n",
        "![ceviche.avif](https://t1.rg.ltmcdn.com/es/posts/7/4/1/ceviche_peruano_18147_orig.jpg)"
      ],
      "metadata": {
        "id": "ZLaqSvZUkbrK"
      }
    },
    {
      "cell_type": "markdown",
      "source": [
        "## Overview\n",
        "\n",
        "This model is trained to recognize 2023 food dishes from images. It is based on MobileNet V1.\n",
        "\n",
        "## Input\n",
        "This model takes images as input.\n",
        "\n",
        "Inputs are expected to be 3-channel RGB color images of size 224 x 224, scaled to [0, 1].\n",
        "\n",
        "## Output\n",
        "This model outputs to image_classifier.\n",
        "\n",
        "image_classifier: A probability vector of dimension 2024, corresponding to a background class and one of 2023 food dishes in the labelmap.\n",
        "\n",
        "## Model architecture\n",
        "For details of the model architecture, see MobileNet V1.\n",
        "\n",
        "## Suitable usecases\n",
        "This model is trained to recognize 2023 food dishes. The training set includes entrees, side dishes, desserts, snacks, etc.\n",
        "\n",
        "## Unsuitable usecases\n",
        "Do not use this model to determine whether an object is edible or not.\n",
        "This model is not suitable for predicting the ingredients of a food dish. Do not use this model to predict allergen or nutrition information.\n",
        "\n",
        "## Known limitations\n",
        "This model assumes that its input image contains a well-cropped food dish. If a non-food image is input to the model or if the dish is not well-cropped, the output of the model may be meaningless.\n",
        "This model was trained on a dataset skewed toward North American foods."
      ],
      "metadata": {
        "id": "JVI1FWMnlftC"
      }
    },
    {
      "cell_type": "markdown",
      "source": [
        "## The Code"
      ],
      "metadata": {
        "id": "fe79LIVqzoR6"
      }
    },
    {
      "cell_type": "markdown",
      "source": [
        "### Import tensorflow and tensorhub libraries"
      ],
      "metadata": {
        "id": "3f8gKOk1zvHx"
      }
    },
    {
      "cell_type": "code",
      "execution_count": 313,
      "metadata": {
        "id": "2I8EJu5KjQaa"
      },
      "outputs": [],
      "source": [
        "# Import TF2 version\n",
        "import tensorflow.compat.v2 as tf\n",
        "import tensorflow_hub as hub"
      ]
    },
    {
      "cell_type": "markdown",
      "source": [
        "### The Model\n",
        "Let's wrap a SavedModel (or a legacy TF1 Hub format) as a Keras Layer. This layer wraps a callable object for use as a Keras layer. The callable object can be passed directly, or be specified by a Python string with a handle that gets passed to hub.load(). This is the preferred API to load a TF2-style SavedModel from TF Hub into a Keras model."
      ],
      "metadata": {
        "id": "e34tQzLk0Yoa"
      }
    },
    {
      "cell_type": "code",
      "source": [
        "# This is the model\n",
        "m = hub.KerasLayer('https://tfhub.dev/google/aiy/vision/classifier/food_V1/1')\n",
        "m"
      ],
      "metadata": {
        "colab": {
          "base_uri": "https://localhost:8080/"
        },
        "id": "Q5kfH7Wj0kkC",
        "outputId": "b8131e11-3ff1-4724-a7b3-8992581a95f1"
      },
      "execution_count": 314,
      "outputs": [
        {
          "output_type": "execute_result",
          "data": {
            "text/plain": [
              "<tensorflow_hub.keras_layer.KerasLayer at 0x7f8c6771fc50>"
            ]
          },
          "metadata": {},
          "execution_count": 314
        }
      ]
    },
    {
      "cell_type": "markdown",
      "source": [
        "### Import other libraries"
      ],
      "metadata": {
        "id": "SwS7o_dY03Gi"
      }
    },
    {
      "cell_type": "code",
      "source": [
        "# Import other libraries\n",
        "import numpy as np\n",
        "import pandas as pd\n",
        "import cv2 #OpenCV \n",
        "from skimage import io"
      ],
      "metadata": {
        "id": "d3apOD3-jUFB"
      },
      "execution_count": 315,
      "outputs": []
    },
    {
      "cell_type": "markdown",
      "source": [
        "### 🍽 Dish's URL"
      ],
      "metadata": {
        "id": "RJc5jiai0-Wh"
      }
    },
    {
      "cell_type": "code",
      "source": [
        "mysterious_food_url = \"https://t1.rg.ltmcdn.com/es/posts/7/4/1/ceviche_peruano_18147_orig.jpg\" #ceviche\n",
        "#mysterious_food_url = \"https://imgmedia.buenazo.pe/1200x660/buenazo/original/2020/09/15/5f6108f5462f6040a51d2ac4.jpg\" #arroz con pollo\n",
        "#mysterious_food_url = \"https://finde.latercera.com/wp-content/uploads/2020/07/empanadas-entrada-listo-.jpg\" #empanada\n",
        "#mysterious_food_url = \"https://i0.wp.com/munchinmash.com/wp-content/uploads/2022/04/Fried-Chicken-Web-Thumb-.jpg\" #Fried Chicken\n",
        "#mysterious_food_url = \"https://jameaperu.com/wp-content/uploads/2020/10/caldo-de-pollo_700x465.jpg\" #Caldo de pollo\n",
        "#mysterious_food_url = \"https://www.inspiredtaste.net/wp-content/uploads/2019/03/Spaghetti-with-Meat-Sauce-Recipe-3-1200.jpg\" #Spaguetti"
      ],
      "metadata": {
        "id": "ijeXCt1WjdOS"
      },
      "execution_count": 316,
      "outputs": []
    },
    {
      "cell_type": "markdown",
      "source": [
        "<img src=\"https://t1.rg.ltmcdn.com/es/posts/7/4/1/ceviche_peruano_18147_orig.jpg\" width=\"200px\" height=\"150px\" />\n",
        "<img src=\"https://imgmedia.buenazo.pe/1200x660/buenazo/original/2020/09/15/5f6108f5462f6040a51d2ac4.jpg\" width=\"200px\" height=\"150px\" />\n",
        "<img src=\"https://finde.latercera.com/wp-content/uploads/2020/07/empanadas-entrada-listo-.jpg\" width=\"200px\" height=\"150px\" />\n",
        "<img src=\"https://i0.wp.com/munchinmash.com/wp-content/uploads/2022/04/Fried-Chicken-Web-Thumb-.jpg\" width=\"200px\" height=\"150px\" />\n",
        "<img src=\"https://jameaperu.com/wp-content/uploads/2020/10/caldo-de-pollo_700x465.jpg\" width=\"200px\" height=\"150px\" />\n",
        "<img src=\"https://www.inspiredtaste.net/wp-content/uploads/2019/03/Spaghetti-with-Meat-Sauce-Recipe-3-1200.jpg\" width=\"200px\" height=\"150px\" />"
      ],
      "metadata": {
        "id": "yQTpPFFAKSLw"
      }
    },
    {
      "cell_type": "markdown",
      "source": [
        "### The Dataset"
      ],
      "metadata": {
        "id": "IFpEcj_b1GM5"
      }
    },
    {
      "cell_type": "code",
      "source": [
        "#The Dataset\n",
        "labelmap_url = \"https://www.gstatic.com/aihub/tfhub/labelmaps/aiy_food_V1_labelmap.csv\"\n",
        "input_shape = (224, 224)"
      ],
      "metadata": {
        "id": "szINnQQSuiDD"
      },
      "execution_count": 317,
      "outputs": []
    },
    {
      "cell_type": "markdown",
      "source": [
        "#### Let's load it into memory"
      ],
      "metadata": {
        "id": "xoS-ScPr9R7p"
      }
    },
    {
      "cell_type": "code",
      "source": [
        "df = pd.read_csv(labelmap_url)\n",
        "print(df.head())"
      ],
      "metadata": {
        "colab": {
          "base_uri": "https://localhost:8080/"
        },
        "id": "MG57maIuj-KB",
        "outputId": "e5b0f060-6902-492f-c889-c1401f818ced"
      },
      "execution_count": 318,
      "outputs": [
        {
          "output_type": "stream",
          "name": "stdout",
          "text": [
            "   id               name\n",
            "0   0     __background__\n",
            "1   1            Chaudin\n",
            "2   2         Bambalouni\n",
            "3   3            Ghoriba\n",
            "4   4  Mango sticky rice\n"
          ]
        }
      ]
    },
    {
      "cell_type": "markdown",
      "source": [
        "#### Exporing the dataset\n",
        "\n",
        "Let's see what do we have in this dataset. For that, we'll search according to some popular foods."
      ],
      "metadata": {
        "id": "zyQsY1DpF4YU"
      }
    },
    {
      "cell_type": "code",
      "source": [
        "df['name']=df['name'].str.lower()"
      ],
      "metadata": {
        "id": "5FD3o6tcA5Ip"
      },
      "execution_count": 319,
      "outputs": []
    },
    {
      "cell_type": "code",
      "source": [
        "df[\n",
        "   df['name'].str.contains(\"ceviche\") |\n",
        "   df['name'].str.contains(\"arroz\")   |\n",
        "   df['name'].str.contains(\"empanada\")|\n",
        "   df['name'].str.contains(\"chicken\") |\n",
        "   df['name'].str.contains(\"caldo de pollo\")\n",
        "   ].sort_values(by=\"name\")"
      ],
      "metadata": {
        "colab": {
          "base_uri": "https://localhost:8080/",
          "height": 1000
        },
        "id": "no4ATQyPB4RN",
        "outputId": "8f252d7d-da21-42fe-fdbb-46f7583d4202"
      },
      "execution_count": 320,
      "outputs": [
        {
          "output_type": "execute_result",
          "data": {
            "text/plain": [
              "        id                     name\n",
              "945    945        arroz a la cubana\n",
              "163    163             arroz chaufa\n",
              "1394  1394          arroz con pollo\n",
              "1907  1907         beggar's chicken\n",
              "221    221            bolo de arroz\n",
              "93      93          bon bon chicken\n",
              "588    588           butter chicken\n",
              "431    431           caldo de pollo\n",
              "7        7                 carrozza\n",
              "1923  1923                  ceviche\n",
              "1575  1575      chicken and waffles\n",
              "1335  1335              chicken bog\n",
              "491    491            chicken curry\n",
              "401    401            chicken divan\n",
              "984    984          chicken fingers\n",
              "977    977        chicken française\n",
              "1045  1045      chicken fried bacon\n",
              "288    288      chicken fried steak\n",
              "1128  1128           chicken karahi\n",
              "1531  1531         chicken maryland\n",
              "450    450           chicken nugget\n",
              "1477  1477        chicken paprikash\n",
              "692    692          chicken riggies\n",
              "714    714         chicken sandwich\n",
              "399    399          chicken vesuvio\n",
              "1571  1571        chicken à la king\n",
              "482    482             city chicken\n",
              "1554  1554     claypot chicken rice\n",
              "543    543     crispy fried chicken\n",
              "815    815          dong'an chicken\n",
              "470    470                 empanada\n",
              "283    283            fried chicken\n",
              "21      21  fujian red wine chicken\n",
              "896    896   hainanese chicken rice\n",
              "1332  1332              hot chicken\n",
              "966    966         kung pao chicken\n",
              "48      48           muamba chicken\n",
              "961    961           orange chicken\n",
              "1667  1667           sesame chicken\n",
              "983    983        soy sauce chicken\n",
              "635    635         tandoori chicken\n",
              "1562  1562         wenchang chicken\n",
              "580    580        white cut chicken"
            ],
            "text/html": [
              "\n",
              "  <div id=\"df-f975c20a-f4b4-4430-b6fc-7c065167b51e\">\n",
              "    <div class=\"colab-df-container\">\n",
              "      <div>\n",
              "<style scoped>\n",
              "    .dataframe tbody tr th:only-of-type {\n",
              "        vertical-align: middle;\n",
              "    }\n",
              "\n",
              "    .dataframe tbody tr th {\n",
              "        vertical-align: top;\n",
              "    }\n",
              "\n",
              "    .dataframe thead th {\n",
              "        text-align: right;\n",
              "    }\n",
              "</style>\n",
              "<table border=\"1\" class=\"dataframe\">\n",
              "  <thead>\n",
              "    <tr style=\"text-align: right;\">\n",
              "      <th></th>\n",
              "      <th>id</th>\n",
              "      <th>name</th>\n",
              "    </tr>\n",
              "  </thead>\n",
              "  <tbody>\n",
              "    <tr>\n",
              "      <th>945</th>\n",
              "      <td>945</td>\n",
              "      <td>arroz a la cubana</td>\n",
              "    </tr>\n",
              "    <tr>\n",
              "      <th>163</th>\n",
              "      <td>163</td>\n",
              "      <td>arroz chaufa</td>\n",
              "    </tr>\n",
              "    <tr>\n",
              "      <th>1394</th>\n",
              "      <td>1394</td>\n",
              "      <td>arroz con pollo</td>\n",
              "    </tr>\n",
              "    <tr>\n",
              "      <th>1907</th>\n",
              "      <td>1907</td>\n",
              "      <td>beggar's chicken</td>\n",
              "    </tr>\n",
              "    <tr>\n",
              "      <th>221</th>\n",
              "      <td>221</td>\n",
              "      <td>bolo de arroz</td>\n",
              "    </tr>\n",
              "    <tr>\n",
              "      <th>93</th>\n",
              "      <td>93</td>\n",
              "      <td>bon bon chicken</td>\n",
              "    </tr>\n",
              "    <tr>\n",
              "      <th>588</th>\n",
              "      <td>588</td>\n",
              "      <td>butter chicken</td>\n",
              "    </tr>\n",
              "    <tr>\n",
              "      <th>431</th>\n",
              "      <td>431</td>\n",
              "      <td>caldo de pollo</td>\n",
              "    </tr>\n",
              "    <tr>\n",
              "      <th>7</th>\n",
              "      <td>7</td>\n",
              "      <td>carrozza</td>\n",
              "    </tr>\n",
              "    <tr>\n",
              "      <th>1923</th>\n",
              "      <td>1923</td>\n",
              "      <td>ceviche</td>\n",
              "    </tr>\n",
              "    <tr>\n",
              "      <th>1575</th>\n",
              "      <td>1575</td>\n",
              "      <td>chicken and waffles</td>\n",
              "    </tr>\n",
              "    <tr>\n",
              "      <th>1335</th>\n",
              "      <td>1335</td>\n",
              "      <td>chicken bog</td>\n",
              "    </tr>\n",
              "    <tr>\n",
              "      <th>491</th>\n",
              "      <td>491</td>\n",
              "      <td>chicken curry</td>\n",
              "    </tr>\n",
              "    <tr>\n",
              "      <th>401</th>\n",
              "      <td>401</td>\n",
              "      <td>chicken divan</td>\n",
              "    </tr>\n",
              "    <tr>\n",
              "      <th>984</th>\n",
              "      <td>984</td>\n",
              "      <td>chicken fingers</td>\n",
              "    </tr>\n",
              "    <tr>\n",
              "      <th>977</th>\n",
              "      <td>977</td>\n",
              "      <td>chicken française</td>\n",
              "    </tr>\n",
              "    <tr>\n",
              "      <th>1045</th>\n",
              "      <td>1045</td>\n",
              "      <td>chicken fried bacon</td>\n",
              "    </tr>\n",
              "    <tr>\n",
              "      <th>288</th>\n",
              "      <td>288</td>\n",
              "      <td>chicken fried steak</td>\n",
              "    </tr>\n",
              "    <tr>\n",
              "      <th>1128</th>\n",
              "      <td>1128</td>\n",
              "      <td>chicken karahi</td>\n",
              "    </tr>\n",
              "    <tr>\n",
              "      <th>1531</th>\n",
              "      <td>1531</td>\n",
              "      <td>chicken maryland</td>\n",
              "    </tr>\n",
              "    <tr>\n",
              "      <th>450</th>\n",
              "      <td>450</td>\n",
              "      <td>chicken nugget</td>\n",
              "    </tr>\n",
              "    <tr>\n",
              "      <th>1477</th>\n",
              "      <td>1477</td>\n",
              "      <td>chicken paprikash</td>\n",
              "    </tr>\n",
              "    <tr>\n",
              "      <th>692</th>\n",
              "      <td>692</td>\n",
              "      <td>chicken riggies</td>\n",
              "    </tr>\n",
              "    <tr>\n",
              "      <th>714</th>\n",
              "      <td>714</td>\n",
              "      <td>chicken sandwich</td>\n",
              "    </tr>\n",
              "    <tr>\n",
              "      <th>399</th>\n",
              "      <td>399</td>\n",
              "      <td>chicken vesuvio</td>\n",
              "    </tr>\n",
              "    <tr>\n",
              "      <th>1571</th>\n",
              "      <td>1571</td>\n",
              "      <td>chicken à la king</td>\n",
              "    </tr>\n",
              "    <tr>\n",
              "      <th>482</th>\n",
              "      <td>482</td>\n",
              "      <td>city chicken</td>\n",
              "    </tr>\n",
              "    <tr>\n",
              "      <th>1554</th>\n",
              "      <td>1554</td>\n",
              "      <td>claypot chicken rice</td>\n",
              "    </tr>\n",
              "    <tr>\n",
              "      <th>543</th>\n",
              "      <td>543</td>\n",
              "      <td>crispy fried chicken</td>\n",
              "    </tr>\n",
              "    <tr>\n",
              "      <th>815</th>\n",
              "      <td>815</td>\n",
              "      <td>dong'an chicken</td>\n",
              "    </tr>\n",
              "    <tr>\n",
              "      <th>470</th>\n",
              "      <td>470</td>\n",
              "      <td>empanada</td>\n",
              "    </tr>\n",
              "    <tr>\n",
              "      <th>283</th>\n",
              "      <td>283</td>\n",
              "      <td>fried chicken</td>\n",
              "    </tr>\n",
              "    <tr>\n",
              "      <th>21</th>\n",
              "      <td>21</td>\n",
              "      <td>fujian red wine chicken</td>\n",
              "    </tr>\n",
              "    <tr>\n",
              "      <th>896</th>\n",
              "      <td>896</td>\n",
              "      <td>hainanese chicken rice</td>\n",
              "    </tr>\n",
              "    <tr>\n",
              "      <th>1332</th>\n",
              "      <td>1332</td>\n",
              "      <td>hot chicken</td>\n",
              "    </tr>\n",
              "    <tr>\n",
              "      <th>966</th>\n",
              "      <td>966</td>\n",
              "      <td>kung pao chicken</td>\n",
              "    </tr>\n",
              "    <tr>\n",
              "      <th>48</th>\n",
              "      <td>48</td>\n",
              "      <td>muamba chicken</td>\n",
              "    </tr>\n",
              "    <tr>\n",
              "      <th>961</th>\n",
              "      <td>961</td>\n",
              "      <td>orange chicken</td>\n",
              "    </tr>\n",
              "    <tr>\n",
              "      <th>1667</th>\n",
              "      <td>1667</td>\n",
              "      <td>sesame chicken</td>\n",
              "    </tr>\n",
              "    <tr>\n",
              "      <th>983</th>\n",
              "      <td>983</td>\n",
              "      <td>soy sauce chicken</td>\n",
              "    </tr>\n",
              "    <tr>\n",
              "      <th>635</th>\n",
              "      <td>635</td>\n",
              "      <td>tandoori chicken</td>\n",
              "    </tr>\n",
              "    <tr>\n",
              "      <th>1562</th>\n",
              "      <td>1562</td>\n",
              "      <td>wenchang chicken</td>\n",
              "    </tr>\n",
              "    <tr>\n",
              "      <th>580</th>\n",
              "      <td>580</td>\n",
              "      <td>white cut chicken</td>\n",
              "    </tr>\n",
              "  </tbody>\n",
              "</table>\n",
              "</div>\n",
              "      <button class=\"colab-df-convert\" onclick=\"convertToInteractive('df-f975c20a-f4b4-4430-b6fc-7c065167b51e')\"\n",
              "              title=\"Convert this dataframe to an interactive table.\"\n",
              "              style=\"display:none;\">\n",
              "        \n",
              "  <svg xmlns=\"http://www.w3.org/2000/svg\" height=\"24px\"viewBox=\"0 0 24 24\"\n",
              "       width=\"24px\">\n",
              "    <path d=\"M0 0h24v24H0V0z\" fill=\"none\"/>\n",
              "    <path d=\"M18.56 5.44l.94 2.06.94-2.06 2.06-.94-2.06-.94-.94-2.06-.94 2.06-2.06.94zm-11 1L8.5 8.5l.94-2.06 2.06-.94-2.06-.94L8.5 2.5l-.94 2.06-2.06.94zm10 10l.94 2.06.94-2.06 2.06-.94-2.06-.94-.94-2.06-.94 2.06-2.06.94z\"/><path d=\"M17.41 7.96l-1.37-1.37c-.4-.4-.92-.59-1.43-.59-.52 0-1.04.2-1.43.59L10.3 9.45l-7.72 7.72c-.78.78-.78 2.05 0 2.83L4 21.41c.39.39.9.59 1.41.59.51 0 1.02-.2 1.41-.59l7.78-7.78 2.81-2.81c.8-.78.8-2.07 0-2.86zM5.41 20L4 18.59l7.72-7.72 1.47 1.35L5.41 20z\"/>\n",
              "  </svg>\n",
              "      </button>\n",
              "      \n",
              "  <style>\n",
              "    .colab-df-container {\n",
              "      display:flex;\n",
              "      flex-wrap:wrap;\n",
              "      gap: 12px;\n",
              "    }\n",
              "\n",
              "    .colab-df-convert {\n",
              "      background-color: #E8F0FE;\n",
              "      border: none;\n",
              "      border-radius: 50%;\n",
              "      cursor: pointer;\n",
              "      display: none;\n",
              "      fill: #1967D2;\n",
              "      height: 32px;\n",
              "      padding: 0 0 0 0;\n",
              "      width: 32px;\n",
              "    }\n",
              "\n",
              "    .colab-df-convert:hover {\n",
              "      background-color: #E2EBFA;\n",
              "      box-shadow: 0px 1px 2px rgba(60, 64, 67, 0.3), 0px 1px 3px 1px rgba(60, 64, 67, 0.15);\n",
              "      fill: #174EA6;\n",
              "    }\n",
              "\n",
              "    [theme=dark] .colab-df-convert {\n",
              "      background-color: #3B4455;\n",
              "      fill: #D2E3FC;\n",
              "    }\n",
              "\n",
              "    [theme=dark] .colab-df-convert:hover {\n",
              "      background-color: #434B5C;\n",
              "      box-shadow: 0px 1px 3px 1px rgba(0, 0, 0, 0.15);\n",
              "      filter: drop-shadow(0px 1px 2px rgba(0, 0, 0, 0.3));\n",
              "      fill: #FFFFFF;\n",
              "    }\n",
              "  </style>\n",
              "\n",
              "      <script>\n",
              "        const buttonEl =\n",
              "          document.querySelector('#df-f975c20a-f4b4-4430-b6fc-7c065167b51e button.colab-df-convert');\n",
              "        buttonEl.style.display =\n",
              "          google.colab.kernel.accessAllowed ? 'block' : 'none';\n",
              "\n",
              "        async function convertToInteractive(key) {\n",
              "          const element = document.querySelector('#df-f975c20a-f4b4-4430-b6fc-7c065167b51e');\n",
              "          const dataTable =\n",
              "            await google.colab.kernel.invokeFunction('convertToInteractive',\n",
              "                                                     [key], {});\n",
              "          if (!dataTable) return;\n",
              "\n",
              "          const docLinkHtml = 'Like what you see? Visit the ' +\n",
              "            '<a target=\"_blank\" href=https://colab.research.google.com/notebooks/data_table.ipynb>data table notebook</a>'\n",
              "            + ' to learn more about interactive tables.';\n",
              "          element.innerHTML = '';\n",
              "          dataTable['output_type'] = 'display_data';\n",
              "          await google.colab.output.renderOutput(dataTable, element);\n",
              "          const docLink = document.createElement('div');\n",
              "          docLink.innerHTML = docLinkHtml;\n",
              "          element.appendChild(docLink);\n",
              "        }\n",
              "      </script>\n",
              "    </div>\n",
              "  </div>\n",
              "  "
            ]
          },
          "metadata": {},
          "execution_count": 320
        }
      ]
    },
    {
      "cell_type": "markdown",
      "source": [
        "#### Printing the entire list of dishes in the dataset\n"
      ],
      "metadata": {
        "id": "uhxuhjOGGWqZ"
      }
    },
    {
      "cell_type": "code",
      "source": [
        "#Printing the entire list of dishes in the dataset\n",
        "classes = list(df[\"name\"])\n",
        "print(classes)"
      ],
      "metadata": {
        "colab": {
          "base_uri": "https://localhost:8080/"
        },
        "id": "jGR7NaEpBEjr",
        "outputId": "57fec021-02ef-40dd-ff70-6bdccafede44"
      },
      "execution_count": 321,
      "outputs": [
        {
          "output_type": "stream",
          "name": "stdout",
          "text": [
            "['__background__', 'chaudin', 'bambalouni', 'ghoriba', 'mango sticky rice', 'jianbing', 'aguachile', 'carrozza', 'miyan kuka', 'efo riro', 'ayam masak merah', 'chiffon pie', '/g/11b8_rxx4d', 'riso patate e cozze', 'bazin', 'black bottom pie', 'palóc soup', 'sailor sandwich', 'tuwo shinkafa', 'carne a la tampiqueña', 'pastel azteca', 'fujian red wine chicken', 'boeber', 'lady baltimore cake', 'yam khai dao', 'texas tommy', 'har cheong gai', 'kolokythopita', 'karydopita', 'rinflajš', 'hainanese curry rice', 'sonoran hot dog', '/g/11cfty6q3', 'afghani burger', 'teochew porridge', 'minestra di ceci', 'pastrami on rye', 'roast beef sandwich', 'chahan', 'ekuru', 'sciusceddu', 'breakfast burrito', '/g/11dyjj24g', 'sausage stroganoff', 'roti jala', 'pirao', 'casatiello', 'khanom tan', 'muamba chicken', 'dobradinha', 'bruckfleisch', 'molote', 'spongata', 'funge', '/g/1212ghsj', 'köttbullar', \"ka'ak\", 'papet vaudois', '/g/12148tdg', 'prosciutto di norcia', 'malloreddus', '/g/1214g6v_', 'pannenkoek', 'dirty macaroni', '/g/12175t2y', 'garlic butter shrimp', 'fricasse', 'stracciatella', '/g/121b74wr', 'sartù', 'matelote', 'baodu', 'mattentaart', 'cartellate', 'gyeran-ppang', 'torta pasqualina', 'caltaboș', 'khanom mo kaeng', 'suimono', 'dimlama', 'tavë kosi', '/g/121p63r3', '/g/121slhcd', 'kalach', 'jambon persillé', 'pork bones', 'pozharsky cutlet', 'roccocò', 'feijão de óleo de palma', 'calulu', \"bey's soup\", '/g/1226mnbh', 'thịt kho tàu', 'bon bon chicken', 'zoque', 'bint al-sahn', 'tempoyak', 'puran poli', '/g/122m40vc', 'chueo-tang', 'naem', '/g/122qyvy7', '/g/122rd60t', 'pizokel', '/g/122vxtxs', 'schiacciata', 'daheen', 'chapssal-tteok', '/g/123267k_', 'crescentina modenese', 'pansotti', 'fried eggplant', 'portuguese seafood rice', 'tripes à la mode de caen', '/g/12353lp9', 'brenebon', 'gnocco fritto', '/g/12384pzv', 'tahu tek-tek', 'bibikkan', 'squid tongseng', '/g/12fgs6199', 'bundevara', 'sop saudara', '/g/155q8w2m', 'erbazzone', 'kisra', 'meat from tiblica', '/g/1hc0hhj4r', 'yufka', 'pisarei e faśö', '/g/1pznmr_ch', 'pampushka', 'makowiec', 'saleeg', '/m/0100fwt6', 'jókai bean soup', 'bookbinder soup', 'selat solo', 'kutsinta', 'sago soup', 'vinegret', 'shrimp and grits', 'sirop de liège', 'woku', 'muhallebi', 'gepuk', 'fouée', 'octopus', 'koba', 'bò lúc lắc', \"squid lū'au\", 'shrimp louie', 'black pudding', 'cherry kebab', 'pitsi-pitsî', 'sabich salad', 'mie kocok', 'maraca pie', 'banga', 'baccalà alla lucana', 'nasi tumpang', 'gratin dauphinois', 'arroz chaufa', 'kuih', 'ayam goreng', 'chongos zamoranos', '/m/011c708', 'mămăligă', 'candied almonds', 'lasagne', 'pecel lele', 'lettuce soup', 'acquacotta', 'pork blood soup', '/m/011sq8kg', 'buridda', 'maccu', 'turkey devonshire', 'ginestrata', 'garmugia', 'meringue', 'peanut butter and jelly sandwich', 'couque de dinant', 'omo tuo', 'thapthim krop', 'pie tee', 'sutarfeni', 'raclette', 'wotou', 'punugulu', 'succotash', 'chim chum', 'wachipa', 'boat noodles', 'tantuni', 'shab deg', 'chả giò', 'ciabatta bacon cheeseburger', 'mie kangkung', 'tuwo masara', 'kokonte', 'akple', '/m/012vypzp', 'kwareżimal', 'bento', 'osechi', 'okonomiyaki', 'miso soup', 'dango', 'onigiri', 'hiyayakko', 'tempura', 'mochi', 'peppersoup', 'caldo de queso', 'dodo ikire', 'uirō', 'hong dou tang', 'kakigōri', 'khichu', 'bolo de arroz', 'chips and dip', 'murgh musallam', 'utica greens', 'zaalouk', 'mutton curry', 'mughlai paratha', 'tuo zaafi', 'bánh bột lọc', '/m/013f387h', 'cheeseburger', 'jelly bean', 'apple pie', 'udon', 'falafel', 'agedashi dōfu', 'dashi', 'tortell', 'omelette', 'crème brûlée', 'cucumber soup', 'french toast', 'tripe', 'pepperoni', 'salami', 'kimchi', 'knödel', 'takoyaki', 'halva', 'pigs in a blanket', 'spanakopita', 'pumpkin pie', 'jambalaya', 'club sandwich', 'churro', 'turducken', 'welsh rarebit', 'hot dog', 'oyakodon', 'meatball', 'waldorf salad', 'potato salad', 'satay', 'pemmican', 'mämmi', 'fideuà', 'waffle', 'pancake', 'quiche', 'borscht', 'bratwurst', 'foie gras', 'burrito', 'goulash', 'spotted dick', 'coq au vin', 'ratatouille', 'cornbread', 'souvlaki', 'chow mein', 'roast beef', 'peking duck', 'fried chicken', 'croquembouche', 'tahini', 'gumbo', 'fajita', 'chicken fried steak', 'sukiyaki', 'scrapple', 'chili con carne', 'monte cristo sandwich', 'kielbasa', 'polenta', 'reuben sandwich', \"s'more\", 'andouille', 'beignet', 'crêpe', 'gulai', 'breakfast sausage', 'chorizo', 'gyro', 'nachos', 'larb', 'couscous', 'meze', 'cheesesteak', 'frozen yogurt', 'injera', 'muesli', 'meatloaf', 'fuet', 'nattō', 'banana split', 'pączki', 'pound cake', 'fuqi feipian', 'nasi lemak', 'flan', 'pad thai', 'yakitori', 'amanattō', 'tom kha kai', 'lokma', 'mooncake', 'idli', 'spätzle', 'nopalito', 'sincronizada', 'žganci', 'totopo', 'folar', 'cherry pie', 'umeboshi', 'patty', 'saltah', 'khinkali', 'shkedei marak', 'tekkadon', 'chadachadi', 'kaipen', 'draw soup', 'shahan ful', 'shiro', \"ga'at\", 'skordalia', 'budae jjigae', 'anju', 'fried coke', 'lemang', 'basundi', 'brown betty', 'khabees', 'kottu', 'isterband', 'ciauscolo', 'khatkhate', 'pan de muerto', 'caponata', '/m/0267f9w', 'sabaayad', 'miyeok-guk', 'imoni', 'pitha', 'kedgeree', 'bife a cavalo', 'yaki udon', 'she-crab soup', 'koozh', 'keşkek', 'cabidela', 'gerber sandwich', 'zagorski štrukli', 'himbasha', 'sataraš', 'kakuni', 'enormous omelet sandwich', 'turrón', 'tsukudani', 'hawaiian haystack', 'kateh', 'stoemp', 'pajeon', 'ġbejna', 'kaya toast', 'fit-fit', 'kitcha', 'thalipeeth', 'figgy pudding', 'cachupa', 'cherries jubilee', 'crappit heid', 'mince and tatties', 'anadama bread', 'carbonara', 'kladdkaka', 'shakshouka', 'chicken vesuvio', 'jibarito', 'chicken divan', 'motsunabe', 'sonofabitch stew', 'corn pudding', 'johnny marzetti', 'mostarda', 'maafe', 'churma', 'chole bhature', 'dobos torte', 'carne de porco à alentejana', 'khao soi', 'kissel', 'cottage loaf', 'silver needle noodles', 'shrimp dejonghe', 'kiritanpo', 'bean pie', 'churchkhela', 'yahni', 'gringas', 'annin tofu', 'jiaozi', 'breakfast sandwich', 'tanghulu', 'black sesame soup', 'gougère', 'namul', 'kosambari', \"ma'amoul\", 'caldo de pollo', 'loukaniko', 'doberge cake', 'nasi campur', 'snack cake', 'taiyaki', 'karnıyarık', 'pierogi', 'macaroni and cheese', 'huevos motuleños', 'chislic', 'corn dog', 'shawarma', 'zongzi', 'dumpling', 'syrniki', 'king cake', 'soufflé', 'gyūdon', 'chicken nugget', 'bulgogi', 'eggs benedict', 'hot dry noodles', 'mashed potato', 'anpan', 'quesadilla', 'youtiao', 'congee', 'sekihan', 'semla', 'arctic roll', 'castella', 'hanabiramochi', 'falukorv', 'ketupat', 'rendang', 'chocolate brownie', 'mapo doufu', 'chinese noodles', 'empanada', 'fried rice', 'chicago-style pizza', 'cuban sandwich', 'tarte tatin', 'yakisoba', 'dagwood sandwich', 'cheesecake', 'samosa', \"devil's food cake\", 'shashlik', 'horseshoe sandwich', 'city chicken', 'key lime pie', 'potato skins', 'haejang-guk', 'burmese tofu', 'shumai', 'sour cherry soup', 'gigandes plaki', 'majboos', 'chicken curry', 'shrimp creole', 'pork tenderloin sandwich', 'dampfnudel', 'finnan haddie', 'kenkey', 'pincho', 'gundruk', 'chilorio', 'koulourakia', 'bryndzové halušky', 'imagawayaki', 'vasilopita', 'strapačky', \"po' boy\", 'capirotada', 'beef manhattan', 'sandwich loaf', 'jian dui', 'almond biscuit', 'west slavic fermented cereal soups', 'fried plantain', 'stuffed peppers', 'piperade', 'rogan josh', 'fabada asturiana', 'potato wedges', 'calisson', 'prawn ball', 'kushikatsu', 'lo mai chi', 'manchet', 'leek soup', 'vanillerostbraten', 'hangtown fry', 'cabbie claw', 'chitranna', 'ragi mudde', 'denver sandwich', 'laverbread', 'elote', 'kulolo', 'oxtail soup', 'pantua', 'corn relish', 'pogača', 'qubani-ka-meetha', 'boondi', 'arrosticini', 'panelle', 'santula', 'tofu skin roll', 'crispy fried chicken', 'steamed meatball', 'lobio', 'suman', 'hōtō', 'matbukha', '/m/02rgjs1', 'açorda', 'makdous', 'soto', 'frangollo', 'patty melt', 'taro dumpling', 'entomatada', 'bánh cuốn', 'corunda', 'zhaliang', 'cassoulet', 'debrecener', 'scampi', 'pilaf', 'sambar', 'century egg', 'escargot', 'cong you bing', 'beef noodle soup', 'magiritsa', 'gugelhupf', 'sachima', 'white rice', 'maultasche', 'american chop suey', 'fish slice', 'sea cucumber', 'beef ball', 'siu yuk', 'seafood birdsnest', 'white cut chicken', '/m/02vwryj', 'satsivi', 'malpua', 'chhena gaja', 'flying jacob', 'steak de burgo', 'crab louie', 'butter chicken', 'amok trey', 'menemen', 'piadina', 'orange cuttlefish', 'fudge', 'cottage pudding', 'meatcake', 'buttermilk pie', 'kalamay', 'puto', 'dal makhani', 'mixiote', 'bagel dog', 'bún riêu', 'feijoada', 'pho', 'milk toast', 'liver and onions', 'iced bun', 'sheer khurma', 'yi mein', 'shrimp roe noodles', 'lai fun', 'oil noodles', 'kal-guksu', 'youmian', 'avgolemono', 'pork roll', 'tart', 'leberkäse', 'kalakukko', 'mustamakkara', 'baba ghanoush', 'karelian pasty', 'shortcake', 'profiterole', 'moussaka', 'dulce de leche', 'blaa', 'risotto', 'funnel cake', 'fried dough', 'consommé', 'clam chowder', 'tartiflette', 'red curry', 'tandoori chicken', 'gazpacho', 'prosciutto', 'boerewors', 'baked potato', 'bouillabaisse', 'kralan', 'chireta', 'bakewell tart', 'grits', 'shaved ice', 'choco pie', 'cumian', 'jokbal', 'grillades', 'hotteok', 'ezogelin soup', 'knedle', 'masgouf', 'sope', 'coconut rice', 'bakarkhani', 'asida', 'dirt cake', 'sel roti', 'kalakand', 'ghevar', 'sussex pond pudding', 'lontong', 'bánh bèo', 'pringá', 'bull roast', 'stuffed ham', 'lablabi', 'gooey butter cake', 'carciofi alla giudia', 'yin si juan', 'babi panggang', 'chao hong guo', 'fun guo', 'khira sagara', 'coconut bar', 'sundae', 'tuna fish sandwich', 'zhangcha duck', 'marry girl cake', 'frijoles charros', 'rosca de reyes', 'happy faces', 'deviled crab', 'sundubu-jjigae', 'sinseollo', 'dongchimi', 'nabak-kimchi', 'dhondas', 'soan papdi', 'baek-kimchi', 'chicken riggies', 'afelia', 'gulyásleves', 'marie biscuit', 'café liégeois', 'chè', 'pootharekulu', 'escalope', 'rajma', 'beshbarmak', 'torta tre monti', 'french dip', 'pumpkin-coconut custard', 'rose hip soup', 'veggie burger', 'steak tartare', 'bologna sausage', 'pâté', 'bibimbap', 'shahi paneer', 'fufu', 'pyttipanna', 'chicken sandwich', 'ghari', 'michigan salad', 'cabinet pudding', 'american fried rice', 'korovai', 'churrasco', 'pasulj', 'mitraillette', 'salată de boeuf', 'rice pudding', 'rösti', 'naryn', 'kaldereta', 'makroudh', 'kachumbari', 'tsukemono', 'cheese fries', 'slatko', 'qatayef', 'passatelli', 'sweet potato soup', 'shchi', 'kulfi', 'dolma', 'kai yang', 'shark fin soup', 'pozole', 'pakora', 'chantilly cake', 'krówki', 'russian tea cake', 'ox-tongue pastry', 'sachertorte', 'palitaw', 'jolpan', 'mantou', 'finger steaks', 'steak sandwich', 'talo', 'erkuai', 'mixian', 'st. louis-style pizza', 'moambe', 'upma', 'panjiri', 'eggs sardou', 'shanghai fried noodles', 'quarkkäulchen', 'cupcake', 'snickerdoodle', 'farl', 'coleslaw', 'calas', 'beef stroganoff', 'shimotsukare', 'squab', 'basbousa', 'watalappam', 'tepsi baytinijan', 'kuli-kuli', 'shabu-shabu', 'sundae', 'fried brain sandwich', 'rollmops', 'higashi', 'panna cotta', 'aloo gobi', 'aspic', 'obatzda', 'gulab jamun', 'tuna casserole', 'ribollita', 'chomchom', 'rassolnik', 'jeongol', 'cantonese seafood soup', 'eggplant salad', 'kürtőskalács', 'pölsa', 'lobster roll', 'sloppy joe', 'schnitzel', 'bacalhau', 'sfenj', 'menudo', 'gujia', 'liver soup', 'panocha', 'chakapuli', 'sklandrausis', 'liver pâté', 'rullepølse', 'frikadeller', 'frikandel', 'cinnamon roll', 'scotch pie', 'hot wiener', 'wodzionka', 'greek salad', 'raita', \"dong'an chicken\", 'boortsog', 'coca', 'champon', 'tabbouleh', 'korokke', 'chile relleno', 'brandade', 'hoppang', 'gozinaki', 'lazarakia', 'puff puff', 'fatteh', 'speculaas', 'karasumi', 'brandy snaps', 'trdelník', 'cocido madrileño', 'red velvet cake', 'kringle', 'quenelle', 'toasted ravioli', 'tajine', 'cranachan', 'rusk', 'mille-feuille', 'acorn noodle soup', 'gachas', 'jingisukan', 'thekua', 'ghugni', 'tarama', 'italian beef', 'challah', 'fried ice cream', 'onion ring', 'smoked meat', 'dahi vada', 'mother-in-law', 'blondie', 'guk', 'hiyashi chūka', 'sweet shells', 'salisbury steak', 'poffertjes', 'eggs neptune', 'galbi-jjim', 'agwi-jjim', 'ladob', 'instant-boiled mutton', 'cincalok', 'jook-sing noodles', 'potbrood', 'burkinabe cuisine', 'taralli', 'carbonade flamande', 'xôi', 'sauerbraten', 'spiedie', 'gimbap', 'czernina', 'kroppkaka', \"buddha's delight\", 'pain au chocolat', 'goetta', 'german chocolate cake', 'melt sandwich', 'popiah', 'haleem', 'hornazo', 'janchi-guksu', 'kipper', 'bossam', 'arbroath smokie', 'bologna sandwich', 'cobbler', 'kouign-amann', 'char kway teow', 'rostbrätel', 'doenjang-jjigae', 'tharid', 'hainanese chicken rice', 'bak kut teh', 'cabbage roll', 'runza', 'bananas foster', 'kozhukkatta', 'kūčiukai', 'smørrebrød', 'kutia', 'deviled egg', 'buchteln', 'apple strudel', 'wonton', 'chess pie', 'pirozhki', 'douzhi', 'macaroni soup', 'crossing-the-bridge noodles', 'lechazo', 'rolled oyster', 'asam pedas', 'mi krop', 'patoleo', 'rigó jancsi', 'ollada', 'garbure', 'sabudana khichadi', 'potée', 'phanaeng curry', 'madeleine', 'mashed pumpkin', 'suet pudding', 'bombay mix', 'namagashi', 'struffoli', 'dak-galbi', 'chuchvara', 'misal', 'patatnik', 'yuxiang', 'frozen banana', 'psarosoupa', 'mekitsa', 'sanna', 'qazı', 'sorbetes', \"potatoes o'brien\", 'tom yum', 'balushahi', 'arroz a la cubana', 'jalebi', 'sopaipilla', 'ukha', 'svíčková', 'túrós csusza', 'pinnekjøtt', 'salty liquorice', 'lemon ice box pie', 'knickerbocker glory', 'zhajiangmian', 'cobb salad', 'misua', 'shoofly pie', 'bhakri', 'apple cake', 'orange chicken', 'jamón serrano', 'bundt cake', 'bara brith', 'hot pot', 'kung pao chicken', 'mulukhiyah', 'piti', 'double ka meetha', 'choila', 'moustalevria', 'arizona cheese crisp', 'rice krispies treats', 'liangpi', 'prinskorv', 'salmorejo', 'chicken française', 'fläskkorv', 'glorified rice', '/m/04zzsvg', 'stinky tofu', 'muffuletta', 'soy sauce chicken', 'chicken fingers', 'pecan pie', 'eba', 'parfait', 'ndolé', 'cheese sandwich', \"carne de vinha d'alhos\", 'bob andy pie', 'cincinnati chili', 'frico', 'tapioca pudding', 'minestrone', 'boxty', 'naengmyeon', 'seven-layer salad', '/m/0553tg', 'cawl', 'chocolate pudding', 'hotdish', 'ciccioli', 'douhua', 'berliner', 'fried fish', 'apple crisp', 'boudin', 'yusheng', 'babka', 'pizzoccheri', 'welsh cake', 'parker house roll', 'tripe soup', 'chimichanga', 'jucy lucy', 'dodger dog', 'pastiera', 'huarache', 'solkadhi', 'schupfnudel', 'waldorf pudding', 'harees', 'ash reshteh', 'celery victor', 'diples', 'kompot', 'french onion soup', 'tres leches cake', 'torta caprese', 'black forest gateau', 'pâté aux pommes de terre', 'lâpa', 'bündner nusstorte', 'hachee', 'spaghetti aglio e olio', 'whoopie pie', 'ais kacang', 'chermoula', 'gado-gado', 'merguez', 'snickers salad', 'giouvetsi', 'kharcho', 'chicken fried bacon', 'dessert bar', 'coulibiac', 'thieboudienne', 'rabri', 'sapin-sapin', 'sealed crustless sandwich', 'carne asada', 'coyotas', 'chocolate-covered bacon', 'stroopwafel', 'gravlax', 'pot pie', 'ghormeh sabzi', 'surf and turf', 'brunswick stew', 'mititei', 'fluffernutter', 'khaja', 'stottie cake', 'london broil', 'fasolada', 'strudel', 'øllebrød', 'tamago kake gohan', 'hot water corn bread', 'philippine adobo', 'hulatang', 'dyrlægens natmad', 'chistorra', 'polkagris', 'galbi-tang', 'mrouzia', 'gopchang-jeongol', 'miang kham', 'clams casino', 'nanbanzuke', 'dripping cake', 'cookie salad', 'usal', 'mandu-guk', 'smalahove', 'kokis', 'ori-tang', 'pakhala', 'cream pie', 'butajiru', 'new england boiled dinner', 'chhena jalebi', 'pastitsio', 'panucho', 'chhena kheeri', 'kifli', 'solyanka', 'sadhya', 'cullen skink', 'havregrynskugle', 'harira', 'cornish game hen', 'beef on weck', 'tompouce', 'caldo de siete mares', 'millionbøf', 'chicago-style hot dog', 'risalamande', 'alinazik kebab', 'medisterpølse', 'sarson da saag', 'liangfen', 'pistolette', 'steamed clams', 'ulam', 'kheer', 'tlacoyo', 'tarator', '/m/061ptq', '/m/062p8x', 'cochinita pibil', 'buddha jumps over the wall', 'sfouf', 'ham and cheese sandwich', '\"peanut butter', '\"bacon', 'chicken karahi', 'maple bacon donut', 'litti', 'nam khao', 'nam tok', 'baozi', 'kibbeh', 'kushari', 'jiuniang', '/m/06603bl', 'machher jhol', 'fahsa', 'mysore pak', 'chalupa', 'swiss roll', 'balkenbrij', 'tortas de aceite', 'popover', 'falooda', 'macaroni salad', 'barbacoa', 'hushpuppy', 'luther burger', 'ragout', 'bánh bao', 'moronga', 'hayashi rice', 'zürcher geschnetzeltes', 'éclair', 'colcannon', 'bear claw', 'francesinha', 'wat', 'loco moco', 'hot milk cake', 'hoe', 'gordita', 'macaron', 'pepperoni roll', 'rasgulla', 'angel wings', 'huevos rancheros', 'caprese salad', 'kombdi vade', 'yong tau foo', 'chai tow kway', 'machaca', 'ugali', 'arròs negre', 'kimchi fried rice', 'frybread', 'halo-halo', 'shiokara', 'janssons frestelse', 'hot brown', 'torta', 'ćevapi', 'salt water taffy', 'çılbır', 'murtabak', 'tahu goreng', 'soto ayam', 'mee siam', 'submarine sandwich', 'halušky', 'kimchi-jjigae', 'fish ball', 'blodpalt', 'lebanon bologna', 'okroshka', 'linzer torte', 'shrikhand', 'yakiniku', 'huevos divorciados', 'nihari', 'sautéed reindeer', 'hasty pudding', 'mission burrito', 'sweet and sour pork', 'rødgrød', 'booyah', 'bienenstich', 'dressed herring', 'new york-style pizza', 'bistek', 'sinigang', 'fios de ovos', 'vitello tonnato', 'bisque', '/m/06w9wv4', 'modak', 'new haven-style pizza', 'california-style pizza', 'wrap', 'puri', 'jamón', 'khash', 'beef bourguignon', 'truffade', 'bò nướng lá lốt', 'ful medames', 'aligot', 'kolach', 'guaiwei', 'kesme', 'funeral potatoes', 'sushi', 'arancini', 'creamed corn', 'mozzarella sticks', 'american goulash', 'gofio', 'soup alla canavese', 'red beans and rice', 'rössypottu', 'fläskpannkaka', 'hyderabadi biryani', 'baeckeoffe', 'eton mess', 'khachapuri', 'banoffee pie', 'ants climbing a tree', 'dandan noodles', 'suanla chaoshou', 'samgye-tang', 'spam musubi', 'bridie', 'kaju katli', 'chocolate-covered potato chips', 'enne gai', 'ruske kape', 'spaghetti', 'grass jelly', 'salt potatoes', 'katsudon', 'pasanda', 'banitsa', 'flammekueche', 'twice-cooked pork', 'kare-kare', 'laobing', 'banmian', 'honey cake', 'swiss wing', 'michigan hot dog', 'tong sui', 'taco', 'sosatie', 'pap', 'umngqusho', 'malva pudding', 'vichyssoise', 'zōni', 'maxwell street polish', 'vetkoek', 'mealie bread', 'chakalaka', 'frikkadel', '/m/07fr1x', 'tteokguk', 'coney island hot dog', 'tirokafteri', 'fesikh', 'boston cream pie', 'buttermilk koldskål', 'white boiled shrimp', 'bagnun', 'buntil', '/m/07l949', 'pisto', 'dhokla', 'al pastor', 'st. paul sandwich', 'melonpan', 'haupia', 'lángos', 'étouffée', 'galaktoboureko', 'börek', 'suya', 'rye bread', \"escudella i carn d'olla\", 'gari', 'tilkut', 'botok', 'tatws pum munud', 'char siu', 'burgoo', 'cacık', 'barfi', 'mulligan stew', 'biangbiang noodles', 'banana pudding', 'crab cake', 'chinese sausage', 'veal', 'curry bread', 'pastry heart', 'crème caramel', 'panada', 'pie à la mode', 'bonus jack', 'princess cake', 'harihari-nabe', 'hot chicken', 'chhena jhili', 'grape pie', 'chicken bog', 'sausage gravy', 'derby pie', 'ice cream cake', 'swiss steak', '/m/083tx9', 'stack cake', 'lobster newberg', 'nikujaga', 'manti', 'parmigiana', 'palatschinke', 'gujeolpan', 'rajas con crema', 'mak-guksu', 'tetrazzini', 'squid', 'palak paneer', 'krumkake', 'bolani', 'pork and beans', 'nian gao', 'oysters rockefeller', 'tavče gravče', 'bakkwa', 'xacuti', 'sarapatel', 'taquito', 'egg drop soup', 'shaobing', 'chawanmushi', 'nshima/nsima', 'pollock roe', 'slinger', 'japchae', 'st. honoré cake', 'barm cake', 'tulumba', 'xiaolongbao', 'delmonico steak', 'stromboli', 'kanafeh', 'hamdog', 'garri', 'kofta', 'chana masala', 'salo', 'lung fung soup', 'dirty rice', 'urnebes', 'andouillette', 'landjäger', \"fisherman's soup\", 'romeritos', 'lane cake', 'pork jelly', 'idiyappam', 'smörgåstårta', 'smažený sýr', 'arroz con pollo', '/m/08xmsn', 'petit gâteau', 'tea egg', 'cocada amarela', 'japanese curry', 'qeema', 'unagi', \"hoppin' john\", 'gyūhi', 'clafoutis', 'green curry', 'gỏi cuốn', 'chilli crab', 'lo mai gai', 'lo mein', 'puttu', 'fried pie', 'spanish rice', 'nuea phat phrik', 'jeow bong', 'massaman curry', 'ostkaka', 'guilinggao', 'spettekaka', 'cudighi', 'saltimbocca', 'sfogliatella', 'beef chow fun', 'chow mein sandwich', 'carnitas', 'chinese steamed eggs', 'oyster omelette', 'garden salad', 'salade niçoise', 'dal bhat', 'biscuits and gravy', 'omurice', 'pao cai', 'nasi liwet', 'thai suki', 'moo shu pork', 'corn crab soup', 'fabes con almejas', 'golden opulence sundae', 'ketoprak', 'mala mogodu', 'tekwan', 'vatrushka', 'yin yang fish', 'boston cream doughnut', 'ramen', 'home fries', 'mustacciuoli', 'clam cake', 'sarma', 'shahe fen', 'charleston red rice', 'fish head curry', 'podvarak', 'pihtije', 'popara', 'kačamak', 'seolleongtang', 'gołąbki', 'szaloncukor', 'kalduny', 'zrazy', 'panettone', 'ambelopoulia', 'persimmon pudding', 'floating island', 'zeeuwse bolus', 'ambuyat', 'smulpaj', 'moravian spice cookies', 'mee pok', 'jjigae', 'pizza bagel', 'tteok', 'brændende kærlighed', 'beaten biscuit', 'æbleflæsk', 'chicken paprikash', 'tangyuan', 'tuna pot', 'burnt ends', 'jamón ibérico', 'rakfisk', 'zarangollo', 'túró rudi', 'flummery', 'cecina', 'galinha à portuguesa', 'ankimo', 'galinha à africana', 'cha siu bao', 'fugu chiri', 'assidat zgougou', 'oxtail stew', 'laping', 'chaku', 'caldillo de perro', 'sopa de gato', 'keledoş', 'mücver', 'brotzeit', 'shekerbura', 'oeufs en meurette', 'pappa al pomodoro', 'teurgoule', 'bánh xèo', 'musakhan', 'maqluba', 'bob chorba', 'rum baba', 'veda bread', 'fried shrimp', 'pastilla', 'strawberry delight', 'cheese dream', 'frejon', 'gyeran-jjim', 'revithia', 'nasi bogana', 'torta de gazpacho', 'double down', 'seri muka', 'obi non', 'garganelli', 'kig ha farz', 'mississippi mud pie', \"eve's pudding\", 'amala', 'okinawa soba', 'lamian', 'soki', 'chicken maryland', 'chanpurū', 'mlinci', 'smyrna meatballs', 'tavern sandwich', 'yangzhou fried rice', 'qutab', 'dum aloo', 'queijo do pico', 'cocada', \"calf's liver and bacon\", 'moules-frites', 'anarsa', 'tlayuda', 'šakotis', 'jollof rice', 'moin moin', 'jam roly-poly', 'hochzeitssuppe', 'mucenici', 'ema datshi', 'ngo hiang', 'jello salad', 'claypot chicken rice', 'maeun-tang', 'cifantuan', 'rhubarb pie', 'olla podrida', 'har gow', 'sayur lodeh', 'memela', 'wenchang chicken', 'galinhada', 'lecsó', 'gypsy tart', 'bougatsa', 'germknödel', 'haystack', 'yule log', 'butter cookie', 'chicken à la king', 'méchoui', 'croquette', 'shami kebab', 'chicken and waffles', 'poke', 'punsch-roll', 'turtle soup', 'kansar', 'glamorgan sausage', 'mango pudding', 'bánh canh', 'caparrones', 'zopf', 'bath bun', 'chelsea bun', 'london bun', 'saffron bun', 'chakhchoukha', 'angel food cake', 'lalab', 'suckling pig', 'barmbrack', 'kotlet schabowy', 'pastel de nata', 'shave ice', 'tipsy cake', 'creamed eggs on toast', 'kerak telor', 'ogok-bap', 'mortadella', 'nut roll', 'fried green tomatoes', 'beondegi', 'tsoureki', 'tiropita', 'pljeskavica', 'karađorđeva šnicla', 'kokoretsi', 'skilpadjies', 'corn chowder', 'tarhana', 'tufahije', 'birria', 'veal orloff', 'fattoush', 'pane carasau', 'rab cake', 'buffalo burger', 'treacle tart', 'hamburger', 'stamppot', 'kopytka', 'khai yat sai', 'minchee', 'kinema', 'sgabeo', 'chili dog', 'spaghetti alle vongole', 'bavarian cream', 'bhaji', 'kachori', 'chowder', 'scotch broth', 'pea soup', 'kitfo', 'gored gored', 'bánh chưng', 'bún bò huế', 'bò 7 món', 'cơm tấm', 'ambrosia', 'rönttönen', 'balchão', 'gibassier', 'bacalhau à zé do pipo', 'pane di altamura', 'mykyrokka', 'paska', 'blackberry pie', 'mince pie', 'corn cookie', 'francesinha poveira', 'picadillo', 'runeberg torte', 'khakhra', 'ohn no khao swè', 'sultsina', '/m/0crv0m', 'paella', 'espetada', 'pathiri', 'horumonyaki', 'khubz', 'ciorbă', 'kimchi-buchimgae', 'sesame chicken', 'thukpa', 'chwinamul', 'kabuni', 'jhunka', 'jolada rotti', 'spoonbread', 'kulich', 'phat khing', 'namasu', 'wonton noodles', 'johnnycake', 'panellets', 'manjū', 'mandi', 'fortune cookie', 'noppe', 'slavink', 'cockle bread', 'caruru', 'chả lụa', 'pan bagnat', 'sardenara', 'enchilada', 'sausage sandwich', 'pistachio pudding', 'chikki', 'champorado', 'coconut cake', 'kaassoufflé', 'carne pizzaiola', 'khauk swè thoke', 'gamja-tang', 'kadhi', 'green bean casserole', 'apple dumpling', 'cozonac', 'pissaladière', 'phat si-io', 'drunken noodles', 'jing jiang rou si', 'enduri pitha', 'kakara pitha', 'tarta de santiago', '/m/0dn9nd', 'sheftalia', 'soybean sprout', 'italian hot dog', 'makchang', 'meeshay', 'bacalhau com natas', 'mazurek', 'nan gyi thohk', 'ajapsandali', 'carac', 'mont di', 'geng', 'vispipuuro', 'bakso', 'canjica', 'fougasse', \"fool's gold loaf\", 'blueberry pie', 'pickled cucumber', 'ogbono soup', 'champ', 'oysters en brochette', 'paskha', 'shish taouk', 'acarajé', 'ras malai', 'san-nakji', 'bungeo-ppang', 'skilandis', 'gosh-e fil', 'nasi dagang', 'gheimeh', 'fesenjān', 'bacalhau à gomes de sá', 'fårikål', 'bedfordshire clanger', 'tonkatsu', 'thai fried rice', 'manakish', 'schweinshaxe', 'chorba', 'oliebol', 'ropa vieja', 'natchitoches meat pie', 'icebox cake', 'sorrel soup', 'lahoh', 'bolillo', 'mollete', 'caldeirada', 'ogi', 'watergate salad', 'yaksik', 'half-smoke', 'dakos', 'sweet potato pie', 'cappon magro', 'serundeng', 'rijstevlaai', 'ajoblanco', 'yaka mein', 'jujeh kabab', 'soy egg', 'shuizhu', 'puliyogare', 'sago', 'laulau', 'curtido', 'tapai', 'press cake', 'cuchifritos', 'vlaai', 'malvern pudding', 'baklava', 'cheese dog', 'luchi', 'cowboy beans', 'sandesh', 'steak diane', 'lobster stew', 'finikia', 'bibingka', 'tafelspitz', 'ploye', 'sayur asem', 'trinxat', 'nikuman', 'cozido à portuguesa', 'bacalhau à brás', 'tomato compote', 'sesame seed candy', 'dhebra', 'kaeng pa', 'mas riha', 'zosui', 'yassa', 'pambazo', 'imarti', 'bacalhau com todos', 'black pepper crab', 'queso flameado', 'black and white cookie', 'red braised pork belly', 'krofne', 'uštipci', 'rožata', 'punjena paprika', 'fusi', 'maneštra', 'kroštule', 'fritule', 'protein bar', 'cordon bleu', 'pirog', 'pachi pulusu', 'frigărui', 'chhena poda', 'poornalu', 'ponganalu', 'bing', 'flaouna', 'chakodi', 'aloo paratha', 'konro', 'cemita', 'asinan', 'broa', 'trifle', 'rat na', 'borlengo', 'gazpachuelo', 'esterházy torte', 'magenbrot', 'detroit-style pizza', 'fuling jiabing', 'lakhamari', 'mućkalica', 'sukhdi', 'kilishi', 'baji', 'peanut butter cookie', 'rabbit pie', \"paling in 't groen\", 'chataamari', 'lawar', 'arisa pitha', 'empal gentong', 'carne asada fries', 'takikomi gohan', 'kamameshi', 'pasta salad', 'fasole cu cârnați', 'zelnik', 'plăcintă', 'tongseng', 'soto mie', 'sarburma', 'lutefisk', 'khichdi', 'briouat', 'chili burger', 'bolo de mel', 'clootie', 'seswaa', 'tahu sumedang', 'pichelsteiner', 'bread soup', 'scotcheroos', 'kartoffelkäse', 'schuxen', 'caramel', 'zwetschgenkuchen', 'alloco', 'vangibath', 'torricado', 'phat phrik khing', 'tomato and egg soup', '/m/0h65ym4', 'spanakorizo', 'ostropel', 'tamale', 'seattle-style hot dog', 'ammonia cookie', 'boston baked beans', 'amandine', 'duck blood and vermicelli soup', 'azerbaijani pakhlava', 'bakwan', 'wallenbergare', 'pastry', 'melomakarono', 'cocido lebaniego', 'koi', 'stir-fried tomato and scrambled eggs', 'flæskesteg', \"beggar's chicken\", '/m/0hzpvf0', 'konkonte', 'stuffed squash', 'kaeng som', 'kentucky jam cake', 'murături', 'tochitură', 'urap', 'cornulețe', 'quad city-style pizza', 'paneer tikka', 'ciorbă de perișoare', '/m/0j66841', 'shaker lemon pie', 'doodhpak', 'ceviche', 'cabbage soup', 'nasi timbel', 'pa amb tomàquet', 'escalivada', 'međimurska gibanica', 'khanom chan', 'ohaw', 'baghrir', 'hummingbird cake', 'neapolitan pizza', 'doughnut', 'hummus', 'nimono', 'chocolate chip cookie', 'bún ốc', 'cheese straw', 'sausage', 'frogeye salad', 'senate bean soup', 'botifarra', 'leberknödel', 'laziji', 'quzi', 'chazuke', 'sandwich', 'blt', 'chikhirtma', 'pico de gallo', 'oden', 'tostada', 'chilaquiles', 'cocido montañés', 'lontong cap go meh', 'porra antequerana', 'kedjenou', 'tourin', 'attiéké', 'dak-bokkeum-tang', 'žemlovka', 'dovga', 'rice and gravy', 'sai ua', 'nam ngiao', 'kaeng khae', 'kaeng tai pla', 'dim sum', 'tahri', 'bolo do caco', 'buffalo wing', 'pustakari', 'pieds paquets', 'tinginys', 'sunnundallu', 'lapskaus', 'caldo tlalpeño', 'milho frito', 'kalu dodol', 'poppyseed muffin', 'peanut soup', 'tarte à la bouillie', 'caldo gallego', 'samay baji', 'limburger sandwich', 'huachinango a la veracruzana', 'sambal stingray', 'kuluban', 'modjeska', 'pan dulce', 'florina pepper', 'oysters bienville', 'cronut', 'duck rice', 'sulu köfte', 'toyga soup', 'majjige huli', 'ikan goreng', 'lekor', 'ciulama', 'ayam bakar', 'hinava', 'waakye', 'salbute', 'kuchmachi', 'kibinai', 'lobiani', 'chanakhi', 'baghali ghatogh', 'pkhali', 'poc chuc', 'bionico', 'bamischijf', 'racuchy', 'kuurdak', 'hokkien fried rice', 'mu kratha', 'thong yip', 'zuppa toscana', 'dhindo', 'thiakry', 'kondowole']\n"
          ]
        }
      ]
    },
    {
      "cell_type": "markdown",
      "source": [
        "### Load the dish's photo and convert it into a numpy array"
      ],
      "metadata": {
        "id": "pgRgQOPx1LRD"
      }
    },
    {
      "cell_type": "code",
      "source": [
        "#image = np.asarray(cv2.imread(mysterious_food_url), dtype=\"float\") # After reading in the image data will be stored in a cv::Mat object.\n",
        "image = np.asarray(io.imread(mysterious_food_url), dtype=\"float\")\n",
        "image.shape"
      ],
      "metadata": {
        "colab": {
          "base_uri": "https://localhost:8080/"
        },
        "id": "EbIvOTsQAIdY",
        "outputId": "d5c73cb1-e4a2-4d41-c328-6f67fff6d07f"
      },
      "execution_count": 322,
      "outputs": [
        {
          "output_type": "execute_result",
          "data": {
            "text/plain": [
              "(588, 900, 3)"
            ]
          },
          "metadata": {},
          "execution_count": 322
        }
      ]
    },
    {
      "cell_type": "code",
      "source": [
        "image"
      ],
      "metadata": {
        "colab": {
          "base_uri": "https://localhost:8080/"
        },
        "id": "XrLDXxmO6FGB",
        "outputId": "cf723bd5-06cd-43fe-fc86-e7e67708fc6b"
      },
      "execution_count": 323,
      "outputs": [
        {
          "output_type": "execute_result",
          "data": {
            "text/plain": [
              "array([[[253., 253., 253.],\n",
              "        [253., 253., 253.],\n",
              "        [253., 253., 253.],\n",
              "        ...,\n",
              "        [239., 231., 242.],\n",
              "        [239., 231., 242.],\n",
              "        [239., 231., 242.]],\n",
              "\n",
              "       [[253., 253., 253.],\n",
              "        [253., 253., 253.],\n",
              "        [253., 253., 253.],\n",
              "        ...,\n",
              "        [239., 231., 242.],\n",
              "        [239., 231., 242.],\n",
              "        [239., 231., 242.]],\n",
              "\n",
              "       [[253., 253., 253.],\n",
              "        [253., 253., 253.],\n",
              "        [253., 253., 253.],\n",
              "        ...,\n",
              "        [239., 231., 242.],\n",
              "        [239., 231., 242.],\n",
              "        [239., 231., 242.]],\n",
              "\n",
              "       ...,\n",
              "\n",
              "       [[239., 238., 244.],\n",
              "        [240., 239., 245.],\n",
              "        [240., 239., 245.],\n",
              "        ...,\n",
              "        [204., 214., 224.],\n",
              "        [201., 211., 221.],\n",
              "        [207., 217., 227.]],\n",
              "\n",
              "       [[239., 238., 244.],\n",
              "        [240., 239., 245.],\n",
              "        [240., 239., 245.],\n",
              "        ...,\n",
              "        [205., 215., 225.],\n",
              "        [205., 215., 225.],\n",
              "        [208., 218., 228.]],\n",
              "\n",
              "       [[239., 238., 244.],\n",
              "        [240., 239., 245.],\n",
              "        [240., 239., 245.],\n",
              "        ...,\n",
              "        [204., 214., 224.],\n",
              "        [205., 215., 225.],\n",
              "        [205., 215., 225.]]])"
            ]
          },
          "metadata": {},
          "execution_count": 323
        }
      ]
    },
    {
      "cell_type": "markdown",
      "source": [
        "### Data Processing"
      ],
      "metadata": {
        "id": "gAv3Sl7z1ZuR"
      }
    },
    {
      "cell_type": "markdown",
      "source": [
        "#### Resizing"
      ],
      "metadata": {
        "id": "1a-hX2UN-mgK"
      }
    },
    {
      "cell_type": "code",
      "source": [
        "image = cv2.resize(image, dsize=input_shape, interpolation=cv2.INTER_CUBIC)\n",
        "image"
      ],
      "metadata": {
        "colab": {
          "base_uri": "https://localhost:8080/"
        },
        "id": "abqLjkS5ji0X",
        "outputId": "0700fc8e-6b54-42dc-8a66-b611664c3c3c"
      },
      "execution_count": 324,
      "outputs": [
        {
          "output_type": "execute_result",
          "data": {
            "text/plain": [
              "array([[[253.        , 253.        , 253.        ],\n",
              "        [253.        , 253.        , 253.        ],\n",
              "        [253.        , 253.        , 253.        ],\n",
              "        ...,\n",
              "        [240.        , 233.        , 240.        ],\n",
              "        [240.        , 233.        , 240.        ],\n",
              "        [239.        , 231.        , 242.        ]],\n",
              "\n",
              "       [[253.        , 253.        , 253.        ],\n",
              "        [253.        , 253.        , 253.        ],\n",
              "        [253.        , 253.        , 253.        ],\n",
              "        ...,\n",
              "        [240.        , 233.        , 240.        ],\n",
              "        [240.        , 233.        , 240.        ],\n",
              "        [239.        , 232.1038208 , 239.7923584 ]],\n",
              "\n",
              "       [[253.        , 253.        , 253.        ],\n",
              "        [253.        , 253.        , 253.        ],\n",
              "        [253.        , 253.        , 253.        ],\n",
              "        ...,\n",
              "        [240.        , 233.        , 240.        ],\n",
              "        [240.        , 233.        , 240.        ],\n",
              "        [239.00000918, 232.00000918, 239.95032656]],\n",
              "\n",
              "       ...,\n",
              "\n",
              "       [[238.49330229, 237.49330229, 243.49330229],\n",
              "        [236.90151119, 235.90151119, 241.90151119],\n",
              "        [237.46674104, 236.46674104, 242.46674104],\n",
              "        ...,\n",
              "        [195.60239624, 205.60239624, 215.60239624],\n",
              "        [197.24551665, 207.24551665, 217.24551665],\n",
              "        [208.83372665, 218.83372665, 228.83372665]],\n",
              "\n",
              "       [[239.40489107, 238.40489107, 244.40489107],\n",
              "        [237.80148836, 236.80148836, 242.80148836],\n",
              "        [237.20077379, 236.20077379, 242.20077379],\n",
              "        ...,\n",
              "        [194.94108636, 204.94108636, 214.94108636],\n",
              "        [202.05100674, 212.05100674, 222.05100674],\n",
              "        [191.48718905, 201.48718905, 211.48718905]],\n",
              "\n",
              "       [[240.09204674, 239.09204674, 245.09204674],\n",
              "        [238.47989118, 237.47989118, 243.47989118],\n",
              "        [237.        , 236.        , 242.        ],\n",
              "        ...,\n",
              "        [207.45953633, 217.45953633, 227.45953633],\n",
              "        [209.32308257, 219.32308257, 229.32308257],\n",
              "        [204.84759767, 214.84759767, 224.84759767]]])"
            ]
          },
          "metadata": {},
          "execution_count": 324
        }
      ]
    },
    {
      "cell_type": "markdown",
      "source": [
        "#### Scale values to [0, 1]."
      ],
      "metadata": {
        "id": "VxmxUyUc4hwS"
      }
    },
    {
      "cell_type": "code",
      "source": [
        "# Scale values to [0, 1].\n",
        "image = image / image.max()\n",
        "image"
      ],
      "metadata": {
        "colab": {
          "base_uri": "https://localhost:8080/"
        },
        "id": "qiTjCP9ljqE6",
        "outputId": "edabae27-d6ac-4677-d03d-92ff8a6c2820"
      },
      "execution_count": 325,
      "outputs": [
        {
          "output_type": "execute_result",
          "data": {
            "text/plain": [
              "array([[[0.9345038 , 0.9345038 , 0.9345038 ],\n",
              "        [0.9345038 , 0.9345038 , 0.9345038 ],\n",
              "        [0.9345038 , 0.9345038 , 0.9345038 ],\n",
              "        ...,\n",
              "        [0.88648582, 0.86062998, 0.88648582],\n",
              "        [0.88648582, 0.86062998, 0.88648582],\n",
              "        [0.88279213, 0.8532426 , 0.8938732 ]],\n",
              "\n",
              "       [[0.9345038 , 0.9345038 , 0.9345038 ],\n",
              "        [0.9345038 , 0.9345038 , 0.9345038 ],\n",
              "        [0.9345038 , 0.9345038 , 0.9345038 ],\n",
              "        ...,\n",
              "        [0.88648582, 0.86062998, 0.88648582],\n",
              "        [0.88648582, 0.86062998, 0.88648582],\n",
              "        [0.88279213, 0.85731978, 0.88571886]],\n",
              "\n",
              "       [[0.9345038 , 0.9345038 , 0.9345038 ],\n",
              "        [0.9345038 , 0.9345038 , 0.9345038 ],\n",
              "        [0.9345038 , 0.9345038 , 0.9345038 ],\n",
              "        ...,\n",
              "        [0.88648582, 0.86062998, 0.88648582],\n",
              "        [0.88648582, 0.86062998, 0.88648582],\n",
              "        [0.88279216, 0.85693633, 0.88630234]],\n",
              "\n",
              "       ...,\n",
              "\n",
              "       [[0.88092054, 0.87722685, 0.899389  ],\n",
              "        [0.87504096, 0.87134727, 0.89350942],\n",
              "        [0.87712874, 0.87343505, 0.8955972 ],\n",
              "        ...,\n",
              "        [0.72249479, 0.7594317 , 0.79636861],\n",
              "        [0.72856397, 0.76550088, 0.80243779],\n",
              "        [0.77136724, 0.80830415, 0.84524106]],\n",
              "\n",
              "       [[0.88428767, 0.88059398, 0.90275613],\n",
              "        [0.8783652 , 0.87467151, 0.89683365],\n",
              "        [0.87614634, 0.87245265, 0.8946148 ],\n",
              "        ...,\n",
              "        [0.72005212, 0.75698903, 0.79392594],\n",
              "        [0.74631397, 0.78325088, 0.82018779],\n",
              "        [0.70729449, 0.7442314 , 0.78116831]],\n",
              "\n",
              "       [[0.88682581, 0.88313212, 0.90529427],\n",
              "        [0.88087101, 0.87717732, 0.89933946],\n",
              "        [0.87540475, 0.87171106, 0.8938732 ],\n",
              "        ...,\n",
              "        [0.76629141, 0.80322831, 0.84016522],\n",
              "        [0.77317477, 0.81011168, 0.84704859],\n",
              "        [0.75664371, 0.79358062, 0.83051753]]])"
            ]
          },
          "metadata": {},
          "execution_count": 325
        }
      ]
    },
    {
      "cell_type": "markdown",
      "source": [
        "#### The model expects an input of (?, 224, 224, 3)."
      ],
      "metadata": {
        "id": "TjB5Y0877FgI"
      }
    },
    {
      "cell_type": "code",
      "source": [
        "# The model expects an input of (?, 224, 224, 3).\n",
        "images = np.expand_dims(image, 0)\n",
        "images.shape"
      ],
      "metadata": {
        "colab": {
          "base_uri": "https://localhost:8080/"
        },
        "id": "w69YuxrCjuWz",
        "outputId": "6ccf40d5-dc25-469b-f6e7-4de3d4c1f74e"
      },
      "execution_count": 326,
      "outputs": [
        {
          "output_type": "execute_result",
          "data": {
            "text/plain": [
              "(1, 224, 224, 3)"
            ]
          },
          "metadata": {},
          "execution_count": 326
        }
      ]
    },
    {
      "cell_type": "markdown",
      "source": [
        "#### Let's see how we go"
      ],
      "metadata": {
        "id": "9f-gt82T7JQD"
      }
    },
    {
      "cell_type": "code",
      "source": [
        "images"
      ],
      "metadata": {
        "colab": {
          "base_uri": "https://localhost:8080/"
        },
        "id": "x06obE2d63vB",
        "outputId": "568e30c7-53bd-4762-8ef6-92a4486faf9d"
      },
      "execution_count": 327,
      "outputs": [
        {
          "output_type": "execute_result",
          "data": {
            "text/plain": [
              "array([[[[0.9345038 , 0.9345038 , 0.9345038 ],\n",
              "         [0.9345038 , 0.9345038 , 0.9345038 ],\n",
              "         [0.9345038 , 0.9345038 , 0.9345038 ],\n",
              "         ...,\n",
              "         [0.88648582, 0.86062998, 0.88648582],\n",
              "         [0.88648582, 0.86062998, 0.88648582],\n",
              "         [0.88279213, 0.8532426 , 0.8938732 ]],\n",
              "\n",
              "        [[0.9345038 , 0.9345038 , 0.9345038 ],\n",
              "         [0.9345038 , 0.9345038 , 0.9345038 ],\n",
              "         [0.9345038 , 0.9345038 , 0.9345038 ],\n",
              "         ...,\n",
              "         [0.88648582, 0.86062998, 0.88648582],\n",
              "         [0.88648582, 0.86062998, 0.88648582],\n",
              "         [0.88279213, 0.85731978, 0.88571886]],\n",
              "\n",
              "        [[0.9345038 , 0.9345038 , 0.9345038 ],\n",
              "         [0.9345038 , 0.9345038 , 0.9345038 ],\n",
              "         [0.9345038 , 0.9345038 , 0.9345038 ],\n",
              "         ...,\n",
              "         [0.88648582, 0.86062998, 0.88648582],\n",
              "         [0.88648582, 0.86062998, 0.88648582],\n",
              "         [0.88279216, 0.85693633, 0.88630234]],\n",
              "\n",
              "        ...,\n",
              "\n",
              "        [[0.88092054, 0.87722685, 0.899389  ],\n",
              "         [0.87504096, 0.87134727, 0.89350942],\n",
              "         [0.87712874, 0.87343505, 0.8955972 ],\n",
              "         ...,\n",
              "         [0.72249479, 0.7594317 , 0.79636861],\n",
              "         [0.72856397, 0.76550088, 0.80243779],\n",
              "         [0.77136724, 0.80830415, 0.84524106]],\n",
              "\n",
              "        [[0.88428767, 0.88059398, 0.90275613],\n",
              "         [0.8783652 , 0.87467151, 0.89683365],\n",
              "         [0.87614634, 0.87245265, 0.8946148 ],\n",
              "         ...,\n",
              "         [0.72005212, 0.75698903, 0.79392594],\n",
              "         [0.74631397, 0.78325088, 0.82018779],\n",
              "         [0.70729449, 0.7442314 , 0.78116831]],\n",
              "\n",
              "        [[0.88682581, 0.88313212, 0.90529427],\n",
              "         [0.88087101, 0.87717732, 0.89933946],\n",
              "         [0.87540475, 0.87171106, 0.8938732 ],\n",
              "         ...,\n",
              "         [0.76629141, 0.80322831, 0.84016522],\n",
              "         [0.77317477, 0.81011168, 0.84704859],\n",
              "         [0.75664371, 0.79358062, 0.83051753]]]])"
            ]
          },
          "metadata": {},
          "execution_count": 327
        }
      ]
    },
    {
      "cell_type": "markdown",
      "source": [
        "### Let's pass our numpy array to our Keras model"
      ],
      "metadata": {
        "id": "8g62mJKA7wtR"
      }
    },
    {
      "cell_type": "code",
      "source": [
        "output = m(images)\n",
        "type(output)"
      ],
      "metadata": {
        "colab": {
          "base_uri": "https://localhost:8080/"
        },
        "id": "qarFAM5jjznP",
        "outputId": "ca901144-ae72-4cdb-9841-f4e8518044ac"
      },
      "execution_count": 328,
      "outputs": [
        {
          "output_type": "execute_result",
          "data": {
            "text/plain": [
              "tensorflow.python.framework.ops.EagerTensor"
            ]
          },
          "metadata": {},
          "execution_count": 328
        }
      ]
    },
    {
      "cell_type": "markdown",
      "source": [
        "### Now we have a Tensor!"
      ],
      "metadata": {
        "id": "RxNj4p7C8NK0"
      }
    },
    {
      "cell_type": "code",
      "source": [
        "print(output)"
      ],
      "metadata": {
        "colab": {
          "base_uri": "https://localhost:8080/"
        },
        "id": "UpLYjfAG8EKS",
        "outputId": "82602347-3cdd-46ed-b008-2282baed5b36"
      },
      "execution_count": 329,
      "outputs": [
        {
          "output_type": "stream",
          "name": "stdout",
          "text": [
            "tf.Tensor(\n",
            "[[1.3755466e-11 3.1406493e-08 4.5174867e-10 ... 2.1996420e-09\n",
            "  8.2277585e-10 9.7932712e-12]], shape=(1, 2024), dtype=float32)\n"
          ]
        }
      ]
    },
    {
      "cell_type": "code",
      "source": [
        "output.numpy()"
      ],
      "metadata": {
        "colab": {
          "base_uri": "https://localhost:8080/"
        },
        "id": "MTgkv7Do8TLp",
        "outputId": "32a21178-c0b3-4a62-82b3-141fa997b2b7"
      },
      "execution_count": 330,
      "outputs": [
        {
          "output_type": "execute_result",
          "data": {
            "text/plain": [
              "array([[1.3755466e-11, 3.1406493e-08, 4.5174867e-10, ..., 2.1996420e-09,\n",
              "        8.2277585e-10, 9.7932712e-12]], dtype=float32)"
            ]
          },
          "metadata": {},
          "execution_count": 330
        }
      ]
    },
    {
      "cell_type": "markdown",
      "source": [
        "### Let's find the max value in the numpy array version of this tensor"
      ],
      "metadata": {
        "id": "CBffPb_B8xdh"
      }
    },
    {
      "cell_type": "code",
      "source": [
        "predicted_index = output.numpy().argmax()\n",
        "print(predicted_index)"
      ],
      "metadata": {
        "colab": {
          "base_uri": "https://localhost:8080/"
        },
        "id": "m7sm8bXjj5zg",
        "outputId": "583917bf-a840-4d84-d966-437cbfd5d012"
      },
      "execution_count": 331,
      "outputs": [
        {
          "output_type": "stream",
          "name": "stdout",
          "text": [
            "1923\n"
          ]
        }
      ]
    },
    {
      "cell_type": "markdown",
      "source": [
        "### The prediction"
      ],
      "metadata": {
        "id": "-4MSVidL_kso"
      }
    },
    {
      "cell_type": "code",
      "source": [
        "# The prediction\n",
        "print(\"And voilà! this is what you're eating: \", classes[predicted_index])\n",
        "print(\"🍽😋\")"
      ],
      "metadata": {
        "colab": {
          "base_uri": "https://localhost:8080/"
        },
        "id": "rNFFtuChkBDm",
        "outputId": "f11ab80b-900f-4a39-9044-70e7e5dd1f9e"
      },
      "execution_count": 332,
      "outputs": [
        {
          "output_type": "stream",
          "name": "stdout",
          "text": [
            "And voilà! this is what you're eating:  ceviche\n",
            "🍽😋\n"
          ]
        }
      ]
    },
    {
      "cell_type": "markdown",
      "source": [
        "---\n",
        "If you made it this far, follow [David Regalado](https://beacons.ai/davidregalado) for more code!"
      ],
      "metadata": {
        "id": "lzVV3o3fMich"
      }
    },
    {
      "cell_type": "code",
      "source": [],
      "metadata": {
        "id": "UuawaQyjMwlF"
      },
      "execution_count": 332,
      "outputs": []
    }
  ]
}