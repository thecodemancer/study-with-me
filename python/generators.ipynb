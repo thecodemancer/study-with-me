{
  "nbformat": 4,
  "nbformat_minor": 0,
  "metadata": {
    "colab": {
      "provenance": [],
      "authorship_tag": "ABX9TyMAZhUK08iiN9VfkNdtWQHx",
      "include_colab_link": true
    },
    "kernelspec": {
      "name": "python3",
      "display_name": "Python 3"
    },
    "language_info": {
      "name": "python"
    }
  },
  "cells": [
    {
      "cell_type": "markdown",
      "metadata": {
        "id": "view-in-github",
        "colab_type": "text"
      },
      "source": [
        "<a href=\"https://colab.research.google.com/github/thecodemancer/study-with-me/blob/main/python/generators.ipynb\" target=\"_parent\"><img src=\"https://colab.research.google.com/assets/colab-badge.svg\" alt=\"Open In Colab\"/></a>"
      ]
    },
    {
      "cell_type": "markdown",
      "source": [
        "Generators allow us to generate as we go along, instead of holding everything in memory.\n",
        "\n",
        " Generator functions allow us to write a function that can send back a value and then later resume to pick up where it left off. This type of function is a generator in Python, allowing us to generate a sequence of values over time. The main difference in syntax will be the use of a yield statement.\n",
        "\n",
        "In most aspects, a generator function will appear very similar to a normal function. The main difference is when a generator function is compiled they become an object that support an iteration protocol. That means when they are called in your code the don't actually return a value and then exit, the generator functions will automatically suspend and resume their execution and state around the last point of value generation. The main advantage here is that instead of having to compute an entire series of values upfront and the generator functions can be suspended, this feature is known as state suspension."
      ],
      "metadata": {
        "id": "9-OnSmCmm5OO"
      }
    },
    {
      "cell_type": "code",
      "execution_count": 4,
      "metadata": {
        "id": "ndXRLYV8mxLf"
      },
      "outputs": [],
      "source": [
        "def multiply_by_two(n):\n",
        "    for num in range(n):\n",
        "        yield num*2"
      ]
    },
    {
      "cell_type": "code",
      "source": [
        "for x in multiply_by_two(10):\n",
        "    print(x)"
      ],
      "metadata": {
        "colab": {
          "base_uri": "https://localhost:8080/"
        },
        "id": "A4e4ZjNVm8ue",
        "outputId": "126c0b89-d58f-4caf-e87d-fd43943a883c"
      },
      "execution_count": 5,
      "outputs": [
        {
          "output_type": "stream",
          "name": "stdout",
          "text": [
            "0\n",
            "2\n",
            "4\n",
            "6\n",
            "8\n",
            "10\n",
            "12\n",
            "14\n",
            "16\n",
            "18\n"
          ]
        }
      ]
    },
    {
      "cell_type": "markdown",
      "source": [
        "Lets create another example generator which calculates fibonacci numbers:"
      ],
      "metadata": {
        "id": "A7aCNJBdn9S4"
      }
    },
    {
      "cell_type": "code",
      "source": [
        "def generate_fibonnaci_with_generator(n):\n",
        "    '''\n",
        "    Generate a fibonnaci sequence up to n\n",
        "    '''\n",
        "    a = 1\n",
        "    b = 1\n",
        "    for i in range(n):\n",
        "        yield a\n",
        "        a,b = b,a+b"
      ],
      "metadata": {
        "id": "4nWQWu9knAIy"
      },
      "execution_count": 7,
      "outputs": []
    },
    {
      "cell_type": "code",
      "source": [
        "for x in generate_fibonnaci_with_generator(10):\n",
        "    print (x)"
      ],
      "metadata": {
        "colab": {
          "base_uri": "https://localhost:8080/"
        },
        "id": "XFeemEx3oASD",
        "outputId": "88334232-94c7-4327-fd62-9729deeff39a"
      },
      "execution_count": 8,
      "outputs": [
        {
          "output_type": "stream",
          "name": "stdout",
          "text": [
            "1\n",
            "1\n",
            "2\n",
            "3\n",
            "5\n",
            "8\n",
            "13\n",
            "21\n",
            "34\n",
            "55\n"
          ]
        }
      ]
    },
    {
      "cell_type": "code",
      "source": [
        "def generate_fibonnaci_with_function(n):\n",
        "    a = 1\n",
        "    b = 1\n",
        "    output = []\n",
        "\n",
        "    for i in range(n):\n",
        "        output.append(a)\n",
        "        a,b = b,a+b\n",
        "\n",
        "    return output"
      ],
      "metadata": {
        "id": "naW1Z-vYoMEC"
      },
      "execution_count": 9,
      "outputs": []
    },
    {
      "cell_type": "code",
      "source": [
        "generate_fibonnaci_with_function(10)"
      ],
      "metadata": {
        "colab": {
          "base_uri": "https://localhost:8080/"
        },
        "id": "X_o51-MTog5i",
        "outputId": "d0ab8394-9b59-45cc-f4ab-be7161c26cf4"
      },
      "execution_count": 10,
      "outputs": [
        {
          "output_type": "execute_result",
          "data": {
            "text/plain": [
              "[1, 1, 2, 3, 5, 8, 13, 21, 34, 55]"
            ]
          },
          "metadata": {},
          "execution_count": 10
        }
      ]
    },
    {
      "cell_type": "markdown",
      "metadata": {
        "id": "Ba3tYIzFYIUD"
      },
      "source": [
        "---\n",
        "If you made it this far, follow [David Regalado](https://beacons.ai/davidregalado) for more code!"
      ]
    }
  ]
}