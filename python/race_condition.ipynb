{
  "nbformat": 4,
  "nbformat_minor": 0,
  "metadata": {
    "colab": {
      "provenance": [],
      "authorship_tag": "ABX9TyNookIBPyUeWyOZRIT9Yt5L",
      "include_colab_link": true
    },
    "kernelspec": {
      "name": "python3",
      "display_name": "Python 3"
    },
    "language_info": {
      "name": "python"
    }
  },
  "cells": [
    {
      "cell_type": "markdown",
      "metadata": {
        "id": "view-in-github",
        "colab_type": "text"
      },
      "source": [
        "<a href=\"https://colab.research.google.com/github/thecodemancer/study-with-me/blob/main/python/race_condition.ipynb\" target=\"_parent\"><img src=\"https://colab.research.google.com/assets/colab-badge.svg\" alt=\"Open In Colab\"/></a>"
      ]
    },
    {
      "cell_type": "markdown",
      "source": [
        "Race conditions occur in multi-threaded or multi-process environments where two or more threads or processes attempt to change shared data simultaneously, leading to unpredictable and incorrect results. This happens because the execution order of the threads is not guaranteed, and thus the operations on shared data can interleave in many ways."
      ],
      "metadata": {
        "id": "fmeaYFRhLLZk"
      }
    },
    {
      "cell_type": "markdown",
      "source": [
        "## Example of Race condition"
      ],
      "metadata": {
        "id": "4rkiNHmWJgPZ"
      }
    },
    {
      "cell_type": "code",
      "execution_count": 8,
      "metadata": {
        "colab": {
          "base_uri": "https://localhost:8080/"
        },
        "id": "I2YTlUNqCxtF",
        "outputId": "540f2667-44c1-402c-c783-c2a15fb4ac58"
      },
      "outputs": [
        {
          "output_type": "stream",
          "name": "stdout",
          "text": [
            "Final counter value: 100008\n"
          ]
        }
      ],
      "source": [
        "import threading\n",
        "import time\n",
        "import random\n",
        "import math\n",
        "\n",
        "# Shared variable\n",
        "counter = 0\n",
        "\n",
        "# Function to increment the counter\n",
        "def increment():\n",
        "    global counter\n",
        "    for _ in range(100000):\n",
        "        temp = counter\n",
        "        time.sleep(random.randint(0,99)/1000000)  # Small delay to simulate processing time and force context switch\n",
        "        counter = temp + 1\n",
        "\n",
        "# Creating threads\n",
        "thread1 = threading.Thread(target=increment)\n",
        "thread2 = threading.Thread(target=increment)\n",
        "\n",
        "# Starting threads\n",
        "thread1.start()\n",
        "thread2.start()\n",
        "\n",
        "# Waiting for threads to finish\n",
        "thread1.join()\n",
        "thread2.join()\n",
        "\n",
        "# The expected value of counter is 200000\n",
        "print(f\"Final counter value: {counter}\")\n"
      ]
    },
    {
      "cell_type": "markdown",
      "source": [
        "## Solving the Race condition by using Locks"
      ],
      "metadata": {
        "id": "y5cK-JMhJaY-"
      }
    },
    {
      "cell_type": "code",
      "source": [
        "import threading\n",
        "import time\n",
        "\n",
        "# Shared variable\n",
        "counter = 0\n",
        "\n",
        "# Creating a lock object\n",
        "lock = threading.Lock()\n",
        "\n",
        "# Function to increment the counter\n",
        "def increment():\n",
        "    global counter\n",
        "    for _ in range(100000):\n",
        "        with lock:\n",
        "            temp = counter\n",
        "            time.sleep(random.randint(0,99)/1000000)  # Small delay to simulate processing time and force context switch\n",
        "            counter = temp + 1\n",
        "\n",
        "# Creating threads\n",
        "thread1 = threading.Thread(target=increment)\n",
        "thread2 = threading.Thread(target=increment)\n",
        "\n",
        "# Starting threads\n",
        "thread1.start()\n",
        "thread2.start()\n",
        "\n",
        "# Waiting for threads to finish\n",
        "thread1.join()\n",
        "thread2.join()\n",
        "\n",
        "# The expected value of counter is reliably 200000 with the lock preventing race conditions\n",
        "print(f\"Final counter value (with lock): {counter}\")\n"
      ],
      "metadata": {
        "colab": {
          "base_uri": "https://localhost:8080/"
        },
        "id": "ov-JKJiyJbHn",
        "outputId": "ab6093d0-93af-4956-87f4-c460b3d074fc"
      },
      "execution_count": 9,
      "outputs": [
        {
          "output_type": "stream",
          "name": "stdout",
          "text": [
            "Final counter value (with lock): 200000\n"
          ]
        }
      ]
    },
    {
      "cell_type": "markdown",
      "metadata": {
        "id": "Ba3tYIzFYIUD"
      },
      "source": [
        "---\n",
        "If you made it this far, follow [David Regalado](https://beacons.ai/davidregalado) for more code!"
      ]
    }
  ]
}