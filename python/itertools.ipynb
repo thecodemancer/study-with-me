{
  "nbformat": 4,
  "nbformat_minor": 0,
  "metadata": {
    "colab": {
      "name": "itertools.ipynb",
      "provenance": [],
      "authorship_tag": "ABX9TyNYjCOz+x5dv7k+WyCwAWv/",
      "include_colab_link": true
    },
    "kernelspec": {
      "name": "python3",
      "display_name": "Python 3"
    },
    "language_info": {
      "name": "python"
    }
  },
  "cells": [
    {
      "cell_type": "markdown",
      "metadata": {
        "id": "view-in-github",
        "colab_type": "text"
      },
      "source": [
        "<a href=\"https://colab.research.google.com/github/thecodemancer/study-with-me/blob/main/python/itertools.ipynb\" target=\"_parent\"><img src=\"https://colab.research.google.com/assets/colab-badge.svg\" alt=\"Open In Colab\"/></a>"
      ]
    },
    {
      "cell_type": "markdown",
      "source": [
        "# Itertools\n",
        "\n",
        "Module with additional tools and functionalities to work with iterables and data containers.\n",
        "\n",
        "\n",
        "\n",
        "* chain\n",
        "* permutation\n",
        "* combinations\n",
        "* product\n",
        "\n"
      ],
      "metadata": {
        "id": "keNm2wLz-Bub"
      }
    },
    {
      "cell_type": "markdown",
      "source": [
        "## chain"
      ],
      "metadata": {
        "id": "jgT3r8WJ_TrT"
      }
    },
    {
      "cell_type": "code",
      "execution_count": null,
      "metadata": {
        "id": "rtFcxTKO94qt"
      },
      "outputs": [],
      "source": [
        "from itertools import chain"
      ]
    },
    {
      "cell_type": "code",
      "source": [
        "a = [\n",
        " [\"this\", \"a\", \"sentence\"],\n",
        " [\"this\", \"is\", \"my\", \"sentence\"]\n",
        "]\n",
        "print(a)"
      ],
      "metadata": {
        "colab": {
          "base_uri": "https://localhost:8080/"
        },
        "id": "PZ2YGo25-KBD",
        "outputId": "7899c704-d7de-44a3-ed5f-142419775e22"
      },
      "execution_count": null,
      "outputs": [
        {
          "output_type": "stream",
          "name": "stdout",
          "text": [
            "[['this', 'a', 'sentence'], ['this', 'is', 'my', 'sentence']]\n"
          ]
        }
      ]
    },
    {
      "cell_type": "code",
      "source": [
        "b=list(chain.from_iterable(a))\n",
        "print(b)"
      ],
      "metadata": {
        "colab": {
          "base_uri": "https://localhost:8080/"
        },
        "id": "aDGPEP3W-afp",
        "outputId": "ea78be08-21a2-41e2-c28e-70aeef5a61e3"
      },
      "execution_count": null,
      "outputs": [
        {
          "output_type": "stream",
          "name": "stdout",
          "text": [
            "['this', 'a', 'sentence', 'this', 'is', 'my', 'sentence']\n"
          ]
        }
      ]
    },
    {
      "cell_type": "markdown",
      "source": [
        "Imagine a case where we have a list with thousands of sentences and we want to chain them together to find the unique words from all of them.\n",
        "those phrases. We could easily chain the nested lists and use the set method to get the resulting chained list."
      ],
      "metadata": {
        "id": "x2h6v516_GWB"
      }
    },
    {
      "cell_type": "code",
      "source": [
        "c=set(b)\n",
        "print(c)"
      ],
      "metadata": {
        "colab": {
          "base_uri": "https://localhost:8080/"
        },
        "id": "ghKH6HWs-fV0",
        "outputId": "d6f7373f-8244-493e-ae6a-fb737a3dbdaf"
      },
      "execution_count": null,
      "outputs": [
        {
          "output_type": "stream",
          "name": "stdout",
          "text": [
            "{'sentence', 'is', 'my', 'this', 'a'}\n"
          ]
        }
      ]
    },
    {
      "cell_type": "markdown",
      "source": [
        "## permutation\n",
        "\n",
        "Permutations find all possible combinations, ordered, of a collection of data. The second parameter is the\n",
        "number of items in each combination. For example, 2 will find all possible permutations of 2 items for our container of\n",
        "data."
      ],
      "metadata": {
        "id": "vnyBfgka_oyK"
      }
    },
    {
      "cell_type": "code",
      "source": [
        "from itertools import permutations"
      ],
      "metadata": {
        "id": "KuEuUij2_Jzq"
      },
      "execution_count": null,
      "outputs": []
    },
    {
      "cell_type": "code",
      "source": [
        "list_abc = ['a','b','c']\n",
        "list (permutations(list_abc, 2))"
      ],
      "metadata": {
        "colab": {
          "base_uri": "https://localhost:8080/"
        },
        "id": "6DwYxZ45_KaV",
        "outputId": "bbe8daf6-551c-4c35-a206-0aea46a72029"
      },
      "execution_count": null,
      "outputs": [
        {
          "output_type": "execute_result",
          "data": {
            "text/plain": [
              "[('a', 'b'), ('a', 'c'), ('b', 'a'), ('b', 'c'), ('c', 'a'), ('c', 'b')]"
            ]
          },
          "metadata": {},
          "execution_count": 6
        }
      ]
    },
    {
      "cell_type": "code",
      "source": [
        "list (permutations(list_abc, 3))"
      ],
      "metadata": {
        "colab": {
          "base_uri": "https://localhost:8080/"
        },
        "id": "t3TuckleAK1_",
        "outputId": "4d8373eb-c23d-47d0-8ae8-5926636c5af3"
      },
      "execution_count": null,
      "outputs": [
        {
          "output_type": "execute_result",
          "data": {
            "text/plain": [
              "[('a', 'b', 'c'),\n",
              " ('a', 'c', 'b'),\n",
              " ('b', 'a', 'c'),\n",
              " ('b', 'c', 'a'),\n",
              " ('c', 'a', 'b'),\n",
              " ('c', 'b', 'a')]"
            ]
          },
          "metadata": {},
          "execution_count": 7
        }
      ]
    },
    {
      "cell_type": "markdown",
      "source": [
        "## combinations\n",
        "\n",
        "they are similar to permutations, but regardless of the order."
      ],
      "metadata": {
        "id": "_zRodU6eArDa"
      }
    },
    {
      "cell_type": "code",
      "source": [
        "from itertools import combinations"
      ],
      "metadata": {
        "id": "udULJf1tAJJh"
      },
      "execution_count": null,
      "outputs": []
    },
    {
      "cell_type": "code",
      "source": [
        "list_abc = ['a','b','c']\n",
        "list (combinations(list_abc, 2))"
      ],
      "metadata": {
        "colab": {
          "base_uri": "https://localhost:8080/"
        },
        "id": "uOTpDCgMAzu9",
        "outputId": "7fad72d4-0ad2-49d3-faf7-a09f15f2b508"
      },
      "execution_count": null,
      "outputs": [
        {
          "output_type": "execute_result",
          "data": {
            "text/plain": [
              "[('a', 'b'), ('a', 'c'), ('b', 'c')]"
            ]
          },
          "metadata": {},
          "execution_count": 9
        }
      ]
    },
    {
      "cell_type": "code",
      "source": [
        "list_abc = ['a','b','c']\n",
        "list (combinations(list_abc, 3))"
      ],
      "metadata": {
        "colab": {
          "base_uri": "https://localhost:8080/"
        },
        "id": "P45vnW-lA4Qp",
        "outputId": "2fc70943-a039-4cbf-8748-4b325cf60208"
      },
      "execution_count": null,
      "outputs": [
        {
          "output_type": "execute_result",
          "data": {
            "text/plain": [
              "[('a', 'b', 'c')]"
            ]
          },
          "metadata": {},
          "execution_count": 10
        }
      ]
    },
    {
      "cell_type": "markdown",
      "source": [
        "## product\n",
        "\n",
        "matches each element of one iterable with those of another."
      ],
      "metadata": {
        "id": "K7BCIW7gBOAy"
      }
    },
    {
      "cell_type": "code",
      "source": [
        "from itertools import product"
      ],
      "metadata": {
        "id": "GB6gMM4eA7h6"
      },
      "execution_count": null,
      "outputs": []
    },
    {
      "cell_type": "code",
      "source": [
        "list(product(['a','b'], ['c','d']))"
      ],
      "metadata": {
        "colab": {
          "base_uri": "https://localhost:8080/"
        },
        "id": "9cNoa_GwBdsN",
        "outputId": "14ce4406-e288-4d22-8ce8-4e0946820a01"
      },
      "execution_count": null,
      "outputs": [
        {
          "output_type": "execute_result",
          "data": {
            "text/plain": [
              "[('a', 'c'), ('a', 'd'), ('b', 'c'), ('b', 'd')]"
            ]
          },
          "metadata": {},
          "execution_count": 12
        }
      ]
    },
    {
      "cell_type": "code",
      "source": [
        ""
      ],
      "metadata": {
        "id": "igAaHagzBlde"
      },
      "execution_count": null,
      "outputs": []
    }
  ]
}