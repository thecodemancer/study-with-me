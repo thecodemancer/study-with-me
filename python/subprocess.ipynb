{
  "nbformat": 4,
  "nbformat_minor": 0,
  "metadata": {
    "colab": {
      "provenance": [],
      "authorship_tag": "ABX9TyMObDrUqX6JrMazj8dBaI7I",
      "include_colab_link": true
    },
    "kernelspec": {
      "name": "python3",
      "display_name": "Python 3"
    },
    "language_info": {
      "name": "python"
    }
  },
  "cells": [
    {
      "cell_type": "markdown",
      "metadata": {
        "id": "view-in-github",
        "colab_type": "text"
      },
      "source": [
        "<a href=\"https://colab.research.google.com/github/thecodemancer/study-with-me/blob/main/python/subprocess.ipynb\" target=\"_parent\"><img src=\"https://colab.research.google.com/assets/colab-badge.svg\" alt=\"Open In Colab\"/></a>"
      ]
    },
    {
      "cell_type": "markdown",
      "source": [
        "# Subprocess"
      ],
      "metadata": {
        "id": "72uWAVYxSURt"
      }
    },
    {
      "cell_type": "code",
      "source": [
        "import subprocess"
      ],
      "metadata": {
        "id": "Z-YWeBw2Tpy4"
      },
      "execution_count": 4,
      "outputs": []
    },
    {
      "cell_type": "code",
      "source": [
        "def run_command(command):\n",
        "    try:\n",
        "        result = subprocess.run([command], capture_output=True, text=True, check=True, shell=True)\n",
        "        return result.stdout.strip()\n",
        "    except subprocess.CalledProcessError as e:\n",
        "        # Handle error if the command is not found\n",
        "        print(f\"Error: {e}\")\n",
        "        return None\n"
      ],
      "metadata": {
        "id": "di0_m3vbSTj6"
      },
      "execution_count": 19,
      "outputs": []
    },
    {
      "cell_type": "code",
      "source": [
        "command_name = \"which ffprobe\"\n",
        "print(command_name)\n",
        "output = run_command(command_name)\n",
        "print(output)\n"
      ],
      "metadata": {
        "colab": {
          "base_uri": "https://localhost:8080/"
        },
        "id": "V7pz44dsSYKO",
        "outputId": "95c6ea7f-0a37-4ace-d3d6-47d8ab0a301c"
      },
      "execution_count": 21,
      "outputs": [
        {
          "output_type": "stream",
          "name": "stdout",
          "text": [
            "which ffprobe\n",
            "/usr/bin/ffprobe\n"
          ]
        }
      ]
    },
    {
      "cell_type": "code",
      "source": [
        "!ls -l"
      ],
      "metadata": {
        "colab": {
          "base_uri": "https://localhost:8080/"
        },
        "id": "CieJgTbzSZSV",
        "outputId": "f9de30fd-a236-4b4b-b19e-8961970b6cd2"
      },
      "execution_count": 24,
      "outputs": [
        {
          "output_type": "stream",
          "name": "stdout",
          "text": [
            "total 3076\n",
            "-rw-r--r-- 1 root root 3145728 Mar 14 05:13 'ES_All Night Dance - PW.mp3'\n",
            "drwxr-xr-x 1 root root    4096 Mar 12 13:24  sample_data\n"
          ]
        }
      ]
    },
    {
      "cell_type": "code",
      "source": [
        "filename = 'ES_All Night Dance - PW.mp3'"
      ],
      "metadata": {
        "id": "78abR6W1YXik"
      },
      "execution_count": 37,
      "outputs": []
    },
    {
      "cell_type": "code",
      "source": [
        "!ffprobe -of json -v info -show_format -show_streams 'ES_All Night Dance - PW.mp3'"
      ],
      "metadata": {
        "colab": {
          "base_uri": "https://localhost:8080/"
        },
        "id": "cT31kyyMT2iq",
        "outputId": "9562532f-918f-4270-e5be-dd3e334fdf34"
      },
      "execution_count": 41,
      "outputs": [
        {
          "output_type": "stream",
          "name": "stdout",
          "text": [
            "ffprobe version 4.4.2-0ubuntu0.22.04.1 Copyright (c) 2007-2021 the FFmpeg developers\n",
            "  built with gcc 11 (Ubuntu 11.2.0-19ubuntu1)\n",
            "  configuration: --prefix=/usr --extra-version=0ubuntu0.22.04.1 --toolchain=hardened --libdir=/usr/lib/x86_64-linux-gnu --incdir=/usr/include/x86_64-linux-gnu --arch=amd64 --enable-gpl --disable-stripping --enable-gnutls --enable-ladspa --enable-libaom --enable-libass --enable-libbluray --enable-libbs2b --enable-libcaca --enable-libcdio --enable-libcodec2 --enable-libdav1d --enable-libflite --enable-libfontconfig --enable-libfreetype --enable-libfribidi --enable-libgme --enable-libgsm --enable-libjack --enable-libmp3lame --enable-libmysofa --enable-libopenjpeg --enable-libopenmpt --enable-libopus --enable-libpulse --enable-librabbitmq --enable-librubberband --enable-libshine --enable-libsnappy --enable-libsoxr --enable-libspeex --enable-libsrt --enable-libssh --enable-libtheora --enable-libtwolame --enable-libvidstab --enable-libvorbis --enable-libvpx --enable-libwebp --enable-libx265 --enable-libxml2 --enable-libxvid --enable-libzimg --enable-libzmq --enable-libzvbi --enable-lv2 --enable-omx --enable-openal --enable-opencl --enable-opengl --enable-sdl2 --enable-pocketsphinx --enable-librsvg --enable-libmfx --enable-libdc1394 --enable-libdrm --enable-libiec61883 --enable-chromaprint --enable-frei0r --enable-libx264 --enable-shared\n",
            "  libavutil      56. 70.100 / 56. 70.100\n",
            "  libavcodec     58.134.100 / 58.134.100\n",
            "  libavformat    58. 76.100 / 58. 76.100\n",
            "  libavdevice    58. 13.100 / 58. 13.100\n",
            "  libavfilter     7.110.100 /  7.110.100\n",
            "  libswscale      5.  9.100 /  5.  9.100\n",
            "  libswresample   3.  9.100 /  3.  9.100\n",
            "  libpostproc    55.  9.100 / 55.  9.100\n",
            "{\n",
            "Input #0, mp3, from 'ES_All Night Dance - PW.mp3':\n",
            "  Metadata:\n",
            "    title           : All Night Dance\n",
            "    artist          : PØW\n",
            "    genre           : 2010s Pop\n",
            "    TBPM            : 120\n",
            "    composer        : PØW\n",
            "    TIT1            : Happy\n",
            "    TIT3            : Medium\n",
            "    date            : 2023\n",
            "  Duration: 00:02:13.42, start: 0.023021, bitrate: 320 kb/s\n",
            "  Stream #0:0: Audio: mp3, 48000 Hz, stereo, fltp, 320 kb/s\n",
            "    Metadata:\n",
            "      encoder         : LAME3.100\n",
            "    Side data:\n",
            "      replaygain: track gain - -6.700000, track peak - unknown, album gain - unknown, album peak - unknown, \n",
            "    \"streams\": [\n",
            "        {\n",
            "            \"index\": 0,\n",
            "            \"codec_name\": \"mp3\",\n",
            "            \"codec_long_name\": \"MP3 (MPEG audio layer 3)\",\n",
            "            \"codec_type\": \"audio\",\n",
            "            \"codec_tag_string\": \"[0][0][0][0]\",\n",
            "            \"codec_tag\": \"0x0000\",\n",
            "            \"sample_fmt\": \"fltp\",\n",
            "            \"sample_rate\": \"48000\",\n",
            "            \"channels\": 2,\n",
            "            \"channel_layout\": \"stereo\",\n",
            "            \"bits_per_sample\": 0,\n",
            "            \"r_frame_rate\": \"0/0\",\n",
            "            \"avg_frame_rate\": \"0/0\",\n",
            "            \"time_base\": \"1/14112000\",\n",
            "            \"start_pts\": 324870,\n",
            "            \"start_time\": \"0.023021\",\n",
            "            \"duration_ts\": 1882766592,\n",
            "            \"duration\": \"133.416000\",\n",
            "            \"bit_rate\": \"320000\",\n",
            "            \"disposition\": {\n",
            "                \"default\": 0,\n",
            "                \"dub\": 0,\n",
            "                \"original\": 0,\n",
            "                \"comment\": 0,\n",
            "                \"lyrics\": 0,\n",
            "                \"karaoke\": 0,\n",
            "                \"forced\": 0,\n",
            "                \"hearing_impaired\": 0,\n",
            "                \"visual_impaired\": 0,\n",
            "                \"clean_effects\": 0,\n",
            "                \"attached_pic\": 0,\n",
            "                \"timed_thumbnails\": 0\n",
            "            },\n",
            "            \"tags\": {\n",
            "                \"encoder\": \"LAME3.100\"\n",
            "            },\n",
            "            \"side_data_list\": [\n",
            "                {\n",
            "                    \"side_data_type\": \"Replay Gain\"\n",
            "                }\n",
            "            ]\n",
            "        }\n",
            "    ],\n",
            "    \"format\": {\n",
            "        \"filename\": \"ES_All Night Dance - PW.mp3\",\n",
            "        \"nb_streams\": 1,\n",
            "        \"nb_programs\": 0,\n",
            "        \"format_name\": \"mp3\",\n",
            "        \"format_long_name\": \"MP2/3 (MPEG audio layer 2/3)\",\n",
            "        \"start_time\": \"0.023021\",\n",
            "        \"duration\": \"133.416000\",\n",
            "        \"size\": \"5344139\",\n",
            "        \"bit_rate\": \"320449\",\n",
            "        \"probe_score\": 51,\n",
            "        \"tags\": {\n",
            "            \"title\": \"All Night Dance\",\n",
            "            \"artist\": \"PØW\",\n",
            "            \"genre\": \"2010s Pop\",\n",
            "            \"TBPM\": \"120\",\n",
            "            \"composer\": \"PØW\",\n",
            "            \"TIT1\": \"Happy\",\n",
            "            \"TIT3\": \"Medium\",\n",
            "            \"date\": \"2023\"\n",
            "        }\n",
            "    }\n",
            "}\n"
          ]
        }
      ]
    },
    {
      "cell_type": "code",
      "source": [
        "!ls -l .."
      ],
      "metadata": {
        "colab": {
          "base_uri": "https://localhost:8080/"
        },
        "id": "pvURS8PPXbqw",
        "outputId": "a12a11dc-7e2c-494b-c813-c451a6adb703"
      },
      "execution_count": 33,
      "outputs": [
        {
          "output_type": "stream",
          "name": "stdout",
          "text": [
            "total 104\n",
            "lrwxrwxrwx   1 root root     7 Oct  4 02:08 bin -> usr/bin\n",
            "drwxr-xr-x   2 root root  4096 Apr 18  2022 boot\n",
            "drwxr-xr-x   1 root root  4096 Mar 14 05:13 content\n",
            "-rw-r--r--   1 root root  4332 Nov 10 04:56 cuda-keyring_1.0-1_all.deb\n",
            "drwxr-xr-x   1 root root  4096 Mar 12 13:41 datalab\n",
            "drwxr-xr-x   5 root root   360 Mar 14 04:44 dev\n",
            "drwxr-xr-x   1 root root  4096 Mar 14 04:44 etc\n",
            "drwxr-xr-x   2 root root  4096 Apr 18  2022 home\n",
            "drwxr-xr-x   3 root root  4096 Mar 14 04:44 kaggle\n",
            "lrwxrwxrwx   1 root root     7 Oct  4 02:08 lib -> usr/lib\n",
            "lrwxrwxrwx   1 root root     9 Oct  4 02:08 lib32 -> usr/lib32\n",
            "lrwxrwxrwx   1 root root     9 Oct  4 02:08 lib64 -> usr/lib64\n",
            "lrwxrwxrwx   1 root root    10 Oct  4 02:08 libx32 -> usr/libx32\n",
            "drwxr-xr-x   2 root root  4096 Oct  4 02:08 media\n",
            "drwxr-xr-x   2 root root  4096 Oct  4 02:08 mnt\n",
            "-rw-r--r--   1 root root 17294 Nov 10 04:55 NGC-DL-CONTAINER-LICENSE\n",
            "drwxr-xr-x   1 root root  4096 Mar 12 13:50 opt\n",
            "dr-xr-xr-x 177 root root     0 Mar 14 04:44 proc\n",
            "drwx------   1 root root  4096 Mar 14 04:45 root\n",
            "drwxr-xr-x   1 root root  4096 Mar 12 13:16 run\n",
            "lrwxrwxrwx   1 root root     8 Oct  4 02:08 sbin -> usr/sbin\n",
            "drwxr-xr-x   2 root root  4096 Oct  4 02:08 srv\n",
            "dr-xr-xr-x  13 root root     0 Mar 14 04:44 sys\n",
            "drwxrwxrwt   1 root root  4096 Mar 14 04:48 tmp\n",
            "drwxr-xr-x   1 root root  4096 Mar 12 13:41 tools\n",
            "drwxr-xr-x   1 root root  4096 Mar 12 13:42 usr\n",
            "drwxr-xr-x   1 root root  4096 Mar 12 13:41 var\n"
          ]
        }
      ]
    },
    {
      "cell_type": "code",
      "source": [
        "!ls -l\n"
      ],
      "metadata": {
        "colab": {
          "base_uri": "https://localhost:8080/"
        },
        "id": "JB0zwL5WY2RP",
        "outputId": "e6d3adb8-3c5d-4ed9-c1ff-18f1597c8f87"
      },
      "execution_count": 36,
      "outputs": [
        {
          "output_type": "stream",
          "name": "stdout",
          "text": [
            "total 5224\n",
            "-rw-r--r-- 1 root root 5344139 Mar 14 05:13 'ES_All Night Dance - PW.mp3'\n",
            "drwxr-xr-x 1 root root    4096 Mar 12 13:24  sample_data\n"
          ]
        }
      ]
    },
    {
      "cell_type": "code",
      "source": [],
      "metadata": {
        "id": "OY2m0Vw8Zw_x"
      },
      "execution_count": null,
      "outputs": []
    }
  ]
}