{
  "nbformat": 4,
  "nbformat_minor": 0,
  "metadata": {
    "colab": {
      "name": "collections.ipynb",
      "provenance": [],
      "authorship_tag": "ABX9TyOAkQ+IGLM1LJjuppecdmUw",
      "include_colab_link": true
    },
    "kernelspec": {
      "name": "python3",
      "display_name": "Python 3"
    },
    "language_info": {
      "name": "python"
    }
  },
  "cells": [
    {
      "cell_type": "markdown",
      "metadata": {
        "id": "view-in-github",
        "colab_type": "text"
      },
      "source": [
        "<a href=\"https://colab.research.google.com/github/thecodemancer/study-with-me/blob/main/python/collections.ipynb\" target=\"_parent\"><img src=\"https://colab.research.google.com/assets/colab-badge.svg\" alt=\"Open In Colab\"/></a>"
      ]
    },
    {
      "cell_type": "markdown",
      "source": [
        "# Collections\n",
        "\n",
        "Collections are also modules with added functionality for working with iterables."
      ],
      "metadata": {
        "id": "d8a0HIL6B90y"
      }
    },
    {
      "cell_type": "markdown",
      "source": [
        "## Counter\n",
        "\n",
        "Within collections we will focus mostly on Counter, which we can pass to a tuple or list and get the number of\n",
        "occurrences of each element. It can be accessed similar to a dictionary, that is, with bracket notation and\n",
        "writing the element in the square brackets."
      ],
      "metadata": {
        "id": "L7du7hYzCL47"
      }
    },
    {
      "cell_type": "code",
      "execution_count": 1,
      "metadata": {
        "id": "6PLwteGXBwJv"
      },
      "outputs": [],
      "source": [
        "from collections import Counter"
      ]
    },
    {
      "cell_type": "code",
      "source": [
        "b = [1,1,1,1,2,2,2,3,3,3,9,9,9]\n",
        "print(Counter(b))"
      ],
      "metadata": {
        "colab": {
          "base_uri": "https://localhost:8080/"
        },
        "id": "I9ydgI0lEQYJ",
        "outputId": "a97aab9a-e699-4f44-dacb-57aef4419009"
      },
      "execution_count": 2,
      "outputs": [
        {
          "output_type": "stream",
          "name": "stdout",
          "text": [
            "Counter({1: 4, 2: 3, 3: 3, 9: 3})\n"
          ]
        }
      ]
    },
    {
      "cell_type": "code",
      "source": [
        "counter = Counter(b)\n",
        "print( counter[0])"
      ],
      "metadata": {
        "colab": {
          "base_uri": "https://localhost:8080/"
        },
        "id": "7vNjuwvqE7Q9",
        "outputId": "34f16492-4ce7-4e61-df6d-5d29a4764d44"
      },
      "execution_count": 3,
      "outputs": [
        {
          "output_type": "stream",
          "name": "stdout",
          "text": [
            "0\n"
          ]
        }
      ]
    },
    {
      "cell_type": "code",
      "source": [
        "print( counter[1])"
      ],
      "metadata": {
        "colab": {
          "base_uri": "https://localhost:8080/"
        },
        "id": "6YYi2w8lE-kf",
        "outputId": "c6a1320e-71ee-418b-c0a1-98168831b6a4"
      },
      "execution_count": 4,
      "outputs": [
        {
          "output_type": "stream",
          "name": "stdout",
          "text": [
            "4\n"
          ]
        }
      ]
    },
    {
      "cell_type": "code",
      "source": [
        "print( counter[2])"
      ],
      "metadata": {
        "colab": {
          "base_uri": "https://localhost:8080/"
        },
        "id": "ZYeL1jvBFPQV",
        "outputId": "a03d6b01-6f4d-4f1e-a4f7-c49d81467fbb"
      },
      "execution_count": 5,
      "outputs": [
        {
          "output_type": "stream",
          "name": "stdout",
          "text": [
            "3\n"
          ]
        }
      ]
    },
    {
      "cell_type": "code",
      "source": [
        "print( counter[3])"
      ],
      "metadata": {
        "colab": {
          "base_uri": "https://localhost:8080/"
        },
        "id": "YyTzukxnFQyR",
        "outputId": "80e78edb-02de-4291-e300-18c9b4bae106"
      },
      "execution_count": 6,
      "outputs": [
        {
          "output_type": "stream",
          "name": "stdout",
          "text": [
            "3\n"
          ]
        }
      ]
    },
    {
      "cell_type": "code",
      "source": [
        "print( counter[4])"
      ],
      "metadata": {
        "colab": {
          "base_uri": "https://localhost:8080/"
        },
        "id": "SZ9nCz6zFR8Z",
        "outputId": "d3a60459-1e03-4976-8ad2-ebfd4171e6fd"
      },
      "execution_count": 7,
      "outputs": [
        {
          "output_type": "stream",
          "name": "stdout",
          "text": [
            "0\n"
          ]
        }
      ]
    },
    {
      "cell_type": "code",
      "source": [
        "print( counter[9])"
      ],
      "metadata": {
        "colab": {
          "base_uri": "https://localhost:8080/"
        },
        "id": "QvcytfwPFS-C",
        "outputId": "4084679a-f4ba-4ce4-c7bc-e12d79657b1c"
      },
      "execution_count": 8,
      "outputs": [
        {
          "output_type": "stream",
          "name": "stdout",
          "text": [
            "3\n"
          ]
        }
      ]
    }
  ]
}