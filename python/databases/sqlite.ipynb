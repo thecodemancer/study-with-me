{
  "nbformat": 4,
  "nbformat_minor": 0,
  "metadata": {
    "colab": {
      "provenance": [],
      "authorship_tag": "ABX9TyM1CPZb+QNWiLzV0xnT52h6",
      "include_colab_link": true
    },
    "kernelspec": {
      "name": "python3",
      "display_name": "Python 3"
    },
    "language_info": {
      "name": "python"
    }
  },
  "cells": [
    {
      "cell_type": "markdown",
      "metadata": {
        "id": "view-in-github",
        "colab_type": "text"
      },
      "source": [
        "<a href=\"https://colab.research.google.com/github/thecodemancer/study-with-me/blob/main/python/databases/sqlite.ipynb\" target=\"_parent\"><img src=\"https://colab.research.google.com/assets/colab-badge.svg\" alt=\"Open In Colab\"/></a>"
      ]
    },
    {
      "cell_type": "code",
      "execution_count": 18,
      "metadata": {
        "id": "yh6EtZ9GYtYr"
      },
      "outputs": [],
      "source": [
        "import pandas as pd\n",
        "from sqlalchemy import create_engine\n",
        "from sqlalchemy.exc import SQLAlchemyError"
      ]
    },
    {
      "cell_type": "code",
      "source": [
        "d = {'col1': [0, 1, 2, 3], 'col2': pd.Series([2, 3], index=[2, 3])}\n",
        "df = pd.DataFrame(data=d, index=[0, 1, 2, 3])\n"
      ],
      "metadata": {
        "id": "XjteO8OKYvTA"
      },
      "execution_count": 19,
      "outputs": []
    },
    {
      "cell_type": "code",
      "source": [
        "engine = create_engine(\"sqlite:///data.db\")"
      ],
      "metadata": {
        "id": "r995FnVNZoGZ"
      },
      "execution_count": 20,
      "outputs": []
    },
    {
      "cell_type": "code",
      "source": [
        "table_name = \"my_table\"\n",
        "df.to_sql(table_name, engine, if_exists=\"replace\")"
      ],
      "metadata": {
        "id": "nszpv0xkZ-ll"
      },
      "execution_count": 21,
      "outputs": []
    },
    {
      "cell_type": "code",
      "source": [
        "!ls -l"
      ],
      "metadata": {
        "colab": {
          "base_uri": "https://localhost:8080/"
        },
        "id": "F2h_8OnFaMlk",
        "outputId": "86f00cb9-026c-4bf4-a480-a72f3bc1835e"
      },
      "execution_count": 22,
      "outputs": [
        {
          "output_type": "stream",
          "name": "stdout",
          "text": [
            "total 16\n",
            "-rw-r--r-- 1 root root 12288 Mar  2 03:53 data.db\n",
            "drwxr-xr-x 1 root root  4096 Feb 28 14:45 sample_data\n"
          ]
        }
      ]
    },
    {
      "cell_type": "code",
      "source": [
        "try:\n",
        "    my_conn = engine.raw_connection()\n",
        "except SQLAlchemyError as e:\n",
        "    error = str(e.__dict__['orig'])\n",
        "    print(error)    "
      ],
      "metadata": {
        "id": "UpPoOQVza64w"
      },
      "execution_count": 23,
      "outputs": []
    },
    {
      "cell_type": "code",
      "source": [
        "try:\n",
        "  sql = '''\n",
        "        SELECT * FROM \n",
        "        ''' + table_name\n",
        "  r_set = my_conn.execute(sql)\n",
        "  for row in r_set.fetchall():\n",
        "    print(row)\n",
        "\n",
        "except SQLAlchemyError as e:\n",
        "    error = str(e.__dict__['orig'])\n",
        "    print(error)    "
      ],
      "metadata": {
        "colab": {
          "base_uri": "https://localhost:8080/"
        },
        "id": "3e4rUJa-bv5O",
        "outputId": "84acd218-6fdd-47b5-e112-c00bddf48f14"
      },
      "execution_count": 24,
      "outputs": [
        {
          "output_type": "stream",
          "name": "stdout",
          "text": [
            "(0, 0, None)\n",
            "(1, 1, None)\n",
            "(2, 2, 2.0)\n",
            "(3, 3, 3.0)\n"
          ]
        }
      ]
    },
    {
      "cell_type": "code",
      "source": [
        "try:\n",
        "    my_conn = my_conn.close()\n",
        "except SQLAlchemyError as e:\n",
        "    error = str(e.__dict__['orig'])\n",
        "    print(error)    "
      ],
      "metadata": {
        "id": "AOUsdJIabuiU"
      },
      "execution_count": 25,
      "outputs": []
    },
    {
      "cell_type": "markdown",
      "metadata": {
        "id": "Ba3tYIzFYIUD"
      },
      "source": [
        "---\n",
        "If you made it this far, follow [David Regalado](https://beacons.ai/davidregalado) for more code!"
      ]
    }
  ]
}