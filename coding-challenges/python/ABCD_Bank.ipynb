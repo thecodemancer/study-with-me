{
  "nbformat": 4,
  "nbformat_minor": 0,
  "metadata": {
    "colab": {
      "name": "ABCD-Bank.ipynb",
      "provenance": [],
      "authorship_tag": "ABX9TyMwlWrFCaRkhS9oMIFthxSe",
      "include_colab_link": true
    },
    "kernelspec": {
      "name": "python3",
      "display_name": "Python 3"
    },
    "language_info": {
      "name": "python"
    }
  },
  "cells": [
    {
      "cell_type": "markdown",
      "metadata": {
        "id": "view-in-github",
        "colab_type": "text"
      },
      "source": [
        "<a href=\"https://colab.research.google.com/github/thecodemancer/study-with-me/blob/main/coding-challenges/python/ABCD_Bank.ipynb\" target=\"_parent\"><img src=\"https://colab.research.google.com/assets/colab-badge.svg\" alt=\"Open In Colab\"/></a>"
      ]
    },
    {
      "cell_type": "markdown",
      "source": [
        "# ABCD Bank\n",
        "\n",
        "A valid credit card from ABCD Bank has the following characteristics:\n",
        "\n",
        "* It must start with a ,  or .\n",
        "* It must contain exactly  digits.\n",
        "* It must only consist of digits (-).\n",
        "* It may have digits in groups of , separated by one hyphen \"-\".\n",
        "* It must NOT use any other separator like ' ' , '_', etc.\n",
        "* It must NOT have  or more consecutive repeated digits."
      ],
      "metadata": {
        "id": "8U0xGBZk9f1f"
      }
    },
    {
      "cell_type": "markdown",
      "source": [
        "## Examples:\n",
        "\n",
        "**Valid Credit Card Numbers**\n",
        "\n",
        "* 4253625879615786\n",
        "* 4424424424442444\n",
        "* 5122-2368-7954-3214\n",
        "\n",
        "**Invalid Credit Card Numbers**\n",
        "\n",
        "* 42536258796157867       #17 digits in card number → Invalid \n",
        "\n",
        "* 4424444424442444        #Consecutive digits are repeating 4 or more times → \n",
        "Invalid\n",
        "\n",
        "* 5122-2368-7954 - 3214   #Separators other than '-' are used → Invalid\n",
        "\n",
        "* 44244x4424442444        #Contains non digit characters → Invalid\n",
        "\n",
        "* 0525362587961578        #Doesn't start with 4, 5 or 6 → Invalid\n",
        "\n",
        "**Input Format**\n",
        "\n",
        "The first line of input contains a credit card number.\n",
        "\n",
        "**Output Format**\n",
        "\n",
        "Print 'Valid' if the credit card number is valid. Otherwise, print 'Invalid'. Do not print the quotes.\n"
      ],
      "metadata": {
        "id": "aPFwSCs69us-"
      }
    },
    {
      "cell_type": "code",
      "execution_count": 5,
      "metadata": {
        "colab": {
          "base_uri": "https://localhost:8080/"
        },
        "id": "yjCluiJs9fBz",
        "outputId": "ca293b2e-e375-4bf2-d0d7-7fb9dbd1d430"
      },
      "outputs": [
        {
          "output_type": "stream",
          "name": "stdout",
          "text": [
            "4253625879615786\n",
            "Valid\n"
          ]
        }
      ],
      "source": [
        "import re\n",
        "'''\n",
        "A valid credit card from ABCD Bank has the following characteristics:\n",
        "\n",
        "It must start with a 4, 5 or 6.\n",
        "It must contain exactly 16 digits.\n",
        "It must only consist of digits (0-9).\n",
        "It may have digits in groups of 4, separated by one hyphen \"-\".\n",
        "It must NOT use any other separator like ' ' , '_', etc.\n",
        "It must NOT have 4 or more consecutive repeated digits.\n",
        "'''\n",
        "def credit_card_validator(credit_card):\n",
        "  if re.match(r\"^[456]([\\d]{15}|[\\d]{3}(-[\\d]{4}){3})$\", credit_card) and not re.search(r\"([\\d])\\1\\1\\1\", credit_card.replace(\"-\", \"\")):\n",
        "      print(\"Valid\")\n",
        "  else:\n",
        "      print(\"Invalid\")\n",
        "\n",
        "credit_card = input()\n",
        "credit_card_validator(credit_card)\n",
        "# Follow @thecodemancer_ for more code"
      ]
    },
    {
      "cell_type": "code",
      "source": [
        "credit_card = input()\n",
        "credit_card_validator(credit_card)"
      ],
      "metadata": {
        "colab": {
          "base_uri": "https://localhost:8080/"
        },
        "id": "-xhFV6L2_PMF",
        "outputId": "8e180707-77ed-4e26-c967-33d521d7357c"
      },
      "execution_count": 6,
      "outputs": [
        {
          "output_type": "stream",
          "name": "stdout",
          "text": [
            "4424424424442444\n",
            "Valid\n"
          ]
        }
      ]
    },
    {
      "cell_type": "code",
      "source": [
        "credit_card = input()\n",
        "credit_card_validator(credit_card)"
      ],
      "metadata": {
        "colab": {
          "base_uri": "https://localhost:8080/"
        },
        "id": "YExnc0x2_PR7",
        "outputId": "66bec6f6-c0f2-4b29-d499-4b981ad5840e"
      },
      "execution_count": 7,
      "outputs": [
        {
          "output_type": "stream",
          "name": "stdout",
          "text": [
            "5122-2368-7954-3214\n",
            "Valid\n"
          ]
        }
      ]
    },
    {
      "cell_type": "code",
      "source": [
        "credit_card = input()\n",
        "credit_card_validator(credit_card)"
      ],
      "metadata": {
        "colab": {
          "base_uri": "https://localhost:8080/"
        },
        "id": "QIbsI25y_PUn",
        "outputId": "db1606cb-4f36-4721-d406-2d887a07fa0d"
      },
      "execution_count": 8,
      "outputs": [
        {
          "output_type": "stream",
          "name": "stdout",
          "text": [
            "42536258796157867\n",
            "Invalid\n"
          ]
        }
      ]
    },
    {
      "cell_type": "code",
      "source": [
        "credit_card = input()\n",
        "credit_card_validator(credit_card)"
      ],
      "metadata": {
        "colab": {
          "base_uri": "https://localhost:8080/"
        },
        "id": "LLG9Blq6_PXx",
        "outputId": "6475f0a1-a2a8-4c12-cea4-49477acb1709"
      },
      "execution_count": 9,
      "outputs": [
        {
          "output_type": "stream",
          "name": "stdout",
          "text": [
            "4424444424442444\n",
            "Invalid\n"
          ]
        }
      ]
    }
  ]
}