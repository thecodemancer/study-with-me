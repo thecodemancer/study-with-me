{
  "nbformat": 4,
  "nbformat_minor": 0,
  "metadata": {
    "colab": {
      "name": "leap-year.ipynb",
      "provenance": [],
      "authorship_tag": "ABX9TyMaQkdcGYzdL2Y+phmreGaw",
      "include_colab_link": true
    },
    "kernelspec": {
      "name": "python3",
      "display_name": "Python 3"
    },
    "language_info": {
      "name": "python"
    }
  },
  "cells": [
    {
      "cell_type": "markdown",
      "metadata": {
        "id": "view-in-github",
        "colab_type": "text"
      },
      "source": [
        "<a href=\"https://colab.research.google.com/github/thecodemancer/study-with-me/blob/main/coding-challenges/python/leap_year.ipynb\" target=\"_parent\"><img src=\"https://colab.research.google.com/assets/colab-badge.svg\" alt=\"Open In Colab\"/></a>"
      ]
    },
    {
      "cell_type": "markdown",
      "source": [
        "<div style=\"display: inline-block; margin: 0 auto; width: 200px\">\n",
        "<img src=\"https://media.wired.co.uk/photos/606d9d6d20fc96acca6d3a32/master/w_1600%2Cc_limit/leapyear.jpg\" width=\"200px\"  />\n",
        "</div>\n",
        "\n",
        "# Leap Year\n",
        "An extra day is added to the calendar almost every four years as February 29, and the day is called a leap day. It corrects the calendar for the fact that our planet takes approximately 365.25 days to orbit the sun. A leap year contains a leap day.\n",
        "\n",
        "In the Gregorian calendar, three conditions are used to identify leap years:\n",
        "\n",
        "The year can be evenly divided by 4, is a leap year, unless:\n",
        "The year can be evenly divided by 100, it is NOT a leap year, unless:\n",
        "The year is also evenly divisible by 400. Then it is a leap year.\n",
        "This means that in the Gregorian calendar, the years 2000 and 2400 are leap years, while 1800, 1900, 2100, 2200, 2300 and 2500 are NOT leap years. [Source](https://www.timeanddate.com/date/leapyear.html)\n",
        "\n",
        "**Task**\n",
        "\n",
        "Given a year, determine whether it is a leap year. If it is a leap year, return the Boolean True, otherwise return False.\n",
        "\n",
        "Note that the code stub provided reads from STDIN and passes arguments to the is_leap function. It is only necessary to complete the is_leap function.\n",
        "\n",
        "**Input Format**\n",
        "\n",
        "Read , the year to test.\n",
        "\n",
        "**Constraints**\n",
        "\n",
        "1900 <= year <= 10 ** 5\n",
        "\n",
        "**Output Format**\n",
        "\n",
        "The function must return a Boolean value (True/False). Output is handled by the provided code stub."
      ],
      "metadata": {
        "id": "mkl_6PWi3WqM"
      }
    },
    {
      "cell_type": "markdown",
      "source": [
        "Sample Input: 1990\n",
        "\n",
        "Sample Output: False\n",
        "\n",
        "Explanation: 1990 is not a multiple of 4 hence it's not a leap year."
      ],
      "metadata": {
        "id": "iS-qa3vL3aQD"
      }
    },
    {
      "cell_type": "code",
      "source": [
        "def is_leap(year):\n",
        "    leap = False\n",
        "    \n",
        "    # Write your logic here\n",
        "    if (year%4==0):\n",
        "        leap = True \n",
        "        if (year%100==0):\n",
        "            leap = False\n",
        "            if (year%400==0):\n",
        "                leap = True    \n",
        "                \n",
        "    return leap\n",
        "\n",
        "year = int(input())\n",
        "print(is_leap(year))"
      ],
      "metadata": {
        "colab": {
          "base_uri": "https://localhost:8080/"
        },
        "id": "SO2BWKu53YxN",
        "outputId": "ad5790bc-0aab-406a-e93c-7b75190a4352"
      },
      "execution_count": 2,
      "outputs": [
        {
          "output_type": "stream",
          "name": "stdout",
          "text": [
            "1900\n",
            "False\n"
          ]
        }
      ]
    },
    {
      "cell_type": "code",
      "source": [
        "year = int(input())\n",
        "print(is_leap(year))"
      ],
      "metadata": {
        "colab": {
          "base_uri": "https://localhost:8080/"
        },
        "id": "S8Qib3UsIAsU",
        "outputId": "ae6ce17b-88e8-417e-be74-19957cdc96b7"
      },
      "execution_count": 3,
      "outputs": [
        {
          "output_type": "stream",
          "name": "stdout",
          "text": [
            "2000\n",
            "True\n"
          ]
        }
      ]
    },
    {
      "cell_type": "code",
      "source": [
        "year = int(input())\n",
        "print(is_leap(year))"
      ],
      "metadata": {
        "colab": {
          "base_uri": "https://localhost:8080/"
        },
        "id": "wJd5HXerNo5Z",
        "outputId": "95172f57-4705-4de1-cc93-6cb15aaf5731"
      },
      "execution_count": 4,
      "outputs": [
        {
          "output_type": "stream",
          "name": "stdout",
          "text": [
            "2400\n",
            "True\n"
          ]
        }
      ]
    },
    {
      "cell_type": "code",
      "source": [
        "year = int(input())\n",
        "print(is_leap(year))"
      ],
      "metadata": {
        "colab": {
          "base_uri": "https://localhost:8080/"
        },
        "id": "PJwnbhZ7NqzE",
        "outputId": "ac3f93de-d9ee-4b0c-be22-94832e7a2d05"
      },
      "execution_count": 5,
      "outputs": [
        {
          "output_type": "stream",
          "name": "stdout",
          "text": [
            "2022\n",
            "False\n"
          ]
        }
      ]
    },
    {
      "cell_type": "code",
      "source": [
        ""
      ],
      "metadata": {
        "id": "b21_b5ZNNvxY"
      },
      "execution_count": null,
      "outputs": []
    }
  ]
}