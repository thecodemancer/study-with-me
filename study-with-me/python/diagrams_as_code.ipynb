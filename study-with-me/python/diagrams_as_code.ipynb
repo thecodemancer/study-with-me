{
  "nbformat": 4,
  "nbformat_minor": 0,
  "metadata": {
    "colab": {
      "name": "diagrams as code.ipynb",
      "provenance": [],
      "authorship_tag": "ABX9TyNI8LAWSZ5BD50kaQjjSOng",
      "include_colab_link": true
    },
    "kernelspec": {
      "name": "python3",
      "display_name": "Python 3"
    },
    "language_info": {
      "name": "python"
    }
  },
  "cells": [
    {
      "cell_type": "markdown",
      "metadata": {
        "id": "view-in-github",
        "colab_type": "text"
      },
      "source": [
        "<a href=\"https://colab.research.google.com/github/thecodemancer/study-with-me/blob/main/study-with-me/python/diagrams_as_code.ipynb\" target=\"_parent\"><img src=\"https://colab.research.google.com/assets/colab-badge.svg\" alt=\"Open In Colab\"/></a>"
      ]
    },
    {
      "cell_type": "code",
      "execution_count": 3,
      "metadata": {
        "colab": {
          "base_uri": "https://localhost:8080/"
        },
        "id": "RvEg5r6rcPBH",
        "outputId": "e91c952b-2408-4dd9-cb6f-6f5fbe6b5a38"
      },
      "outputs": [
        {
          "output_type": "stream",
          "name": "stdout",
          "text": [
            "Looking in indexes: https://pypi.org/simple, https://us-python.pkg.dev/colab-wheels/public/simple/\n",
            "Collecting diagrams\n",
            "  Downloading diagrams-0.21.1-py3-none-any.whl (23.8 MB)\n",
            "\u001b[K     |████████████████████████████████| 23.8 MB 1.3 MB/s \n",
            "\u001b[?25hCollecting graphviz<0.20.0,>=0.13.2\n",
            "  Downloading graphviz-0.19.2-py3-none-any.whl (46 kB)\n",
            "\u001b[K     |████████████████████████████████| 46 kB 3.3 MB/s \n",
            "\u001b[?25hRequirement already satisfied: jinja2<4.0,>=2.10 in /usr/local/lib/python3.7/dist-packages (from diagrams) (2.11.3)\n",
            "Requirement already satisfied: MarkupSafe>=0.23 in /usr/local/lib/python3.7/dist-packages (from jinja2<4.0,>=2.10->diagrams) (2.0.1)\n",
            "Installing collected packages: graphviz, diagrams\n",
            "  Attempting uninstall: graphviz\n",
            "    Found existing installation: graphviz 0.10.1\n",
            "    Uninstalling graphviz-0.10.1:\n",
            "      Successfully uninstalled graphviz-0.10.1\n",
            "Successfully installed diagrams-0.21.1 graphviz-0.19.2\n",
            "Python 3.7.13\n"
          ]
        }
      ],
      "source": [
        "!pip install diagrams\n",
        "!python --version"
      ]
    },
    {
      "cell_type": "code",
      "source": [
        "from diagrams import Cluster, Diagram, Edge\n",
        "from diagrams.custom import Custom\n",
        "\n",
        "with Diagram(\"Google Cloud\", show=True):\n",
        "\n",
        "    developer = Custom(\"\",\"./my_extensions/developer.png\")\n",
        "\n",
        "    operationsApproval = Custom(\"\",\"./my_extensions/operations-approval.png\")\n",
        "\n",
        "    with Cluster(\"Google Cloud\"):\n",
        "\n",
        "         develop = Custom(\"\",\"./my_extensions/develop-cloud-code.png\")\n",
        "\n",
        "         sourceRepo = Custom(\"\",\"./my_extensions/cloud-source-repo.png\")\n",
        "\n",
        "         ciBuild = Custom(\"\",\"./my_extensions/ci-cloud-build.png\")\n",
        "\n",
        "         ciDeploy = Custom(\"\",\"./my_extensions/cloud-deploy.png\")\n",
        "\n",
        "         buildArtifact = Custom(\"\",\"./my_extensions/cloud-storage-build-artifact.png\")\n",
        "\n",
        "         deployArtifact = Custom(\"\",\"./my_extensions/deploy-artifacts-cloud-storage.png\")\n",
        "\n",
        "         artifactRegistry = Custom(\"\",\"./my_extensions/artifact-registry.png\")\n",
        "\n",
        "         stagingCluster = Custom(\"\",\"./my_extensions/staging-cluster-gke.png\")\n",
        "\n",
        "         productionCluster = Custom(\"\",\"./my_extensions/production-cluster-gke.png\")\n",
        "\n",
        "         ciDeploy >> stagingCluster\n",
        "\n",
        "         ciDeploy >> deployArtifact\n",
        "\n",
        "         ciDeploy >> productionCluster\n",
        "\n",
        "         artifactRegistry >> stagingCluster\n",
        "\n",
        "         artifactRegistry >> productionCluster\n",
        "\n",
        "         ciBuild >> [buildArtifact,ciDeploy,artifactRegistry]\n",
        "\n",
        "         sourceRepo >> Edge(label=\"trigger\") >>ciBuild\n",
        "\n",
        "         develop >> sourceRepo\n",
        "\n",
        "operationsApproval >> Edge(label=\"Approval\") >> productionCluster\n",
        "\n",
        "developer >> develop"
      ],
      "metadata": {
        "colab": {
          "base_uri": "https://localhost:8080/"
        },
        "id": "_NLnRiizcPyz",
        "outputId": "a757fb3b-258a-4bd4-8f31-f195a44fb24e"
      },
      "execution_count": 7,
      "outputs": [
        {
          "output_type": "execute_result",
          "data": {
            "text/plain": [
              "<custom.custom.Custom>"
            ]
          },
          "metadata": {},
          "execution_count": 7
        }
      ]
    },
    {
      "cell_type": "markdown",
      "source": [
        "<img src=\"study-with-me/images/google_cloud.png\" />"
      ],
      "metadata": {
        "id": "akU2XQFqv6_Y"
      }
    }
  ]
}
