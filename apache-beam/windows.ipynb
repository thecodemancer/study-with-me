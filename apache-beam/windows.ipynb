{
  "nbformat": 4,
  "nbformat_minor": 0,
  "metadata": {
    "colab": {
      "provenance": [],
      "authorship_tag": "ABX9TyO1Gqos6nA76UA+tm6Z7+c9",
      "include_colab_link": true
    },
    "kernelspec": {
      "name": "python3",
      "display_name": "Python 3"
    },
    "language_info": {
      "name": "python"
    }
  },
  "cells": [
    {
      "cell_type": "markdown",
      "metadata": {
        "id": "view-in-github",
        "colab_type": "text"
      },
      "source": [
        "<a href=\"https://colab.research.google.com/github/thecodemancer/study-with-me/blob/main/apache-beam/windows.ipynb\" target=\"_parent\"><img src=\"https://colab.research.google.com/assets/colab-badge.svg\" alt=\"Open In Colab\"/></a>"
      ]
    },
    {
      "cell_type": "code",
      "execution_count": 1,
      "metadata": {
        "colab": {
          "base_uri": "https://localhost:8080/"
        },
        "id": "pYyRPWtHGykg",
        "outputId": "9f32b410-fa25-4a2a-dfd0-d625dc7bb311"
      },
      "outputs": [
        {
          "output_type": "stream",
          "name": "stdout",
          "text": [
            "Looking in indexes: https://pypi.org/simple, https://us-python.pkg.dev/colab-wheels/public/simple/\n",
            "Requirement already satisfied: apache-beam[interactive] in /usr/local/lib/python3.8/dist-packages (2.45.0)\n",
            "Requirement already satisfied: proto-plus<2,>=1.7.1 in /usr/local/lib/python3.8/dist-packages (from apache-beam[interactive]) (1.22.2)\n",
            "Requirement already satisfied: pyarrow<10.0.0,>=0.15.1 in /usr/local/lib/python3.8/dist-packages (from apache-beam[interactive]) (9.0.0)\n",
            "Requirement already satisfied: requests<3.0.0,>=2.24.0 in /usr/local/lib/python3.8/dist-packages (from apache-beam[interactive]) (2.25.1)\n",
            "Requirement already satisfied: pydot<2,>=1.2.0 in /usr/local/lib/python3.8/dist-packages (from apache-beam[interactive]) (1.3.0)\n",
            "Requirement already satisfied: httplib2<0.21.0,>=0.8 in /usr/local/lib/python3.8/dist-packages (from apache-beam[interactive]) (0.17.4)\n",
            "Requirement already satisfied: crcmod<2.0,>=1.7 in /usr/local/lib/python3.8/dist-packages (from apache-beam[interactive]) (1.7)\n",
            "Requirement already satisfied: fastavro<2,>=0.23.6 in /usr/local/lib/python3.8/dist-packages (from apache-beam[interactive]) (1.7.2)\n",
            "Requirement already satisfied: python-dateutil<3,>=2.8.0 in /usr/local/lib/python3.8/dist-packages (from apache-beam[interactive]) (2.8.2)\n",
            "Requirement already satisfied: pytz>=2018.3 in /usr/local/lib/python3.8/dist-packages (from apache-beam[interactive]) (2022.7.1)\n",
            "Requirement already satisfied: numpy<1.23.0,>=1.14.3 in /usr/local/lib/python3.8/dist-packages (from apache-beam[interactive]) (1.22.4)\n",
            "Requirement already satisfied: zstandard<1,>=0.18.0 in /usr/local/lib/python3.8/dist-packages (from apache-beam[interactive]) (0.20.0)\n",
            "Requirement already satisfied: dill<0.3.2,>=0.3.1.1 in /usr/local/lib/python3.8/dist-packages (from apache-beam[interactive]) (0.3.1.1)\n",
            "Requirement already satisfied: typing-extensions>=3.7.0 in /usr/local/lib/python3.8/dist-packages (from apache-beam[interactive]) (4.5.0)\n",
            "Requirement already satisfied: cloudpickle~=2.2.1 in /usr/local/lib/python3.8/dist-packages (from apache-beam[interactive]) (2.2.1)\n",
            "Requirement already satisfied: regex>=2020.6.8 in /usr/local/lib/python3.8/dist-packages (from apache-beam[interactive]) (2022.6.2)\n",
            "Requirement already satisfied: pymongo<4.0.0,>=3.8.0 in /usr/local/lib/python3.8/dist-packages (from apache-beam[interactive]) (3.13.0)\n",
            "Requirement already satisfied: objsize<0.7.0,>=0.6.1 in /usr/local/lib/python3.8/dist-packages (from apache-beam[interactive]) (0.6.1)\n",
            "Requirement already satisfied: orjson<4.0 in /usr/local/lib/python3.8/dist-packages (from apache-beam[interactive]) (3.8.7)\n",
            "Requirement already satisfied: hdfs<3.0.0,>=2.1.0 in /usr/local/lib/python3.8/dist-packages (from apache-beam[interactive]) (2.7.0)\n",
            "Requirement already satisfied: protobuf<4,>3.12.2 in /usr/local/lib/python3.8/dist-packages (from apache-beam[interactive]) (3.20.3)\n",
            "Requirement already satisfied: fasteners<1.0,>=0.3 in /usr/local/lib/python3.8/dist-packages (from apache-beam[interactive]) (0.18)\n",
            "Requirement already satisfied: grpcio!=1.48.0,<2,>=1.33.1 in /usr/local/lib/python3.8/dist-packages (from apache-beam[interactive]) (1.51.3)\n",
            "Requirement already satisfied: ipython<9,>=8 in /usr/local/lib/python3.8/dist-packages (from apache-beam[interactive]) (8.11.0)\n",
            "Requirement already satisfied: ipykernel<7,>=6 in /usr/local/lib/python3.8/dist-packages (from apache-beam[interactive]) (6.21.2)\n",
            "Requirement already satisfied: jupyter-client<6.1.13,>=6.1.11 in /usr/local/lib/python3.8/dist-packages (from apache-beam[interactive]) (6.1.12)\n",
            "Requirement already satisfied: google-cloud-dataproc<3.2.0,>=3.0.0 in /usr/local/lib/python3.8/dist-packages (from apache-beam[interactive]) (3.1.1)\n",
            "Requirement already satisfied: timeloop<2,>=1.0.2 in /usr/local/lib/python3.8/dist-packages (from apache-beam[interactive]) (1.0.2)\n",
            "Requirement already satisfied: facets-overview<2,>=1.0.0 in /usr/local/lib/python3.8/dist-packages (from apache-beam[interactive]) (1.1.0)\n",
            "Requirement already satisfied: ipywidgets<9,>=8 in /usr/local/lib/python3.8/dist-packages (from apache-beam[interactive]) (8.0.4)\n",
            "Requirement already satisfied: pandas>=0.22.0 in /usr/local/lib/python3.8/dist-packages (from facets-overview<2,>=1.0.0->apache-beam[interactive]) (1.3.5)\n",
            "Requirement already satisfied: google-api-core[grpc]<3.0.0dev,>=1.28.0 in /usr/local/lib/python3.8/dist-packages (from google-cloud-dataproc<3.2.0,>=3.0.0->apache-beam[interactive]) (2.11.0)\n",
            "Requirement already satisfied: six>=1.9.0 in /usr/local/lib/python3.8/dist-packages (from hdfs<3.0.0,>=2.1.0->apache-beam[interactive]) (1.15.0)\n",
            "Requirement already satisfied: docopt in /usr/local/lib/python3.8/dist-packages (from hdfs<3.0.0,>=2.1.0->apache-beam[interactive]) (0.6.2)\n",
            "Requirement already satisfied: packaging in /usr/local/lib/python3.8/dist-packages (from ipykernel<7,>=6->apache-beam[interactive]) (23.0)\n",
            "Requirement already satisfied: pyzmq>=20 in /usr/local/lib/python3.8/dist-packages (from ipykernel<7,>=6->apache-beam[interactive]) (23.2.1)\n",
            "Requirement already satisfied: traitlets>=5.4.0 in /usr/local/lib/python3.8/dist-packages (from ipykernel<7,>=6->apache-beam[interactive]) (5.7.1)\n",
            "Requirement already satisfied: comm>=0.1.1 in /usr/local/lib/python3.8/dist-packages (from ipykernel<7,>=6->apache-beam[interactive]) (0.1.2)\n",
            "Requirement already satisfied: psutil in /usr/local/lib/python3.8/dist-packages (from ipykernel<7,>=6->apache-beam[interactive]) (5.4.8)\n",
            "Requirement already satisfied: debugpy>=1.6.5 in /usr/local/lib/python3.8/dist-packages (from ipykernel<7,>=6->apache-beam[interactive]) (1.6.6)\n",
            "Requirement already satisfied: tornado>=6.1 in /usr/local/lib/python3.8/dist-packages (from ipykernel<7,>=6->apache-beam[interactive]) (6.2)\n",
            "Requirement already satisfied: matplotlib-inline>=0.1 in /usr/local/lib/python3.8/dist-packages (from ipykernel<7,>=6->apache-beam[interactive]) (0.1.6)\n",
            "Requirement already satisfied: nest-asyncio in /usr/local/lib/python3.8/dist-packages (from ipykernel<7,>=6->apache-beam[interactive]) (1.5.6)\n",
            "Requirement already satisfied: jupyter-core!=5.0.*,>=4.12 in /usr/local/lib/python3.8/dist-packages (from ipykernel<7,>=6->apache-beam[interactive]) (5.2.0)\n",
            "Requirement already satisfied: prompt-toolkit!=3.0.37,<3.1.0,>=3.0.30 in /usr/local/lib/python3.8/dist-packages (from ipython<9,>=8->apache-beam[interactive]) (3.0.38)\n",
            "Requirement already satisfied: pexpect>4.3 in /usr/local/lib/python3.8/dist-packages (from ipython<9,>=8->apache-beam[interactive]) (4.8.0)\n",
            "Requirement already satisfied: jedi>=0.16 in /usr/local/lib/python3.8/dist-packages (from ipython<9,>=8->apache-beam[interactive]) (0.18.2)\n",
            "Requirement already satisfied: pickleshare in /usr/local/lib/python3.8/dist-packages (from ipython<9,>=8->apache-beam[interactive]) (0.7.5)\n",
            "Requirement already satisfied: decorator in /usr/local/lib/python3.8/dist-packages (from ipython<9,>=8->apache-beam[interactive]) (4.4.2)\n",
            "Requirement already satisfied: backcall in /usr/local/lib/python3.8/dist-packages (from ipython<9,>=8->apache-beam[interactive]) (0.2.0)\n",
            "Requirement already satisfied: pygments>=2.4.0 in /usr/local/lib/python3.8/dist-packages (from ipython<9,>=8->apache-beam[interactive]) (2.6.1)\n",
            "Requirement already satisfied: stack-data in /usr/local/lib/python3.8/dist-packages (from ipython<9,>=8->apache-beam[interactive]) (0.6.2)\n",
            "Requirement already satisfied: jupyterlab-widgets~=3.0 in /usr/local/lib/python3.8/dist-packages (from ipywidgets<9,>=8->apache-beam[interactive]) (3.0.5)\n",
            "Requirement already satisfied: widgetsnbextension~=4.0 in /usr/local/lib/python3.8/dist-packages (from ipywidgets<9,>=8->apache-beam[interactive]) (4.0.5)\n",
            "Requirement already satisfied: pyparsing>=2.1.4 in /usr/local/lib/python3.8/dist-packages (from pydot<2,>=1.2.0->apache-beam[interactive]) (3.0.9)\n",
            "Requirement already satisfied: urllib3<1.27,>=1.21.1 in /usr/local/lib/python3.8/dist-packages (from requests<3.0.0,>=2.24.0->apache-beam[interactive]) (1.26.14)\n",
            "Requirement already satisfied: certifi>=2017.4.17 in /usr/local/lib/python3.8/dist-packages (from requests<3.0.0,>=2.24.0->apache-beam[interactive]) (2022.12.7)\n",
            "Requirement already satisfied: idna<3,>=2.5 in /usr/local/lib/python3.8/dist-packages (from requests<3.0.0,>=2.24.0->apache-beam[interactive]) (2.10)\n",
            "Requirement already satisfied: chardet<5,>=3.0.2 in /usr/local/lib/python3.8/dist-packages (from requests<3.0.0,>=2.24.0->apache-beam[interactive]) (4.0.0)\n",
            "Requirement already satisfied: googleapis-common-protos<2.0dev,>=1.56.2 in /usr/local/lib/python3.8/dist-packages (from google-api-core[grpc]<3.0.0dev,>=1.28.0->google-cloud-dataproc<3.2.0,>=3.0.0->apache-beam[interactive]) (1.58.0)\n",
            "Requirement already satisfied: google-auth<3.0dev,>=2.14.1 in /usr/local/lib/python3.8/dist-packages (from google-api-core[grpc]<3.0.0dev,>=1.28.0->google-cloud-dataproc<3.2.0,>=3.0.0->apache-beam[interactive]) (2.16.1)\n",
            "Requirement already satisfied: grpcio-status<2.0dev,>=1.33.2 in /usr/local/lib/python3.8/dist-packages (from google-api-core[grpc]<3.0.0dev,>=1.28.0->google-cloud-dataproc<3.2.0,>=3.0.0->apache-beam[interactive]) (1.48.2)\n",
            "Requirement already satisfied: parso<0.9.0,>=0.8.0 in /usr/local/lib/python3.8/dist-packages (from jedi>=0.16->ipython<9,>=8->apache-beam[interactive]) (0.8.3)\n",
            "Requirement already satisfied: platformdirs>=2.5 in /usr/local/lib/python3.8/dist-packages (from jupyter-core!=5.0.*,>=4.12->ipykernel<7,>=6->apache-beam[interactive]) (3.0.0)\n",
            "Requirement already satisfied: ptyprocess>=0.5 in /usr/local/lib/python3.8/dist-packages (from pexpect>4.3->ipython<9,>=8->apache-beam[interactive]) (0.7.0)\n",
            "Requirement already satisfied: wcwidth in /usr/local/lib/python3.8/dist-packages (from prompt-toolkit!=3.0.37,<3.1.0,>=3.0.30->ipython<9,>=8->apache-beam[interactive]) (0.2.6)\n",
            "Requirement already satisfied: asttokens>=2.1.0 in /usr/local/lib/python3.8/dist-packages (from stack-data->ipython<9,>=8->apache-beam[interactive]) (2.2.1)\n",
            "Requirement already satisfied: pure-eval in /usr/local/lib/python3.8/dist-packages (from stack-data->ipython<9,>=8->apache-beam[interactive]) (0.2.2)\n",
            "Requirement already satisfied: executing>=1.2.0 in /usr/local/lib/python3.8/dist-packages (from stack-data->ipython<9,>=8->apache-beam[interactive]) (1.2.0)\n",
            "Requirement already satisfied: cachetools<6.0,>=2.0.0 in /usr/local/lib/python3.8/dist-packages (from google-auth<3.0dev,>=2.14.1->google-api-core[grpc]<3.0.0dev,>=1.28.0->google-cloud-dataproc<3.2.0,>=3.0.0->apache-beam[interactive]) (5.3.0)\n",
            "Requirement already satisfied: pyasn1-modules>=0.2.1 in /usr/local/lib/python3.8/dist-packages (from google-auth<3.0dev,>=2.14.1->google-api-core[grpc]<3.0.0dev,>=1.28.0->google-cloud-dataproc<3.2.0,>=3.0.0->apache-beam[interactive]) (0.2.8)\n",
            "Requirement already satisfied: rsa<5,>=3.1.4 in /usr/local/lib/python3.8/dist-packages (from google-auth<3.0dev,>=2.14.1->google-api-core[grpc]<3.0.0dev,>=1.28.0->google-cloud-dataproc<3.2.0,>=3.0.0->apache-beam[interactive]) (4.9)\n",
            "Requirement already satisfied: pyasn1<0.5.0,>=0.4.6 in /usr/local/lib/python3.8/dist-packages (from pyasn1-modules>=0.2.1->google-auth<3.0dev,>=2.14.1->google-api-core[grpc]<3.0.0dev,>=1.28.0->google-cloud-dataproc<3.2.0,>=3.0.0->apache-beam[interactive]) (0.4.8)\n"
          ]
        }
      ],
      "source": [
        "#!pip install apache_beam\n",
        "!pip install apache-beam[interactive]"
      ]
    },
    {
      "cell_type": "code",
      "source": [
        "import apache_beam as beam\n",
        "#from apache_beam import WindowInto, window\n",
        "\n",
        "from apache_beam.transforms.window import TimestampedValue, FixedWindows, SlidingWindows, Sessions, GlobalWindow\n",
        "from apache_beam.runners.interactive.interactive_runner import InteractiveRunner \n",
        "\n",
        "import apache_beam.runners.interactive.interactive_beam as ib"
      ],
      "metadata": {
        "id": "AZTdKsuvHHHu"
      },
      "execution_count": 6,
      "outputs": []
    },
    {
      "cell_type": "code",
      "source": [
        "a=[1,2,3,4,5,6,7,8,9]"
      ],
      "metadata": {
        "id": "PyJAFu2qINTP"
      },
      "execution_count": 7,
      "outputs": []
    },
    {
      "cell_type": "code",
      "source": [
        "with beam.Pipeline(InteractiveRunner()) as p:\n",
        "  pc1 = ( p\n",
        "    | beam.Create(a)\n",
        ")"
      ],
      "metadata": {
        "id": "INbZweH4G1AW"
      },
      "execution_count": 15,
      "outputs": []
    },
    {
      "cell_type": "code",
      "source": [
        "ib.show(pc1, include_window_info=False)"
      ],
      "metadata": {
        "colab": {
          "base_uri": "https://localhost:8080/",
          "height": 513
        },
        "id": "Lmu_yT2PI7C-",
        "outputId": "fbad9d82-5c8c-4ce2-90a6-a800e565af90"
      },
      "execution_count": 16,
      "outputs": [
        {
          "output_type": "display_data",
          "data": {
            "text/plain": [
              "<IPython.core.display.HTML object>"
            ],
            "text/html": [
              "\n",
              "            <link rel=\"stylesheet\" href=\"https://stackpath.bootstrapcdn.com/bootstrap/4.4.1/css/bootstrap.min.css\" integrity=\"sha384-Vkoo8x4CGsO3+Hhxv8T/Q5PaXtkKtu6ug5TOeNV6gBiFeWPGFN9MuhOf23Q9Ifjh\" crossorigin=\"anonymous\">\n",
              "            <div id=\"progress_indicator_05c77dc75888af2681aca1815f3e3741\">\n",
              "              <div class=\"spinner-border text-info\" role=\"status\"></div>\n",
              "              <span class=\"text-info\">Processing... show</span>\n",
              "            </div>\n",
              "            "
            ]
          },
          "metadata": {}
        },
        {
          "output_type": "display_data",
          "data": {
            "text/plain": [
              "<IPython.core.display.HTML object>"
            ],
            "text/html": [
              "\n",
              "            <style>\n",
              "            .p-Widget.jp-OutputPrompt.jp-OutputArea-prompt:empty {\n",
              "              padding: 0;\n",
              "              border: 0;\n",
              "            }\n",
              "            .p-Widget.jp-RenderedJavaScript.jp-mod-trusted.jp-OutputArea-output:empty {\n",
              "              padding: 0;\n",
              "              border: 0;\n",
              "            }\n",
              "            </style>\n",
              "            <link rel=\"stylesheet\" href=\"https://cdn.datatables.net/1.10.20/css/jquery.dataTables.min.css\">\n",
              "            <table id=\"table_df_5c26d78d4ab29a7cbd7bccba5ae9aafb\" class=\"display\" style=\"display:block\"></table>\n",
              "            <script>\n",
              "              \n",
              "        if (typeof window.interactive_beam_jquery == 'undefined') {\n",
              "          var jqueryScript = document.createElement('script');\n",
              "          jqueryScript.src = 'https://code.jquery.com/jquery-3.4.1.slim.min.js';\n",
              "          jqueryScript.type = 'text/javascript';\n",
              "          jqueryScript.onload = function() {\n",
              "            var datatableScript = document.createElement('script');\n",
              "            datatableScript.src = 'https://cdn.datatables.net/1.10.20/js/jquery.dataTables.min.js';\n",
              "            datatableScript.type = 'text/javascript';\n",
              "            datatableScript.onload = function() {\n",
              "              window.interactive_beam_jquery = jQuery.noConflict(true);\n",
              "              window.interactive_beam_jquery(document).ready(function($){\n",
              "                \n",
              "            var dt;\n",
              "            if ($.fn.dataTable.isDataTable(\"#table_df_5c26d78d4ab29a7cbd7bccba5ae9aafb\")) {\n",
              "              dt = $(\"#table_df_5c26d78d4ab29a7cbd7bccba5ae9aafb\").dataTable();\n",
              "            } else if ($(\"#table_df_5c26d78d4ab29a7cbd7bccba5ae9aafb_wrapper\").length == 0) {\n",
              "              dt = $(\"#table_df_5c26d78d4ab29a7cbd7bccba5ae9aafb\").dataTable({\n",
              "                \n",
              "            bAutoWidth: false,\n",
              "            columns: [{'title': ''}, {'title': 'pc1.0'}],\n",
              "            destroy: true,\n",
              "            responsive: true,\n",
              "            columnDefs: [\n",
              "              {\n",
              "                targets: \"_all\",\n",
              "                className: \"dt-left\"\n",
              "              },\n",
              "              {\n",
              "                \"targets\": 0,\n",
              "                \"width\": \"10px\",\n",
              "                \"title\": \"\"\n",
              "              }\n",
              "            ]\n",
              "              });\n",
              "            } else {\n",
              "              return;\n",
              "            }\n",
              "            dt.api()\n",
              "              .clear()\n",
              "              .rows.add([{1: '1', 0: 0}, {1: '2', 0: 1}, {1: '3', 0: 2}, {1: '4', 0: 3}, {1: '5', 0: 4}, {1: '6', 0: 5}, {1: '7', 0: 6}, {1: '8', 0: 7}, {1: '9', 0: 8}])\n",
              "              .draw('full-hold');\n",
              "              });\n",
              "            }\n",
              "            document.head.appendChild(datatableScript);\n",
              "          };\n",
              "          document.head.appendChild(jqueryScript);\n",
              "        } else {\n",
              "          window.interactive_beam_jquery(document).ready(function($){\n",
              "            \n",
              "            var dt;\n",
              "            if ($.fn.dataTable.isDataTable(\"#table_df_5c26d78d4ab29a7cbd7bccba5ae9aafb\")) {\n",
              "              dt = $(\"#table_df_5c26d78d4ab29a7cbd7bccba5ae9aafb\").dataTable();\n",
              "            } else if ($(\"#table_df_5c26d78d4ab29a7cbd7bccba5ae9aafb_wrapper\").length == 0) {\n",
              "              dt = $(\"#table_df_5c26d78d4ab29a7cbd7bccba5ae9aafb\").dataTable({\n",
              "                \n",
              "            bAutoWidth: false,\n",
              "            columns: [{'title': ''}, {'title': 'pc1.0'}],\n",
              "            destroy: true,\n",
              "            responsive: true,\n",
              "            columnDefs: [\n",
              "              {\n",
              "                targets: \"_all\",\n",
              "                className: \"dt-left\"\n",
              "              },\n",
              "              {\n",
              "                \"targets\": 0,\n",
              "                \"width\": \"10px\",\n",
              "                \"title\": \"\"\n",
              "              }\n",
              "            ]\n",
              "              });\n",
              "            } else {\n",
              "              return;\n",
              "            }\n",
              "            dt.api()\n",
              "              .clear()\n",
              "              .rows.add([{1: '1', 0: 0}, {1: '2', 0: 1}, {1: '3', 0: 2}, {1: '4', 0: 3}, {1: '5', 0: 4}, {1: '6', 0: 5}, {1: '7', 0: 6}, {1: '8', 0: 7}, {1: '9', 0: 8}])\n",
              "              .draw('full-hold');\n",
              "          });\n",
              "        }\n",
              "            </script>"
            ]
          },
          "metadata": {}
        },
        {
          "output_type": "display_data",
          "data": {
            "application/javascript": [
              "\n",
              "        if (typeof window.interactive_beam_jquery == 'undefined') {\n",
              "          var jqueryScript = document.createElement('script');\n",
              "          jqueryScript.src = 'https://code.jquery.com/jquery-3.4.1.slim.min.js';\n",
              "          jqueryScript.type = 'text/javascript';\n",
              "          jqueryScript.onload = function() {\n",
              "            var datatableScript = document.createElement('script');\n",
              "            datatableScript.src = 'https://cdn.datatables.net/1.10.20/js/jquery.dataTables.min.js';\n",
              "            datatableScript.type = 'text/javascript';\n",
              "            datatableScript.onload = function() {\n",
              "              window.interactive_beam_jquery = jQuery.noConflict(true);\n",
              "              window.interactive_beam_jquery(document).ready(function($){\n",
              "                \n",
              "            $(\"#progress_indicator_05c77dc75888af2681aca1815f3e3741\").remove();\n",
              "              });\n",
              "            }\n",
              "            document.head.appendChild(datatableScript);\n",
              "          };\n",
              "          document.head.appendChild(jqueryScript);\n",
              "        } else {\n",
              "          window.interactive_beam_jquery(document).ready(function($){\n",
              "            \n",
              "            $(\"#progress_indicator_05c77dc75888af2681aca1815f3e3741\").remove();\n",
              "          });\n",
              "        }"
            ]
          },
          "metadata": {}
        }
      ]
    },
    {
      "cell_type": "code",
      "source": [
        "ib.show(pc1, include_window_info=True)"
      ],
      "metadata": {
        "colab": {
          "base_uri": "https://localhost:8080/",
          "height": 513
        },
        "id": "WWpDmQ2dL6u-",
        "outputId": "c20dea4b-7e83-4900-ca23-0fc46bdc0e1b"
      },
      "execution_count": 17,
      "outputs": [
        {
          "output_type": "display_data",
          "data": {
            "text/plain": [
              "<IPython.core.display.HTML object>"
            ],
            "text/html": [
              "\n",
              "            <link rel=\"stylesheet\" href=\"https://stackpath.bootstrapcdn.com/bootstrap/4.4.1/css/bootstrap.min.css\" integrity=\"sha384-Vkoo8x4CGsO3+Hhxv8T/Q5PaXtkKtu6ug5TOeNV6gBiFeWPGFN9MuhOf23Q9Ifjh\" crossorigin=\"anonymous\">\n",
              "            <div id=\"progress_indicator_7e34b7012c77f28d2ac7c9ff45eb9783\">\n",
              "              <div class=\"spinner-border text-info\" role=\"status\"></div>\n",
              "              <span class=\"text-info\">Processing... show</span>\n",
              "            </div>\n",
              "            "
            ]
          },
          "metadata": {}
        },
        {
          "output_type": "display_data",
          "data": {
            "text/plain": [
              "<IPython.core.display.HTML object>"
            ],
            "text/html": [
              "\n",
              "            <style>\n",
              "            .p-Widget.jp-OutputPrompt.jp-OutputArea-prompt:empty {\n",
              "              padding: 0;\n",
              "              border: 0;\n",
              "            }\n",
              "            .p-Widget.jp-RenderedJavaScript.jp-mod-trusted.jp-OutputArea-output:empty {\n",
              "              padding: 0;\n",
              "              border: 0;\n",
              "            }\n",
              "            </style>\n",
              "            <link rel=\"stylesheet\" href=\"https://cdn.datatables.net/1.10.20/css/jquery.dataTables.min.css\">\n",
              "            <table id=\"table_df_53feee3d88b0f5fd330ac491ae537a75\" class=\"display\" style=\"display:block\"></table>\n",
              "            <script>\n",
              "              \n",
              "        if (typeof window.interactive_beam_jquery == 'undefined') {\n",
              "          var jqueryScript = document.createElement('script');\n",
              "          jqueryScript.src = 'https://code.jquery.com/jquery-3.4.1.slim.min.js';\n",
              "          jqueryScript.type = 'text/javascript';\n",
              "          jqueryScript.onload = function() {\n",
              "            var datatableScript = document.createElement('script');\n",
              "            datatableScript.src = 'https://cdn.datatables.net/1.10.20/js/jquery.dataTables.min.js';\n",
              "            datatableScript.type = 'text/javascript';\n",
              "            datatableScript.onload = function() {\n",
              "              window.interactive_beam_jquery = jQuery.noConflict(true);\n",
              "              window.interactive_beam_jquery(document).ready(function($){\n",
              "                \n",
              "            var dt;\n",
              "            if ($.fn.dataTable.isDataTable(\"#table_df_53feee3d88b0f5fd330ac491ae537a75\")) {\n",
              "              dt = $(\"#table_df_53feee3d88b0f5fd330ac491ae537a75\").dataTable();\n",
              "            } else if ($(\"#table_df_53feee3d88b0f5fd330ac491ae537a75_wrapper\").length == 0) {\n",
              "              dt = $(\"#table_df_53feee3d88b0f5fd330ac491ae537a75\").dataTable({\n",
              "                \n",
              "            bAutoWidth: false,\n",
              "            columns: [{'title': ''}, {'title': 'pc1.0'}, {'title': 'event_time'}, {'title': 'windows'}, {'title': 'pane_info'}],\n",
              "            destroy: true,\n",
              "            responsive: true,\n",
              "            columnDefs: [\n",
              "              {\n",
              "                targets: \"_all\",\n",
              "                className: \"dt-left\"\n",
              "              },\n",
              "              {\n",
              "                \"targets\": 0,\n",
              "                \"width\": \"10px\",\n",
              "                \"title\": \"\"\n",
              "              }\n",
              "            ]\n",
              "              });\n",
              "            } else {\n",
              "              return;\n",
              "            }\n",
              "            dt.api()\n",
              "              .clear()\n",
              "              .rows.add([{1: '1', 2: 'Min Timestamp', 3: 'GlobalWindow', 4: 'Pane 0: Final ', 0: 0}, {1: '2', 2: 'Min Timestamp', 3: 'GlobalWindow', 4: 'Pane 0: Final ', 0: 1}, {1: '3', 2: 'Min Timestamp', 3: 'GlobalWindow', 4: 'Pane 0: Final ', 0: 2}, {1: '4', 2: 'Min Timestamp', 3: 'GlobalWindow', 4: 'Pane 0: Final ', 0: 3}, {1: '5', 2: 'Min Timestamp', 3: 'GlobalWindow', 4: 'Pane 0: Final ', 0: 4}, {1: '6', 2: 'Min Timestamp', 3: 'GlobalWindow', 4: 'Pane 0: Final ', 0: 5}, {1: '7', 2: 'Min Timestamp', 3: 'GlobalWindow', 4: 'Pane 0: Final ', 0: 6}, {1: '8', 2: 'Min Timestamp', 3: 'GlobalWindow', 4: 'Pane 0: Final ', 0: 7}, {1: '9', 2: 'Min Timestamp', 3: 'GlobalWindow', 4: 'Pane 0: Final ', 0: 8}])\n",
              "              .draw('full-hold');\n",
              "              });\n",
              "            }\n",
              "            document.head.appendChild(datatableScript);\n",
              "          };\n",
              "          document.head.appendChild(jqueryScript);\n",
              "        } else {\n",
              "          window.interactive_beam_jquery(document).ready(function($){\n",
              "            \n",
              "            var dt;\n",
              "            if ($.fn.dataTable.isDataTable(\"#table_df_53feee3d88b0f5fd330ac491ae537a75\")) {\n",
              "              dt = $(\"#table_df_53feee3d88b0f5fd330ac491ae537a75\").dataTable();\n",
              "            } else if ($(\"#table_df_53feee3d88b0f5fd330ac491ae537a75_wrapper\").length == 0) {\n",
              "              dt = $(\"#table_df_53feee3d88b0f5fd330ac491ae537a75\").dataTable({\n",
              "                \n",
              "            bAutoWidth: false,\n",
              "            columns: [{'title': ''}, {'title': 'pc1.0'}, {'title': 'event_time'}, {'title': 'windows'}, {'title': 'pane_info'}],\n",
              "            destroy: true,\n",
              "            responsive: true,\n",
              "            columnDefs: [\n",
              "              {\n",
              "                targets: \"_all\",\n",
              "                className: \"dt-left\"\n",
              "              },\n",
              "              {\n",
              "                \"targets\": 0,\n",
              "                \"width\": \"10px\",\n",
              "                \"title\": \"\"\n",
              "              }\n",
              "            ]\n",
              "              });\n",
              "            } else {\n",
              "              return;\n",
              "            }\n",
              "            dt.api()\n",
              "              .clear()\n",
              "              .rows.add([{1: '1', 2: 'Min Timestamp', 3: 'GlobalWindow', 4: 'Pane 0: Final ', 0: 0}, {1: '2', 2: 'Min Timestamp', 3: 'GlobalWindow', 4: 'Pane 0: Final ', 0: 1}, {1: '3', 2: 'Min Timestamp', 3: 'GlobalWindow', 4: 'Pane 0: Final ', 0: 2}, {1: '4', 2: 'Min Timestamp', 3: 'GlobalWindow', 4: 'Pane 0: Final ', 0: 3}, {1: '5', 2: 'Min Timestamp', 3: 'GlobalWindow', 4: 'Pane 0: Final ', 0: 4}, {1: '6', 2: 'Min Timestamp', 3: 'GlobalWindow', 4: 'Pane 0: Final ', 0: 5}, {1: '7', 2: 'Min Timestamp', 3: 'GlobalWindow', 4: 'Pane 0: Final ', 0: 6}, {1: '8', 2: 'Min Timestamp', 3: 'GlobalWindow', 4: 'Pane 0: Final ', 0: 7}, {1: '9', 2: 'Min Timestamp', 3: 'GlobalWindow', 4: 'Pane 0: Final ', 0: 8}])\n",
              "              .draw('full-hold');\n",
              "          });\n",
              "        }\n",
              "            </script>"
            ]
          },
          "metadata": {}
        },
        {
          "output_type": "display_data",
          "data": {
            "application/javascript": [
              "\n",
              "        if (typeof window.interactive_beam_jquery == 'undefined') {\n",
              "          var jqueryScript = document.createElement('script');\n",
              "          jqueryScript.src = 'https://code.jquery.com/jquery-3.4.1.slim.min.js';\n",
              "          jqueryScript.type = 'text/javascript';\n",
              "          jqueryScript.onload = function() {\n",
              "            var datatableScript = document.createElement('script');\n",
              "            datatableScript.src = 'https://cdn.datatables.net/1.10.20/js/jquery.dataTables.min.js';\n",
              "            datatableScript.type = 'text/javascript';\n",
              "            datatableScript.onload = function() {\n",
              "              window.interactive_beam_jquery = jQuery.noConflict(true);\n",
              "              window.interactive_beam_jquery(document).ready(function($){\n",
              "                \n",
              "            $(\"#progress_indicator_7e34b7012c77f28d2ac7c9ff45eb9783\").remove();\n",
              "              });\n",
              "            }\n",
              "            document.head.appendChild(datatableScript);\n",
              "          };\n",
              "          document.head.appendChild(jqueryScript);\n",
              "        } else {\n",
              "          window.interactive_beam_jquery(document).ready(function($){\n",
              "            \n",
              "            $(\"#progress_indicator_7e34b7012c77f28d2ac7c9ff45eb9783\").remove();\n",
              "          });\n",
              "        }"
            ]
          },
          "metadata": {}
        }
      ]
    },
    {
      "cell_type": "code",
      "source": [
        "with beam.Pipeline(InteractiveRunner()) as p:\n",
        "  pc2 = ( p\n",
        "    | beam.Create(a)\n",
        "    | beam.Map(lambda x: window.TimestampedValue(x,int(x)))\n",
        ")"
      ],
      "metadata": {
        "id": "H6WDI9XkJCRw"
      },
      "execution_count": 18,
      "outputs": []
    },
    {
      "cell_type": "code",
      "source": [
        "ib.show(pc2, include_window_info=True)"
      ],
      "metadata": {
        "colab": {
          "base_uri": "https://localhost:8080/",
          "height": 513
        },
        "id": "JD29R6KvLyZR",
        "outputId": "af8eee7d-3684-432b-826b-f608407e6a23"
      },
      "execution_count": 19,
      "outputs": [
        {
          "output_type": "display_data",
          "data": {
            "text/plain": [
              "<IPython.core.display.HTML object>"
            ],
            "text/html": [
              "\n",
              "            <link rel=\"stylesheet\" href=\"https://stackpath.bootstrapcdn.com/bootstrap/4.4.1/css/bootstrap.min.css\" integrity=\"sha384-Vkoo8x4CGsO3+Hhxv8T/Q5PaXtkKtu6ug5TOeNV6gBiFeWPGFN9MuhOf23Q9Ifjh\" crossorigin=\"anonymous\">\n",
              "            <div id=\"progress_indicator_168c0e3cb4743f9924700e9bb58b6514\">\n",
              "              <div class=\"spinner-border text-info\" role=\"status\"></div>\n",
              "              <span class=\"text-info\">Processing... show</span>\n",
              "            </div>\n",
              "            "
            ]
          },
          "metadata": {}
        },
        {
          "output_type": "display_data",
          "data": {
            "text/plain": [
              "<IPython.core.display.HTML object>"
            ],
            "text/html": [
              "\n",
              "            <style>\n",
              "            .p-Widget.jp-OutputPrompt.jp-OutputArea-prompt:empty {\n",
              "              padding: 0;\n",
              "              border: 0;\n",
              "            }\n",
              "            .p-Widget.jp-RenderedJavaScript.jp-mod-trusted.jp-OutputArea-output:empty {\n",
              "              padding: 0;\n",
              "              border: 0;\n",
              "            }\n",
              "            </style>\n",
              "            <link rel=\"stylesheet\" href=\"https://cdn.datatables.net/1.10.20/css/jquery.dataTables.min.css\">\n",
              "            <table id=\"table_df_b5ee39552aae82f3d8567244a8df987d\" class=\"display\" style=\"display:block\"></table>\n",
              "            <script>\n",
              "              \n",
              "        if (typeof window.interactive_beam_jquery == 'undefined') {\n",
              "          var jqueryScript = document.createElement('script');\n",
              "          jqueryScript.src = 'https://code.jquery.com/jquery-3.4.1.slim.min.js';\n",
              "          jqueryScript.type = 'text/javascript';\n",
              "          jqueryScript.onload = function() {\n",
              "            var datatableScript = document.createElement('script');\n",
              "            datatableScript.src = 'https://cdn.datatables.net/1.10.20/js/jquery.dataTables.min.js';\n",
              "            datatableScript.type = 'text/javascript';\n",
              "            datatableScript.onload = function() {\n",
              "              window.interactive_beam_jquery = jQuery.noConflict(true);\n",
              "              window.interactive_beam_jquery(document).ready(function($){\n",
              "                \n",
              "            var dt;\n",
              "            if ($.fn.dataTable.isDataTable(\"#table_df_b5ee39552aae82f3d8567244a8df987d\")) {\n",
              "              dt = $(\"#table_df_b5ee39552aae82f3d8567244a8df987d\").dataTable();\n",
              "            } else if ($(\"#table_df_b5ee39552aae82f3d8567244a8df987d_wrapper\").length == 0) {\n",
              "              dt = $(\"#table_df_b5ee39552aae82f3d8567244a8df987d\").dataTable({\n",
              "                \n",
              "            bAutoWidth: false,\n",
              "            columns: [{'title': ''}, {'title': 'pc2.0'}, {'title': 'event_time'}, {'title': 'windows'}, {'title': 'pane_info'}],\n",
              "            destroy: true,\n",
              "            responsive: true,\n",
              "            columnDefs: [\n",
              "              {\n",
              "                targets: \"_all\",\n",
              "                className: \"dt-left\"\n",
              "              },\n",
              "              {\n",
              "                \"targets\": 0,\n",
              "                \"width\": \"10px\",\n",
              "                \"title\": \"\"\n",
              "              }\n",
              "            ]\n",
              "              });\n",
              "            } else {\n",
              "              return;\n",
              "            }\n",
              "            dt.api()\n",
              "              .clear()\n",
              "              .rows.add([{1: '1', 2: '1970-01-01 00:00:01.000000+0000', 3: 'GlobalWindow', 4: 'Pane 0: Final ', 0: 0}, {1: '2', 2: '1970-01-01 00:00:02.000000+0000', 3: 'GlobalWindow', 4: 'Pane 0: Final ', 0: 1}, {1: '3', 2: '1970-01-01 00:00:03.000000+0000', 3: 'GlobalWindow', 4: 'Pane 0: Final ', 0: 2}, {1: '4', 2: '1970-01-01 00:00:04.000000+0000', 3: 'GlobalWindow', 4: 'Pane 0: Final ', 0: 3}, {1: '5', 2: '1970-01-01 00:00:05.000000+0000', 3: 'GlobalWindow', 4: 'Pane 0: Final ', 0: 4}, {1: '6', 2: '1970-01-01 00:00:06.000000+0000', 3: 'GlobalWindow', 4: 'Pane 0: Final ', 0: 5}, {1: '7', 2: '1970-01-01 00:00:07.000000+0000', 3: 'GlobalWindow', 4: 'Pane 0: Final ', 0: 6}, {1: '8', 2: '1970-01-01 00:00:08.000000+0000', 3: 'GlobalWindow', 4: 'Pane 0: Final ', 0: 7}, {1: '9', 2: '1970-01-01 00:00:09.000000+0000', 3: 'GlobalWindow', 4: 'Pane 0: Final ', 0: 8}])\n",
              "              .draw('full-hold');\n",
              "              });\n",
              "            }\n",
              "            document.head.appendChild(datatableScript);\n",
              "          };\n",
              "          document.head.appendChild(jqueryScript);\n",
              "        } else {\n",
              "          window.interactive_beam_jquery(document).ready(function($){\n",
              "            \n",
              "            var dt;\n",
              "            if ($.fn.dataTable.isDataTable(\"#table_df_b5ee39552aae82f3d8567244a8df987d\")) {\n",
              "              dt = $(\"#table_df_b5ee39552aae82f3d8567244a8df987d\").dataTable();\n",
              "            } else if ($(\"#table_df_b5ee39552aae82f3d8567244a8df987d_wrapper\").length == 0) {\n",
              "              dt = $(\"#table_df_b5ee39552aae82f3d8567244a8df987d\").dataTable({\n",
              "                \n",
              "            bAutoWidth: false,\n",
              "            columns: [{'title': ''}, {'title': 'pc2.0'}, {'title': 'event_time'}, {'title': 'windows'}, {'title': 'pane_info'}],\n",
              "            destroy: true,\n",
              "            responsive: true,\n",
              "            columnDefs: [\n",
              "              {\n",
              "                targets: \"_all\",\n",
              "                className: \"dt-left\"\n",
              "              },\n",
              "              {\n",
              "                \"targets\": 0,\n",
              "                \"width\": \"10px\",\n",
              "                \"title\": \"\"\n",
              "              }\n",
              "            ]\n",
              "              });\n",
              "            } else {\n",
              "              return;\n",
              "            }\n",
              "            dt.api()\n",
              "              .clear()\n",
              "              .rows.add([{1: '1', 2: '1970-01-01 00:00:01.000000+0000', 3: 'GlobalWindow', 4: 'Pane 0: Final ', 0: 0}, {1: '2', 2: '1970-01-01 00:00:02.000000+0000', 3: 'GlobalWindow', 4: 'Pane 0: Final ', 0: 1}, {1: '3', 2: '1970-01-01 00:00:03.000000+0000', 3: 'GlobalWindow', 4: 'Pane 0: Final ', 0: 2}, {1: '4', 2: '1970-01-01 00:00:04.000000+0000', 3: 'GlobalWindow', 4: 'Pane 0: Final ', 0: 3}, {1: '5', 2: '1970-01-01 00:00:05.000000+0000', 3: 'GlobalWindow', 4: 'Pane 0: Final ', 0: 4}, {1: '6', 2: '1970-01-01 00:00:06.000000+0000', 3: 'GlobalWindow', 4: 'Pane 0: Final ', 0: 5}, {1: '7', 2: '1970-01-01 00:00:07.000000+0000', 3: 'GlobalWindow', 4: 'Pane 0: Final ', 0: 6}, {1: '8', 2: '1970-01-01 00:00:08.000000+0000', 3: 'GlobalWindow', 4: 'Pane 0: Final ', 0: 7}, {1: '9', 2: '1970-01-01 00:00:09.000000+0000', 3: 'GlobalWindow', 4: 'Pane 0: Final ', 0: 8}])\n",
              "              .draw('full-hold');\n",
              "          });\n",
              "        }\n",
              "            </script>"
            ]
          },
          "metadata": {}
        },
        {
          "output_type": "display_data",
          "data": {
            "application/javascript": [
              "\n",
              "        if (typeof window.interactive_beam_jquery == 'undefined') {\n",
              "          var jqueryScript = document.createElement('script');\n",
              "          jqueryScript.src = 'https://code.jquery.com/jquery-3.4.1.slim.min.js';\n",
              "          jqueryScript.type = 'text/javascript';\n",
              "          jqueryScript.onload = function() {\n",
              "            var datatableScript = document.createElement('script');\n",
              "            datatableScript.src = 'https://cdn.datatables.net/1.10.20/js/jquery.dataTables.min.js';\n",
              "            datatableScript.type = 'text/javascript';\n",
              "            datatableScript.onload = function() {\n",
              "              window.interactive_beam_jquery = jQuery.noConflict(true);\n",
              "              window.interactive_beam_jquery(document).ready(function($){\n",
              "                \n",
              "            $(\"#progress_indicator_168c0e3cb4743f9924700e9bb58b6514\").remove();\n",
              "              });\n",
              "            }\n",
              "            document.head.appendChild(datatableScript);\n",
              "          };\n",
              "          document.head.appendChild(jqueryScript);\n",
              "        } else {\n",
              "          window.interactive_beam_jquery(document).ready(function($){\n",
              "            \n",
              "            $(\"#progress_indicator_168c0e3cb4743f9924700e9bb58b6514\").remove();\n",
              "          });\n",
              "        }"
            ]
          },
          "metadata": {}
        }
      ]
    },
    {
      "cell_type": "code",
      "source": [
        "with beam.Pipeline(InteractiveRunner()) as p:\n",
        "  pc3 = ( p\n",
        "    | beam.Create(a)\n",
        "    | beam.Map(lambda x: beam.window.TimestampedValue(x,int(x)))\n",
        "    | beam.WindowInto(beam.window.FixedWindows(5))\n",
        ")"
      ],
      "metadata": {
        "id": "P4U_cvobL3vJ"
      },
      "execution_count": 22,
      "outputs": []
    },
    {
      "cell_type": "code",
      "source": [
        "ib.show(pc3, include_window_info=True)"
      ],
      "metadata": {
        "colab": {
          "base_uri": "https://localhost:8080/",
          "height": 513
        },
        "id": "0ZLnhI7IMNgQ",
        "outputId": "11dabecd-7926-465c-e2a2-b72503d467a4"
      },
      "execution_count": 23,
      "outputs": [
        {
          "output_type": "display_data",
          "data": {
            "text/plain": [
              "<IPython.core.display.HTML object>"
            ],
            "text/html": [
              "\n",
              "            <link rel=\"stylesheet\" href=\"https://stackpath.bootstrapcdn.com/bootstrap/4.4.1/css/bootstrap.min.css\" integrity=\"sha384-Vkoo8x4CGsO3+Hhxv8T/Q5PaXtkKtu6ug5TOeNV6gBiFeWPGFN9MuhOf23Q9Ifjh\" crossorigin=\"anonymous\">\n",
              "            <div id=\"progress_indicator_e31c4bc51669f3e0ad0057c26fe1b9be\">\n",
              "              <div class=\"spinner-border text-info\" role=\"status\"></div>\n",
              "              <span class=\"text-info\">Processing... show</span>\n",
              "            </div>\n",
              "            "
            ]
          },
          "metadata": {}
        },
        {
          "output_type": "display_data",
          "data": {
            "text/plain": [
              "<IPython.core.display.HTML object>"
            ],
            "text/html": [
              "\n",
              "            <style>\n",
              "            .p-Widget.jp-OutputPrompt.jp-OutputArea-prompt:empty {\n",
              "              padding: 0;\n",
              "              border: 0;\n",
              "            }\n",
              "            .p-Widget.jp-RenderedJavaScript.jp-mod-trusted.jp-OutputArea-output:empty {\n",
              "              padding: 0;\n",
              "              border: 0;\n",
              "            }\n",
              "            </style>\n",
              "            <link rel=\"stylesheet\" href=\"https://cdn.datatables.net/1.10.20/css/jquery.dataTables.min.css\">\n",
              "            <table id=\"table_df_c6925a2f96be4980fda8239d988c94d6\" class=\"display\" style=\"display:block\"></table>\n",
              "            <script>\n",
              "              \n",
              "        if (typeof window.interactive_beam_jquery == 'undefined') {\n",
              "          var jqueryScript = document.createElement('script');\n",
              "          jqueryScript.src = 'https://code.jquery.com/jquery-3.4.1.slim.min.js';\n",
              "          jqueryScript.type = 'text/javascript';\n",
              "          jqueryScript.onload = function() {\n",
              "            var datatableScript = document.createElement('script');\n",
              "            datatableScript.src = 'https://cdn.datatables.net/1.10.20/js/jquery.dataTables.min.js';\n",
              "            datatableScript.type = 'text/javascript';\n",
              "            datatableScript.onload = function() {\n",
              "              window.interactive_beam_jquery = jQuery.noConflict(true);\n",
              "              window.interactive_beam_jquery(document).ready(function($){\n",
              "                \n",
              "            var dt;\n",
              "            if ($.fn.dataTable.isDataTable(\"#table_df_c6925a2f96be4980fda8239d988c94d6\")) {\n",
              "              dt = $(\"#table_df_c6925a2f96be4980fda8239d988c94d6\").dataTable();\n",
              "            } else if ($(\"#table_df_c6925a2f96be4980fda8239d988c94d6_wrapper\").length == 0) {\n",
              "              dt = $(\"#table_df_c6925a2f96be4980fda8239d988c94d6\").dataTable({\n",
              "                \n",
              "            bAutoWidth: false,\n",
              "            columns: [{'title': ''}, {'title': 'pc3.0'}, {'title': 'event_time'}, {'title': 'windows'}, {'title': 'pane_info'}],\n",
              "            destroy: true,\n",
              "            responsive: true,\n",
              "            columnDefs: [\n",
              "              {\n",
              "                targets: \"_all\",\n",
              "                className: \"dt-left\"\n",
              "              },\n",
              "              {\n",
              "                \"targets\": 0,\n",
              "                \"width\": \"10px\",\n",
              "                \"title\": \"\"\n",
              "              }\n",
              "            ]\n",
              "              });\n",
              "            } else {\n",
              "              return;\n",
              "            }\n",
              "            dt.api()\n",
              "              .clear()\n",
              "              .rows.add([{1: '1', 2: '1970-01-01 00:00:01.000000+0000', 3: '1970-01-01 00:00:00.000000+0000 (5s)', 4: 'Pane 0: Final ', 0: 0}, {1: '2', 2: '1970-01-01 00:00:02.000000+0000', 3: '1970-01-01 00:00:00.000000+0000 (5s)', 4: 'Pane 0: Final ', 0: 1}, {1: '3', 2: '1970-01-01 00:00:03.000000+0000', 3: '1970-01-01 00:00:00.000000+0000 (5s)', 4: 'Pane 0: Final ', 0: 2}, {1: '4', 2: '1970-01-01 00:00:04.000000+0000', 3: '1970-01-01 00:00:00.000000+0000 (5s)', 4: 'Pane 0: Final ', 0: 3}, {1: '5', 2: '1970-01-01 00:00:05.000000+0000', 3: '1970-01-01 00:00:05.000000+0000 (5s)', 4: 'Pane 0: Final ', 0: 4}, {1: '6', 2: '1970-01-01 00:00:06.000000+0000', 3: '1970-01-01 00:00:05.000000+0000 (5s)', 4: 'Pane 0: Final ', 0: 5}, {1: '7', 2: '1970-01-01 00:00:07.000000+0000', 3: '1970-01-01 00:00:05.000000+0000 (5s)', 4: 'Pane 0: Final ', 0: 6}, {1: '8', 2: '1970-01-01 00:00:08.000000+0000', 3: '1970-01-01 00:00:05.000000+0000 (5s)', 4: 'Pane 0: Final ', 0: 7}, {1: '9', 2: '1970-01-01 00:00:09.000000+0000', 3: '1970-01-01 00:00:05.000000+0000 (5s)', 4: 'Pane 0: Final ', 0: 8}])\n",
              "              .draw('full-hold');\n",
              "              });\n",
              "            }\n",
              "            document.head.appendChild(datatableScript);\n",
              "          };\n",
              "          document.head.appendChild(jqueryScript);\n",
              "        } else {\n",
              "          window.interactive_beam_jquery(document).ready(function($){\n",
              "            \n",
              "            var dt;\n",
              "            if ($.fn.dataTable.isDataTable(\"#table_df_c6925a2f96be4980fda8239d988c94d6\")) {\n",
              "              dt = $(\"#table_df_c6925a2f96be4980fda8239d988c94d6\").dataTable();\n",
              "            } else if ($(\"#table_df_c6925a2f96be4980fda8239d988c94d6_wrapper\").length == 0) {\n",
              "              dt = $(\"#table_df_c6925a2f96be4980fda8239d988c94d6\").dataTable({\n",
              "                \n",
              "            bAutoWidth: false,\n",
              "            columns: [{'title': ''}, {'title': 'pc3.0'}, {'title': 'event_time'}, {'title': 'windows'}, {'title': 'pane_info'}],\n",
              "            destroy: true,\n",
              "            responsive: true,\n",
              "            columnDefs: [\n",
              "              {\n",
              "                targets: \"_all\",\n",
              "                className: \"dt-left\"\n",
              "              },\n",
              "              {\n",
              "                \"targets\": 0,\n",
              "                \"width\": \"10px\",\n",
              "                \"title\": \"\"\n",
              "              }\n",
              "            ]\n",
              "              });\n",
              "            } else {\n",
              "              return;\n",
              "            }\n",
              "            dt.api()\n",
              "              .clear()\n",
              "              .rows.add([{1: '1', 2: '1970-01-01 00:00:01.000000+0000', 3: '1970-01-01 00:00:00.000000+0000 (5s)', 4: 'Pane 0: Final ', 0: 0}, {1: '2', 2: '1970-01-01 00:00:02.000000+0000', 3: '1970-01-01 00:00:00.000000+0000 (5s)', 4: 'Pane 0: Final ', 0: 1}, {1: '3', 2: '1970-01-01 00:00:03.000000+0000', 3: '1970-01-01 00:00:00.000000+0000 (5s)', 4: 'Pane 0: Final ', 0: 2}, {1: '4', 2: '1970-01-01 00:00:04.000000+0000', 3: '1970-01-01 00:00:00.000000+0000 (5s)', 4: 'Pane 0: Final ', 0: 3}, {1: '5', 2: '1970-01-01 00:00:05.000000+0000', 3: '1970-01-01 00:00:05.000000+0000 (5s)', 4: 'Pane 0: Final ', 0: 4}, {1: '6', 2: '1970-01-01 00:00:06.000000+0000', 3: '1970-01-01 00:00:05.000000+0000 (5s)', 4: 'Pane 0: Final ', 0: 5}, {1: '7', 2: '1970-01-01 00:00:07.000000+0000', 3: '1970-01-01 00:00:05.000000+0000 (5s)', 4: 'Pane 0: Final ', 0: 6}, {1: '8', 2: '1970-01-01 00:00:08.000000+0000', 3: '1970-01-01 00:00:05.000000+0000 (5s)', 4: 'Pane 0: Final ', 0: 7}, {1: '9', 2: '1970-01-01 00:00:09.000000+0000', 3: '1970-01-01 00:00:05.000000+0000 (5s)', 4: 'Pane 0: Final ', 0: 8}])\n",
              "              .draw('full-hold');\n",
              "          });\n",
              "        }\n",
              "            </script>"
            ]
          },
          "metadata": {}
        },
        {
          "output_type": "display_data",
          "data": {
            "application/javascript": [
              "\n",
              "        if (typeof window.interactive_beam_jquery == 'undefined') {\n",
              "          var jqueryScript = document.createElement('script');\n",
              "          jqueryScript.src = 'https://code.jquery.com/jquery-3.4.1.slim.min.js';\n",
              "          jqueryScript.type = 'text/javascript';\n",
              "          jqueryScript.onload = function() {\n",
              "            var datatableScript = document.createElement('script');\n",
              "            datatableScript.src = 'https://cdn.datatables.net/1.10.20/js/jquery.dataTables.min.js';\n",
              "            datatableScript.type = 'text/javascript';\n",
              "            datatableScript.onload = function() {\n",
              "              window.interactive_beam_jquery = jQuery.noConflict(true);\n",
              "              window.interactive_beam_jquery(document).ready(function($){\n",
              "                \n",
              "            $(\"#progress_indicator_e31c4bc51669f3e0ad0057c26fe1b9be\").remove();\n",
              "              });\n",
              "            }\n",
              "            document.head.appendChild(datatableScript);\n",
              "          };\n",
              "          document.head.appendChild(jqueryScript);\n",
              "        } else {\n",
              "          window.interactive_beam_jquery(document).ready(function($){\n",
              "            \n",
              "            $(\"#progress_indicator_e31c4bc51669f3e0ad0057c26fe1b9be\").remove();\n",
              "          });\n",
              "        }"
            ]
          },
          "metadata": {}
        }
      ]
    },
    {
      "cell_type": "code",
      "source": [
        "b=[\n",
        "    ('A',10),\n",
        "    ('B',20),\n",
        "    ('C',30),\n",
        "    ('A',40),\n",
        "    ('B',50),\n",
        "    ('C',60),\n",
        "    ('A',70),\n",
        "    ('B',80),\n",
        "    ('C',90),\n",
        "    ('A',100),\n",
        "    ('B',110),\n",
        "    ('C',120),\n",
        "    ('A',160)\n",
        "]"
      ],
      "metadata": {
        "id": "zTnNpyGrOk6i"
      },
      "execution_count": 69,
      "outputs": []
    },
    {
      "cell_type": "code",
      "source": [
        "with beam.Pipeline(InteractiveRunner()) as p:\n",
        "  pc4 = ( p\n",
        "    | beam.Create(b)\n",
        "    | beam.Map(lambda x: beam.window.TimestampedValue(x,int(x[1])))\n",
        "    | beam.WindowInto(beam.window.FixedWindows(60))\n",
        "    | beam.GroupByKey()\n",
        ")"
      ],
      "metadata": {
        "id": "I-HaTiuRMYVE"
      },
      "execution_count": 51,
      "outputs": []
    },
    {
      "cell_type": "code",
      "source": [
        "ib.show(pc4, include_window_info=True)"
      ],
      "metadata": {
        "colab": {
          "base_uri": "https://localhost:8080/",
          "height": 431
        },
        "id": "3TPZm7wiM6Z3",
        "outputId": "9d144dc3-379f-4bca-e502-40bb85963e45"
      },
      "execution_count": 52,
      "outputs": [
        {
          "output_type": "display_data",
          "data": {
            "text/plain": [
              "<IPython.core.display.HTML object>"
            ],
            "text/html": [
              "\n",
              "            <link rel=\"stylesheet\" href=\"https://stackpath.bootstrapcdn.com/bootstrap/4.4.1/css/bootstrap.min.css\" integrity=\"sha384-Vkoo8x4CGsO3+Hhxv8T/Q5PaXtkKtu6ug5TOeNV6gBiFeWPGFN9MuhOf23Q9Ifjh\" crossorigin=\"anonymous\">\n",
              "            <div id=\"progress_indicator_e512d332d0e12ff7cd8988f53748510b\">\n",
              "              <div class=\"spinner-border text-info\" role=\"status\"></div>\n",
              "              <span class=\"text-info\">Processing... show</span>\n",
              "            </div>\n",
              "            "
            ]
          },
          "metadata": {}
        },
        {
          "output_type": "display_data",
          "data": {
            "text/plain": [
              "<IPython.core.display.HTML object>"
            ],
            "text/html": [
              "\n",
              "            <style>\n",
              "            .p-Widget.jp-OutputPrompt.jp-OutputArea-prompt:empty {\n",
              "              padding: 0;\n",
              "              border: 0;\n",
              "            }\n",
              "            .p-Widget.jp-RenderedJavaScript.jp-mod-trusted.jp-OutputArea-output:empty {\n",
              "              padding: 0;\n",
              "              border: 0;\n",
              "            }\n",
              "            </style>\n",
              "            <link rel=\"stylesheet\" href=\"https://cdn.datatables.net/1.10.20/css/jquery.dataTables.min.css\">\n",
              "            <table id=\"table_df_c344587cab74c64e9dfa840cebf7bc69\" class=\"display\" style=\"display:block\"></table>\n",
              "            <script>\n",
              "              \n",
              "        if (typeof window.interactive_beam_jquery == 'undefined') {\n",
              "          var jqueryScript = document.createElement('script');\n",
              "          jqueryScript.src = 'https://code.jquery.com/jquery-3.4.1.slim.min.js';\n",
              "          jqueryScript.type = 'text/javascript';\n",
              "          jqueryScript.onload = function() {\n",
              "            var datatableScript = document.createElement('script');\n",
              "            datatableScript.src = 'https://cdn.datatables.net/1.10.20/js/jquery.dataTables.min.js';\n",
              "            datatableScript.type = 'text/javascript';\n",
              "            datatableScript.onload = function() {\n",
              "              window.interactive_beam_jquery = jQuery.noConflict(true);\n",
              "              window.interactive_beam_jquery(document).ready(function($){\n",
              "                \n",
              "            var dt;\n",
              "            if ($.fn.dataTable.isDataTable(\"#table_df_c344587cab74c64e9dfa840cebf7bc69\")) {\n",
              "              dt = $(\"#table_df_c344587cab74c64e9dfa840cebf7bc69\").dataTable();\n",
              "            } else if ($(\"#table_df_c344587cab74c64e9dfa840cebf7bc69_wrapper\").length == 0) {\n",
              "              dt = $(\"#table_df_c344587cab74c64e9dfa840cebf7bc69\").dataTable({\n",
              "                \n",
              "            bAutoWidth: false,\n",
              "            columns: [{'title': ''}, {'title': 'pc4.0'}, {'title': 'pc4.1'}, {'title': 'event_time'}, {'title': 'windows'}, {'title': 'pane_info'}],\n",
              "            destroy: true,\n",
              "            responsive: true,\n",
              "            columnDefs: [\n",
              "              {\n",
              "                targets: \"_all\",\n",
              "                className: \"dt-left\"\n",
              "              },\n",
              "              {\n",
              "                \"targets\": 0,\n",
              "                \"width\": \"10px\",\n",
              "                \"title\": \"\"\n",
              "              }\n",
              "            ]\n",
              "              });\n",
              "            } else {\n",
              "              return;\n",
              "            }\n",
              "            dt.api()\n",
              "              .clear()\n",
              "              .rows.add([{1: 'A', 2: '[10, 40]', 3: '1970-01-01 00:00:59.999000+0000', 4: '1970-01-01 00:00:00.000000+0000 (1m )', 5: 'Pane 0', 0: 0}, {1: 'A', 2: '[70, 100]', 3: '1970-01-01 00:01:59.999000+0000', 4: '1970-01-01 00:01:00.000000+0000 (1m )', 5: 'Pane 0', 0: 1}, {1: 'B', 2: '[20, 50]', 3: '1970-01-01 00:00:59.999000+0000', 4: '1970-01-01 00:00:00.000000+0000 (1m )', 5: 'Pane 0', 0: 2}, {1: 'B', 2: '[80, 110]', 3: '1970-01-01 00:01:59.999000+0000', 4: '1970-01-01 00:01:00.000000+0000 (1m )', 5: 'Pane 0', 0: 3}, {1: 'C', 2: '[30]', 3: '1970-01-01 00:00:59.999000+0000', 4: '1970-01-01 00:00:00.000000+0000 (1m )', 5: 'Pane 0', 0: 4}, {1: 'C', 2: '[60, 90]', 3: '1970-01-01 00:01:59.999000+0000', 4: '1970-01-01 00:01:00.000000+0000 (1m )', 5: 'Pane 0', 0: 5}, {1: 'C', 2: '[120]', 3: '1970-01-01 00:02:59.999000+0000', 4: '1970-01-01 00:02:00.000000+0000 (1m )', 5: 'Pane 0', 0: 6}])\n",
              "              .draw('full-hold');\n",
              "              });\n",
              "            }\n",
              "            document.head.appendChild(datatableScript);\n",
              "          };\n",
              "          document.head.appendChild(jqueryScript);\n",
              "        } else {\n",
              "          window.interactive_beam_jquery(document).ready(function($){\n",
              "            \n",
              "            var dt;\n",
              "            if ($.fn.dataTable.isDataTable(\"#table_df_c344587cab74c64e9dfa840cebf7bc69\")) {\n",
              "              dt = $(\"#table_df_c344587cab74c64e9dfa840cebf7bc69\").dataTable();\n",
              "            } else if ($(\"#table_df_c344587cab74c64e9dfa840cebf7bc69_wrapper\").length == 0) {\n",
              "              dt = $(\"#table_df_c344587cab74c64e9dfa840cebf7bc69\").dataTable({\n",
              "                \n",
              "            bAutoWidth: false,\n",
              "            columns: [{'title': ''}, {'title': 'pc4.0'}, {'title': 'pc4.1'}, {'title': 'event_time'}, {'title': 'windows'}, {'title': 'pane_info'}],\n",
              "            destroy: true,\n",
              "            responsive: true,\n",
              "            columnDefs: [\n",
              "              {\n",
              "                targets: \"_all\",\n",
              "                className: \"dt-left\"\n",
              "              },\n",
              "              {\n",
              "                \"targets\": 0,\n",
              "                \"width\": \"10px\",\n",
              "                \"title\": \"\"\n",
              "              }\n",
              "            ]\n",
              "              });\n",
              "            } else {\n",
              "              return;\n",
              "            }\n",
              "            dt.api()\n",
              "              .clear()\n",
              "              .rows.add([{1: 'A', 2: '[10, 40]', 3: '1970-01-01 00:00:59.999000+0000', 4: '1970-01-01 00:00:00.000000+0000 (1m )', 5: 'Pane 0', 0: 0}, {1: 'A', 2: '[70, 100]', 3: '1970-01-01 00:01:59.999000+0000', 4: '1970-01-01 00:01:00.000000+0000 (1m )', 5: 'Pane 0', 0: 1}, {1: 'B', 2: '[20, 50]', 3: '1970-01-01 00:00:59.999000+0000', 4: '1970-01-01 00:00:00.000000+0000 (1m )', 5: 'Pane 0', 0: 2}, {1: 'B', 2: '[80, 110]', 3: '1970-01-01 00:01:59.999000+0000', 4: '1970-01-01 00:01:00.000000+0000 (1m )', 5: 'Pane 0', 0: 3}, {1: 'C', 2: '[30]', 3: '1970-01-01 00:00:59.999000+0000', 4: '1970-01-01 00:00:00.000000+0000 (1m )', 5: 'Pane 0', 0: 4}, {1: 'C', 2: '[60, 90]', 3: '1970-01-01 00:01:59.999000+0000', 4: '1970-01-01 00:01:00.000000+0000 (1m )', 5: 'Pane 0', 0: 5}, {1: 'C', 2: '[120]', 3: '1970-01-01 00:02:59.999000+0000', 4: '1970-01-01 00:02:00.000000+0000 (1m )', 5: 'Pane 0', 0: 6}])\n",
              "              .draw('full-hold');\n",
              "          });\n",
              "        }\n",
              "            </script>"
            ]
          },
          "metadata": {}
        },
        {
          "output_type": "display_data",
          "data": {
            "application/javascript": [
              "\n",
              "        if (typeof window.interactive_beam_jquery == 'undefined') {\n",
              "          var jqueryScript = document.createElement('script');\n",
              "          jqueryScript.src = 'https://code.jquery.com/jquery-3.4.1.slim.min.js';\n",
              "          jqueryScript.type = 'text/javascript';\n",
              "          jqueryScript.onload = function() {\n",
              "            var datatableScript = document.createElement('script');\n",
              "            datatableScript.src = 'https://cdn.datatables.net/1.10.20/js/jquery.dataTables.min.js';\n",
              "            datatableScript.type = 'text/javascript';\n",
              "            datatableScript.onload = function() {\n",
              "              window.interactive_beam_jquery = jQuery.noConflict(true);\n",
              "              window.interactive_beam_jquery(document).ready(function($){\n",
              "                \n",
              "            $(\"#progress_indicator_e512d332d0e12ff7cd8988f53748510b\").remove();\n",
              "              });\n",
              "            }\n",
              "            document.head.appendChild(datatableScript);\n",
              "          };\n",
              "          document.head.appendChild(jqueryScript);\n",
              "        } else {\n",
              "          window.interactive_beam_jquery(document).ready(function($){\n",
              "            \n",
              "            $(\"#progress_indicator_e512d332d0e12ff7cd8988f53748510b\").remove();\n",
              "          });\n",
              "        }"
            ]
          },
          "metadata": {}
        }
      ]
    },
    {
      "cell_type": "code",
      "source": [
        "with beam.Pipeline(InteractiveRunner()) as p:\n",
        "  pc5 = ( p\n",
        "    | beam.Create(b)\n",
        "    | beam.Map(lambda x: beam.window.TimestampedValue(x,int(x[1])))\n",
        "    | beam.WindowInto(beam.window.SlidingWindows(60,30))\n",
        "    | beam.GroupByKey()\n",
        ")"
      ],
      "metadata": {
        "id": "KcgdXJgGOgpv"
      },
      "execution_count": 53,
      "outputs": []
    },
    {
      "cell_type": "code",
      "source": [
        "ib.show(pc5, include_window_info=True)"
      ],
      "metadata": {
        "colab": {
          "base_uri": "https://localhost:8080/",
          "height": 759
        },
        "id": "o0WwsirpQgqm",
        "outputId": "9502fcc2-2383-48d5-e6c6-7461a3934543"
      },
      "execution_count": 54,
      "outputs": [
        {
          "output_type": "display_data",
          "data": {
            "text/plain": [
              "<IPython.core.display.HTML object>"
            ],
            "text/html": [
              "\n",
              "            <link rel=\"stylesheet\" href=\"https://stackpath.bootstrapcdn.com/bootstrap/4.4.1/css/bootstrap.min.css\" integrity=\"sha384-Vkoo8x4CGsO3+Hhxv8T/Q5PaXtkKtu6ug5TOeNV6gBiFeWPGFN9MuhOf23Q9Ifjh\" crossorigin=\"anonymous\">\n",
              "            <div id=\"progress_indicator_86d5efef7e477f9ad4e9f7a6438632a5\">\n",
              "              <div class=\"spinner-border text-info\" role=\"status\"></div>\n",
              "              <span class=\"text-info\">Processing... show</span>\n",
              "            </div>\n",
              "            "
            ]
          },
          "metadata": {}
        },
        {
          "output_type": "display_data",
          "data": {
            "text/plain": [
              "<IPython.core.display.HTML object>"
            ],
            "text/html": [
              "\n",
              "            <style>\n",
              "            .p-Widget.jp-OutputPrompt.jp-OutputArea-prompt:empty {\n",
              "              padding: 0;\n",
              "              border: 0;\n",
              "            }\n",
              "            .p-Widget.jp-RenderedJavaScript.jp-mod-trusted.jp-OutputArea-output:empty {\n",
              "              padding: 0;\n",
              "              border: 0;\n",
              "            }\n",
              "            </style>\n",
              "            <link rel=\"stylesheet\" href=\"https://cdn.datatables.net/1.10.20/css/jquery.dataTables.min.css\">\n",
              "            <table id=\"table_df_9424ea170a71a5bf48123a94d6de4c89\" class=\"display\" style=\"display:block\"></table>\n",
              "            <script>\n",
              "              \n",
              "        if (typeof window.interactive_beam_jquery == 'undefined') {\n",
              "          var jqueryScript = document.createElement('script');\n",
              "          jqueryScript.src = 'https://code.jquery.com/jquery-3.4.1.slim.min.js';\n",
              "          jqueryScript.type = 'text/javascript';\n",
              "          jqueryScript.onload = function() {\n",
              "            var datatableScript = document.createElement('script');\n",
              "            datatableScript.src = 'https://cdn.datatables.net/1.10.20/js/jquery.dataTables.min.js';\n",
              "            datatableScript.type = 'text/javascript';\n",
              "            datatableScript.onload = function() {\n",
              "              window.interactive_beam_jquery = jQuery.noConflict(true);\n",
              "              window.interactive_beam_jquery(document).ready(function($){\n",
              "                \n",
              "            var dt;\n",
              "            if ($.fn.dataTable.isDataTable(\"#table_df_9424ea170a71a5bf48123a94d6de4c89\")) {\n",
              "              dt = $(\"#table_df_9424ea170a71a5bf48123a94d6de4c89\").dataTable();\n",
              "            } else if ($(\"#table_df_9424ea170a71a5bf48123a94d6de4c89_wrapper\").length == 0) {\n",
              "              dt = $(\"#table_df_9424ea170a71a5bf48123a94d6de4c89\").dataTable({\n",
              "                \n",
              "            bAutoWidth: false,\n",
              "            columns: [{'title': ''}, {'title': 'pc5.0'}, {'title': 'pc5.1'}, {'title': 'event_time'}, {'title': 'windows'}, {'title': 'pane_info'}],\n",
              "            destroy: true,\n",
              "            responsive: true,\n",
              "            columnDefs: [\n",
              "              {\n",
              "                targets: \"_all\",\n",
              "                className: \"dt-left\"\n",
              "              },\n",
              "              {\n",
              "                \"targets\": 0,\n",
              "                \"width\": \"10px\",\n",
              "                \"title\": \"\"\n",
              "              }\n",
              "            ]\n",
              "              });\n",
              "            } else {\n",
              "              return;\n",
              "            }\n",
              "            dt.api()\n",
              "              .clear()\n",
              "              .rows.add([{1: 'A', 2: '[10, 40]', 3: '1970-01-01 00:00:59.999000+0000', 4: '1970-01-01 00:00:00.000000+0000 (1m )', 5: 'Pane 0', 0: 0}, {1: 'A', 2: '[10]', 3: '1970-01-01 00:00:29.999000+0000', 4: '1969-12-31 23:59:30.000000+0000 (1m )', 5: 'Pane 0', 0: 1}, {1: 'A', 2: '[40, 70]', 3: '1970-01-01 00:01:29.999000+0000', 4: '1970-01-01 00:00:30.000000+0000 (1m )', 5: 'Pane 0', 0: 2}, {1: 'A', 2: '[70, 100]', 3: '1970-01-01 00:01:59.999000+0000', 4: '1970-01-01 00:01:00.000000+0000 (1m )', 5: 'Pane 0', 0: 3}, {1: 'A', 2: '[100]', 3: '1970-01-01 00:02:29.999000+0000', 4: '1970-01-01 00:01:30.000000+0000 (1m )', 5: 'Pane 0', 0: 4}, {1: 'B', 2: '[20, 50]', 3: '1970-01-01 00:00:59.999000+0000', 4: '1970-01-01 00:00:00.000000+0000 (1m )', 5: 'Pane 0', 0: 5}, {1: 'B', 2: '[20]', 3: '1970-01-01 00:00:29.999000+0000', 4: '1969-12-31 23:59:30.000000+0000 (1m )', 5: 'Pane 0', 0: 6}, {1: 'B', 2: '[50, 80]', 3: '1970-01-01 00:01:29.999000+0000', 4: '1970-01-01 00:00:30.000000+0000 (1m )', 5: 'Pane 0', 0: 7}, {1: 'B', 2: '[80, 110]', 3: '1970-01-01 00:01:59.999000+0000', 4: '1970-01-01 00:01:00.000000+0000 (1m )', 5: 'Pane 0', 0: 8}, {1: 'B', 2: '[110]', 3: '1970-01-01 00:02:29.999000+0000', 4: '1970-01-01 00:01:30.000000+0000 (1m )', 5: 'Pane 0', 0: 9}, {1: 'C', 2: '[30, 60]', 3: '1970-01-01 00:01:29.999000+0000', 4: '1970-01-01 00:00:30.000000+0000 (1m )', 5: 'Pane 0', 0: 10}, {1: 'C', 2: '[30]', 3: '1970-01-01 00:00:59.999000+0000', 4: '1970-01-01 00:00:00.000000+0000 (1m )', 5: 'Pane 0', 0: 11}, {1: 'C', 2: '[60, 90]', 3: '1970-01-01 00:01:59.999000+0000', 4: '1970-01-01 00:01:00.000000+0000 (1m )', 5: 'Pane 0', 0: 12}, {1: 'C', 2: '[90, 120]', 3: '1970-01-01 00:02:29.999000+0000', 4: '1970-01-01 00:01:30.000000+0000 (1m )', 5: 'Pane 0', 0: 13}, {1: 'C', 2: '[120]', 3: '1970-01-01 00:02:59.999000+0000', 4: '1970-01-01 00:02:00.000000+0000 (1m )', 5: 'Pane 0', 0: 14}])\n",
              "              .draw('full-hold');\n",
              "              });\n",
              "            }\n",
              "            document.head.appendChild(datatableScript);\n",
              "          };\n",
              "          document.head.appendChild(jqueryScript);\n",
              "        } else {\n",
              "          window.interactive_beam_jquery(document).ready(function($){\n",
              "            \n",
              "            var dt;\n",
              "            if ($.fn.dataTable.isDataTable(\"#table_df_9424ea170a71a5bf48123a94d6de4c89\")) {\n",
              "              dt = $(\"#table_df_9424ea170a71a5bf48123a94d6de4c89\").dataTable();\n",
              "            } else if ($(\"#table_df_9424ea170a71a5bf48123a94d6de4c89_wrapper\").length == 0) {\n",
              "              dt = $(\"#table_df_9424ea170a71a5bf48123a94d6de4c89\").dataTable({\n",
              "                \n",
              "            bAutoWidth: false,\n",
              "            columns: [{'title': ''}, {'title': 'pc5.0'}, {'title': 'pc5.1'}, {'title': 'event_time'}, {'title': 'windows'}, {'title': 'pane_info'}],\n",
              "            destroy: true,\n",
              "            responsive: true,\n",
              "            columnDefs: [\n",
              "              {\n",
              "                targets: \"_all\",\n",
              "                className: \"dt-left\"\n",
              "              },\n",
              "              {\n",
              "                \"targets\": 0,\n",
              "                \"width\": \"10px\",\n",
              "                \"title\": \"\"\n",
              "              }\n",
              "            ]\n",
              "              });\n",
              "            } else {\n",
              "              return;\n",
              "            }\n",
              "            dt.api()\n",
              "              .clear()\n",
              "              .rows.add([{1: 'A', 2: '[10, 40]', 3: '1970-01-01 00:00:59.999000+0000', 4: '1970-01-01 00:00:00.000000+0000 (1m )', 5: 'Pane 0', 0: 0}, {1: 'A', 2: '[10]', 3: '1970-01-01 00:00:29.999000+0000', 4: '1969-12-31 23:59:30.000000+0000 (1m )', 5: 'Pane 0', 0: 1}, {1: 'A', 2: '[40, 70]', 3: '1970-01-01 00:01:29.999000+0000', 4: '1970-01-01 00:00:30.000000+0000 (1m )', 5: 'Pane 0', 0: 2}, {1: 'A', 2: '[70, 100]', 3: '1970-01-01 00:01:59.999000+0000', 4: '1970-01-01 00:01:00.000000+0000 (1m )', 5: 'Pane 0', 0: 3}, {1: 'A', 2: '[100]', 3: '1970-01-01 00:02:29.999000+0000', 4: '1970-01-01 00:01:30.000000+0000 (1m )', 5: 'Pane 0', 0: 4}, {1: 'B', 2: '[20, 50]', 3: '1970-01-01 00:00:59.999000+0000', 4: '1970-01-01 00:00:00.000000+0000 (1m )', 5: 'Pane 0', 0: 5}, {1: 'B', 2: '[20]', 3: '1970-01-01 00:00:29.999000+0000', 4: '1969-12-31 23:59:30.000000+0000 (1m )', 5: 'Pane 0', 0: 6}, {1: 'B', 2: '[50, 80]', 3: '1970-01-01 00:01:29.999000+0000', 4: '1970-01-01 00:00:30.000000+0000 (1m )', 5: 'Pane 0', 0: 7}, {1: 'B', 2: '[80, 110]', 3: '1970-01-01 00:01:59.999000+0000', 4: '1970-01-01 00:01:00.000000+0000 (1m )', 5: 'Pane 0', 0: 8}, {1: 'B', 2: '[110]', 3: '1970-01-01 00:02:29.999000+0000', 4: '1970-01-01 00:01:30.000000+0000 (1m )', 5: 'Pane 0', 0: 9}, {1: 'C', 2: '[30, 60]', 3: '1970-01-01 00:01:29.999000+0000', 4: '1970-01-01 00:00:30.000000+0000 (1m )', 5: 'Pane 0', 0: 10}, {1: 'C', 2: '[30]', 3: '1970-01-01 00:00:59.999000+0000', 4: '1970-01-01 00:00:00.000000+0000 (1m )', 5: 'Pane 0', 0: 11}, {1: 'C', 2: '[60, 90]', 3: '1970-01-01 00:01:59.999000+0000', 4: '1970-01-01 00:01:00.000000+0000 (1m )', 5: 'Pane 0', 0: 12}, {1: 'C', 2: '[90, 120]', 3: '1970-01-01 00:02:29.999000+0000', 4: '1970-01-01 00:01:30.000000+0000 (1m )', 5: 'Pane 0', 0: 13}, {1: 'C', 2: '[120]', 3: '1970-01-01 00:02:59.999000+0000', 4: '1970-01-01 00:02:00.000000+0000 (1m )', 5: 'Pane 0', 0: 14}])\n",
              "              .draw('full-hold');\n",
              "          });\n",
              "        }\n",
              "            </script>"
            ]
          },
          "metadata": {}
        },
        {
          "output_type": "display_data",
          "data": {
            "application/javascript": [
              "\n",
              "        if (typeof window.interactive_beam_jquery == 'undefined') {\n",
              "          var jqueryScript = document.createElement('script');\n",
              "          jqueryScript.src = 'https://code.jquery.com/jquery-3.4.1.slim.min.js';\n",
              "          jqueryScript.type = 'text/javascript';\n",
              "          jqueryScript.onload = function() {\n",
              "            var datatableScript = document.createElement('script');\n",
              "            datatableScript.src = 'https://cdn.datatables.net/1.10.20/js/jquery.dataTables.min.js';\n",
              "            datatableScript.type = 'text/javascript';\n",
              "            datatableScript.onload = function() {\n",
              "              window.interactive_beam_jquery = jQuery.noConflict(true);\n",
              "              window.interactive_beam_jquery(document).ready(function($){\n",
              "                \n",
              "            $(\"#progress_indicator_86d5efef7e477f9ad4e9f7a6438632a5\").remove();\n",
              "              });\n",
              "            }\n",
              "            document.head.appendChild(datatableScript);\n",
              "          };\n",
              "          document.head.appendChild(jqueryScript);\n",
              "        } else {\n",
              "          window.interactive_beam_jquery(document).ready(function($){\n",
              "            \n",
              "            $(\"#progress_indicator_86d5efef7e477f9ad4e9f7a6438632a5\").remove();\n",
              "          });\n",
              "        }"
            ]
          },
          "metadata": {}
        }
      ]
    },
    {
      "cell_type": "code",
      "source": [
        "with beam.Pipeline(InteractiveRunner()) as p:\n",
        "  pc6 = ( p\n",
        "    | beam.Create(b)\n",
        "    | beam.Map(lambda x: beam.window.TimestampedValue(x,int(x[1])))\n",
        "    | beam.WindowInto(beam.window.Sessions(60))\n",
        "    | beam.GroupByKey()\n",
        ")"
      ],
      "metadata": {
        "id": "4X_gNkjAQg6v"
      },
      "execution_count": 70,
      "outputs": []
    },
    {
      "cell_type": "code",
      "source": [
        "ib.show(pc6, include_window_info=True)"
      ],
      "metadata": {
        "colab": {
          "base_uri": "https://localhost:8080/",
          "height": 308
        },
        "id": "BNqYiboxRIod",
        "outputId": "2438265b-fc21-4479-a21a-fa453bb7411d"
      },
      "execution_count": 71,
      "outputs": [
        {
          "output_type": "display_data",
          "data": {
            "text/plain": [
              "<IPython.core.display.HTML object>"
            ],
            "text/html": [
              "\n",
              "            <link rel=\"stylesheet\" href=\"https://stackpath.bootstrapcdn.com/bootstrap/4.4.1/css/bootstrap.min.css\" integrity=\"sha384-Vkoo8x4CGsO3+Hhxv8T/Q5PaXtkKtu6ug5TOeNV6gBiFeWPGFN9MuhOf23Q9Ifjh\" crossorigin=\"anonymous\">\n",
              "            <div id=\"progress_indicator_2fc52844ef2317c9d1d947ef6dd4e951\">\n",
              "              <div class=\"spinner-border text-info\" role=\"status\"></div>\n",
              "              <span class=\"text-info\">Processing... show</span>\n",
              "            </div>\n",
              "            "
            ]
          },
          "metadata": {}
        },
        {
          "output_type": "display_data",
          "data": {
            "text/plain": [
              "<IPython.core.display.HTML object>"
            ],
            "text/html": [
              "\n",
              "            <style>\n",
              "            .p-Widget.jp-OutputPrompt.jp-OutputArea-prompt:empty {\n",
              "              padding: 0;\n",
              "              border: 0;\n",
              "            }\n",
              "            .p-Widget.jp-RenderedJavaScript.jp-mod-trusted.jp-OutputArea-output:empty {\n",
              "              padding: 0;\n",
              "              border: 0;\n",
              "            }\n",
              "            </style>\n",
              "            <link rel=\"stylesheet\" href=\"https://cdn.datatables.net/1.10.20/css/jquery.dataTables.min.css\">\n",
              "            <table id=\"table_df_7c71c6f31a6393a14928d329987e4b21\" class=\"display\" style=\"display:block\"></table>\n",
              "            <script>\n",
              "              \n",
              "        if (typeof window.interactive_beam_jquery == 'undefined') {\n",
              "          var jqueryScript = document.createElement('script');\n",
              "          jqueryScript.src = 'https://code.jquery.com/jquery-3.4.1.slim.min.js';\n",
              "          jqueryScript.type = 'text/javascript';\n",
              "          jqueryScript.onload = function() {\n",
              "            var datatableScript = document.createElement('script');\n",
              "            datatableScript.src = 'https://cdn.datatables.net/1.10.20/js/jquery.dataTables.min.js';\n",
              "            datatableScript.type = 'text/javascript';\n",
              "            datatableScript.onload = function() {\n",
              "              window.interactive_beam_jquery = jQuery.noConflict(true);\n",
              "              window.interactive_beam_jquery(document).ready(function($){\n",
              "                \n",
              "            var dt;\n",
              "            if ($.fn.dataTable.isDataTable(\"#table_df_7c71c6f31a6393a14928d329987e4b21\")) {\n",
              "              dt = $(\"#table_df_7c71c6f31a6393a14928d329987e4b21\").dataTable();\n",
              "            } else if ($(\"#table_df_7c71c6f31a6393a14928d329987e4b21_wrapper\").length == 0) {\n",
              "              dt = $(\"#table_df_7c71c6f31a6393a14928d329987e4b21\").dataTable({\n",
              "                \n",
              "            bAutoWidth: false,\n",
              "            columns: [{'title': ''}, {'title': 'pc6.0'}, {'title': 'pc6.1'}, {'title': 'event_time'}, {'title': 'windows'}, {'title': 'pane_info'}],\n",
              "            destroy: true,\n",
              "            responsive: true,\n",
              "            columnDefs: [\n",
              "              {\n",
              "                targets: \"_all\",\n",
              "                className: \"dt-left\"\n",
              "              },\n",
              "              {\n",
              "                \"targets\": 0,\n",
              "                \"width\": \"10px\",\n",
              "                \"title\": \"\"\n",
              "              }\n",
              "            ]\n",
              "              });\n",
              "            } else {\n",
              "              return;\n",
              "            }\n",
              "            dt.api()\n",
              "              .clear()\n",
              "              .rows.add([{1: 'A', 2: '[10, 40, 70, 100]', 3: '1970-01-01 00:02:39.999000+0000', 4: '1970-01-01 00:00:10.000000+0000 (2m 30s)', 5: 'Pane 0', 0: 0}, {1: 'A', 2: '[160]', 3: '1970-01-01 00:03:39.999000+0000', 4: '1970-01-01 00:02:40.000000+0000 (1m )', 5: 'Pane 0', 0: 1}, {1: 'B', 2: '[20, 50, 80, 110]', 3: '1970-01-01 00:02:49.999000+0000', 4: '1970-01-01 00:00:20.000000+0000 (2m 30s)', 5: 'Pane 0', 0: 2}, {1: 'C', 2: '[30, 60, 90, 120]', 3: '1970-01-01 00:02:59.999000+0000', 4: '1970-01-01 00:00:30.000000+0000 (2m 30s)', 5: 'Pane 0', 0: 3}])\n",
              "              .draw('full-hold');\n",
              "              });\n",
              "            }\n",
              "            document.head.appendChild(datatableScript);\n",
              "          };\n",
              "          document.head.appendChild(jqueryScript);\n",
              "        } else {\n",
              "          window.interactive_beam_jquery(document).ready(function($){\n",
              "            \n",
              "            var dt;\n",
              "            if ($.fn.dataTable.isDataTable(\"#table_df_7c71c6f31a6393a14928d329987e4b21\")) {\n",
              "              dt = $(\"#table_df_7c71c6f31a6393a14928d329987e4b21\").dataTable();\n",
              "            } else if ($(\"#table_df_7c71c6f31a6393a14928d329987e4b21_wrapper\").length == 0) {\n",
              "              dt = $(\"#table_df_7c71c6f31a6393a14928d329987e4b21\").dataTable({\n",
              "                \n",
              "            bAutoWidth: false,\n",
              "            columns: [{'title': ''}, {'title': 'pc6.0'}, {'title': 'pc6.1'}, {'title': 'event_time'}, {'title': 'windows'}, {'title': 'pane_info'}],\n",
              "            destroy: true,\n",
              "            responsive: true,\n",
              "            columnDefs: [\n",
              "              {\n",
              "                targets: \"_all\",\n",
              "                className: \"dt-left\"\n",
              "              },\n",
              "              {\n",
              "                \"targets\": 0,\n",
              "                \"width\": \"10px\",\n",
              "                \"title\": \"\"\n",
              "              }\n",
              "            ]\n",
              "              });\n",
              "            } else {\n",
              "              return;\n",
              "            }\n",
              "            dt.api()\n",
              "              .clear()\n",
              "              .rows.add([{1: 'A', 2: '[10, 40, 70, 100]', 3: '1970-01-01 00:02:39.999000+0000', 4: '1970-01-01 00:00:10.000000+0000 (2m 30s)', 5: 'Pane 0', 0: 0}, {1: 'A', 2: '[160]', 3: '1970-01-01 00:03:39.999000+0000', 4: '1970-01-01 00:02:40.000000+0000 (1m )', 5: 'Pane 0', 0: 1}, {1: 'B', 2: '[20, 50, 80, 110]', 3: '1970-01-01 00:02:49.999000+0000', 4: '1970-01-01 00:00:20.000000+0000 (2m 30s)', 5: 'Pane 0', 0: 2}, {1: 'C', 2: '[30, 60, 90, 120]', 3: '1970-01-01 00:02:59.999000+0000', 4: '1970-01-01 00:00:30.000000+0000 (2m 30s)', 5: 'Pane 0', 0: 3}])\n",
              "              .draw('full-hold');\n",
              "          });\n",
              "        }\n",
              "            </script>"
            ]
          },
          "metadata": {}
        },
        {
          "output_type": "display_data",
          "data": {
            "application/javascript": [
              "\n",
              "        if (typeof window.interactive_beam_jquery == 'undefined') {\n",
              "          var jqueryScript = document.createElement('script');\n",
              "          jqueryScript.src = 'https://code.jquery.com/jquery-3.4.1.slim.min.js';\n",
              "          jqueryScript.type = 'text/javascript';\n",
              "          jqueryScript.onload = function() {\n",
              "            var datatableScript = document.createElement('script');\n",
              "            datatableScript.src = 'https://cdn.datatables.net/1.10.20/js/jquery.dataTables.min.js';\n",
              "            datatableScript.type = 'text/javascript';\n",
              "            datatableScript.onload = function() {\n",
              "              window.interactive_beam_jquery = jQuery.noConflict(true);\n",
              "              window.interactive_beam_jquery(document).ready(function($){\n",
              "                \n",
              "            $(\"#progress_indicator_2fc52844ef2317c9d1d947ef6dd4e951\").remove();\n",
              "              });\n",
              "            }\n",
              "            document.head.appendChild(datatableScript);\n",
              "          };\n",
              "          document.head.appendChild(jqueryScript);\n",
              "        } else {\n",
              "          window.interactive_beam_jquery(document).ready(function($){\n",
              "            \n",
              "            $(\"#progress_indicator_2fc52844ef2317c9d1d947ef6dd4e951\").remove();\n",
              "          });\n",
              "        }"
            ]
          },
          "metadata": {}
        }
      ]
    },
    {
      "cell_type": "markdown",
      "metadata": {
        "id": "Ba3tYIzFYIUD"
      },
      "source": [
        "---\n",
        "If you made it this far, follow [David Regalado](https://beacons.ai/davidregalado) for more code!"
      ]
    }
  ]
}