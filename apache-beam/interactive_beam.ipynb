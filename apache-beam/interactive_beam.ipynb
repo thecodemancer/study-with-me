{
  "nbformat": 4,
  "nbformat_minor": 0,
  "metadata": {
    "colab": {
      "provenance": [],
      "authorship_tag": "ABX9TyP4Ezwq4zZdY5adHLN3npzW",
      "include_colab_link": true
    },
    "kernelspec": {
      "name": "python3",
      "display_name": "Python 3"
    },
    "language_info": {
      "name": "python"
    }
  },
  "cells": [
    {
      "cell_type": "markdown",
      "metadata": {
        "id": "view-in-github",
        "colab_type": "text"
      },
      "source": [
        "<a href=\"https://colab.research.google.com/github/thecodemancer/study-with-me/blob/main/apache-beam/interactive_beam.ipynb\" target=\"_parent\"><img src=\"https://colab.research.google.com/assets/colab-badge.svg\" alt=\"Open In Colab\"/></a>"
      ]
    },
    {
      "cell_type": "markdown",
      "source": [
        "# Interactive Beam\n",
        "\n",
        "Module of Interactive Beam features that can be used in notebook.\n",
        "\n",
        "The purpose of the module is to reduce the learning curve of Interactive Beam users, provide a single place for importing and add sugar syntax for all Interactive Beam components. It gives users capability to interact with existing environment/session/context for Interactive Beam and visualize PCollections as bounded dataset. In the meantime, it hides the interactivity implementation from users so that users can focus on developing Beam pipeline without worrying about how hidden states in the interactive session are managed."
      ],
      "metadata": {
        "id": "bxzqNOcA2G62"
      }
    },
    {
      "cell_type": "code",
      "execution_count": 1,
      "metadata": {
        "id": "exboO-ERpJGQ"
      },
      "outputs": [],
      "source": [
        "#!pip install apache-beam[interactive]"
      ]
    },
    {
      "cell_type": "code",
      "source": [
        "import apache_beam as beam\n",
        "#from apache_beam import WindowInto, window\n",
        "\n",
        "from apache_beam.transforms.window import TimestampedValue, FixedWindows, SlidingWindows, Sessions, GlobalWindow\n",
        "from apache_beam.runners.interactive.interactive_runner import InteractiveRunner \n",
        "\n",
        "import apache_beam.runners.interactive.interactive_beam as ib"
      ],
      "metadata": {
        "id": "_wugEGtBpKpG"
      },
      "execution_count": 7,
      "outputs": []
    },
    {
      "cell_type": "code",
      "source": [
        "a=[1,2,3,4,5,6,7,8,9]"
      ],
      "metadata": {
        "id": "c39sJTvmpPkt"
      },
      "execution_count": 8,
      "outputs": []
    },
    {
      "cell_type": "code",
      "source": [
        "with beam.Pipeline(InteractiveRunner()) as p:\n",
        "  pc1 = ( p\n",
        "    | beam.Create(a)\n",
        ")"
      ],
      "metadata": {
        "id": "02IqAxtcpRcG"
      },
      "execution_count": 9,
      "outputs": []
    },
    {
      "cell_type": "markdown",
      "source": [
        "## collect\n",
        "\n",
        "Materializes the elements from a PCollection into a Dataframe.\n",
        "\n",
        "This reads each element from file and reads only the amount that it needs into memory. The user can specify either the max number of elements to read or the maximum duration of elements to read. When a limiter is not supplied, it is assumed to be infinite.\n",
        "\n",
        "Parameters:\t\n",
        "- `n` – (optional) max number of elements to visualize. Default ‘inf’.\n",
        "- `duration` – (optional) max duration of elements to read in integer seconds or a string duration. Default ‘inf’.\n",
        "- `include_window_info` – (optional) if True, appends the windowing information to each row. Default False."
      ],
      "metadata": {
        "id": "fIT37h9spsD4"
      }
    },
    {
      "cell_type": "code",
      "source": [
        "ib.collect(pc1, n=7)"
      ],
      "metadata": {
        "colab": {
          "base_uri": "https://localhost:8080/",
          "height": 338
        },
        "id": "-CJzgJtFpcLh",
        "outputId": "dedd48ac-a2b1-4179-a5f0-a6b1fc1e1b67"
      },
      "execution_count": 18,
      "outputs": [
        {
          "output_type": "display_data",
          "data": {
            "text/plain": [
              "<IPython.core.display.HTML object>"
            ],
            "text/html": [
              "\n",
              "            <link rel=\"stylesheet\" href=\"https://stackpath.bootstrapcdn.com/bootstrap/4.4.1/css/bootstrap.min.css\" integrity=\"sha384-Vkoo8x4CGsO3+Hhxv8T/Q5PaXtkKtu6ug5TOeNV6gBiFeWPGFN9MuhOf23Q9Ifjh\" crossorigin=\"anonymous\">\n",
              "            <div id=\"progress_indicator_b3d94e11716c781bbe13519bc5b1b39c\">\n",
              "              <div class=\"spinner-border text-info\" role=\"status\"></div>\n",
              "              <span class=\"text-info\">Processing... collect</span>\n",
              "            </div>\n",
              "            "
            ]
          },
          "metadata": {}
        },
        {
          "output_type": "display_data",
          "data": {
            "application/javascript": [
              "\n",
              "        if (typeof window.interactive_beam_jquery == 'undefined') {\n",
              "          var jqueryScript = document.createElement('script');\n",
              "          jqueryScript.src = 'https://code.jquery.com/jquery-3.4.1.slim.min.js';\n",
              "          jqueryScript.type = 'text/javascript';\n",
              "          jqueryScript.onload = function() {\n",
              "            var datatableScript = document.createElement('script');\n",
              "            datatableScript.src = 'https://cdn.datatables.net/1.10.20/js/jquery.dataTables.min.js';\n",
              "            datatableScript.type = 'text/javascript';\n",
              "            datatableScript.onload = function() {\n",
              "              window.interactive_beam_jquery = jQuery.noConflict(true);\n",
              "              window.interactive_beam_jquery(document).ready(function($){\n",
              "                \n",
              "            $(\"#progress_indicator_b3d94e11716c781bbe13519bc5b1b39c\").remove();\n",
              "              });\n",
              "            }\n",
              "            document.head.appendChild(datatableScript);\n",
              "          };\n",
              "          document.head.appendChild(jqueryScript);\n",
              "        } else {\n",
              "          window.interactive_beam_jquery(document).ready(function($){\n",
              "            \n",
              "            $(\"#progress_indicator_b3d94e11716c781bbe13519bc5b1b39c\").remove();\n",
              "          });\n",
              "        }"
            ]
          },
          "metadata": {}
        },
        {
          "output_type": "execute_result",
          "data": {
            "text/plain": [
              "   0\n",
              "0  1\n",
              "1  2\n",
              "2  3\n",
              "3  4\n",
              "4  5\n",
              "5  6\n",
              "6  7"
            ],
            "text/html": [
              "\n",
              "  <div id=\"df-60dfa595-6084-41aa-ad37-ac8c2e8ae57c\">\n",
              "    <div class=\"colab-df-container\">\n",
              "      <div>\n",
              "<style scoped>\n",
              "    .dataframe tbody tr th:only-of-type {\n",
              "        vertical-align: middle;\n",
              "    }\n",
              "\n",
              "    .dataframe tbody tr th {\n",
              "        vertical-align: top;\n",
              "    }\n",
              "\n",
              "    .dataframe thead th {\n",
              "        text-align: right;\n",
              "    }\n",
              "</style>\n",
              "<table border=\"1\" class=\"dataframe\">\n",
              "  <thead>\n",
              "    <tr style=\"text-align: right;\">\n",
              "      <th></th>\n",
              "      <th>0</th>\n",
              "    </tr>\n",
              "  </thead>\n",
              "  <tbody>\n",
              "    <tr>\n",
              "      <th>0</th>\n",
              "      <td>1</td>\n",
              "    </tr>\n",
              "    <tr>\n",
              "      <th>1</th>\n",
              "      <td>2</td>\n",
              "    </tr>\n",
              "    <tr>\n",
              "      <th>2</th>\n",
              "      <td>3</td>\n",
              "    </tr>\n",
              "    <tr>\n",
              "      <th>3</th>\n",
              "      <td>4</td>\n",
              "    </tr>\n",
              "    <tr>\n",
              "      <th>4</th>\n",
              "      <td>5</td>\n",
              "    </tr>\n",
              "    <tr>\n",
              "      <th>5</th>\n",
              "      <td>6</td>\n",
              "    </tr>\n",
              "    <tr>\n",
              "      <th>6</th>\n",
              "      <td>7</td>\n",
              "    </tr>\n",
              "  </tbody>\n",
              "</table>\n",
              "</div>\n",
              "      <button class=\"colab-df-convert\" onclick=\"convertToInteractive('df-60dfa595-6084-41aa-ad37-ac8c2e8ae57c')\"\n",
              "              title=\"Convert this dataframe to an interactive table.\"\n",
              "              style=\"display:none;\">\n",
              "        \n",
              "  <svg xmlns=\"http://www.w3.org/2000/svg\" height=\"24px\"viewBox=\"0 0 24 24\"\n",
              "       width=\"24px\">\n",
              "    <path d=\"M0 0h24v24H0V0z\" fill=\"none\"/>\n",
              "    <path d=\"M18.56 5.44l.94 2.06.94-2.06 2.06-.94-2.06-.94-.94-2.06-.94 2.06-2.06.94zm-11 1L8.5 8.5l.94-2.06 2.06-.94-2.06-.94L8.5 2.5l-.94 2.06-2.06.94zm10 10l.94 2.06.94-2.06 2.06-.94-2.06-.94-.94-2.06-.94 2.06-2.06.94z\"/><path d=\"M17.41 7.96l-1.37-1.37c-.4-.4-.92-.59-1.43-.59-.52 0-1.04.2-1.43.59L10.3 9.45l-7.72 7.72c-.78.78-.78 2.05 0 2.83L4 21.41c.39.39.9.59 1.41.59.51 0 1.02-.2 1.41-.59l7.78-7.78 2.81-2.81c.8-.78.8-2.07 0-2.86zM5.41 20L4 18.59l7.72-7.72 1.47 1.35L5.41 20z\"/>\n",
              "  </svg>\n",
              "      </button>\n",
              "      \n",
              "  <style>\n",
              "    .colab-df-container {\n",
              "      display:flex;\n",
              "      flex-wrap:wrap;\n",
              "      gap: 12px;\n",
              "    }\n",
              "\n",
              "    .colab-df-convert {\n",
              "      background-color: #E8F0FE;\n",
              "      border: none;\n",
              "      border-radius: 50%;\n",
              "      cursor: pointer;\n",
              "      display: none;\n",
              "      fill: #1967D2;\n",
              "      height: 32px;\n",
              "      padding: 0 0 0 0;\n",
              "      width: 32px;\n",
              "    }\n",
              "\n",
              "    .colab-df-convert:hover {\n",
              "      background-color: #E2EBFA;\n",
              "      box-shadow: 0px 1px 2px rgba(60, 64, 67, 0.3), 0px 1px 3px 1px rgba(60, 64, 67, 0.15);\n",
              "      fill: #174EA6;\n",
              "    }\n",
              "\n",
              "    [theme=dark] .colab-df-convert {\n",
              "      background-color: #3B4455;\n",
              "      fill: #D2E3FC;\n",
              "    }\n",
              "\n",
              "    [theme=dark] .colab-df-convert:hover {\n",
              "      background-color: #434B5C;\n",
              "      box-shadow: 0px 1px 3px 1px rgba(0, 0, 0, 0.15);\n",
              "      filter: drop-shadow(0px 1px 2px rgba(0, 0, 0, 0.3));\n",
              "      fill: #FFFFFF;\n",
              "    }\n",
              "  </style>\n",
              "\n",
              "      <script>\n",
              "        const buttonEl =\n",
              "          document.querySelector('#df-60dfa595-6084-41aa-ad37-ac8c2e8ae57c button.colab-df-convert');\n",
              "        buttonEl.style.display =\n",
              "          google.colab.kernel.accessAllowed ? 'block' : 'none';\n",
              "\n",
              "        async function convertToInteractive(key) {\n",
              "          const element = document.querySelector('#df-60dfa595-6084-41aa-ad37-ac8c2e8ae57c');\n",
              "          const dataTable =\n",
              "            await google.colab.kernel.invokeFunction('convertToInteractive',\n",
              "                                                     [key], {});\n",
              "          if (!dataTable) return;\n",
              "\n",
              "          const docLinkHtml = 'Like what you see? Visit the ' +\n",
              "            '<a target=\"_blank\" href=https://colab.research.google.com/notebooks/data_table.ipynb>data table notebook</a>'\n",
              "            + ' to learn more about interactive tables.';\n",
              "          element.innerHTML = '';\n",
              "          dataTable['output_type'] = 'display_data';\n",
              "          await google.colab.output.renderOutput(dataTable, element);\n",
              "          const docLink = document.createElement('div');\n",
              "          docLink.innerHTML = docLinkHtml;\n",
              "          element.appendChild(docLink);\n",
              "        }\n",
              "      </script>\n",
              "    </div>\n",
              "  </div>\n",
              "  "
            ]
          },
          "metadata": {},
          "execution_count": 18
        }
      ]
    },
    {
      "cell_type": "code",
      "source": [
        "df = ib.collect(pc1, n=7)\n",
        "type(df)"
      ],
      "metadata": {
        "colab": {
          "base_uri": "https://localhost:8080/",
          "height": 41
        },
        "id": "a65RXzDspe4p",
        "outputId": "1b662687-ceaa-4da9-c4f5-f412661a7616"
      },
      "execution_count": 19,
      "outputs": [
        {
          "output_type": "display_data",
          "data": {
            "text/plain": [
              "<IPython.core.display.HTML object>"
            ],
            "text/html": [
              "\n",
              "            <link rel=\"stylesheet\" href=\"https://stackpath.bootstrapcdn.com/bootstrap/4.4.1/css/bootstrap.min.css\" integrity=\"sha384-Vkoo8x4CGsO3+Hhxv8T/Q5PaXtkKtu6ug5TOeNV6gBiFeWPGFN9MuhOf23Q9Ifjh\" crossorigin=\"anonymous\">\n",
              "            <div id=\"progress_indicator_3b26d31f7498729b8f5564266f0077a1\">\n",
              "              <div class=\"spinner-border text-info\" role=\"status\"></div>\n",
              "              <span class=\"text-info\">Processing... collect</span>\n",
              "            </div>\n",
              "            "
            ]
          },
          "metadata": {}
        },
        {
          "output_type": "display_data",
          "data": {
            "application/javascript": [
              "\n",
              "        if (typeof window.interactive_beam_jquery == 'undefined') {\n",
              "          var jqueryScript = document.createElement('script');\n",
              "          jqueryScript.src = 'https://code.jquery.com/jquery-3.4.1.slim.min.js';\n",
              "          jqueryScript.type = 'text/javascript';\n",
              "          jqueryScript.onload = function() {\n",
              "            var datatableScript = document.createElement('script');\n",
              "            datatableScript.src = 'https://cdn.datatables.net/1.10.20/js/jquery.dataTables.min.js';\n",
              "            datatableScript.type = 'text/javascript';\n",
              "            datatableScript.onload = function() {\n",
              "              window.interactive_beam_jquery = jQuery.noConflict(true);\n",
              "              window.interactive_beam_jquery(document).ready(function($){\n",
              "                \n",
              "            $(\"#progress_indicator_3b26d31f7498729b8f5564266f0077a1\").remove();\n",
              "              });\n",
              "            }\n",
              "            document.head.appendChild(datatableScript);\n",
              "          };\n",
              "          document.head.appendChild(jqueryScript);\n",
              "        } else {\n",
              "          window.interactive_beam_jquery(document).ready(function($){\n",
              "            \n",
              "            $(\"#progress_indicator_3b26d31f7498729b8f5564266f0077a1\").remove();\n",
              "          });\n",
              "        }"
            ]
          },
          "metadata": {}
        },
        {
          "output_type": "execute_result",
          "data": {
            "text/plain": [
              "pandas.core.frame.DataFrame"
            ]
          },
          "metadata": {},
          "execution_count": 19
        }
      ]
    },
    {
      "cell_type": "code",
      "source": [
        "df"
      ],
      "metadata": {
        "colab": {
          "base_uri": "https://localhost:8080/",
          "height": 269
        },
        "id": "kGWulJQjp66j",
        "outputId": "66eee1e2-3056-48ad-919c-614905ca3b61"
      },
      "execution_count": 20,
      "outputs": [
        {
          "output_type": "execute_result",
          "data": {
            "text/plain": [
              "   0\n",
              "0  1\n",
              "1  2\n",
              "2  3\n",
              "3  4\n",
              "4  5\n",
              "5  6\n",
              "6  7"
            ],
            "text/html": [
              "\n",
              "  <div id=\"df-4f99b586-5ec4-4191-8b4e-439e2cfe4690\">\n",
              "    <div class=\"colab-df-container\">\n",
              "      <div>\n",
              "<style scoped>\n",
              "    .dataframe tbody tr th:only-of-type {\n",
              "        vertical-align: middle;\n",
              "    }\n",
              "\n",
              "    .dataframe tbody tr th {\n",
              "        vertical-align: top;\n",
              "    }\n",
              "\n",
              "    .dataframe thead th {\n",
              "        text-align: right;\n",
              "    }\n",
              "</style>\n",
              "<table border=\"1\" class=\"dataframe\">\n",
              "  <thead>\n",
              "    <tr style=\"text-align: right;\">\n",
              "      <th></th>\n",
              "      <th>0</th>\n",
              "    </tr>\n",
              "  </thead>\n",
              "  <tbody>\n",
              "    <tr>\n",
              "      <th>0</th>\n",
              "      <td>1</td>\n",
              "    </tr>\n",
              "    <tr>\n",
              "      <th>1</th>\n",
              "      <td>2</td>\n",
              "    </tr>\n",
              "    <tr>\n",
              "      <th>2</th>\n",
              "      <td>3</td>\n",
              "    </tr>\n",
              "    <tr>\n",
              "      <th>3</th>\n",
              "      <td>4</td>\n",
              "    </tr>\n",
              "    <tr>\n",
              "      <th>4</th>\n",
              "      <td>5</td>\n",
              "    </tr>\n",
              "    <tr>\n",
              "      <th>5</th>\n",
              "      <td>6</td>\n",
              "    </tr>\n",
              "    <tr>\n",
              "      <th>6</th>\n",
              "      <td>7</td>\n",
              "    </tr>\n",
              "  </tbody>\n",
              "</table>\n",
              "</div>\n",
              "      <button class=\"colab-df-convert\" onclick=\"convertToInteractive('df-4f99b586-5ec4-4191-8b4e-439e2cfe4690')\"\n",
              "              title=\"Convert this dataframe to an interactive table.\"\n",
              "              style=\"display:none;\">\n",
              "        \n",
              "  <svg xmlns=\"http://www.w3.org/2000/svg\" height=\"24px\"viewBox=\"0 0 24 24\"\n",
              "       width=\"24px\">\n",
              "    <path d=\"M0 0h24v24H0V0z\" fill=\"none\"/>\n",
              "    <path d=\"M18.56 5.44l.94 2.06.94-2.06 2.06-.94-2.06-.94-.94-2.06-.94 2.06-2.06.94zm-11 1L8.5 8.5l.94-2.06 2.06-.94-2.06-.94L8.5 2.5l-.94 2.06-2.06.94zm10 10l.94 2.06.94-2.06 2.06-.94-2.06-.94-.94-2.06-.94 2.06-2.06.94z\"/><path d=\"M17.41 7.96l-1.37-1.37c-.4-.4-.92-.59-1.43-.59-.52 0-1.04.2-1.43.59L10.3 9.45l-7.72 7.72c-.78.78-.78 2.05 0 2.83L4 21.41c.39.39.9.59 1.41.59.51 0 1.02-.2 1.41-.59l7.78-7.78 2.81-2.81c.8-.78.8-2.07 0-2.86zM5.41 20L4 18.59l7.72-7.72 1.47 1.35L5.41 20z\"/>\n",
              "  </svg>\n",
              "      </button>\n",
              "      \n",
              "  <style>\n",
              "    .colab-df-container {\n",
              "      display:flex;\n",
              "      flex-wrap:wrap;\n",
              "      gap: 12px;\n",
              "    }\n",
              "\n",
              "    .colab-df-convert {\n",
              "      background-color: #E8F0FE;\n",
              "      border: none;\n",
              "      border-radius: 50%;\n",
              "      cursor: pointer;\n",
              "      display: none;\n",
              "      fill: #1967D2;\n",
              "      height: 32px;\n",
              "      padding: 0 0 0 0;\n",
              "      width: 32px;\n",
              "    }\n",
              "\n",
              "    .colab-df-convert:hover {\n",
              "      background-color: #E2EBFA;\n",
              "      box-shadow: 0px 1px 2px rgba(60, 64, 67, 0.3), 0px 1px 3px 1px rgba(60, 64, 67, 0.15);\n",
              "      fill: #174EA6;\n",
              "    }\n",
              "\n",
              "    [theme=dark] .colab-df-convert {\n",
              "      background-color: #3B4455;\n",
              "      fill: #D2E3FC;\n",
              "    }\n",
              "\n",
              "    [theme=dark] .colab-df-convert:hover {\n",
              "      background-color: #434B5C;\n",
              "      box-shadow: 0px 1px 3px 1px rgba(0, 0, 0, 0.15);\n",
              "      filter: drop-shadow(0px 1px 2px rgba(0, 0, 0, 0.3));\n",
              "      fill: #FFFFFF;\n",
              "    }\n",
              "  </style>\n",
              "\n",
              "      <script>\n",
              "        const buttonEl =\n",
              "          document.querySelector('#df-4f99b586-5ec4-4191-8b4e-439e2cfe4690 button.colab-df-convert');\n",
              "        buttonEl.style.display =\n",
              "          google.colab.kernel.accessAllowed ? 'block' : 'none';\n",
              "\n",
              "        async function convertToInteractive(key) {\n",
              "          const element = document.querySelector('#df-4f99b586-5ec4-4191-8b4e-439e2cfe4690');\n",
              "          const dataTable =\n",
              "            await google.colab.kernel.invokeFunction('convertToInteractive',\n",
              "                                                     [key], {});\n",
              "          if (!dataTable) return;\n",
              "\n",
              "          const docLinkHtml = 'Like what you see? Visit the ' +\n",
              "            '<a target=\"_blank\" href=https://colab.research.google.com/notebooks/data_table.ipynb>data table notebook</a>'\n",
              "            + ' to learn more about interactive tables.';\n",
              "          element.innerHTML = '';\n",
              "          dataTable['output_type'] = 'display_data';\n",
              "          await google.colab.output.renderOutput(dataTable, element);\n",
              "          const docLink = document.createElement('div');\n",
              "          docLink.innerHTML = docLinkHtml;\n",
              "          element.appendChild(docLink);\n",
              "        }\n",
              "      </script>\n",
              "    </div>\n",
              "  </div>\n",
              "  "
            ]
          },
          "metadata": {},
          "execution_count": 20
        }
      ]
    },
    {
      "cell_type": "markdown",
      "source": [
        "## show_graph\n",
        "\n",
        "Shows the current pipeline shape of a given Beam pipeline as a DAG.\n",
        "\n"
      ],
      "metadata": {
        "id": "wi-agBPOqPEV"
      }
    },
    {
      "cell_type": "code",
      "source": [
        "ib.show_graph(p)"
      ],
      "metadata": {
        "colab": {
          "base_uri": "https://localhost:8080/",
          "height": 594
        },
        "id": "DTA7-egQp8jz",
        "outputId": "3cc39182-47ea-4f4f-fa27-73216f1d3d10"
      },
      "execution_count": 21,
      "outputs": [
        {
          "output_type": "display_data",
          "data": {
            "text/plain": [
              "<IPython.core.display.HTML object>"
            ],
            "text/html": [
              "\n",
              "            <link rel=\"stylesheet\" href=\"https://stackpath.bootstrapcdn.com/bootstrap/4.4.1/css/bootstrap.min.css\" integrity=\"sha384-Vkoo8x4CGsO3+Hhxv8T/Q5PaXtkKtu6ug5TOeNV6gBiFeWPGFN9MuhOf23Q9Ifjh\" crossorigin=\"anonymous\">\n",
              "            <div id=\"progress_indicator_3beb1f402bd8cf9926ce36fdde7a6136\">\n",
              "              <div class=\"spinner-border text-info\" role=\"status\"></div>\n",
              "              <span class=\"text-info\">Processing... show_graph</span>\n",
              "            </div>\n",
              "            "
            ]
          },
          "metadata": {}
        },
        {
          "output_type": "stream",
          "name": "stdout",
          "text": [
            "/usr/bin/dot\n"
          ]
        },
        {
          "output_type": "display_data",
          "data": {
            "text/plain": [
              "<IPython.core.display.HTML object>"
            ],
            "text/html": [
              "<?xml version=\"1.0\" encoding=\"UTF-8\" standalone=\"no\"?>\n",
              "<!DOCTYPE svg PUBLIC \"-//W3C//DTD SVG 1.1//EN\"\n",
              " \"http://www.w3.org/Graphics/SVG/1.1/DTD/svg11.dtd\">\n",
              "<!-- Generated by graphviz version 2.43.0 (0)\n",
              " -->\n",
              "<!-- Title: G Pages: 1 -->\n",
              "<svg width=\"576pt\" height=\"415pt\"\n",
              " viewBox=\"0.00 0.00 576.00 414.80\" xmlns=\"http://www.w3.org/2000/svg\" xmlns:xlink=\"http://www.w3.org/1999/xlink\">\n",
              "<g id=\"graph0\" class=\"graph\" transform=\"scale(1 1) rotate(0) translate(4 410.8)\">\n",
              "<title>G</title>\n",
              "<polygon fill=\"white\" stroke=\"transparent\" points=\"-4,4 -4,-410.8 572,-410.8 572,4 -4,4\"/>\n",
              "<!-- [9]: Create -->\n",
              "<g id=\"node1\" class=\"node\">\n",
              "<title>[9]: Create</title>\n",
              "<polygon fill=\"none\" stroke=\"blue\" points=\"321.5,-406.8 246.5,-406.8 246.5,-370.8 321.5,-370.8 321.5,-406.8\"/>\n",
              "<text text-anchor=\"middle\" x=\"284\" y=\"-385.1\" font-family=\"Times,serif\" font-size=\"14.00\" fill=\"blue\">[9]: Create</text>\n",
              "</g>\n",
              "<!-- pc1 -->\n",
              "<g id=\"node2\" class=\"node\">\n",
              "<title>pc1</title>\n",
              "<ellipse fill=\"none\" stroke=\"blue\" cx=\"284\" cy=\"-311.4\" rx=\"23.3\" ry=\"23.3\"/>\n",
              "<text text-anchor=\"middle\" x=\"284\" y=\"-307.7\" font-family=\"Times,serif\" font-size=\"14.00\" fill=\"blue\">pc1</text>\n",
              "</g>\n",
              "<!-- [9]: Create&#45;&gt;pc1 -->\n",
              "<g id=\"edge1\" class=\"edge\">\n",
              "<title>[9]: Create&#45;&gt;pc1</title>\n",
              "<path fill=\"none\" stroke=\"black\" d=\"M284,-370.69C284,-363.07 284,-353.83 284,-344.97\"/>\n",
              "<polygon fill=\"black\" stroke=\"black\" points=\"287.5,-344.88 284,-334.88 280.5,-344.88 287.5,-344.88\"/>\n",
              "</g>\n",
              "<!-- [9]: ReifyBefore_WriteCache_7c1bd880a9&#45;139760152344080&#45;139760152343120&#45;139761076190464 -->\n",
              "<g id=\"node3\" class=\"node\">\n",
              "<title>[9]: ReifyBefore_WriteCache_7c1bd880a9&#45;139760152344080&#45;139760152343120&#45;139761076190464</title>\n",
              "<polygon fill=\"none\" stroke=\"blue\" points=\"568,-252 0,-252 0,-216 568,-216 568,-252\"/>\n",
              "<text text-anchor=\"middle\" x=\"284\" y=\"-230.3\" font-family=\"Times,serif\" font-size=\"14.00\" fill=\"blue\">[9]: ReifyBefore_WriteCache_7c1bd880a9&#45;139760152344080&#45;139760152343120&#45;139761076190464</text>\n",
              "</g>\n",
              "<!-- pc1&#45;&gt;[9]: ReifyBefore_WriteCache_7c1bd880a9&#45;139760152344080&#45;139760152343120&#45;139761076190464 -->\n",
              "<g id=\"edge2\" class=\"edge\">\n",
              "<title>pc1&#45;&gt;[9]: ReifyBefore_WriteCache_7c1bd880a9&#45;139760152344080&#45;139760152343120&#45;139761076190464</title>\n",
              "<path fill=\"none\" stroke=\"black\" d=\"M284,-287.78C284,-279.72 284,-270.57 284,-262.18\"/>\n",
              "<polygon fill=\"black\" stroke=\"black\" points=\"287.5,-262.09 284,-252.09 280.5,-262.09 287.5,-262.09\"/>\n",
              "</g>\n",
              "<!-- pcoll8402 -->\n",
              "<g id=\"node4\" class=\"node\">\n",
              "<title>pcoll8402</title>\n",
              "<ellipse fill=\"none\" stroke=\"blue\" cx=\"284\" cy=\"-162\" rx=\"18\" ry=\"18\"/>\n",
              "</g>\n",
              "<!-- [9]: ReifyBefore_WriteCache_7c1bd880a9&#45;139760152344080&#45;139760152343120&#45;139761076190464&#45;&gt;pcoll8402 -->\n",
              "<g id=\"edge3\" class=\"edge\">\n",
              "<title>[9]: ReifyBefore_WriteCache_7c1bd880a9&#45;139760152344080&#45;139760152343120&#45;139761076190464&#45;&gt;pcoll8402</title>\n",
              "<path fill=\"none\" stroke=\"black\" d=\"M284,-215.7C284,-207.98 284,-198.71 284,-190.11\"/>\n",
              "<polygon fill=\"black\" stroke=\"black\" points=\"287.5,-190.1 284,-180.1 280.5,-190.1 287.5,-190.1\"/>\n",
              "</g>\n",
              "<!-- [9]: WriteCache_7c1bd880a9&#45;139760152344080&#45;139760152343120&#45;139761076190464 -->\n",
              "<g id=\"node5\" class=\"node\">\n",
              "<title>[9]: WriteCache_7c1bd880a9&#45;139760152344080&#45;139760152343120&#45;139761076190464</title>\n",
              "<polygon fill=\"none\" stroke=\"blue\" points=\"531,-108 37,-108 37,-72 531,-72 531,-108\"/>\n",
              "<text text-anchor=\"middle\" x=\"284\" y=\"-86.3\" font-family=\"Times,serif\" font-size=\"14.00\" fill=\"blue\">[9]: WriteCache_7c1bd880a9&#45;139760152344080&#45;139760152343120&#45;139761076190464</text>\n",
              "</g>\n",
              "<!-- pcoll8402&#45;&gt;[9]: WriteCache_7c1bd880a9&#45;139760152344080&#45;139760152343120&#45;139761076190464 -->\n",
              "<g id=\"edge4\" class=\"edge\">\n",
              "<title>pcoll8402&#45;&gt;[9]: WriteCache_7c1bd880a9&#45;139760152344080&#45;139760152343120&#45;139761076190464</title>\n",
              "<path fill=\"none\" stroke=\"black\" d=\"M284,-143.7C284,-135.98 284,-126.71 284,-118.11\"/>\n",
              "<polygon fill=\"black\" stroke=\"black\" points=\"287.5,-118.1 284,-108.1 280.5,-118.1 287.5,-118.1\"/>\n",
              "</g>\n",
              "<!-- pcoll7504 -->\n",
              "<g id=\"node6\" class=\"node\">\n",
              "<title>pcoll7504</title>\n",
              "<ellipse fill=\"none\" stroke=\"blue\" cx=\"284\" cy=\"-18\" rx=\"18\" ry=\"18\"/>\n",
              "</g>\n",
              "<!-- [9]: WriteCache_7c1bd880a9&#45;139760152344080&#45;139760152343120&#45;139761076190464&#45;&gt;pcoll7504 -->\n",
              "<g id=\"edge5\" class=\"edge\">\n",
              "<title>[9]: WriteCache_7c1bd880a9&#45;139760152344080&#45;139760152343120&#45;139761076190464&#45;&gt;pcoll7504</title>\n",
              "<path fill=\"none\" stroke=\"black\" d=\"M284,-71.7C284,-63.98 284,-54.71 284,-46.11\"/>\n",
              "<polygon fill=\"black\" stroke=\"black\" points=\"287.5,-46.1 284,-36.1 280.5,-46.1 287.5,-46.1\"/>\n",
              "</g>\n",
              "</g>\n",
              "</svg>\n"
            ]
          },
          "metadata": {}
        },
        {
          "output_type": "display_data",
          "data": {
            "application/javascript": [
              "\n",
              "        if (typeof window.interactive_beam_jquery == 'undefined') {\n",
              "          var jqueryScript = document.createElement('script');\n",
              "          jqueryScript.src = 'https://code.jquery.com/jquery-3.4.1.slim.min.js';\n",
              "          jqueryScript.type = 'text/javascript';\n",
              "          jqueryScript.onload = function() {\n",
              "            var datatableScript = document.createElement('script');\n",
              "            datatableScript.src = 'https://cdn.datatables.net/1.10.20/js/jquery.dataTables.min.js';\n",
              "            datatableScript.type = 'text/javascript';\n",
              "            datatableScript.onload = function() {\n",
              "              window.interactive_beam_jquery = jQuery.noConflict(true);\n",
              "              window.interactive_beam_jquery(document).ready(function($){\n",
              "                \n",
              "            $(\"#progress_indicator_3beb1f402bd8cf9926ce36fdde7a6136\").remove();\n",
              "              });\n",
              "            }\n",
              "            document.head.appendChild(datatableScript);\n",
              "          };\n",
              "          document.head.appendChild(jqueryScript);\n",
              "        } else {\n",
              "          window.interactive_beam_jquery(document).ready(function($){\n",
              "            \n",
              "            $(\"#progress_indicator_3beb1f402bd8cf9926ce36fdde7a6136\").remove();\n",
              "          });\n",
              "        }"
            ]
          },
          "metadata": {}
        }
      ]
    },
    {
      "cell_type": "markdown",
      "source": [
        "## show"
      ],
      "metadata": {
        "id": "BH2ePEPqreU0"
      }
    },
    {
      "cell_type": "markdown",
      "source": [
        "Shows given PCollections in an interactive exploratory way if used within a notebook, or prints a heading sampled data if used within an ipython shell. Noop if used in a non-interactive environment.\n",
        "\n",
        "Parameters:\t\n",
        "\n",
        "- `include_window_info` – (optional) if True, windowing information of the data will be visualized too. Default is false.\n",
        "- `visualize_data` – (optional) by default, the visualization contains data tables rendering data from given pcolls separately as if they are converted into dataframes. If visualize_data is True, there will be a more dive-in widget and statistically overview widget of the data. Otherwise, those 2 data visualization widgets will not be displayed.\n",
        "- `n` – (optional) max number of elements to visualize. Default ‘inf’.\n",
        "- `duration` – (optional) max duration of elements to read in integer seconds or a string duration. Default ‘inf’."
      ],
      "metadata": {
        "id": "NzRbSUNW2kpe"
      }
    },
    {
      "cell_type": "code",
      "source": [
        "a=[1,2,3,4,5,6,7,8,9]"
      ],
      "metadata": {
        "id": "UUpXkG20qbao"
      },
      "execution_count": 22,
      "outputs": []
    },
    {
      "cell_type": "code",
      "source": [
        "with beam.Pipeline(InteractiveRunner()) as p:\n",
        "  pc1 = ( p\n",
        "    | beam.Create(a)\n",
        ")"
      ],
      "metadata": {
        "id": "vEGXxqMKrzTC"
      },
      "execution_count": 23,
      "outputs": []
    },
    {
      "cell_type": "code",
      "source": [
        "ib.show(pc1, include_window_info=True)"
      ],
      "metadata": {
        "colab": {
          "base_uri": "https://localhost:8080/",
          "height": 513
        },
        "id": "pRIKPJvsrzv0",
        "outputId": "5d825138-527c-4c5f-f89f-e5a06bfe467a"
      },
      "execution_count": 24,
      "outputs": [
        {
          "output_type": "display_data",
          "data": {
            "text/plain": [
              "<IPython.core.display.HTML object>"
            ],
            "text/html": [
              "\n",
              "            <link rel=\"stylesheet\" href=\"https://stackpath.bootstrapcdn.com/bootstrap/4.4.1/css/bootstrap.min.css\" integrity=\"sha384-Vkoo8x4CGsO3+Hhxv8T/Q5PaXtkKtu6ug5TOeNV6gBiFeWPGFN9MuhOf23Q9Ifjh\" crossorigin=\"anonymous\">\n",
              "            <div id=\"progress_indicator_0a9ed65619dc6bdfcd09d4b8f9ad4f53\">\n",
              "              <div class=\"spinner-border text-info\" role=\"status\"></div>\n",
              "              <span class=\"text-info\">Processing... show</span>\n",
              "            </div>\n",
              "            "
            ]
          },
          "metadata": {}
        },
        {
          "output_type": "display_data",
          "data": {
            "text/plain": [
              "<IPython.core.display.HTML object>"
            ],
            "text/html": [
              "\n",
              "            <style>\n",
              "            .p-Widget.jp-OutputPrompt.jp-OutputArea-prompt:empty {\n",
              "              padding: 0;\n",
              "              border: 0;\n",
              "            }\n",
              "            .p-Widget.jp-RenderedJavaScript.jp-mod-trusted.jp-OutputArea-output:empty {\n",
              "              padding: 0;\n",
              "              border: 0;\n",
              "            }\n",
              "            </style>\n",
              "            <link rel=\"stylesheet\" href=\"https://cdn.datatables.net/1.10.20/css/jquery.dataTables.min.css\">\n",
              "            <table id=\"table_df_58f25231384dbeb3812b9a3d3274430f\" class=\"display\" style=\"display:block\"></table>\n",
              "            <script>\n",
              "              \n",
              "        if (typeof window.interactive_beam_jquery == 'undefined') {\n",
              "          var jqueryScript = document.createElement('script');\n",
              "          jqueryScript.src = 'https://code.jquery.com/jquery-3.4.1.slim.min.js';\n",
              "          jqueryScript.type = 'text/javascript';\n",
              "          jqueryScript.onload = function() {\n",
              "            var datatableScript = document.createElement('script');\n",
              "            datatableScript.src = 'https://cdn.datatables.net/1.10.20/js/jquery.dataTables.min.js';\n",
              "            datatableScript.type = 'text/javascript';\n",
              "            datatableScript.onload = function() {\n",
              "              window.interactive_beam_jquery = jQuery.noConflict(true);\n",
              "              window.interactive_beam_jquery(document).ready(function($){\n",
              "                \n",
              "            var dt;\n",
              "            if ($.fn.dataTable.isDataTable(\"#table_df_58f25231384dbeb3812b9a3d3274430f\")) {\n",
              "              dt = $(\"#table_df_58f25231384dbeb3812b9a3d3274430f\").dataTable();\n",
              "            } else if ($(\"#table_df_58f25231384dbeb3812b9a3d3274430f_wrapper\").length == 0) {\n",
              "              dt = $(\"#table_df_58f25231384dbeb3812b9a3d3274430f\").dataTable({\n",
              "                \n",
              "            bAutoWidth: false,\n",
              "            columns: [{'title': ''}, {'title': 'pc1.0'}, {'title': 'event_time'}, {'title': 'windows'}, {'title': 'pane_info'}],\n",
              "            destroy: true,\n",
              "            responsive: true,\n",
              "            columnDefs: [\n",
              "              {\n",
              "                targets: \"_all\",\n",
              "                className: \"dt-left\"\n",
              "              },\n",
              "              {\n",
              "                \"targets\": 0,\n",
              "                \"width\": \"10px\",\n",
              "                \"title\": \"\"\n",
              "              }\n",
              "            ]\n",
              "              });\n",
              "            } else {\n",
              "              return;\n",
              "            }\n",
              "            dt.api()\n",
              "              .clear()\n",
              "              .rows.add([{1: '1', 2: 'Min Timestamp', 3: 'GlobalWindow', 4: 'Pane 0: Final ', 0: 0}, {1: '2', 2: 'Min Timestamp', 3: 'GlobalWindow', 4: 'Pane 0: Final ', 0: 1}, {1: '3', 2: 'Min Timestamp', 3: 'GlobalWindow', 4: 'Pane 0: Final ', 0: 2}, {1: '4', 2: 'Min Timestamp', 3: 'GlobalWindow', 4: 'Pane 0: Final ', 0: 3}, {1: '5', 2: 'Min Timestamp', 3: 'GlobalWindow', 4: 'Pane 0: Final ', 0: 4}, {1: '6', 2: 'Min Timestamp', 3: 'GlobalWindow', 4: 'Pane 0: Final ', 0: 5}, {1: '7', 2: 'Min Timestamp', 3: 'GlobalWindow', 4: 'Pane 0: Final ', 0: 6}, {1: '8', 2: 'Min Timestamp', 3: 'GlobalWindow', 4: 'Pane 0: Final ', 0: 7}, {1: '9', 2: 'Min Timestamp', 3: 'GlobalWindow', 4: 'Pane 0: Final ', 0: 8}])\n",
              "              .draw('full-hold');\n",
              "              });\n",
              "            }\n",
              "            document.head.appendChild(datatableScript);\n",
              "          };\n",
              "          document.head.appendChild(jqueryScript);\n",
              "        } else {\n",
              "          window.interactive_beam_jquery(document).ready(function($){\n",
              "            \n",
              "            var dt;\n",
              "            if ($.fn.dataTable.isDataTable(\"#table_df_58f25231384dbeb3812b9a3d3274430f\")) {\n",
              "              dt = $(\"#table_df_58f25231384dbeb3812b9a3d3274430f\").dataTable();\n",
              "            } else if ($(\"#table_df_58f25231384dbeb3812b9a3d3274430f_wrapper\").length == 0) {\n",
              "              dt = $(\"#table_df_58f25231384dbeb3812b9a3d3274430f\").dataTable({\n",
              "                \n",
              "            bAutoWidth: false,\n",
              "            columns: [{'title': ''}, {'title': 'pc1.0'}, {'title': 'event_time'}, {'title': 'windows'}, {'title': 'pane_info'}],\n",
              "            destroy: true,\n",
              "            responsive: true,\n",
              "            columnDefs: [\n",
              "              {\n",
              "                targets: \"_all\",\n",
              "                className: \"dt-left\"\n",
              "              },\n",
              "              {\n",
              "                \"targets\": 0,\n",
              "                \"width\": \"10px\",\n",
              "                \"title\": \"\"\n",
              "              }\n",
              "            ]\n",
              "              });\n",
              "            } else {\n",
              "              return;\n",
              "            }\n",
              "            dt.api()\n",
              "              .clear()\n",
              "              .rows.add([{1: '1', 2: 'Min Timestamp', 3: 'GlobalWindow', 4: 'Pane 0: Final ', 0: 0}, {1: '2', 2: 'Min Timestamp', 3: 'GlobalWindow', 4: 'Pane 0: Final ', 0: 1}, {1: '3', 2: 'Min Timestamp', 3: 'GlobalWindow', 4: 'Pane 0: Final ', 0: 2}, {1: '4', 2: 'Min Timestamp', 3: 'GlobalWindow', 4: 'Pane 0: Final ', 0: 3}, {1: '5', 2: 'Min Timestamp', 3: 'GlobalWindow', 4: 'Pane 0: Final ', 0: 4}, {1: '6', 2: 'Min Timestamp', 3: 'GlobalWindow', 4: 'Pane 0: Final ', 0: 5}, {1: '7', 2: 'Min Timestamp', 3: 'GlobalWindow', 4: 'Pane 0: Final ', 0: 6}, {1: '8', 2: 'Min Timestamp', 3: 'GlobalWindow', 4: 'Pane 0: Final ', 0: 7}, {1: '9', 2: 'Min Timestamp', 3: 'GlobalWindow', 4: 'Pane 0: Final ', 0: 8}])\n",
              "              .draw('full-hold');\n",
              "          });\n",
              "        }\n",
              "            </script>"
            ]
          },
          "metadata": {}
        },
        {
          "output_type": "display_data",
          "data": {
            "application/javascript": [
              "\n",
              "        if (typeof window.interactive_beam_jquery == 'undefined') {\n",
              "          var jqueryScript = document.createElement('script');\n",
              "          jqueryScript.src = 'https://code.jquery.com/jquery-3.4.1.slim.min.js';\n",
              "          jqueryScript.type = 'text/javascript';\n",
              "          jqueryScript.onload = function() {\n",
              "            var datatableScript = document.createElement('script');\n",
              "            datatableScript.src = 'https://cdn.datatables.net/1.10.20/js/jquery.dataTables.min.js';\n",
              "            datatableScript.type = 'text/javascript';\n",
              "            datatableScript.onload = function() {\n",
              "              window.interactive_beam_jquery = jQuery.noConflict(true);\n",
              "              window.interactive_beam_jquery(document).ready(function($){\n",
              "                \n",
              "            $(\"#progress_indicator_0a9ed65619dc6bdfcd09d4b8f9ad4f53\").remove();\n",
              "              });\n",
              "            }\n",
              "            document.head.appendChild(datatableScript);\n",
              "          };\n",
              "          document.head.appendChild(jqueryScript);\n",
              "        } else {\n",
              "          window.interactive_beam_jquery(document).ready(function($){\n",
              "            \n",
              "            $(\"#progress_indicator_0a9ed65619dc6bdfcd09d4b8f9ad4f53\").remove();\n",
              "          });\n",
              "        }"
            ]
          },
          "metadata": {}
        }
      ]
    },
    {
      "cell_type": "code",
      "source": [
        "ib.show(pc1, include_window_info=True, visualize_data=True)"
      ],
      "metadata": {
        "colab": {
          "base_uri": "https://localhost:8080/",
          "height": 1000
        },
        "id": "kba2fQVrr3cf",
        "outputId": "6d75207b-728a-4cc1-bf43-f4e9c009a2f8"
      },
      "execution_count": 25,
      "outputs": [
        {
          "output_type": "display_data",
          "data": {
            "text/plain": [
              "<IPython.core.display.HTML object>"
            ],
            "text/html": [
              "\n",
              "            <link rel=\"stylesheet\" href=\"https://stackpath.bootstrapcdn.com/bootstrap/4.4.1/css/bootstrap.min.css\" integrity=\"sha384-Vkoo8x4CGsO3+Hhxv8T/Q5PaXtkKtu6ug5TOeNV6gBiFeWPGFN9MuhOf23Q9Ifjh\" crossorigin=\"anonymous\">\n",
              "            <div id=\"progress_indicator_b957d11b17ac862c52fad5707f1726ac\">\n",
              "              <div class=\"spinner-border text-info\" role=\"status\"></div>\n",
              "              <span class=\"text-info\">Processing... show</span>\n",
              "            </div>\n",
              "            "
            ]
          },
          "metadata": {}
        },
        {
          "output_type": "display_data",
          "data": {
            "text/plain": [
              "<IPython.core.display.HTML object>"
            ],
            "text/html": [
              "\n",
              "            <style>\n",
              "            .p-Widget.jp-OutputPrompt.jp-OutputArea-prompt:empty {\n",
              "              padding: 0;\n",
              "              border: 0;\n",
              "            }\n",
              "            .p-Widget.jp-RenderedJavaScript.jp-mod-trusted.jp-OutputArea-output:empty {\n",
              "              padding: 0;\n",
              "              border: 0;\n",
              "            }\n",
              "            </style>\n",
              "            <link rel=\"stylesheet\" href=\"https://cdn.datatables.net/1.10.20/css/jquery.dataTables.min.css\">\n",
              "            <table id=\"table_df_0f00f3fa02facbd55f6d5a3510e4d165\" class=\"display\" style=\"display:block\"></table>\n",
              "            <script>\n",
              "              \n",
              "        if (typeof window.interactive_beam_jquery == 'undefined') {\n",
              "          var jqueryScript = document.createElement('script');\n",
              "          jqueryScript.src = 'https://code.jquery.com/jquery-3.4.1.slim.min.js';\n",
              "          jqueryScript.type = 'text/javascript';\n",
              "          jqueryScript.onload = function() {\n",
              "            var datatableScript = document.createElement('script');\n",
              "            datatableScript.src = 'https://cdn.datatables.net/1.10.20/js/jquery.dataTables.min.js';\n",
              "            datatableScript.type = 'text/javascript';\n",
              "            datatableScript.onload = function() {\n",
              "              window.interactive_beam_jquery = jQuery.noConflict(true);\n",
              "              window.interactive_beam_jquery(document).ready(function($){\n",
              "                \n",
              "            var dt;\n",
              "            if ($.fn.dataTable.isDataTable(\"#table_df_0f00f3fa02facbd55f6d5a3510e4d165\")) {\n",
              "              dt = $(\"#table_df_0f00f3fa02facbd55f6d5a3510e4d165\").dataTable();\n",
              "            } else if ($(\"#table_df_0f00f3fa02facbd55f6d5a3510e4d165_wrapper\").length == 0) {\n",
              "              dt = $(\"#table_df_0f00f3fa02facbd55f6d5a3510e4d165\").dataTable({\n",
              "                \n",
              "            bAutoWidth: false,\n",
              "            columns: [{'title': ''}, {'title': 'pc1.0'}, {'title': 'event_time'}, {'title': 'windows'}, {'title': 'pane_info'}],\n",
              "            destroy: true,\n",
              "            responsive: true,\n",
              "            columnDefs: [\n",
              "              {\n",
              "                targets: \"_all\",\n",
              "                className: \"dt-left\"\n",
              "              },\n",
              "              {\n",
              "                \"targets\": 0,\n",
              "                \"width\": \"10px\",\n",
              "                \"title\": \"\"\n",
              "              }\n",
              "            ]\n",
              "              });\n",
              "            } else {\n",
              "              return;\n",
              "            }\n",
              "            dt.api()\n",
              "              .clear()\n",
              "              .rows.add([{1: '1', 2: 'Min Timestamp', 3: 'GlobalWindow', 4: 'Pane 0: Final ', 0: 0}, {1: '2', 2: 'Min Timestamp', 3: 'GlobalWindow', 4: 'Pane 0: Final ', 0: 1}, {1: '3', 2: 'Min Timestamp', 3: 'GlobalWindow', 4: 'Pane 0: Final ', 0: 2}, {1: '4', 2: 'Min Timestamp', 3: 'GlobalWindow', 4: 'Pane 0: Final ', 0: 3}, {1: '5', 2: 'Min Timestamp', 3: 'GlobalWindow', 4: 'Pane 0: Final ', 0: 4}, {1: '6', 2: 'Min Timestamp', 3: 'GlobalWindow', 4: 'Pane 0: Final ', 0: 5}, {1: '7', 2: 'Min Timestamp', 3: 'GlobalWindow', 4: 'Pane 0: Final ', 0: 6}, {1: '8', 2: 'Min Timestamp', 3: 'GlobalWindow', 4: 'Pane 0: Final ', 0: 7}, {1: '9', 2: 'Min Timestamp', 3: 'GlobalWindow', 4: 'Pane 0: Final ', 0: 8}])\n",
              "              .draw('full-hold');\n",
              "              });\n",
              "            }\n",
              "            document.head.appendChild(datatableScript);\n",
              "          };\n",
              "          document.head.appendChild(jqueryScript);\n",
              "        } else {\n",
              "          window.interactive_beam_jquery(document).ready(function($){\n",
              "            \n",
              "            var dt;\n",
              "            if ($.fn.dataTable.isDataTable(\"#table_df_0f00f3fa02facbd55f6d5a3510e4d165\")) {\n",
              "              dt = $(\"#table_df_0f00f3fa02facbd55f6d5a3510e4d165\").dataTable();\n",
              "            } else if ($(\"#table_df_0f00f3fa02facbd55f6d5a3510e4d165_wrapper\").length == 0) {\n",
              "              dt = $(\"#table_df_0f00f3fa02facbd55f6d5a3510e4d165\").dataTable({\n",
              "                \n",
              "            bAutoWidth: false,\n",
              "            columns: [{'title': ''}, {'title': 'pc1.0'}, {'title': 'event_time'}, {'title': 'windows'}, {'title': 'pane_info'}],\n",
              "            destroy: true,\n",
              "            responsive: true,\n",
              "            columnDefs: [\n",
              "              {\n",
              "                targets: \"_all\",\n",
              "                className: \"dt-left\"\n",
              "              },\n",
              "              {\n",
              "                \"targets\": 0,\n",
              "                \"width\": \"10px\",\n",
              "                \"title\": \"\"\n",
              "              }\n",
              "            ]\n",
              "              });\n",
              "            } else {\n",
              "              return;\n",
              "            }\n",
              "            dt.api()\n",
              "              .clear()\n",
              "              .rows.add([{1: '1', 2: 'Min Timestamp', 3: 'GlobalWindow', 4: 'Pane 0: Final ', 0: 0}, {1: '2', 2: 'Min Timestamp', 3: 'GlobalWindow', 4: 'Pane 0: Final ', 0: 1}, {1: '3', 2: 'Min Timestamp', 3: 'GlobalWindow', 4: 'Pane 0: Final ', 0: 2}, {1: '4', 2: 'Min Timestamp', 3: 'GlobalWindow', 4: 'Pane 0: Final ', 0: 3}, {1: '5', 2: 'Min Timestamp', 3: 'GlobalWindow', 4: 'Pane 0: Final ', 0: 4}, {1: '6', 2: 'Min Timestamp', 3: 'GlobalWindow', 4: 'Pane 0: Final ', 0: 5}, {1: '7', 2: 'Min Timestamp', 3: 'GlobalWindow', 4: 'Pane 0: Final ', 0: 6}, {1: '8', 2: 'Min Timestamp', 3: 'GlobalWindow', 4: 'Pane 0: Final ', 0: 7}, {1: '9', 2: 'Min Timestamp', 3: 'GlobalWindow', 4: 'Pane 0: Final ', 0: 8}])\n",
              "              .draw('full-hold');\n",
              "          });\n",
              "        }\n",
              "            </script>"
            ]
          },
          "metadata": {}
        },
        {
          "output_type": "display_data",
          "data": {
            "text/plain": [
              "<IPython.core.display.HTML object>"
            ],
            "text/html": [
              "\n",
              "            <style>\n",
              "            .p-Widget.jp-OutputPrompt.jp-OutputArea-prompt:empty {\n",
              "              padding: 0;\n",
              "              border: 0;\n",
              "            }\n",
              "            .p-Widget.jp-RenderedJavaScript.jp-mod-trusted.jp-OutputArea-output:empty {\n",
              "              padding: 0;\n",
              "              border: 0;\n",
              "            }\n",
              "            </style>\n",
              "            <iframe id=facets_dive_0f00f3fa02facbd55f6d5a3510e4d165 style=\"border:none\" width=\"100%\" height=\"600px\"\n",
              "              srcdoc='\n",
              "                <script src=\"https://cdnjs.cloudflare.com/ajax/libs/webcomponentsjs/1.3.3/webcomponents-lite.js\"></script>\n",
              "                <link rel=\"import\" href=\"https://raw.githubusercontent.com/PAIR-code/facets/1.0.0/facets-dist/facets-jupyter.html\">\n",
              "                <facets-dive sprite-image-width=\"64\" sprite-image-height=\"64\" id=\"facets_dive_0f00f3fa02facbd55f6d5a3510e4d165\" height=\"600\"></facets-dive>\n",
              "                <script>\n",
              "                  document.getElementById(\"facets_dive_0f00f3fa02facbd55f6d5a3510e4d165\").data = [{&quot;pc1.0&quot;:1,&quot;event_time&quot;:&quot;Min Timestamp&quot;,&quot;windows&quot;:&quot;GlobalWindow&quot;,&quot;pane_info&quot;:&quot;Pane 0: Final &quot;},{&quot;pc1.0&quot;:2,&quot;event_time&quot;:&quot;Min Timestamp&quot;,&quot;windows&quot;:&quot;GlobalWindow&quot;,&quot;pane_info&quot;:&quot;Pane 0: Final &quot;},{&quot;pc1.0&quot;:3,&quot;event_time&quot;:&quot;Min Timestamp&quot;,&quot;windows&quot;:&quot;GlobalWindow&quot;,&quot;pane_info&quot;:&quot;Pane 0: Final &quot;},{&quot;pc1.0&quot;:4,&quot;event_time&quot;:&quot;Min Timestamp&quot;,&quot;windows&quot;:&quot;GlobalWindow&quot;,&quot;pane_info&quot;:&quot;Pane 0: Final &quot;},{&quot;pc1.0&quot;:5,&quot;event_time&quot;:&quot;Min Timestamp&quot;,&quot;windows&quot;:&quot;GlobalWindow&quot;,&quot;pane_info&quot;:&quot;Pane 0: Final &quot;},{&quot;pc1.0&quot;:6,&quot;event_time&quot;:&quot;Min Timestamp&quot;,&quot;windows&quot;:&quot;GlobalWindow&quot;,&quot;pane_info&quot;:&quot;Pane 0: Final &quot;},{&quot;pc1.0&quot;:7,&quot;event_time&quot;:&quot;Min Timestamp&quot;,&quot;windows&quot;:&quot;GlobalWindow&quot;,&quot;pane_info&quot;:&quot;Pane 0: Final &quot;},{&quot;pc1.0&quot;:8,&quot;event_time&quot;:&quot;Min Timestamp&quot;,&quot;windows&quot;:&quot;GlobalWindow&quot;,&quot;pane_info&quot;:&quot;Pane 0: Final &quot;},{&quot;pc1.0&quot;:9,&quot;event_time&quot;:&quot;Min Timestamp&quot;,&quot;windows&quot;:&quot;GlobalWindow&quot;,&quot;pane_info&quot;:&quot;Pane 0: Final &quot;}];\n",
              "                </script>\n",
              "              '>\n",
              "            </iframe>"
            ]
          },
          "metadata": {}
        },
        {
          "output_type": "display_data",
          "data": {
            "text/plain": [
              "<IPython.core.display.HTML object>"
            ],
            "text/html": [
              "\n",
              "            <style>\n",
              "            .p-Widget.jp-OutputPrompt.jp-OutputArea-prompt:empty {\n",
              "              padding: 0;\n",
              "              border: 0;\n",
              "            }\n",
              "            .p-Widget.jp-RenderedJavaScript.jp-mod-trusted.jp-OutputArea-output:empty {\n",
              "              padding: 0;\n",
              "              border: 0;\n",
              "            }\n",
              "            </style>\n",
              "            <iframe id=facets_overview_0f00f3fa02facbd55f6d5a3510e4d165 style=\"border:none\" width=\"100%\" height=\"600px\"\n",
              "              srcdoc='\n",
              "                <script src=\"https://cdnjs.cloudflare.com/ajax/libs/webcomponentsjs/1.3.3/webcomponents-lite.js\"></script>\n",
              "                <link rel=\"import\" href=\"https://raw.githubusercontent.com/PAIR-code/facets/1.0.0/facets-dist/facets-jupyter.html\">\n",
              "                <facets-overview id=\"facets_overview_0f00f3fa02facbd55f6d5a3510e4d165\"></facets-overview>\n",
              "                <script>\n",
              "                  document.getElementById(\"facets_overview_0f00f3fa02facbd55f6d5a3510e4d165\").protoInput = \"CroHCgRkYXRhEAkarwcKBXBjMS4wGqUHCrICCAkYASABLQAAgD8ypAIaGwkAAAAAAADwPxEAAAAAAADwPyHNzMzMzMzsPxobCQAAAAAAAPA/EQAAAAAAAPA/Ic3MzMzMzOw/GhsJAAAAAAAA8D8RAAAAAAAA8D8hzczMzMzM7D8aGwkAAAAAAADwPxEAAAAAAADwPyHNzMzMzMzsPxobCQAAAAAAAPA/EQAAAAAAAPA/Ic3MzMzMzOw/GhsJAAAAAAAA8D8RAAAAAAAA8D8hzczMzMzM7D8aGwkAAAAAAADwPxEAAAAAAADwPyHNzMzMzMzsPxobCQAAAAAAAPA/EQAAAAAAAPA/Ic3MzMzMzOw/GhsJAAAAAAAA8D8RAAAAAAAA8D8hzczMzMzM7D8aGwkAAAAAAADwPxEAAAAAAADwPyHNzMzMzMzsPyABEQAAAAAAABRAGZE0isvppwRAKQAAAAAAAPA/MQAAAAAAABRAOQAAAAAAACJAQpkCGhsJAAAAAAAA8D8RzczMzMzM/D8hAAAAAAAA8D8aGwnNzMzMzMz8PxHNzMzMzMwEQCEAAAAAAADwPxobCc3MzMzMzARAETQzMzMzMwtAIQAAAAAAAPA/GhsJNDMzMzMzC0ARzczMzMzMEEAhAAAAAAAA8D8aEgnNzMzMzMwQQBEAAAAAAAAUQBobCQAAAAAAABRAETQzMzMzMxdAIQAAAAAAAPA/GhsJNDMzMzMzF0ARZ2ZmZmZmGkAhAAAAAAAA8D8aGwlnZmZmZmYaQBGamZmZmZkdQCEAAAAAAADwPxobCZqZmZmZmR1AEWZmZmZmZiBAIQAAAAAAAPA/GhsJZmZmZmZmIEARAAAAAAAAIkAhAAAAAAAA8D9CpAIaGwkAAAAAAADwPxHNzMzMzMz8PyHNzMzMzMzsPxobCc3MzMzMzPw/Ec3MzMzMzARAIc3MzMzMzOw/GhsJzczMzMzMBEARMzMzMzMzC0AhzczMzMzM7D8aGwkzMzMzMzMLQBHNzMzMzMwQQCHNzMzMzMzsPxobCc3MzMzMzBBAEQAAAAAAABRAIc3MzMzMzOw/GhsJAAAAAAAAFEARMzMzMzMzF0AhzczMzMzM7D8aGwkzMzMzMzMXQBFmZmZmZmYaQCHNzMzMzMzsPxobCWZmZmZmZhpAEZqZmZmZmR1AIc3MzMzMzOw/GhsJmpmZmZmZHUARZmZmZmZmIEAhzczMzMzM7D8aGwlmZmZmZmYgQBEAAAAAAAAiQCHNzMzMzMzsPyAB\";\n",
              "                </script>\n",
              "              '>\n",
              "            </iframe>"
            ]
          },
          "metadata": {}
        },
        {
          "output_type": "display_data",
          "data": {
            "application/javascript": [
              "\n",
              "        if (typeof window.interactive_beam_jquery == 'undefined') {\n",
              "          var jqueryScript = document.createElement('script');\n",
              "          jqueryScript.src = 'https://code.jquery.com/jquery-3.4.1.slim.min.js';\n",
              "          jqueryScript.type = 'text/javascript';\n",
              "          jqueryScript.onload = function() {\n",
              "            var datatableScript = document.createElement('script');\n",
              "            datatableScript.src = 'https://cdn.datatables.net/1.10.20/js/jquery.dataTables.min.js';\n",
              "            datatableScript.type = 'text/javascript';\n",
              "            datatableScript.onload = function() {\n",
              "              window.interactive_beam_jquery = jQuery.noConflict(true);\n",
              "              window.interactive_beam_jquery(document).ready(function($){\n",
              "                \n",
              "            $(\"#progress_indicator_b957d11b17ac862c52fad5707f1726ac\").remove();\n",
              "              });\n",
              "            }\n",
              "            document.head.appendChild(datatableScript);\n",
              "          };\n",
              "          document.head.appendChild(jqueryScript);\n",
              "        } else {\n",
              "          window.interactive_beam_jquery(document).ready(function($){\n",
              "            \n",
              "            $(\"#progress_indicator_b957d11b17ac862c52fad5707f1726ac\").remove();\n",
              "          });\n",
              "        }"
            ]
          },
          "metadata": {}
        }
      ]
    },
    {
      "cell_type": "code",
      "source": [
        "a=[1,2,3,4,5,6,7,8,9]\n",
        "with beam.Pipeline(InteractiveRunner()) as p:\n",
        "  pc2 = ( p\n",
        "    | beam.Create(a)\n",
        "    | beam.Map(lambda x: beam.window.TimestampedValue(x,int(x)))\n",
        ")"
      ],
      "metadata": {
        "id": "ClyfGzXWr97d"
      },
      "execution_count": 29,
      "outputs": []
    },
    {
      "cell_type": "code",
      "source": [
        "ib.show(pc2, include_window_info=True, visualize_data=True)"
      ],
      "metadata": {
        "colab": {
          "base_uri": "https://localhost:8080/",
          "height": 1000
        },
        "id": "U5y29565s-TU",
        "outputId": "c88779ba-b679-4d00-d265-a1a4adef0c17"
      },
      "execution_count": 30,
      "outputs": [
        {
          "output_type": "display_data",
          "data": {
            "text/plain": [
              "<IPython.core.display.HTML object>"
            ],
            "text/html": [
              "\n",
              "            <link rel=\"stylesheet\" href=\"https://stackpath.bootstrapcdn.com/bootstrap/4.4.1/css/bootstrap.min.css\" integrity=\"sha384-Vkoo8x4CGsO3+Hhxv8T/Q5PaXtkKtu6ug5TOeNV6gBiFeWPGFN9MuhOf23Q9Ifjh\" crossorigin=\"anonymous\">\n",
              "            <div id=\"progress_indicator_d9c0de06eceb142952c264a27ae0641b\">\n",
              "              <div class=\"spinner-border text-info\" role=\"status\"></div>\n",
              "              <span class=\"text-info\">Processing... show</span>\n",
              "            </div>\n",
              "            "
            ]
          },
          "metadata": {}
        },
        {
          "output_type": "display_data",
          "data": {
            "text/plain": [
              "<IPython.core.display.HTML object>"
            ],
            "text/html": [
              "\n",
              "            <style>\n",
              "            .p-Widget.jp-OutputPrompt.jp-OutputArea-prompt:empty {\n",
              "              padding: 0;\n",
              "              border: 0;\n",
              "            }\n",
              "            .p-Widget.jp-RenderedJavaScript.jp-mod-trusted.jp-OutputArea-output:empty {\n",
              "              padding: 0;\n",
              "              border: 0;\n",
              "            }\n",
              "            </style>\n",
              "            <link rel=\"stylesheet\" href=\"https://cdn.datatables.net/1.10.20/css/jquery.dataTables.min.css\">\n",
              "            <table id=\"table_df_7d68762d1b0563010de23f7f101552d7\" class=\"display\" style=\"display:block\"></table>\n",
              "            <script>\n",
              "              \n",
              "        if (typeof window.interactive_beam_jquery == 'undefined') {\n",
              "          var jqueryScript = document.createElement('script');\n",
              "          jqueryScript.src = 'https://code.jquery.com/jquery-3.4.1.slim.min.js';\n",
              "          jqueryScript.type = 'text/javascript';\n",
              "          jqueryScript.onload = function() {\n",
              "            var datatableScript = document.createElement('script');\n",
              "            datatableScript.src = 'https://cdn.datatables.net/1.10.20/js/jquery.dataTables.min.js';\n",
              "            datatableScript.type = 'text/javascript';\n",
              "            datatableScript.onload = function() {\n",
              "              window.interactive_beam_jquery = jQuery.noConflict(true);\n",
              "              window.interactive_beam_jquery(document).ready(function($){\n",
              "                \n",
              "            var dt;\n",
              "            if ($.fn.dataTable.isDataTable(\"#table_df_7d68762d1b0563010de23f7f101552d7\")) {\n",
              "              dt = $(\"#table_df_7d68762d1b0563010de23f7f101552d7\").dataTable();\n",
              "            } else if ($(\"#table_df_7d68762d1b0563010de23f7f101552d7_wrapper\").length == 0) {\n",
              "              dt = $(\"#table_df_7d68762d1b0563010de23f7f101552d7\").dataTable({\n",
              "                \n",
              "            bAutoWidth: false,\n",
              "            columns: [{'title': ''}, {'title': 'pc2.0'}, {'title': 'event_time'}, {'title': 'windows'}, {'title': 'pane_info'}],\n",
              "            destroy: true,\n",
              "            responsive: true,\n",
              "            columnDefs: [\n",
              "              {\n",
              "                targets: \"_all\",\n",
              "                className: \"dt-left\"\n",
              "              },\n",
              "              {\n",
              "                \"targets\": 0,\n",
              "                \"width\": \"10px\",\n",
              "                \"title\": \"\"\n",
              "              }\n",
              "            ]\n",
              "              });\n",
              "            } else {\n",
              "              return;\n",
              "            }\n",
              "            dt.api()\n",
              "              .clear()\n",
              "              .rows.add([{1: '1', 2: '1970-01-01 00:00:01.000000+0000', 3: 'GlobalWindow', 4: 'Pane 0: Final ', 0: 0}, {1: '2', 2: '1970-01-01 00:00:02.000000+0000', 3: 'GlobalWindow', 4: 'Pane 0: Final ', 0: 1}, {1: '3', 2: '1970-01-01 00:00:03.000000+0000', 3: 'GlobalWindow', 4: 'Pane 0: Final ', 0: 2}, {1: '4', 2: '1970-01-01 00:00:04.000000+0000', 3: 'GlobalWindow', 4: 'Pane 0: Final ', 0: 3}, {1: '5', 2: '1970-01-01 00:00:05.000000+0000', 3: 'GlobalWindow', 4: 'Pane 0: Final ', 0: 4}, {1: '6', 2: '1970-01-01 00:00:06.000000+0000', 3: 'GlobalWindow', 4: 'Pane 0: Final ', 0: 5}, {1: '7', 2: '1970-01-01 00:00:07.000000+0000', 3: 'GlobalWindow', 4: 'Pane 0: Final ', 0: 6}, {1: '8', 2: '1970-01-01 00:00:08.000000+0000', 3: 'GlobalWindow', 4: 'Pane 0: Final ', 0: 7}, {1: '9', 2: '1970-01-01 00:00:09.000000+0000', 3: 'GlobalWindow', 4: 'Pane 0: Final ', 0: 8}])\n",
              "              .draw('full-hold');\n",
              "              });\n",
              "            }\n",
              "            document.head.appendChild(datatableScript);\n",
              "          };\n",
              "          document.head.appendChild(jqueryScript);\n",
              "        } else {\n",
              "          window.interactive_beam_jquery(document).ready(function($){\n",
              "            \n",
              "            var dt;\n",
              "            if ($.fn.dataTable.isDataTable(\"#table_df_7d68762d1b0563010de23f7f101552d7\")) {\n",
              "              dt = $(\"#table_df_7d68762d1b0563010de23f7f101552d7\").dataTable();\n",
              "            } else if ($(\"#table_df_7d68762d1b0563010de23f7f101552d7_wrapper\").length == 0) {\n",
              "              dt = $(\"#table_df_7d68762d1b0563010de23f7f101552d7\").dataTable({\n",
              "                \n",
              "            bAutoWidth: false,\n",
              "            columns: [{'title': ''}, {'title': 'pc2.0'}, {'title': 'event_time'}, {'title': 'windows'}, {'title': 'pane_info'}],\n",
              "            destroy: true,\n",
              "            responsive: true,\n",
              "            columnDefs: [\n",
              "              {\n",
              "                targets: \"_all\",\n",
              "                className: \"dt-left\"\n",
              "              },\n",
              "              {\n",
              "                \"targets\": 0,\n",
              "                \"width\": \"10px\",\n",
              "                \"title\": \"\"\n",
              "              }\n",
              "            ]\n",
              "              });\n",
              "            } else {\n",
              "              return;\n",
              "            }\n",
              "            dt.api()\n",
              "              .clear()\n",
              "              .rows.add([{1: '1', 2: '1970-01-01 00:00:01.000000+0000', 3: 'GlobalWindow', 4: 'Pane 0: Final ', 0: 0}, {1: '2', 2: '1970-01-01 00:00:02.000000+0000', 3: 'GlobalWindow', 4: 'Pane 0: Final ', 0: 1}, {1: '3', 2: '1970-01-01 00:00:03.000000+0000', 3: 'GlobalWindow', 4: 'Pane 0: Final ', 0: 2}, {1: '4', 2: '1970-01-01 00:00:04.000000+0000', 3: 'GlobalWindow', 4: 'Pane 0: Final ', 0: 3}, {1: '5', 2: '1970-01-01 00:00:05.000000+0000', 3: 'GlobalWindow', 4: 'Pane 0: Final ', 0: 4}, {1: '6', 2: '1970-01-01 00:00:06.000000+0000', 3: 'GlobalWindow', 4: 'Pane 0: Final ', 0: 5}, {1: '7', 2: '1970-01-01 00:00:07.000000+0000', 3: 'GlobalWindow', 4: 'Pane 0: Final ', 0: 6}, {1: '8', 2: '1970-01-01 00:00:08.000000+0000', 3: 'GlobalWindow', 4: 'Pane 0: Final ', 0: 7}, {1: '9', 2: '1970-01-01 00:00:09.000000+0000', 3: 'GlobalWindow', 4: 'Pane 0: Final ', 0: 8}])\n",
              "              .draw('full-hold');\n",
              "          });\n",
              "        }\n",
              "            </script>"
            ]
          },
          "metadata": {}
        },
        {
          "output_type": "display_data",
          "data": {
            "text/plain": [
              "<IPython.core.display.HTML object>"
            ],
            "text/html": [
              "\n",
              "            <style>\n",
              "            .p-Widget.jp-OutputPrompt.jp-OutputArea-prompt:empty {\n",
              "              padding: 0;\n",
              "              border: 0;\n",
              "            }\n",
              "            .p-Widget.jp-RenderedJavaScript.jp-mod-trusted.jp-OutputArea-output:empty {\n",
              "              padding: 0;\n",
              "              border: 0;\n",
              "            }\n",
              "            </style>\n",
              "            <iframe id=facets_dive_7d68762d1b0563010de23f7f101552d7 style=\"border:none\" width=\"100%\" height=\"600px\"\n",
              "              srcdoc='\n",
              "                <script src=\"https://cdnjs.cloudflare.com/ajax/libs/webcomponentsjs/1.3.3/webcomponents-lite.js\"></script>\n",
              "                <link rel=\"import\" href=\"https://raw.githubusercontent.com/PAIR-code/facets/1.0.0/facets-dist/facets-jupyter.html\">\n",
              "                <facets-dive sprite-image-width=\"64\" sprite-image-height=\"64\" id=\"facets_dive_7d68762d1b0563010de23f7f101552d7\" height=\"600\"></facets-dive>\n",
              "                <script>\n",
              "                  document.getElementById(\"facets_dive_7d68762d1b0563010de23f7f101552d7\").data = [{&quot;pc2.0&quot;:1,&quot;event_time&quot;:&quot;1970-01-01 00:00:01.000000+0000&quot;,&quot;windows&quot;:&quot;GlobalWindow&quot;,&quot;pane_info&quot;:&quot;Pane 0: Final &quot;},{&quot;pc2.0&quot;:2,&quot;event_time&quot;:&quot;1970-01-01 00:00:02.000000+0000&quot;,&quot;windows&quot;:&quot;GlobalWindow&quot;,&quot;pane_info&quot;:&quot;Pane 0: Final &quot;},{&quot;pc2.0&quot;:3,&quot;event_time&quot;:&quot;1970-01-01 00:00:03.000000+0000&quot;,&quot;windows&quot;:&quot;GlobalWindow&quot;,&quot;pane_info&quot;:&quot;Pane 0: Final &quot;},{&quot;pc2.0&quot;:4,&quot;event_time&quot;:&quot;1970-01-01 00:00:04.000000+0000&quot;,&quot;windows&quot;:&quot;GlobalWindow&quot;,&quot;pane_info&quot;:&quot;Pane 0: Final &quot;},{&quot;pc2.0&quot;:5,&quot;event_time&quot;:&quot;1970-01-01 00:00:05.000000+0000&quot;,&quot;windows&quot;:&quot;GlobalWindow&quot;,&quot;pane_info&quot;:&quot;Pane 0: Final &quot;},{&quot;pc2.0&quot;:6,&quot;event_time&quot;:&quot;1970-01-01 00:00:06.000000+0000&quot;,&quot;windows&quot;:&quot;GlobalWindow&quot;,&quot;pane_info&quot;:&quot;Pane 0: Final &quot;},{&quot;pc2.0&quot;:7,&quot;event_time&quot;:&quot;1970-01-01 00:00:07.000000+0000&quot;,&quot;windows&quot;:&quot;GlobalWindow&quot;,&quot;pane_info&quot;:&quot;Pane 0: Final &quot;},{&quot;pc2.0&quot;:8,&quot;event_time&quot;:&quot;1970-01-01 00:00:08.000000+0000&quot;,&quot;windows&quot;:&quot;GlobalWindow&quot;,&quot;pane_info&quot;:&quot;Pane 0: Final &quot;},{&quot;pc2.0&quot;:9,&quot;event_time&quot;:&quot;1970-01-01 00:00:09.000000+0000&quot;,&quot;windows&quot;:&quot;GlobalWindow&quot;,&quot;pane_info&quot;:&quot;Pane 0: Final &quot;}];\n",
              "                </script>\n",
              "              '>\n",
              "            </iframe>"
            ]
          },
          "metadata": {}
        },
        {
          "output_type": "display_data",
          "data": {
            "text/plain": [
              "<IPython.core.display.HTML object>"
            ],
            "text/html": [
              "\n",
              "            <style>\n",
              "            .p-Widget.jp-OutputPrompt.jp-OutputArea-prompt:empty {\n",
              "              padding: 0;\n",
              "              border: 0;\n",
              "            }\n",
              "            .p-Widget.jp-RenderedJavaScript.jp-mod-trusted.jp-OutputArea-output:empty {\n",
              "              padding: 0;\n",
              "              border: 0;\n",
              "            }\n",
              "            </style>\n",
              "            <iframe id=facets_overview_7d68762d1b0563010de23f7f101552d7 style=\"border:none\" width=\"100%\" height=\"600px\"\n",
              "              srcdoc='\n",
              "                <script src=\"https://cdnjs.cloudflare.com/ajax/libs/webcomponentsjs/1.3.3/webcomponents-lite.js\"></script>\n",
              "                <link rel=\"import\" href=\"https://raw.githubusercontent.com/PAIR-code/facets/1.0.0/facets-dist/facets-jupyter.html\">\n",
              "                <facets-overview id=\"facets_overview_7d68762d1b0563010de23f7f101552d7\"></facets-overview>\n",
              "                <script>\n",
              "                  document.getElementById(\"facets_overview_7d68762d1b0563010de23f7f101552d7\").protoInput = \"CroHCgRkYXRhEAkarwcKBXBjMi4wGqUHCrICCAkYASABLQAAgD8ypAIaGwkAAAAAAADwPxEAAAAAAADwPyHNzMzMzMzsPxobCQAAAAAAAPA/EQAAAAAAAPA/Ic3MzMzMzOw/GhsJAAAAAAAA8D8RAAAAAAAA8D8hzczMzMzM7D8aGwkAAAAAAADwPxEAAAAAAADwPyHNzMzMzMzsPxobCQAAAAAAAPA/EQAAAAAAAPA/Ic3MzMzMzOw/GhsJAAAAAAAA8D8RAAAAAAAA8D8hzczMzMzM7D8aGwkAAAAAAADwPxEAAAAAAADwPyHNzMzMzMzsPxobCQAAAAAAAPA/EQAAAAAAAPA/Ic3MzMzMzOw/GhsJAAAAAAAA8D8RAAAAAAAA8D8hzczMzMzM7D8aGwkAAAAAAADwPxEAAAAAAADwPyHNzMzMzMzsPyABEQAAAAAAABRAGZE0isvppwRAKQAAAAAAAPA/MQAAAAAAABRAOQAAAAAAACJAQpkCGhsJAAAAAAAA8D8RzczMzMzM/D8hAAAAAAAA8D8aGwnNzMzMzMz8PxHNzMzMzMwEQCEAAAAAAADwPxobCc3MzMzMzARAETQzMzMzMwtAIQAAAAAAAPA/GhsJNDMzMzMzC0ARzczMzMzMEEAhAAAAAAAA8D8aEgnNzMzMzMwQQBEAAAAAAAAUQBobCQAAAAAAABRAETQzMzMzMxdAIQAAAAAAAPA/GhsJNDMzMzMzF0ARZ2ZmZmZmGkAhAAAAAAAA8D8aGwlnZmZmZmYaQBGamZmZmZkdQCEAAAAAAADwPxobCZqZmZmZmR1AEWZmZmZmZiBAIQAAAAAAAPA/GhsJZmZmZmZmIEARAAAAAAAAIkAhAAAAAAAA8D9CpAIaGwkAAAAAAADwPxHNzMzMzMz8PyHNzMzMzMzsPxobCc3MzMzMzPw/Ec3MzMzMzARAIc3MzMzMzOw/GhsJzczMzMzMBEARMzMzMzMzC0AhzczMzMzM7D8aGwkzMzMzMzMLQBHNzMzMzMwQQCHNzMzMzMzsPxobCc3MzMzMzBBAEQAAAAAAABRAIc3MzMzMzOw/GhsJAAAAAAAAFEARMzMzMzMzF0AhzczMzMzM7D8aGwkzMzMzMzMXQBFmZmZmZmYaQCHNzMzMzMzsPxobCWZmZmZmZhpAEZqZmZmZmR1AIc3MzMzMzOw/GhsJmpmZmZmZHUARZmZmZmZmIEAhzczMzMzM7D8aGwlmZmZmZmYgQBEAAAAAAAAiQCHNzMzMzMzsPyAB\";\n",
              "                </script>\n",
              "              '>\n",
              "            </iframe>"
            ]
          },
          "metadata": {}
        },
        {
          "output_type": "display_data",
          "data": {
            "application/javascript": [
              "\n",
              "        if (typeof window.interactive_beam_jquery == 'undefined') {\n",
              "          var jqueryScript = document.createElement('script');\n",
              "          jqueryScript.src = 'https://code.jquery.com/jquery-3.4.1.slim.min.js';\n",
              "          jqueryScript.type = 'text/javascript';\n",
              "          jqueryScript.onload = function() {\n",
              "            var datatableScript = document.createElement('script');\n",
              "            datatableScript.src = 'https://cdn.datatables.net/1.10.20/js/jquery.dataTables.min.js';\n",
              "            datatableScript.type = 'text/javascript';\n",
              "            datatableScript.onload = function() {\n",
              "              window.interactive_beam_jquery = jQuery.noConflict(true);\n",
              "              window.interactive_beam_jquery(document).ready(function($){\n",
              "                \n",
              "            $(\"#progress_indicator_d9c0de06eceb142952c264a27ae0641b\").remove();\n",
              "              });\n",
              "            }\n",
              "            document.head.appendChild(datatableScript);\n",
              "          };\n",
              "          document.head.appendChild(jqueryScript);\n",
              "        } else {\n",
              "          window.interactive_beam_jquery(document).ready(function($){\n",
              "            \n",
              "            $(\"#progress_indicator_d9c0de06eceb142952c264a27ae0641b\").remove();\n",
              "          });\n",
              "        }"
            ]
          },
          "metadata": {}
        }
      ]
    },
    {
      "cell_type": "code",
      "source": [
        "with beam.Pipeline(InteractiveRunner()) as p:\n",
        "  pc3 = ( p\n",
        "    | beam.Create(a)\n",
        "    | beam.Map(lambda x: beam.window.TimestampedValue(x,int(x)))\n",
        "    | beam.WindowInto(beam.window.FixedWindows(5))\n",
        ")"
      ],
      "metadata": {
        "id": "vkMFAE82s-_g"
      },
      "execution_count": 31,
      "outputs": []
    },
    {
      "cell_type": "code",
      "source": [
        "ib.show(pc3, include_window_info=True, visualize_data=True)"
      ],
      "metadata": {
        "colab": {
          "base_uri": "https://localhost:8080/",
          "height": 1000
        },
        "id": "6Q6T669St6Py",
        "outputId": "b7f6c081-e962-42c0-a0c7-94b6a6038a6b"
      },
      "execution_count": 32,
      "outputs": [
        {
          "output_type": "display_data",
          "data": {
            "text/plain": [
              "<IPython.core.display.HTML object>"
            ],
            "text/html": [
              "\n",
              "            <link rel=\"stylesheet\" href=\"https://stackpath.bootstrapcdn.com/bootstrap/4.4.1/css/bootstrap.min.css\" integrity=\"sha384-Vkoo8x4CGsO3+Hhxv8T/Q5PaXtkKtu6ug5TOeNV6gBiFeWPGFN9MuhOf23Q9Ifjh\" crossorigin=\"anonymous\">\n",
              "            <div id=\"progress_indicator_ecbfb474c6584e3104f3540e83da25f5\">\n",
              "              <div class=\"spinner-border text-info\" role=\"status\"></div>\n",
              "              <span class=\"text-info\">Processing... show</span>\n",
              "            </div>\n",
              "            "
            ]
          },
          "metadata": {}
        },
        {
          "output_type": "display_data",
          "data": {
            "text/plain": [
              "<IPython.core.display.HTML object>"
            ],
            "text/html": [
              "\n",
              "            <style>\n",
              "            .p-Widget.jp-OutputPrompt.jp-OutputArea-prompt:empty {\n",
              "              padding: 0;\n",
              "              border: 0;\n",
              "            }\n",
              "            .p-Widget.jp-RenderedJavaScript.jp-mod-trusted.jp-OutputArea-output:empty {\n",
              "              padding: 0;\n",
              "              border: 0;\n",
              "            }\n",
              "            </style>\n",
              "            <link rel=\"stylesheet\" href=\"https://cdn.datatables.net/1.10.20/css/jquery.dataTables.min.css\">\n",
              "            <table id=\"table_df_3d7ac07736687a93e25a5932c1d05c0e\" class=\"display\" style=\"display:block\"></table>\n",
              "            <script>\n",
              "              \n",
              "        if (typeof window.interactive_beam_jquery == 'undefined') {\n",
              "          var jqueryScript = document.createElement('script');\n",
              "          jqueryScript.src = 'https://code.jquery.com/jquery-3.4.1.slim.min.js';\n",
              "          jqueryScript.type = 'text/javascript';\n",
              "          jqueryScript.onload = function() {\n",
              "            var datatableScript = document.createElement('script');\n",
              "            datatableScript.src = 'https://cdn.datatables.net/1.10.20/js/jquery.dataTables.min.js';\n",
              "            datatableScript.type = 'text/javascript';\n",
              "            datatableScript.onload = function() {\n",
              "              window.interactive_beam_jquery = jQuery.noConflict(true);\n",
              "              window.interactive_beam_jquery(document).ready(function($){\n",
              "                \n",
              "            var dt;\n",
              "            if ($.fn.dataTable.isDataTable(\"#table_df_3d7ac07736687a93e25a5932c1d05c0e\")) {\n",
              "              dt = $(\"#table_df_3d7ac07736687a93e25a5932c1d05c0e\").dataTable();\n",
              "            } else if ($(\"#table_df_3d7ac07736687a93e25a5932c1d05c0e_wrapper\").length == 0) {\n",
              "              dt = $(\"#table_df_3d7ac07736687a93e25a5932c1d05c0e\").dataTable({\n",
              "                \n",
              "            bAutoWidth: false,\n",
              "            columns: [{'title': ''}, {'title': 'pc3.0'}, {'title': 'event_time'}, {'title': 'windows'}, {'title': 'pane_info'}],\n",
              "            destroy: true,\n",
              "            responsive: true,\n",
              "            columnDefs: [\n",
              "              {\n",
              "                targets: \"_all\",\n",
              "                className: \"dt-left\"\n",
              "              },\n",
              "              {\n",
              "                \"targets\": 0,\n",
              "                \"width\": \"10px\",\n",
              "                \"title\": \"\"\n",
              "              }\n",
              "            ]\n",
              "              });\n",
              "            } else {\n",
              "              return;\n",
              "            }\n",
              "            dt.api()\n",
              "              .clear()\n",
              "              .rows.add([{1: '1', 2: '1970-01-01 00:00:01.000000+0000', 3: '1970-01-01 00:00:00.000000+0000 (5s)', 4: 'Pane 0: Final ', 0: 0}, {1: '2', 2: '1970-01-01 00:00:02.000000+0000', 3: '1970-01-01 00:00:00.000000+0000 (5s)', 4: 'Pane 0: Final ', 0: 1}, {1: '3', 2: '1970-01-01 00:00:03.000000+0000', 3: '1970-01-01 00:00:00.000000+0000 (5s)', 4: 'Pane 0: Final ', 0: 2}, {1: '4', 2: '1970-01-01 00:00:04.000000+0000', 3: '1970-01-01 00:00:00.000000+0000 (5s)', 4: 'Pane 0: Final ', 0: 3}, {1: '5', 2: '1970-01-01 00:00:05.000000+0000', 3: '1970-01-01 00:00:05.000000+0000 (5s)', 4: 'Pane 0: Final ', 0: 4}, {1: '6', 2: '1970-01-01 00:00:06.000000+0000', 3: '1970-01-01 00:00:05.000000+0000 (5s)', 4: 'Pane 0: Final ', 0: 5}, {1: '7', 2: '1970-01-01 00:00:07.000000+0000', 3: '1970-01-01 00:00:05.000000+0000 (5s)', 4: 'Pane 0: Final ', 0: 6}, {1: '8', 2: '1970-01-01 00:00:08.000000+0000', 3: '1970-01-01 00:00:05.000000+0000 (5s)', 4: 'Pane 0: Final ', 0: 7}, {1: '9', 2: '1970-01-01 00:00:09.000000+0000', 3: '1970-01-01 00:00:05.000000+0000 (5s)', 4: 'Pane 0: Final ', 0: 8}])\n",
              "              .draw('full-hold');\n",
              "              });\n",
              "            }\n",
              "            document.head.appendChild(datatableScript);\n",
              "          };\n",
              "          document.head.appendChild(jqueryScript);\n",
              "        } else {\n",
              "          window.interactive_beam_jquery(document).ready(function($){\n",
              "            \n",
              "            var dt;\n",
              "            if ($.fn.dataTable.isDataTable(\"#table_df_3d7ac07736687a93e25a5932c1d05c0e\")) {\n",
              "              dt = $(\"#table_df_3d7ac07736687a93e25a5932c1d05c0e\").dataTable();\n",
              "            } else if ($(\"#table_df_3d7ac07736687a93e25a5932c1d05c0e_wrapper\").length == 0) {\n",
              "              dt = $(\"#table_df_3d7ac07736687a93e25a5932c1d05c0e\").dataTable({\n",
              "                \n",
              "            bAutoWidth: false,\n",
              "            columns: [{'title': ''}, {'title': 'pc3.0'}, {'title': 'event_time'}, {'title': 'windows'}, {'title': 'pane_info'}],\n",
              "            destroy: true,\n",
              "            responsive: true,\n",
              "            columnDefs: [\n",
              "              {\n",
              "                targets: \"_all\",\n",
              "                className: \"dt-left\"\n",
              "              },\n",
              "              {\n",
              "                \"targets\": 0,\n",
              "                \"width\": \"10px\",\n",
              "                \"title\": \"\"\n",
              "              }\n",
              "            ]\n",
              "              });\n",
              "            } else {\n",
              "              return;\n",
              "            }\n",
              "            dt.api()\n",
              "              .clear()\n",
              "              .rows.add([{1: '1', 2: '1970-01-01 00:00:01.000000+0000', 3: '1970-01-01 00:00:00.000000+0000 (5s)', 4: 'Pane 0: Final ', 0: 0}, {1: '2', 2: '1970-01-01 00:00:02.000000+0000', 3: '1970-01-01 00:00:00.000000+0000 (5s)', 4: 'Pane 0: Final ', 0: 1}, {1: '3', 2: '1970-01-01 00:00:03.000000+0000', 3: '1970-01-01 00:00:00.000000+0000 (5s)', 4: 'Pane 0: Final ', 0: 2}, {1: '4', 2: '1970-01-01 00:00:04.000000+0000', 3: '1970-01-01 00:00:00.000000+0000 (5s)', 4: 'Pane 0: Final ', 0: 3}, {1: '5', 2: '1970-01-01 00:00:05.000000+0000', 3: '1970-01-01 00:00:05.000000+0000 (5s)', 4: 'Pane 0: Final ', 0: 4}, {1: '6', 2: '1970-01-01 00:00:06.000000+0000', 3: '1970-01-01 00:00:05.000000+0000 (5s)', 4: 'Pane 0: Final ', 0: 5}, {1: '7', 2: '1970-01-01 00:00:07.000000+0000', 3: '1970-01-01 00:00:05.000000+0000 (5s)', 4: 'Pane 0: Final ', 0: 6}, {1: '8', 2: '1970-01-01 00:00:08.000000+0000', 3: '1970-01-01 00:00:05.000000+0000 (5s)', 4: 'Pane 0: Final ', 0: 7}, {1: '9', 2: '1970-01-01 00:00:09.000000+0000', 3: '1970-01-01 00:00:05.000000+0000 (5s)', 4: 'Pane 0: Final ', 0: 8}])\n",
              "              .draw('full-hold');\n",
              "          });\n",
              "        }\n",
              "            </script>"
            ]
          },
          "metadata": {}
        },
        {
          "output_type": "display_data",
          "data": {
            "text/plain": [
              "<IPython.core.display.HTML object>"
            ],
            "text/html": [
              "\n",
              "            <style>\n",
              "            .p-Widget.jp-OutputPrompt.jp-OutputArea-prompt:empty {\n",
              "              padding: 0;\n",
              "              border: 0;\n",
              "            }\n",
              "            .p-Widget.jp-RenderedJavaScript.jp-mod-trusted.jp-OutputArea-output:empty {\n",
              "              padding: 0;\n",
              "              border: 0;\n",
              "            }\n",
              "            </style>\n",
              "            <iframe id=facets_dive_3d7ac07736687a93e25a5932c1d05c0e style=\"border:none\" width=\"100%\" height=\"600px\"\n",
              "              srcdoc='\n",
              "                <script src=\"https://cdnjs.cloudflare.com/ajax/libs/webcomponentsjs/1.3.3/webcomponents-lite.js\"></script>\n",
              "                <link rel=\"import\" href=\"https://raw.githubusercontent.com/PAIR-code/facets/1.0.0/facets-dist/facets-jupyter.html\">\n",
              "                <facets-dive sprite-image-width=\"64\" sprite-image-height=\"64\" id=\"facets_dive_3d7ac07736687a93e25a5932c1d05c0e\" height=\"600\"></facets-dive>\n",
              "                <script>\n",
              "                  document.getElementById(\"facets_dive_3d7ac07736687a93e25a5932c1d05c0e\").data = [{&quot;pc3.0&quot;:1,&quot;event_time&quot;:&quot;1970-01-01 00:00:01.000000+0000&quot;,&quot;windows&quot;:&quot;1970-01-01 00:00:00.000000+0000 (5s)&quot;,&quot;pane_info&quot;:&quot;Pane 0: Final &quot;},{&quot;pc3.0&quot;:2,&quot;event_time&quot;:&quot;1970-01-01 00:00:02.000000+0000&quot;,&quot;windows&quot;:&quot;1970-01-01 00:00:00.000000+0000 (5s)&quot;,&quot;pane_info&quot;:&quot;Pane 0: Final &quot;},{&quot;pc3.0&quot;:3,&quot;event_time&quot;:&quot;1970-01-01 00:00:03.000000+0000&quot;,&quot;windows&quot;:&quot;1970-01-01 00:00:00.000000+0000 (5s)&quot;,&quot;pane_info&quot;:&quot;Pane 0: Final &quot;},{&quot;pc3.0&quot;:4,&quot;event_time&quot;:&quot;1970-01-01 00:00:04.000000+0000&quot;,&quot;windows&quot;:&quot;1970-01-01 00:00:00.000000+0000 (5s)&quot;,&quot;pane_info&quot;:&quot;Pane 0: Final &quot;},{&quot;pc3.0&quot;:5,&quot;event_time&quot;:&quot;1970-01-01 00:00:05.000000+0000&quot;,&quot;windows&quot;:&quot;1970-01-01 00:00:05.000000+0000 (5s)&quot;,&quot;pane_info&quot;:&quot;Pane 0: Final &quot;},{&quot;pc3.0&quot;:6,&quot;event_time&quot;:&quot;1970-01-01 00:00:06.000000+0000&quot;,&quot;windows&quot;:&quot;1970-01-01 00:00:05.000000+0000 (5s)&quot;,&quot;pane_info&quot;:&quot;Pane 0: Final &quot;},{&quot;pc3.0&quot;:7,&quot;event_time&quot;:&quot;1970-01-01 00:00:07.000000+0000&quot;,&quot;windows&quot;:&quot;1970-01-01 00:00:05.000000+0000 (5s)&quot;,&quot;pane_info&quot;:&quot;Pane 0: Final &quot;},{&quot;pc3.0&quot;:8,&quot;event_time&quot;:&quot;1970-01-01 00:00:08.000000+0000&quot;,&quot;windows&quot;:&quot;1970-01-01 00:00:05.000000+0000 (5s)&quot;,&quot;pane_info&quot;:&quot;Pane 0: Final &quot;},{&quot;pc3.0&quot;:9,&quot;event_time&quot;:&quot;1970-01-01 00:00:09.000000+0000&quot;,&quot;windows&quot;:&quot;1970-01-01 00:00:05.000000+0000 (5s)&quot;,&quot;pane_info&quot;:&quot;Pane 0: Final &quot;}];\n",
              "                </script>\n",
              "              '>\n",
              "            </iframe>"
            ]
          },
          "metadata": {}
        },
        {
          "output_type": "display_data",
          "data": {
            "text/plain": [
              "<IPython.core.display.HTML object>"
            ],
            "text/html": [
              "\n",
              "            <style>\n",
              "            .p-Widget.jp-OutputPrompt.jp-OutputArea-prompt:empty {\n",
              "              padding: 0;\n",
              "              border: 0;\n",
              "            }\n",
              "            .p-Widget.jp-RenderedJavaScript.jp-mod-trusted.jp-OutputArea-output:empty {\n",
              "              padding: 0;\n",
              "              border: 0;\n",
              "            }\n",
              "            </style>\n",
              "            <iframe id=facets_overview_3d7ac07736687a93e25a5932c1d05c0e style=\"border:none\" width=\"100%\" height=\"600px\"\n",
              "              srcdoc='\n",
              "                <script src=\"https://cdnjs.cloudflare.com/ajax/libs/webcomponentsjs/1.3.3/webcomponents-lite.js\"></script>\n",
              "                <link rel=\"import\" href=\"https://raw.githubusercontent.com/PAIR-code/facets/1.0.0/facets-dist/facets-jupyter.html\">\n",
              "                <facets-overview id=\"facets_overview_3d7ac07736687a93e25a5932c1d05c0e\"></facets-overview>\n",
              "                <script>\n",
              "                  document.getElementById(\"facets_overview_3d7ac07736687a93e25a5932c1d05c0e\").protoInput = \"CroHCgRkYXRhEAkarwcKBXBjMy4wGqUHCrICCAkYASABLQAAgD8ypAIaGwkAAAAAAADwPxEAAAAAAADwPyHNzMzMzMzsPxobCQAAAAAAAPA/EQAAAAAAAPA/Ic3MzMzMzOw/GhsJAAAAAAAA8D8RAAAAAAAA8D8hzczMzMzM7D8aGwkAAAAAAADwPxEAAAAAAADwPyHNzMzMzMzsPxobCQAAAAAAAPA/EQAAAAAAAPA/Ic3MzMzMzOw/GhsJAAAAAAAA8D8RAAAAAAAA8D8hzczMzMzM7D8aGwkAAAAAAADwPxEAAAAAAADwPyHNzMzMzMzsPxobCQAAAAAAAPA/EQAAAAAAAPA/Ic3MzMzMzOw/GhsJAAAAAAAA8D8RAAAAAAAA8D8hzczMzMzM7D8aGwkAAAAAAADwPxEAAAAAAADwPyHNzMzMzMzsPyABEQAAAAAAABRAGZE0isvppwRAKQAAAAAAAPA/MQAAAAAAABRAOQAAAAAAACJAQpkCGhsJAAAAAAAA8D8RzczMzMzM/D8hAAAAAAAA8D8aGwnNzMzMzMz8PxHNzMzMzMwEQCEAAAAAAADwPxobCc3MzMzMzARAETQzMzMzMwtAIQAAAAAAAPA/GhsJNDMzMzMzC0ARzczMzMzMEEAhAAAAAAAA8D8aEgnNzMzMzMwQQBEAAAAAAAAUQBobCQAAAAAAABRAETQzMzMzMxdAIQAAAAAAAPA/GhsJNDMzMzMzF0ARZ2ZmZmZmGkAhAAAAAAAA8D8aGwlnZmZmZmYaQBGamZmZmZkdQCEAAAAAAADwPxobCZqZmZmZmR1AEWZmZmZmZiBAIQAAAAAAAPA/GhsJZmZmZmZmIEARAAAAAAAAIkAhAAAAAAAA8D9CpAIaGwkAAAAAAADwPxHNzMzMzMz8PyHNzMzMzMzsPxobCc3MzMzMzPw/Ec3MzMzMzARAIc3MzMzMzOw/GhsJzczMzMzMBEARMzMzMzMzC0AhzczMzMzM7D8aGwkzMzMzMzMLQBHNzMzMzMwQQCHNzMzMzMzsPxobCc3MzMzMzBBAEQAAAAAAABRAIc3MzMzMzOw/GhsJAAAAAAAAFEARMzMzMzMzF0AhzczMzMzM7D8aGwkzMzMzMzMXQBFmZmZmZmYaQCHNzMzMzMzsPxobCWZmZmZmZhpAEZqZmZmZmR1AIc3MzMzMzOw/GhsJmpmZmZmZHUARZmZmZmZmIEAhzczMzMzM7D8aGwlmZmZmZmYgQBEAAAAAAAAiQCHNzMzMzMzsPyAB\";\n",
              "                </script>\n",
              "              '>\n",
              "            </iframe>"
            ]
          },
          "metadata": {}
        },
        {
          "output_type": "display_data",
          "data": {
            "application/javascript": [
              "\n",
              "        if (typeof window.interactive_beam_jquery == 'undefined') {\n",
              "          var jqueryScript = document.createElement('script');\n",
              "          jqueryScript.src = 'https://code.jquery.com/jquery-3.4.1.slim.min.js';\n",
              "          jqueryScript.type = 'text/javascript';\n",
              "          jqueryScript.onload = function() {\n",
              "            var datatableScript = document.createElement('script');\n",
              "            datatableScript.src = 'https://cdn.datatables.net/1.10.20/js/jquery.dataTables.min.js';\n",
              "            datatableScript.type = 'text/javascript';\n",
              "            datatableScript.onload = function() {\n",
              "              window.interactive_beam_jquery = jQuery.noConflict(true);\n",
              "              window.interactive_beam_jquery(document).ready(function($){\n",
              "                \n",
              "            $(\"#progress_indicator_ecbfb474c6584e3104f3540e83da25f5\").remove();\n",
              "              });\n",
              "            }\n",
              "            document.head.appendChild(datatableScript);\n",
              "          };\n",
              "          document.head.appendChild(jqueryScript);\n",
              "        } else {\n",
              "          window.interactive_beam_jquery(document).ready(function($){\n",
              "            \n",
              "            $(\"#progress_indicator_ecbfb474c6584e3104f3540e83da25f5\").remove();\n",
              "          });\n",
              "        }"
            ]
          },
          "metadata": {}
        }
      ]
    },
    {
      "cell_type": "code",
      "source": [
        "b=[\n",
        "    ('A',10),\n",
        "    ('B',20),\n",
        "    ('C',30),\n",
        "    ('A',40),\n",
        "    ('B',50),\n",
        "    ('C',60),\n",
        "    ('A',70),\n",
        "    ('B',80),\n",
        "    ('C',90),\n",
        "    ('A',100),\n",
        "    ('B',110),\n",
        "    ('C',120),\n",
        "    ('A',160)\n",
        "]"
      ],
      "metadata": {
        "id": "XJH3JBzct_sy"
      },
      "execution_count": 33,
      "outputs": []
    },
    {
      "cell_type": "code",
      "source": [
        "with beam.Pipeline(InteractiveRunner()) as p:\n",
        "  pc4 = ( p\n",
        "    | beam.Create(b)\n",
        "    | beam.Map(lambda x: beam.window.TimestampedValue(x,int(x[1])))\n",
        "    | beam.WindowInto(beam.window.FixedWindows(60))\n",
        "    | beam.GroupByKey()\n",
        ")"
      ],
      "metadata": {
        "id": "9m4h6JusufGh"
      },
      "execution_count": 34,
      "outputs": []
    },
    {
      "cell_type": "code",
      "source": [
        "ib.show(pc4, include_window_info=True, visualize_data=True)"
      ],
      "metadata": {
        "colab": {
          "base_uri": "https://localhost:8080/",
          "height": 1000
        },
        "id": "d-uwSTjBufkj",
        "outputId": "be5eef73-97b1-4926-f7c0-da06db30db13"
      },
      "execution_count": 35,
      "outputs": [
        {
          "output_type": "display_data",
          "data": {
            "text/plain": [
              "<IPython.core.display.HTML object>"
            ],
            "text/html": [
              "\n",
              "            <link rel=\"stylesheet\" href=\"https://stackpath.bootstrapcdn.com/bootstrap/4.4.1/css/bootstrap.min.css\" integrity=\"sha384-Vkoo8x4CGsO3+Hhxv8T/Q5PaXtkKtu6ug5TOeNV6gBiFeWPGFN9MuhOf23Q9Ifjh\" crossorigin=\"anonymous\">\n",
              "            <div id=\"progress_indicator_4bb5a1d152774132a4f737d8d1489db7\">\n",
              "              <div class=\"spinner-border text-info\" role=\"status\"></div>\n",
              "              <span class=\"text-info\">Processing... show</span>\n",
              "            </div>\n",
              "            "
            ]
          },
          "metadata": {}
        },
        {
          "output_type": "display_data",
          "data": {
            "text/plain": [
              "<IPython.core.display.HTML object>"
            ],
            "text/html": [
              "\n",
              "            <style>\n",
              "            .p-Widget.jp-OutputPrompt.jp-OutputArea-prompt:empty {\n",
              "              padding: 0;\n",
              "              border: 0;\n",
              "            }\n",
              "            .p-Widget.jp-RenderedJavaScript.jp-mod-trusted.jp-OutputArea-output:empty {\n",
              "              padding: 0;\n",
              "              border: 0;\n",
              "            }\n",
              "            </style>\n",
              "            <link rel=\"stylesheet\" href=\"https://cdn.datatables.net/1.10.20/css/jquery.dataTables.min.css\">\n",
              "            <table id=\"table_df_aed39360dad72aa37c61ea092d777cf5\" class=\"display\" style=\"display:block\"></table>\n",
              "            <script>\n",
              "              \n",
              "        if (typeof window.interactive_beam_jquery == 'undefined') {\n",
              "          var jqueryScript = document.createElement('script');\n",
              "          jqueryScript.src = 'https://code.jquery.com/jquery-3.4.1.slim.min.js';\n",
              "          jqueryScript.type = 'text/javascript';\n",
              "          jqueryScript.onload = function() {\n",
              "            var datatableScript = document.createElement('script');\n",
              "            datatableScript.src = 'https://cdn.datatables.net/1.10.20/js/jquery.dataTables.min.js';\n",
              "            datatableScript.type = 'text/javascript';\n",
              "            datatableScript.onload = function() {\n",
              "              window.interactive_beam_jquery = jQuery.noConflict(true);\n",
              "              window.interactive_beam_jquery(document).ready(function($){\n",
              "                \n",
              "            var dt;\n",
              "            if ($.fn.dataTable.isDataTable(\"#table_df_aed39360dad72aa37c61ea092d777cf5\")) {\n",
              "              dt = $(\"#table_df_aed39360dad72aa37c61ea092d777cf5\").dataTable();\n",
              "            } else if ($(\"#table_df_aed39360dad72aa37c61ea092d777cf5_wrapper\").length == 0) {\n",
              "              dt = $(\"#table_df_aed39360dad72aa37c61ea092d777cf5\").dataTable({\n",
              "                \n",
              "            bAutoWidth: false,\n",
              "            columns: [{'title': ''}, {'title': 'pc4.0'}, {'title': 'pc4.1'}, {'title': 'event_time'}, {'title': 'windows'}, {'title': 'pane_info'}],\n",
              "            destroy: true,\n",
              "            responsive: true,\n",
              "            columnDefs: [\n",
              "              {\n",
              "                targets: \"_all\",\n",
              "                className: \"dt-left\"\n",
              "              },\n",
              "              {\n",
              "                \"targets\": 0,\n",
              "                \"width\": \"10px\",\n",
              "                \"title\": \"\"\n",
              "              }\n",
              "            ]\n",
              "              });\n",
              "            } else {\n",
              "              return;\n",
              "            }\n",
              "            dt.api()\n",
              "              .clear()\n",
              "              .rows.add([{1: 'A', 2: '[10, 40]', 3: '1970-01-01 00:00:59.999000+0000', 4: '1970-01-01 00:00:00.000000+0000 (1m )', 5: 'Pane 0', 0: 0}, {1: 'A', 2: '[70, 100]', 3: '1970-01-01 00:01:59.999000+0000', 4: '1970-01-01 00:01:00.000000+0000 (1m )', 5: 'Pane 0', 0: 1}, {1: 'A', 2: '[160]', 3: '1970-01-01 00:02:59.999000+0000', 4: '1970-01-01 00:02:00.000000+0000 (1m )', 5: 'Pane 0', 0: 2}, {1: 'B', 2: '[20, 50]', 3: '1970-01-01 00:00:59.999000+0000', 4: '1970-01-01 00:00:00.000000+0000 (1m )', 5: 'Pane 0', 0: 3}, {1: 'B', 2: '[80, 110]', 3: '1970-01-01 00:01:59.999000+0000', 4: '1970-01-01 00:01:00.000000+0000 (1m )', 5: 'Pane 0', 0: 4}, {1: 'C', 2: '[30]', 3: '1970-01-01 00:00:59.999000+0000', 4: '1970-01-01 00:00:00.000000+0000 (1m )', 5: 'Pane 0', 0: 5}, {1: 'C', 2: '[60, 90]', 3: '1970-01-01 00:01:59.999000+0000', 4: '1970-01-01 00:01:00.000000+0000 (1m )', 5: 'Pane 0', 0: 6}, {1: 'C', 2: '[120]', 3: '1970-01-01 00:02:59.999000+0000', 4: '1970-01-01 00:02:00.000000+0000 (1m )', 5: 'Pane 0', 0: 7}])\n",
              "              .draw('full-hold');\n",
              "              });\n",
              "            }\n",
              "            document.head.appendChild(datatableScript);\n",
              "          };\n",
              "          document.head.appendChild(jqueryScript);\n",
              "        } else {\n",
              "          window.interactive_beam_jquery(document).ready(function($){\n",
              "            \n",
              "            var dt;\n",
              "            if ($.fn.dataTable.isDataTable(\"#table_df_aed39360dad72aa37c61ea092d777cf5\")) {\n",
              "              dt = $(\"#table_df_aed39360dad72aa37c61ea092d777cf5\").dataTable();\n",
              "            } else if ($(\"#table_df_aed39360dad72aa37c61ea092d777cf5_wrapper\").length == 0) {\n",
              "              dt = $(\"#table_df_aed39360dad72aa37c61ea092d777cf5\").dataTable({\n",
              "                \n",
              "            bAutoWidth: false,\n",
              "            columns: [{'title': ''}, {'title': 'pc4.0'}, {'title': 'pc4.1'}, {'title': 'event_time'}, {'title': 'windows'}, {'title': 'pane_info'}],\n",
              "            destroy: true,\n",
              "            responsive: true,\n",
              "            columnDefs: [\n",
              "              {\n",
              "                targets: \"_all\",\n",
              "                className: \"dt-left\"\n",
              "              },\n",
              "              {\n",
              "                \"targets\": 0,\n",
              "                \"width\": \"10px\",\n",
              "                \"title\": \"\"\n",
              "              }\n",
              "            ]\n",
              "              });\n",
              "            } else {\n",
              "              return;\n",
              "            }\n",
              "            dt.api()\n",
              "              .clear()\n",
              "              .rows.add([{1: 'A', 2: '[10, 40]', 3: '1970-01-01 00:00:59.999000+0000', 4: '1970-01-01 00:00:00.000000+0000 (1m )', 5: 'Pane 0', 0: 0}, {1: 'A', 2: '[70, 100]', 3: '1970-01-01 00:01:59.999000+0000', 4: '1970-01-01 00:01:00.000000+0000 (1m )', 5: 'Pane 0', 0: 1}, {1: 'A', 2: '[160]', 3: '1970-01-01 00:02:59.999000+0000', 4: '1970-01-01 00:02:00.000000+0000 (1m )', 5: 'Pane 0', 0: 2}, {1: 'B', 2: '[20, 50]', 3: '1970-01-01 00:00:59.999000+0000', 4: '1970-01-01 00:00:00.000000+0000 (1m )', 5: 'Pane 0', 0: 3}, {1: 'B', 2: '[80, 110]', 3: '1970-01-01 00:01:59.999000+0000', 4: '1970-01-01 00:01:00.000000+0000 (1m )', 5: 'Pane 0', 0: 4}, {1: 'C', 2: '[30]', 3: '1970-01-01 00:00:59.999000+0000', 4: '1970-01-01 00:00:00.000000+0000 (1m )', 5: 'Pane 0', 0: 5}, {1: 'C', 2: '[60, 90]', 3: '1970-01-01 00:01:59.999000+0000', 4: '1970-01-01 00:01:00.000000+0000 (1m )', 5: 'Pane 0', 0: 6}, {1: 'C', 2: '[120]', 3: '1970-01-01 00:02:59.999000+0000', 4: '1970-01-01 00:02:00.000000+0000 (1m )', 5: 'Pane 0', 0: 7}])\n",
              "              .draw('full-hold');\n",
              "          });\n",
              "        }\n",
              "            </script>"
            ]
          },
          "metadata": {}
        },
        {
          "output_type": "display_data",
          "data": {
            "text/plain": [
              "<IPython.core.display.HTML object>"
            ],
            "text/html": [
              "\n",
              "            <style>\n",
              "            .p-Widget.jp-OutputPrompt.jp-OutputArea-prompt:empty {\n",
              "              padding: 0;\n",
              "              border: 0;\n",
              "            }\n",
              "            .p-Widget.jp-RenderedJavaScript.jp-mod-trusted.jp-OutputArea-output:empty {\n",
              "              padding: 0;\n",
              "              border: 0;\n",
              "            }\n",
              "            </style>\n",
              "            <iframe id=facets_dive_aed39360dad72aa37c61ea092d777cf5 style=\"border:none\" width=\"100%\" height=\"600px\"\n",
              "              srcdoc='\n",
              "                <script src=\"https://cdnjs.cloudflare.com/ajax/libs/webcomponentsjs/1.3.3/webcomponents-lite.js\"></script>\n",
              "                <link rel=\"import\" href=\"https://raw.githubusercontent.com/PAIR-code/facets/1.0.0/facets-dist/facets-jupyter.html\">\n",
              "                <facets-dive sprite-image-width=\"64\" sprite-image-height=\"64\" id=\"facets_dive_aed39360dad72aa37c61ea092d777cf5\" height=\"600\"></facets-dive>\n",
              "                <script>\n",
              "                  document.getElementById(\"facets_dive_aed39360dad72aa37c61ea092d777cf5\").data = [{&quot;pc4.0&quot;:&quot;A&quot;,&quot;pc4.1&quot;:[10,40],&quot;event_time&quot;:&quot;1970-01-01 00:00:59.999000+0000&quot;,&quot;windows&quot;:&quot;1970-01-01 00:00:00.000000+0000 (1m )&quot;,&quot;pane_info&quot;:&quot;Pane 0&quot;},{&quot;pc4.0&quot;:&quot;A&quot;,&quot;pc4.1&quot;:[70,100],&quot;event_time&quot;:&quot;1970-01-01 00:01:59.999000+0000&quot;,&quot;windows&quot;:&quot;1970-01-01 00:01:00.000000+0000 (1m )&quot;,&quot;pane_info&quot;:&quot;Pane 0&quot;},{&quot;pc4.0&quot;:&quot;A&quot;,&quot;pc4.1&quot;:[160],&quot;event_time&quot;:&quot;1970-01-01 00:02:59.999000+0000&quot;,&quot;windows&quot;:&quot;1970-01-01 00:02:00.000000+0000 (1m )&quot;,&quot;pane_info&quot;:&quot;Pane 0&quot;},{&quot;pc4.0&quot;:&quot;B&quot;,&quot;pc4.1&quot;:[20,50],&quot;event_time&quot;:&quot;1970-01-01 00:00:59.999000+0000&quot;,&quot;windows&quot;:&quot;1970-01-01 00:00:00.000000+0000 (1m )&quot;,&quot;pane_info&quot;:&quot;Pane 0&quot;},{&quot;pc4.0&quot;:&quot;B&quot;,&quot;pc4.1&quot;:[80,110],&quot;event_time&quot;:&quot;1970-01-01 00:01:59.999000+0000&quot;,&quot;windows&quot;:&quot;1970-01-01 00:01:00.000000+0000 (1m )&quot;,&quot;pane_info&quot;:&quot;Pane 0&quot;},{&quot;pc4.0&quot;:&quot;C&quot;,&quot;pc4.1&quot;:[30],&quot;event_time&quot;:&quot;1970-01-01 00:00:59.999000+0000&quot;,&quot;windows&quot;:&quot;1970-01-01 00:00:00.000000+0000 (1m )&quot;,&quot;pane_info&quot;:&quot;Pane 0&quot;},{&quot;pc4.0&quot;:&quot;C&quot;,&quot;pc4.1&quot;:[60,90],&quot;event_time&quot;:&quot;1970-01-01 00:01:59.999000+0000&quot;,&quot;windows&quot;:&quot;1970-01-01 00:01:00.000000+0000 (1m )&quot;,&quot;pane_info&quot;:&quot;Pane 0&quot;},{&quot;pc4.0&quot;:&quot;C&quot;,&quot;pc4.1&quot;:[120],&quot;event_time&quot;:&quot;1970-01-01 00:02:59.999000+0000&quot;,&quot;windows&quot;:&quot;1970-01-01 00:02:00.000000+0000 (1m )&quot;,&quot;pane_info&quot;:&quot;Pane 0&quot;}];\n",
              "                </script>\n",
              "              '>\n",
              "            </iframe>"
            ]
          },
          "metadata": {}
        },
        {
          "output_type": "stream",
          "name": "stderr",
          "text": [
            "/usr/local/lib/python3.9/dist-packages/numpy/lib/function_base.py:2336: VisibleDeprecationWarning: Creating an ndarray from ragged nested sequences (which is a list-or-tuple of lists-or-tuples-or ndarrays with different lengths or shapes) is deprecated. If you meant to do this, you must specify 'dtype=object' when creating the ndarray.\n",
            "  args = [asarray(arg) for arg in args]\n",
            "/usr/local/lib/python3.9/dist-packages/numpy/lib/arraysetops.py:270: VisibleDeprecationWarning: Creating an ndarray from ragged nested sequences (which is a list-or-tuple of lists-or-tuples-or ndarrays with different lengths or shapes) is deprecated. If you meant to do this, you must specify 'dtype=object' when creating the ndarray.\n",
            "  ar = np.asanyarray(ar)\n"
          ]
        },
        {
          "output_type": "display_data",
          "data": {
            "application/javascript": [
              "\n",
              "        if (typeof window.interactive_beam_jquery == 'undefined') {\n",
              "          var jqueryScript = document.createElement('script');\n",
              "          jqueryScript.src = 'https://code.jquery.com/jquery-3.4.1.slim.min.js';\n",
              "          jqueryScript.type = 'text/javascript';\n",
              "          jqueryScript.onload = function() {\n",
              "            var datatableScript = document.createElement('script');\n",
              "            datatableScript.src = 'https://cdn.datatables.net/1.10.20/js/jquery.dataTables.min.js';\n",
              "            datatableScript.type = 'text/javascript';\n",
              "            datatableScript.onload = function() {\n",
              "              window.interactive_beam_jquery = jQuery.noConflict(true);\n",
              "              window.interactive_beam_jquery(document).ready(function($){\n",
              "                \n",
              "            $(\"#progress_indicator_4bb5a1d152774132a4f737d8d1489db7\").remove();\n",
              "              });\n",
              "            }\n",
              "            document.head.appendChild(datatableScript);\n",
              "          };\n",
              "          document.head.appendChild(jqueryScript);\n",
              "        } else {\n",
              "          window.interactive_beam_jquery(document).ready(function($){\n",
              "            \n",
              "            $(\"#progress_indicator_4bb5a1d152774132a4f737d8d1489db7\").remove();\n",
              "          });\n",
              "        }"
            ]
          },
          "metadata": {}
        },
        {
          "output_type": "error",
          "ename": "TypeError",
          "evalue": "ignored",
          "traceback": [
            "\u001b[0;31m---------------------------------------------------------------------------\u001b[0m",
            "\u001b[0;31mTypeError\u001b[0m                                 Traceback (most recent call last)",
            "Cell \u001b[0;32mIn[35], line 1\u001b[0m\n\u001b[0;32m----> 1\u001b[0m \u001b[43mib\u001b[49m\u001b[38;5;241;43m.\u001b[39;49m\u001b[43mshow\u001b[49m\u001b[43m(\u001b[49m\u001b[43mpc4\u001b[49m\u001b[43m,\u001b[49m\u001b[43m \u001b[49m\u001b[43minclude_window_info\u001b[49m\u001b[38;5;241;43m=\u001b[39;49m\u001b[38;5;28;43;01mTrue\u001b[39;49;00m\u001b[43m,\u001b[49m\u001b[43m \u001b[49m\u001b[43mvisualize_data\u001b[49m\u001b[38;5;241;43m=\u001b[39;49m\u001b[38;5;28;43;01mTrue\u001b[39;49;00m\u001b[43m)\u001b[49m\n",
            "File \u001b[0;32m/usr/local/lib/python3.9/dist-packages/apache_beam/runners/interactive/utils.py:278\u001b[0m, in \u001b[0;36mprogress_indicated.<locals>.run_within_progress_indicator\u001b[0;34m(*args, **kwargs)\u001b[0m\n\u001b[1;32m    275\u001b[0m \u001b[38;5;129m@functools\u001b[39m\u001b[38;5;241m.\u001b[39mwraps(func)\n\u001b[1;32m    276\u001b[0m \u001b[38;5;28;01mdef\u001b[39;00m \u001b[38;5;21mrun_within_progress_indicator\u001b[39m(\u001b[38;5;241m*\u001b[39margs, \u001b[38;5;241m*\u001b[39m\u001b[38;5;241m*\u001b[39mkwargs):\n\u001b[1;32m    277\u001b[0m   \u001b[38;5;28;01mwith\u001b[39;00m ProgressIndicator(\u001b[38;5;124mf\u001b[39m\u001b[38;5;124m'\u001b[39m\u001b[38;5;124mProcessing... \u001b[39m\u001b[38;5;132;01m{\u001b[39;00mfunc\u001b[38;5;241m.\u001b[39m\u001b[38;5;18m__name__\u001b[39m\u001b[38;5;132;01m}\u001b[39;00m\u001b[38;5;124m'\u001b[39m, \u001b[38;5;124m'\u001b[39m\u001b[38;5;124mDone.\u001b[39m\u001b[38;5;124m'\u001b[39m):\n\u001b[0;32m--> 278\u001b[0m     \u001b[38;5;28;01mreturn\u001b[39;00m \u001b[43mfunc\u001b[49m\u001b[43m(\u001b[49m\u001b[38;5;241;43m*\u001b[39;49m\u001b[43margs\u001b[49m\u001b[43m,\u001b[49m\u001b[43m \u001b[49m\u001b[38;5;241;43m*\u001b[39;49m\u001b[38;5;241;43m*\u001b[39;49m\u001b[43mkwargs\u001b[49m\u001b[43m)\u001b[49m\n",
            "File \u001b[0;32m/usr/local/lib/python3.9/dist-packages/apache_beam/runners/interactive/interactive_beam.py:826\u001b[0m, in \u001b[0;36mshow\u001b[0;34m(include_window_info, visualize_data, n, duration, *pcolls)\u001b[0m\n\u001b[1;32m    821\u001b[0m previously_computed_pcolls \u001b[38;5;241m=\u001b[39m {\n\u001b[1;32m    822\u001b[0m     pcoll\n\u001b[1;32m    823\u001b[0m     \u001b[38;5;28;01mfor\u001b[39;00m pcoll \u001b[38;5;129;01min\u001b[39;00m pcolls \u001b[38;5;28;01mif\u001b[39;00m pcoll \u001b[38;5;129;01min\u001b[39;00m ie\u001b[38;5;241m.\u001b[39mcurrent_env()\u001b[38;5;241m.\u001b[39mcomputed_pcollections\n\u001b[1;32m    824\u001b[0m }\n\u001b[1;32m    825\u001b[0m \u001b[38;5;28;01mfor\u001b[39;00m pcoll \u001b[38;5;129;01min\u001b[39;00m previously_computed_pcolls:\n\u001b[0;32m--> 826\u001b[0m   \u001b[43mvisualize_computed_pcoll\u001b[49m\u001b[43m(\u001b[49m\n\u001b[1;32m    827\u001b[0m \u001b[43m      \u001b[49m\u001b[43mfind_pcoll_name\u001b[49m\u001b[43m(\u001b[49m\u001b[43mpcoll\u001b[49m\u001b[43m)\u001b[49m\u001b[43m,\u001b[49m\n\u001b[1;32m    828\u001b[0m \u001b[43m      \u001b[49m\u001b[43mpcoll\u001b[49m\u001b[43m,\u001b[49m\n\u001b[1;32m    829\u001b[0m \u001b[43m      \u001b[49m\u001b[43mn\u001b[49m\u001b[43m,\u001b[49m\n\u001b[1;32m    830\u001b[0m \u001b[43m      \u001b[49m\u001b[43mduration\u001b[49m\u001b[43m,\u001b[49m\n\u001b[1;32m    831\u001b[0m \u001b[43m      \u001b[49m\u001b[43minclude_window_info\u001b[49m\u001b[38;5;241;43m=\u001b[39;49m\u001b[43minclude_window_info\u001b[49m\u001b[43m,\u001b[49m\n\u001b[1;32m    832\u001b[0m \u001b[43m      \u001b[49m\u001b[43mdisplay_facets\u001b[49m\u001b[38;5;241;43m=\u001b[39;49m\u001b[43mvisualize_data\u001b[49m\u001b[43m)\u001b[49m\n\u001b[1;32m    833\u001b[0m pcolls \u001b[38;5;241m=\u001b[39m pcolls \u001b[38;5;241m-\u001b[39m previously_computed_pcolls\n\u001b[1;32m    835\u001b[0m recording_manager \u001b[38;5;241m=\u001b[39m ie\u001b[38;5;241m.\u001b[39mcurrent_env()\u001b[38;5;241m.\u001b[39mget_recording_manager(\n\u001b[1;32m    836\u001b[0m     user_pipeline, create_if_absent\u001b[38;5;241m=\u001b[39m\u001b[38;5;28;01mTrue\u001b[39;00m)\n",
            "File \u001b[0;32m/usr/local/lib/python3.9/dist-packages/apache_beam/runners/interactive/display/pcoll_visualization.py:272\u001b[0m, in \u001b[0;36mvisualize_computed_pcoll\u001b[0;34m(pcoll_name, pcoll, max_n, max_duration_secs, dynamic_plotting_interval, include_window_info, display_facets)\u001b[0m\n\u001b[1;32m    269\u001b[0m stream \u001b[38;5;241m=\u001b[39m rm\u001b[38;5;241m.\u001b[39mread(\n\u001b[1;32m    270\u001b[0m     pcoll_name, pcoll, max_n\u001b[38;5;241m=\u001b[39mmax_n, max_duration_secs\u001b[38;5;241m=\u001b[39mmax_duration_secs)\n\u001b[1;32m    271\u001b[0m \u001b[38;5;28;01mif\u001b[39;00m stream:\n\u001b[0;32m--> 272\u001b[0m   \u001b[43mvisualize\u001b[49m\u001b[43m(\u001b[49m\n\u001b[1;32m    273\u001b[0m \u001b[43m      \u001b[49m\u001b[43mstream\u001b[49m\u001b[43m,\u001b[49m\n\u001b[1;32m    274\u001b[0m \u001b[43m      \u001b[49m\u001b[43mdynamic_plotting_interval\u001b[49m\u001b[38;5;241;43m=\u001b[39;49m\u001b[43mdynamic_plotting_interval\u001b[49m\u001b[43m,\u001b[49m\n\u001b[1;32m    275\u001b[0m \u001b[43m      \u001b[49m\u001b[43minclude_window_info\u001b[49m\u001b[38;5;241;43m=\u001b[39;49m\u001b[43minclude_window_info\u001b[49m\u001b[43m,\u001b[49m\n\u001b[1;32m    276\u001b[0m \u001b[43m      \u001b[49m\u001b[43mdisplay_facets\u001b[49m\u001b[38;5;241;43m=\u001b[39;49m\u001b[43mdisplay_facets\u001b[49m\u001b[43m,\u001b[49m\n\u001b[1;32m    277\u001b[0m \u001b[43m      \u001b[49m\u001b[43melement_type\u001b[49m\u001b[38;5;241;43m=\u001b[39;49m\u001b[43mpcoll\u001b[49m\u001b[38;5;241;43m.\u001b[39;49m\u001b[43melement_type\u001b[49m\u001b[43m)\u001b[49m\n",
            "File \u001b[0;32m/usr/local/lib/python3.9/dist-packages/apache_beam/runners/interactive/display/pcoll_visualization.py:198\u001b[0m, in \u001b[0;36mvisualize\u001b[0;34m(stream, dynamic_plotting_interval, include_window_info, display_facets, element_type)\u001b[0m\n\u001b[1;32m    192\u001b[0m pv \u001b[38;5;241m=\u001b[39m PCollectionVisualization(\n\u001b[1;32m    193\u001b[0m     stream,\n\u001b[1;32m    194\u001b[0m     include_window_info\u001b[38;5;241m=\u001b[39minclude_window_info,\n\u001b[1;32m    195\u001b[0m     display_facets\u001b[38;5;241m=\u001b[39mdisplay_facets,\n\u001b[1;32m    196\u001b[0m     element_type\u001b[38;5;241m=\u001b[39melement_type)\n\u001b[1;32m    197\u001b[0m \u001b[38;5;28;01mif\u001b[39;00m ie\u001b[38;5;241m.\u001b[39mcurrent_env()\u001b[38;5;241m.\u001b[39mis_in_notebook:\n\u001b[0;32m--> 198\u001b[0m   \u001b[43mpv\u001b[49m\u001b[38;5;241;43m.\u001b[39;49m\u001b[43mdisplay\u001b[49m\u001b[43m(\u001b[49m\u001b[43m)\u001b[49m\n\u001b[1;32m    199\u001b[0m \u001b[38;5;28;01melse\u001b[39;00m:\n\u001b[1;32m    200\u001b[0m   pv\u001b[38;5;241m.\u001b[39mdisplay_plain_text()\n",
            "File \u001b[0;32m/usr/local/lib/python3.9/dist-packages/apache_beam/runners/interactive/display/pcoll_visualization.py:368\u001b[0m, in \u001b[0;36mPCollectionVisualization.display\u001b[0;34m(self, updating_pv)\u001b[0m\n\u001b[1;32m    366\u001b[0m \u001b[38;5;28;01mif\u001b[39;00m \u001b[38;5;28mself\u001b[39m\u001b[38;5;241m.\u001b[39m_display_facets:\n\u001b[1;32m    367\u001b[0m   \u001b[38;5;28mself\u001b[39m\u001b[38;5;241m.\u001b[39m_display_dive(data\u001b[38;5;241m.\u001b[39mcopy(deep\u001b[38;5;241m=\u001b[39m\u001b[38;5;28;01mTrue\u001b[39;00m))\n\u001b[0;32m--> 368\u001b[0m   \u001b[38;5;28;43mself\u001b[39;49m\u001b[38;5;241;43m.\u001b[39;49m\u001b[43m_display_overview\u001b[49m\u001b[43m(\u001b[49m\u001b[43mdata\u001b[49m\u001b[38;5;241;43m.\u001b[39;49m\u001b[43mcopy\u001b[49m\u001b[43m(\u001b[49m\u001b[43mdeep\u001b[49m\u001b[38;5;241;43m=\u001b[39;49m\u001b[38;5;28;43;01mTrue\u001b[39;49;00m\u001b[43m)\u001b[49m\u001b[43m)\u001b[49m\n",
            "File \u001b[0;32m/usr/local/lib/python3.9/dist-packages/apache_beam/runners/interactive/display/pcoll_visualization.py:395\u001b[0m, in \u001b[0;36mPCollectionVisualization._display_overview\u001b[0;34m(self, data, update)\u001b[0m\n\u001b[1;32m    392\u001b[0m data\u001b[38;5;241m.\u001b[39mcolumns \u001b[38;5;241m=\u001b[39m data\u001b[38;5;241m.\u001b[39mcolumns\u001b[38;5;241m.\u001b[39mastype(\u001b[38;5;28mstr\u001b[39m)\n\u001b[1;32m    394\u001b[0m gfsg \u001b[38;5;241m=\u001b[39m GenericFeatureStatisticsGenerator()\n\u001b[0;32m--> 395\u001b[0m proto \u001b[38;5;241m=\u001b[39m \u001b[43mgfsg\u001b[49m\u001b[38;5;241;43m.\u001b[39;49m\u001b[43mProtoFromDataFrames\u001b[49m\u001b[43m(\u001b[49m\u001b[43m[\u001b[49m\u001b[43m{\u001b[49m\u001b[38;5;124;43m'\u001b[39;49m\u001b[38;5;124;43mname\u001b[39;49m\u001b[38;5;124;43m'\u001b[39;49m\u001b[43m:\u001b[49m\u001b[43m \u001b[49m\u001b[38;5;124;43m'\u001b[39;49m\u001b[38;5;124;43mdata\u001b[39;49m\u001b[38;5;124;43m'\u001b[39;49m\u001b[43m,\u001b[49m\u001b[43m \u001b[49m\u001b[38;5;124;43m'\u001b[39;49m\u001b[38;5;124;43mtable\u001b[39;49m\u001b[38;5;124;43m'\u001b[39;49m\u001b[43m:\u001b[49m\u001b[43m \u001b[49m\u001b[43mdata\u001b[49m\u001b[43m}\u001b[49m\u001b[43m]\u001b[49m\u001b[43m)\u001b[49m\n\u001b[1;32m    396\u001b[0m protostr \u001b[38;5;241m=\u001b[39m base64\u001b[38;5;241m.\u001b[39mb64encode(proto\u001b[38;5;241m.\u001b[39mSerializeToString())\u001b[38;5;241m.\u001b[39mdecode(\u001b[38;5;124m'\u001b[39m\u001b[38;5;124mutf-8\u001b[39m\u001b[38;5;124m'\u001b[39m)\n\u001b[1;32m    397\u001b[0m \u001b[38;5;28;01mif\u001b[39;00m update:\n",
            "File \u001b[0;32m/usr/local/lib/python3.9/dist-packages/facets_overview/base_generic_feature_statistics_generator.py:60\u001b[0m, in \u001b[0;36mBaseGenericFeatureStatisticsGenerator.ProtoFromDataFrames\u001b[0;34m(self, dataframes, histogram_categorical_levels_count)\u001b[0m\n\u001b[1;32m     54\u001b[0m     table_entries[col] \u001b[38;5;241m=\u001b[39m \u001b[38;5;28mself\u001b[39m\u001b[38;5;241m.\u001b[39mNdarrayToEntry(table[col])\n\u001b[1;32m     55\u001b[0m   datasets\u001b[38;5;241m.\u001b[39mappend({\n\u001b[1;32m     56\u001b[0m       \u001b[38;5;124m'\u001b[39m\u001b[38;5;124mentries\u001b[39m\u001b[38;5;124m'\u001b[39m: table_entries,\n\u001b[1;32m     57\u001b[0m       \u001b[38;5;124m'\u001b[39m\u001b[38;5;124msize\u001b[39m\u001b[38;5;124m'\u001b[39m: \u001b[38;5;28mlen\u001b[39m(table),\n\u001b[1;32m     58\u001b[0m       \u001b[38;5;124m'\u001b[39m\u001b[38;5;124mname\u001b[39m\u001b[38;5;124m'\u001b[39m: dataframe[\u001b[38;5;124m'\u001b[39m\u001b[38;5;124mname\u001b[39m\u001b[38;5;124m'\u001b[39m]\n\u001b[1;32m     59\u001b[0m   })\n\u001b[0;32m---> 60\u001b[0m \u001b[38;5;28;01mreturn\u001b[39;00m \u001b[38;5;28;43mself\u001b[39;49m\u001b[38;5;241;43m.\u001b[39;49m\u001b[43mGetDatasetsProto\u001b[49m\u001b[43m(\u001b[49m\n\u001b[1;32m     61\u001b[0m \u001b[43m  \u001b[49m\u001b[43mdatasets\u001b[49m\u001b[43m,\u001b[49m\n\u001b[1;32m     62\u001b[0m \u001b[43m  \u001b[49m\u001b[43mhistogram_categorical_levels_count\u001b[49m\u001b[38;5;241;43m=\u001b[39;49m\u001b[43mhistogram_categorical_levels_count\u001b[49m\u001b[43m)\u001b[49m\n",
            "File \u001b[0;32m/usr/local/lib/python3.9/dist-packages/facets_overview/base_generic_feature_statistics_generator.py:281\u001b[0m, in \u001b[0;36mBaseGenericFeatureStatisticsGenerator.GetDatasetsProto\u001b[0;34m(self, datasets, features, histogram_categorical_levels_count)\u001b[0m\n\u001b[1;32m    279\u001b[0m \u001b[38;5;28;01mexcept\u001b[39;00m (\u001b[38;5;167;01mUnicodeDecodeError\u001b[39;00m, \u001b[38;5;167;01mUnicodeEncodeError\u001b[39;00m):\n\u001b[1;32m    280\u001b[0m   printable_val \u001b[38;5;241m=\u001b[39m \u001b[38;5;124m'\u001b[39m\u001b[38;5;124m__BYTES_VALUE__\u001b[39m\u001b[38;5;124m'\u001b[39m\n\u001b[0;32m--> 281\u001b[0m bucket \u001b[38;5;241m=\u001b[39m \u001b[43mfeatstats\u001b[49m\u001b[38;5;241;43m.\u001b[39;49m\u001b[43mrank_histogram\u001b[49m\u001b[38;5;241;43m.\u001b[39;49m\u001b[43mbuckets\u001b[49m\u001b[38;5;241;43m.\u001b[39;49m\u001b[43madd\u001b[49m\u001b[43m(\u001b[49m\n\u001b[1;32m    282\u001b[0m \u001b[43m    \u001b[49m\u001b[43mlow_rank\u001b[49m\u001b[38;5;241;43m=\u001b[39;49m\u001b[43mval_index\u001b[49m\u001b[43m,\u001b[49m\n\u001b[1;32m    283\u001b[0m \u001b[43m    \u001b[49m\u001b[43mhigh_rank\u001b[49m\u001b[38;5;241;43m=\u001b[39;49m\u001b[43mval_index\u001b[49m\u001b[43m,\u001b[49m\n\u001b[1;32m    284\u001b[0m \u001b[43m    \u001b[49m\u001b[43msample_count\u001b[49m\u001b[38;5;241;43m=\u001b[39;49m\u001b[43mval\u001b[49m\u001b[43m[\u001b[49m\u001b[38;5;241;43m0\u001b[39;49m\u001b[43m]\u001b[49m\u001b[38;5;241;43m.\u001b[39;49m\u001b[43mitem\u001b[49m\u001b[43m(\u001b[49m\u001b[43m)\u001b[49m\u001b[43m,\u001b[49m\n\u001b[1;32m    285\u001b[0m \u001b[43m    \u001b[49m\u001b[43mlabel\u001b[49m\u001b[38;5;241;43m=\u001b[39;49m\u001b[43mprintable_val\u001b[49m\u001b[43m)\u001b[49m\n\u001b[1;32m    286\u001b[0m \u001b[38;5;28;01mif\u001b[39;00m val_index \u001b[38;5;241m<\u001b[39m \u001b[38;5;241m2\u001b[39m:\n\u001b[1;32m    287\u001b[0m   featstats\u001b[38;5;241m.\u001b[39mtop_values\u001b[38;5;241m.\u001b[39madd(\n\u001b[1;32m    288\u001b[0m       value\u001b[38;5;241m=\u001b[39mbucket\u001b[38;5;241m.\u001b[39mlabel, frequency\u001b[38;5;241m=\u001b[39mbucket\u001b[38;5;241m.\u001b[39msample_count)\n",
            "\u001b[0;31mTypeError\u001b[0m: [160] has type list, but expected one of: bytes, unicode"
          ]
        }
      ]
    },
    {
      "cell_type": "code",
      "source": [
        "with beam.Pipeline(InteractiveRunner()) as p:\n",
        "  pc5 = ( p\n",
        "    | beam.Create(b)\n",
        "    | beam.Map(lambda x: beam.window.TimestampedValue(x,int(x[1])))\n",
        "    | beam.WindowInto(beam.window.SlidingWindows(60,30))\n",
        "    | beam.GroupByKey()\n",
        ")"
      ],
      "metadata": {
        "id": "fHNhILkIvWr-"
      },
      "execution_count": 36,
      "outputs": []
    },
    {
      "cell_type": "code",
      "source": [
        "ib.show(pc5, include_window_info=True, visualize_data=True)"
      ],
      "metadata": {
        "colab": {
          "base_uri": "https://localhost:8080/",
          "height": 1000
        },
        "id": "j-U-k0ZbwywX",
        "outputId": "b1dfdffd-05d5-40d0-e31b-be0e49bdd1f3"
      },
      "execution_count": 37,
      "outputs": [
        {
          "output_type": "display_data",
          "data": {
            "text/plain": [
              "<IPython.core.display.HTML object>"
            ],
            "text/html": [
              "\n",
              "            <link rel=\"stylesheet\" href=\"https://stackpath.bootstrapcdn.com/bootstrap/4.4.1/css/bootstrap.min.css\" integrity=\"sha384-Vkoo8x4CGsO3+Hhxv8T/Q5PaXtkKtu6ug5TOeNV6gBiFeWPGFN9MuhOf23Q9Ifjh\" crossorigin=\"anonymous\">\n",
              "            <div id=\"progress_indicator_fae73d86524fbda210d4b45a5945eed9\">\n",
              "              <div class=\"spinner-border text-info\" role=\"status\"></div>\n",
              "              <span class=\"text-info\">Processing... show</span>\n",
              "            </div>\n",
              "            "
            ]
          },
          "metadata": {}
        },
        {
          "output_type": "display_data",
          "data": {
            "text/plain": [
              "<IPython.core.display.HTML object>"
            ],
            "text/html": [
              "\n",
              "            <style>\n",
              "            .p-Widget.jp-OutputPrompt.jp-OutputArea-prompt:empty {\n",
              "              padding: 0;\n",
              "              border: 0;\n",
              "            }\n",
              "            .p-Widget.jp-RenderedJavaScript.jp-mod-trusted.jp-OutputArea-output:empty {\n",
              "              padding: 0;\n",
              "              border: 0;\n",
              "            }\n",
              "            </style>\n",
              "            <link rel=\"stylesheet\" href=\"https://cdn.datatables.net/1.10.20/css/jquery.dataTables.min.css\">\n",
              "            <table id=\"table_df_e9bd441b2e76a8546d5fef1cd2dc487f\" class=\"display\" style=\"display:block\"></table>\n",
              "            <script>\n",
              "              \n",
              "        if (typeof window.interactive_beam_jquery == 'undefined') {\n",
              "          var jqueryScript = document.createElement('script');\n",
              "          jqueryScript.src = 'https://code.jquery.com/jquery-3.4.1.slim.min.js';\n",
              "          jqueryScript.type = 'text/javascript';\n",
              "          jqueryScript.onload = function() {\n",
              "            var datatableScript = document.createElement('script');\n",
              "            datatableScript.src = 'https://cdn.datatables.net/1.10.20/js/jquery.dataTables.min.js';\n",
              "            datatableScript.type = 'text/javascript';\n",
              "            datatableScript.onload = function() {\n",
              "              window.interactive_beam_jquery = jQuery.noConflict(true);\n",
              "              window.interactive_beam_jquery(document).ready(function($){\n",
              "                \n",
              "            var dt;\n",
              "            if ($.fn.dataTable.isDataTable(\"#table_df_e9bd441b2e76a8546d5fef1cd2dc487f\")) {\n",
              "              dt = $(\"#table_df_e9bd441b2e76a8546d5fef1cd2dc487f\").dataTable();\n",
              "            } else if ($(\"#table_df_e9bd441b2e76a8546d5fef1cd2dc487f_wrapper\").length == 0) {\n",
              "              dt = $(\"#table_df_e9bd441b2e76a8546d5fef1cd2dc487f\").dataTable({\n",
              "                \n",
              "            bAutoWidth: false,\n",
              "            columns: [{'title': ''}, {'title': 'pc5.0'}, {'title': 'pc5.1'}, {'title': 'event_time'}, {'title': 'windows'}, {'title': 'pane_info'}],\n",
              "            destroy: true,\n",
              "            responsive: true,\n",
              "            columnDefs: [\n",
              "              {\n",
              "                targets: \"_all\",\n",
              "                className: \"dt-left\"\n",
              "              },\n",
              "              {\n",
              "                \"targets\": 0,\n",
              "                \"width\": \"10px\",\n",
              "                \"title\": \"\"\n",
              "              }\n",
              "            ]\n",
              "              });\n",
              "            } else {\n",
              "              return;\n",
              "            }\n",
              "            dt.api()\n",
              "              .clear()\n",
              "              .rows.add([{1: 'A', 2: '[10, 40]', 3: '1970-01-01 00:00:59.999000+0000', 4: '1970-01-01 00:00:00.000000+0000 (1m )', 5: 'Pane 0', 0: 0}, {1: 'A', 2: '[10]', 3: '1970-01-01 00:00:29.999000+0000', 4: '1969-12-31 23:59:30.000000+0000 (1m )', 5: 'Pane 0', 0: 1}, {1: 'A', 2: '[40, 70]', 3: '1970-01-01 00:01:29.999000+0000', 4: '1970-01-01 00:00:30.000000+0000 (1m )', 5: 'Pane 0', 0: 2}, {1: 'A', 2: '[70, 100]', 3: '1970-01-01 00:01:59.999000+0000', 4: '1970-01-01 00:01:00.000000+0000 (1m )', 5: 'Pane 0', 0: 3}, {1: 'A', 2: '[100]', 3: '1970-01-01 00:02:29.999000+0000', 4: '1970-01-01 00:01:30.000000+0000 (1m )', 5: 'Pane 0', 0: 4}, {1: 'A', 2: '[160]', 3: '1970-01-01 00:03:29.999000+0000', 4: '1970-01-01 00:02:30.000000+0000 (1m )', 5: 'Pane 0', 0: 5}, {1: 'A', 2: '[160]', 3: '1970-01-01 00:02:59.999000+0000', 4: '1970-01-01 00:02:00.000000+0000 (1m )', 5: 'Pane 0', 0: 6}, {1: 'B', 2: '[20, 50]', 3: '1970-01-01 00:00:59.999000+0000', 4: '1970-01-01 00:00:00.000000+0000 (1m )', 5: 'Pane 0', 0: 7}, {1: 'B', 2: '[20]', 3: '1970-01-01 00:00:29.999000+0000', 4: '1969-12-31 23:59:30.000000+0000 (1m )', 5: 'Pane 0', 0: 8}, {1: 'B', 2: '[50, 80]', 3: '1970-01-01 00:01:29.999000+0000', 4: '1970-01-01 00:00:30.000000+0000 (1m )', 5: 'Pane 0', 0: 9}, {1: 'B', 2: '[80, 110]', 3: '1970-01-01 00:01:59.999000+0000', 4: '1970-01-01 00:01:00.000000+0000 (1m )', 5: 'Pane 0', 0: 10}, {1: 'B', 2: '[110]', 3: '1970-01-01 00:02:29.999000+0000', 4: '1970-01-01 00:01:30.000000+0000 (1m )', 5: 'Pane 0', 0: 11}, {1: 'C', 2: '[30, 60]', 3: '1970-01-01 00:01:29.999000+0000', 4: '1970-01-01 00:00:30.000000+0000 (1m )', 5: 'Pane 0', 0: 12}, {1: 'C', 2: '[30]', 3: '1970-01-01 00:00:59.999000+0000', 4: '1970-01-01 00:00:00.000000+0000 (1m )', 5: 'Pane 0', 0: 13}, {1: 'C', 2: '[60, 90]', 3: '1970-01-01 00:01:59.999000+0000', 4: '1970-01-01 00:01:00.000000+0000 (1m )', 5: 'Pane 0', 0: 14}, {1: 'C', 2: '[90, 120]', 3: '1970-01-01 00:02:29.999000+0000', 4: '1970-01-01 00:01:30.000000+0000 (1m )', 5: 'Pane 0', 0: 15}, {1: 'C', 2: '[120]', 3: '1970-01-01 00:02:59.999000+0000', 4: '1970-01-01 00:02:00.000000+0000 (1m )', 5: 'Pane 0', 0: 16}])\n",
              "              .draw('full-hold');\n",
              "              });\n",
              "            }\n",
              "            document.head.appendChild(datatableScript);\n",
              "          };\n",
              "          document.head.appendChild(jqueryScript);\n",
              "        } else {\n",
              "          window.interactive_beam_jquery(document).ready(function($){\n",
              "            \n",
              "            var dt;\n",
              "            if ($.fn.dataTable.isDataTable(\"#table_df_e9bd441b2e76a8546d5fef1cd2dc487f\")) {\n",
              "              dt = $(\"#table_df_e9bd441b2e76a8546d5fef1cd2dc487f\").dataTable();\n",
              "            } else if ($(\"#table_df_e9bd441b2e76a8546d5fef1cd2dc487f_wrapper\").length == 0) {\n",
              "              dt = $(\"#table_df_e9bd441b2e76a8546d5fef1cd2dc487f\").dataTable({\n",
              "                \n",
              "            bAutoWidth: false,\n",
              "            columns: [{'title': ''}, {'title': 'pc5.0'}, {'title': 'pc5.1'}, {'title': 'event_time'}, {'title': 'windows'}, {'title': 'pane_info'}],\n",
              "            destroy: true,\n",
              "            responsive: true,\n",
              "            columnDefs: [\n",
              "              {\n",
              "                targets: \"_all\",\n",
              "                className: \"dt-left\"\n",
              "              },\n",
              "              {\n",
              "                \"targets\": 0,\n",
              "                \"width\": \"10px\",\n",
              "                \"title\": \"\"\n",
              "              }\n",
              "            ]\n",
              "              });\n",
              "            } else {\n",
              "              return;\n",
              "            }\n",
              "            dt.api()\n",
              "              .clear()\n",
              "              .rows.add([{1: 'A', 2: '[10, 40]', 3: '1970-01-01 00:00:59.999000+0000', 4: '1970-01-01 00:00:00.000000+0000 (1m )', 5: 'Pane 0', 0: 0}, {1: 'A', 2: '[10]', 3: '1970-01-01 00:00:29.999000+0000', 4: '1969-12-31 23:59:30.000000+0000 (1m )', 5: 'Pane 0', 0: 1}, {1: 'A', 2: '[40, 70]', 3: '1970-01-01 00:01:29.999000+0000', 4: '1970-01-01 00:00:30.000000+0000 (1m )', 5: 'Pane 0', 0: 2}, {1: 'A', 2: '[70, 100]', 3: '1970-01-01 00:01:59.999000+0000', 4: '1970-01-01 00:01:00.000000+0000 (1m )', 5: 'Pane 0', 0: 3}, {1: 'A', 2: '[100]', 3: '1970-01-01 00:02:29.999000+0000', 4: '1970-01-01 00:01:30.000000+0000 (1m )', 5: 'Pane 0', 0: 4}, {1: 'A', 2: '[160]', 3: '1970-01-01 00:03:29.999000+0000', 4: '1970-01-01 00:02:30.000000+0000 (1m )', 5: 'Pane 0', 0: 5}, {1: 'A', 2: '[160]', 3: '1970-01-01 00:02:59.999000+0000', 4: '1970-01-01 00:02:00.000000+0000 (1m )', 5: 'Pane 0', 0: 6}, {1: 'B', 2: '[20, 50]', 3: '1970-01-01 00:00:59.999000+0000', 4: '1970-01-01 00:00:00.000000+0000 (1m )', 5: 'Pane 0', 0: 7}, {1: 'B', 2: '[20]', 3: '1970-01-01 00:00:29.999000+0000', 4: '1969-12-31 23:59:30.000000+0000 (1m )', 5: 'Pane 0', 0: 8}, {1: 'B', 2: '[50, 80]', 3: '1970-01-01 00:01:29.999000+0000', 4: '1970-01-01 00:00:30.000000+0000 (1m )', 5: 'Pane 0', 0: 9}, {1: 'B', 2: '[80, 110]', 3: '1970-01-01 00:01:59.999000+0000', 4: '1970-01-01 00:01:00.000000+0000 (1m )', 5: 'Pane 0', 0: 10}, {1: 'B', 2: '[110]', 3: '1970-01-01 00:02:29.999000+0000', 4: '1970-01-01 00:01:30.000000+0000 (1m )', 5: 'Pane 0', 0: 11}, {1: 'C', 2: '[30, 60]', 3: '1970-01-01 00:01:29.999000+0000', 4: '1970-01-01 00:00:30.000000+0000 (1m )', 5: 'Pane 0', 0: 12}, {1: 'C', 2: '[30]', 3: '1970-01-01 00:00:59.999000+0000', 4: '1970-01-01 00:00:00.000000+0000 (1m )', 5: 'Pane 0', 0: 13}, {1: 'C', 2: '[60, 90]', 3: '1970-01-01 00:01:59.999000+0000', 4: '1970-01-01 00:01:00.000000+0000 (1m )', 5: 'Pane 0', 0: 14}, {1: 'C', 2: '[90, 120]', 3: '1970-01-01 00:02:29.999000+0000', 4: '1970-01-01 00:01:30.000000+0000 (1m )', 5: 'Pane 0', 0: 15}, {1: 'C', 2: '[120]', 3: '1970-01-01 00:02:59.999000+0000', 4: '1970-01-01 00:02:00.000000+0000 (1m )', 5: 'Pane 0', 0: 16}])\n",
              "              .draw('full-hold');\n",
              "          });\n",
              "        }\n",
              "            </script>"
            ]
          },
          "metadata": {}
        },
        {
          "output_type": "display_data",
          "data": {
            "text/plain": [
              "<IPython.core.display.HTML object>"
            ],
            "text/html": [
              "\n",
              "            <style>\n",
              "            .p-Widget.jp-OutputPrompt.jp-OutputArea-prompt:empty {\n",
              "              padding: 0;\n",
              "              border: 0;\n",
              "            }\n",
              "            .p-Widget.jp-RenderedJavaScript.jp-mod-trusted.jp-OutputArea-output:empty {\n",
              "              padding: 0;\n",
              "              border: 0;\n",
              "            }\n",
              "            </style>\n",
              "            <iframe id=facets_dive_e9bd441b2e76a8546d5fef1cd2dc487f style=\"border:none\" width=\"100%\" height=\"600px\"\n",
              "              srcdoc='\n",
              "                <script src=\"https://cdnjs.cloudflare.com/ajax/libs/webcomponentsjs/1.3.3/webcomponents-lite.js\"></script>\n",
              "                <link rel=\"import\" href=\"https://raw.githubusercontent.com/PAIR-code/facets/1.0.0/facets-dist/facets-jupyter.html\">\n",
              "                <facets-dive sprite-image-width=\"64\" sprite-image-height=\"64\" id=\"facets_dive_e9bd441b2e76a8546d5fef1cd2dc487f\" height=\"600\"></facets-dive>\n",
              "                <script>\n",
              "                  document.getElementById(\"facets_dive_e9bd441b2e76a8546d5fef1cd2dc487f\").data = [{&quot;pc5.0&quot;:&quot;A&quot;,&quot;pc5.1&quot;:[10,40],&quot;event_time&quot;:&quot;1970-01-01 00:00:59.999000+0000&quot;,&quot;windows&quot;:&quot;1970-01-01 00:00:00.000000+0000 (1m )&quot;,&quot;pane_info&quot;:&quot;Pane 0&quot;},{&quot;pc5.0&quot;:&quot;A&quot;,&quot;pc5.1&quot;:[10],&quot;event_time&quot;:&quot;1970-01-01 00:00:29.999000+0000&quot;,&quot;windows&quot;:&quot;1969-12-31 23:59:30.000000+0000 (1m )&quot;,&quot;pane_info&quot;:&quot;Pane 0&quot;},{&quot;pc5.0&quot;:&quot;A&quot;,&quot;pc5.1&quot;:[40,70],&quot;event_time&quot;:&quot;1970-01-01 00:01:29.999000+0000&quot;,&quot;windows&quot;:&quot;1970-01-01 00:00:30.000000+0000 (1m )&quot;,&quot;pane_info&quot;:&quot;Pane 0&quot;},{&quot;pc5.0&quot;:&quot;A&quot;,&quot;pc5.1&quot;:[70,100],&quot;event_time&quot;:&quot;1970-01-01 00:01:59.999000+0000&quot;,&quot;windows&quot;:&quot;1970-01-01 00:01:00.000000+0000 (1m )&quot;,&quot;pane_info&quot;:&quot;Pane 0&quot;},{&quot;pc5.0&quot;:&quot;A&quot;,&quot;pc5.1&quot;:[100],&quot;event_time&quot;:&quot;1970-01-01 00:02:29.999000+0000&quot;,&quot;windows&quot;:&quot;1970-01-01 00:01:30.000000+0000 (1m )&quot;,&quot;pane_info&quot;:&quot;Pane 0&quot;},{&quot;pc5.0&quot;:&quot;A&quot;,&quot;pc5.1&quot;:[160],&quot;event_time&quot;:&quot;1970-01-01 00:03:29.999000+0000&quot;,&quot;windows&quot;:&quot;1970-01-01 00:02:30.000000+0000 (1m )&quot;,&quot;pane_info&quot;:&quot;Pane 0&quot;},{&quot;pc5.0&quot;:&quot;A&quot;,&quot;pc5.1&quot;:[160],&quot;event_time&quot;:&quot;1970-01-01 00:02:59.999000+0000&quot;,&quot;windows&quot;:&quot;1970-01-01 00:02:00.000000+0000 (1m )&quot;,&quot;pane_info&quot;:&quot;Pane 0&quot;},{&quot;pc5.0&quot;:&quot;B&quot;,&quot;pc5.1&quot;:[20,50],&quot;event_time&quot;:&quot;1970-01-01 00:00:59.999000+0000&quot;,&quot;windows&quot;:&quot;1970-01-01 00:00:00.000000+0000 (1m )&quot;,&quot;pane_info&quot;:&quot;Pane 0&quot;},{&quot;pc5.0&quot;:&quot;B&quot;,&quot;pc5.1&quot;:[20],&quot;event_time&quot;:&quot;1970-01-01 00:00:29.999000+0000&quot;,&quot;windows&quot;:&quot;1969-12-31 23:59:30.000000+0000 (1m )&quot;,&quot;pane_info&quot;:&quot;Pane 0&quot;},{&quot;pc5.0&quot;:&quot;B&quot;,&quot;pc5.1&quot;:[50,80],&quot;event_time&quot;:&quot;1970-01-01 00:01:29.999000+0000&quot;,&quot;windows&quot;:&quot;1970-01-01 00:00:30.000000+0000 (1m )&quot;,&quot;pane_info&quot;:&quot;Pane 0&quot;},{&quot;pc5.0&quot;:&quot;B&quot;,&quot;pc5.1&quot;:[80,110],&quot;event_time&quot;:&quot;1970-01-01 00:01:59.999000+0000&quot;,&quot;windows&quot;:&quot;1970-01-01 00:01:00.000000+0000 (1m )&quot;,&quot;pane_info&quot;:&quot;Pane 0&quot;},{&quot;pc5.0&quot;:&quot;B&quot;,&quot;pc5.1&quot;:[110],&quot;event_time&quot;:&quot;1970-01-01 00:02:29.999000+0000&quot;,&quot;windows&quot;:&quot;1970-01-01 00:01:30.000000+0000 (1m )&quot;,&quot;pane_info&quot;:&quot;Pane 0&quot;},{&quot;pc5.0&quot;:&quot;C&quot;,&quot;pc5.1&quot;:[30,60],&quot;event_time&quot;:&quot;1970-01-01 00:01:29.999000+0000&quot;,&quot;windows&quot;:&quot;1970-01-01 00:00:30.000000+0000 (1m )&quot;,&quot;pane_info&quot;:&quot;Pane 0&quot;},{&quot;pc5.0&quot;:&quot;C&quot;,&quot;pc5.1&quot;:[30],&quot;event_time&quot;:&quot;1970-01-01 00:00:59.999000+0000&quot;,&quot;windows&quot;:&quot;1970-01-01 00:00:00.000000+0000 (1m )&quot;,&quot;pane_info&quot;:&quot;Pane 0&quot;},{&quot;pc5.0&quot;:&quot;C&quot;,&quot;pc5.1&quot;:[60,90],&quot;event_time&quot;:&quot;1970-01-01 00:01:59.999000+0000&quot;,&quot;windows&quot;:&quot;1970-01-01 00:01:00.000000+0000 (1m )&quot;,&quot;pane_info&quot;:&quot;Pane 0&quot;},{&quot;pc5.0&quot;:&quot;C&quot;,&quot;pc5.1&quot;:[90,120],&quot;event_time&quot;:&quot;1970-01-01 00:02:29.999000+0000&quot;,&quot;windows&quot;:&quot;1970-01-01 00:01:30.000000+0000 (1m )&quot;,&quot;pane_info&quot;:&quot;Pane 0&quot;},{&quot;pc5.0&quot;:&quot;C&quot;,&quot;pc5.1&quot;:[120],&quot;event_time&quot;:&quot;1970-01-01 00:02:59.999000+0000&quot;,&quot;windows&quot;:&quot;1970-01-01 00:02:00.000000+0000 (1m )&quot;,&quot;pane_info&quot;:&quot;Pane 0&quot;}];\n",
              "                </script>\n",
              "              '>\n",
              "            </iframe>"
            ]
          },
          "metadata": {}
        },
        {
          "output_type": "stream",
          "name": "stderr",
          "text": [
            "/usr/local/lib/python3.9/dist-packages/numpy/lib/function_base.py:2336: VisibleDeprecationWarning: Creating an ndarray from ragged nested sequences (which is a list-or-tuple of lists-or-tuples-or ndarrays with different lengths or shapes) is deprecated. If you meant to do this, you must specify 'dtype=object' when creating the ndarray.\n",
            "  args = [asarray(arg) for arg in args]\n",
            "/usr/local/lib/python3.9/dist-packages/numpy/lib/arraysetops.py:270: VisibleDeprecationWarning: Creating an ndarray from ragged nested sequences (which is a list-or-tuple of lists-or-tuples-or ndarrays with different lengths or shapes) is deprecated. If you meant to do this, you must specify 'dtype=object' when creating the ndarray.\n",
            "  ar = np.asanyarray(ar)\n"
          ]
        },
        {
          "output_type": "display_data",
          "data": {
            "application/javascript": [
              "\n",
              "        if (typeof window.interactive_beam_jquery == 'undefined') {\n",
              "          var jqueryScript = document.createElement('script');\n",
              "          jqueryScript.src = 'https://code.jquery.com/jquery-3.4.1.slim.min.js';\n",
              "          jqueryScript.type = 'text/javascript';\n",
              "          jqueryScript.onload = function() {\n",
              "            var datatableScript = document.createElement('script');\n",
              "            datatableScript.src = 'https://cdn.datatables.net/1.10.20/js/jquery.dataTables.min.js';\n",
              "            datatableScript.type = 'text/javascript';\n",
              "            datatableScript.onload = function() {\n",
              "              window.interactive_beam_jquery = jQuery.noConflict(true);\n",
              "              window.interactive_beam_jquery(document).ready(function($){\n",
              "                \n",
              "            $(\"#progress_indicator_fae73d86524fbda210d4b45a5945eed9\").remove();\n",
              "              });\n",
              "            }\n",
              "            document.head.appendChild(datatableScript);\n",
              "          };\n",
              "          document.head.appendChild(jqueryScript);\n",
              "        } else {\n",
              "          window.interactive_beam_jquery(document).ready(function($){\n",
              "            \n",
              "            $(\"#progress_indicator_fae73d86524fbda210d4b45a5945eed9\").remove();\n",
              "          });\n",
              "        }"
            ]
          },
          "metadata": {}
        },
        {
          "output_type": "error",
          "ename": "TypeError",
          "evalue": "ignored",
          "traceback": [
            "\u001b[0;31m---------------------------------------------------------------------------\u001b[0m",
            "\u001b[0;31mTypeError\u001b[0m                                 Traceback (most recent call last)",
            "Cell \u001b[0;32mIn[37], line 1\u001b[0m\n\u001b[0;32m----> 1\u001b[0m \u001b[43mib\u001b[49m\u001b[38;5;241;43m.\u001b[39;49m\u001b[43mshow\u001b[49m\u001b[43m(\u001b[49m\u001b[43mpc5\u001b[49m\u001b[43m,\u001b[49m\u001b[43m \u001b[49m\u001b[43minclude_window_info\u001b[49m\u001b[38;5;241;43m=\u001b[39;49m\u001b[38;5;28;43;01mTrue\u001b[39;49;00m\u001b[43m,\u001b[49m\u001b[43m \u001b[49m\u001b[43mvisualize_data\u001b[49m\u001b[38;5;241;43m=\u001b[39;49m\u001b[38;5;28;43;01mTrue\u001b[39;49;00m\u001b[43m)\u001b[49m\n",
            "File \u001b[0;32m/usr/local/lib/python3.9/dist-packages/apache_beam/runners/interactive/utils.py:278\u001b[0m, in \u001b[0;36mprogress_indicated.<locals>.run_within_progress_indicator\u001b[0;34m(*args, **kwargs)\u001b[0m\n\u001b[1;32m    275\u001b[0m \u001b[38;5;129m@functools\u001b[39m\u001b[38;5;241m.\u001b[39mwraps(func)\n\u001b[1;32m    276\u001b[0m \u001b[38;5;28;01mdef\u001b[39;00m \u001b[38;5;21mrun_within_progress_indicator\u001b[39m(\u001b[38;5;241m*\u001b[39margs, \u001b[38;5;241m*\u001b[39m\u001b[38;5;241m*\u001b[39mkwargs):\n\u001b[1;32m    277\u001b[0m   \u001b[38;5;28;01mwith\u001b[39;00m ProgressIndicator(\u001b[38;5;124mf\u001b[39m\u001b[38;5;124m'\u001b[39m\u001b[38;5;124mProcessing... \u001b[39m\u001b[38;5;132;01m{\u001b[39;00mfunc\u001b[38;5;241m.\u001b[39m\u001b[38;5;18m__name__\u001b[39m\u001b[38;5;132;01m}\u001b[39;00m\u001b[38;5;124m'\u001b[39m, \u001b[38;5;124m'\u001b[39m\u001b[38;5;124mDone.\u001b[39m\u001b[38;5;124m'\u001b[39m):\n\u001b[0;32m--> 278\u001b[0m     \u001b[38;5;28;01mreturn\u001b[39;00m \u001b[43mfunc\u001b[49m\u001b[43m(\u001b[49m\u001b[38;5;241;43m*\u001b[39;49m\u001b[43margs\u001b[49m\u001b[43m,\u001b[49m\u001b[43m \u001b[49m\u001b[38;5;241;43m*\u001b[39;49m\u001b[38;5;241;43m*\u001b[39;49m\u001b[43mkwargs\u001b[49m\u001b[43m)\u001b[49m\n",
            "File \u001b[0;32m/usr/local/lib/python3.9/dist-packages/apache_beam/runners/interactive/interactive_beam.py:826\u001b[0m, in \u001b[0;36mshow\u001b[0;34m(include_window_info, visualize_data, n, duration, *pcolls)\u001b[0m\n\u001b[1;32m    821\u001b[0m previously_computed_pcolls \u001b[38;5;241m=\u001b[39m {\n\u001b[1;32m    822\u001b[0m     pcoll\n\u001b[1;32m    823\u001b[0m     \u001b[38;5;28;01mfor\u001b[39;00m pcoll \u001b[38;5;129;01min\u001b[39;00m pcolls \u001b[38;5;28;01mif\u001b[39;00m pcoll \u001b[38;5;129;01min\u001b[39;00m ie\u001b[38;5;241m.\u001b[39mcurrent_env()\u001b[38;5;241m.\u001b[39mcomputed_pcollections\n\u001b[1;32m    824\u001b[0m }\n\u001b[1;32m    825\u001b[0m \u001b[38;5;28;01mfor\u001b[39;00m pcoll \u001b[38;5;129;01min\u001b[39;00m previously_computed_pcolls:\n\u001b[0;32m--> 826\u001b[0m   \u001b[43mvisualize_computed_pcoll\u001b[49m\u001b[43m(\u001b[49m\n\u001b[1;32m    827\u001b[0m \u001b[43m      \u001b[49m\u001b[43mfind_pcoll_name\u001b[49m\u001b[43m(\u001b[49m\u001b[43mpcoll\u001b[49m\u001b[43m)\u001b[49m\u001b[43m,\u001b[49m\n\u001b[1;32m    828\u001b[0m \u001b[43m      \u001b[49m\u001b[43mpcoll\u001b[49m\u001b[43m,\u001b[49m\n\u001b[1;32m    829\u001b[0m \u001b[43m      \u001b[49m\u001b[43mn\u001b[49m\u001b[43m,\u001b[49m\n\u001b[1;32m    830\u001b[0m \u001b[43m      \u001b[49m\u001b[43mduration\u001b[49m\u001b[43m,\u001b[49m\n\u001b[1;32m    831\u001b[0m \u001b[43m      \u001b[49m\u001b[43minclude_window_info\u001b[49m\u001b[38;5;241;43m=\u001b[39;49m\u001b[43minclude_window_info\u001b[49m\u001b[43m,\u001b[49m\n\u001b[1;32m    832\u001b[0m \u001b[43m      \u001b[49m\u001b[43mdisplay_facets\u001b[49m\u001b[38;5;241;43m=\u001b[39;49m\u001b[43mvisualize_data\u001b[49m\u001b[43m)\u001b[49m\n\u001b[1;32m    833\u001b[0m pcolls \u001b[38;5;241m=\u001b[39m pcolls \u001b[38;5;241m-\u001b[39m previously_computed_pcolls\n\u001b[1;32m    835\u001b[0m recording_manager \u001b[38;5;241m=\u001b[39m ie\u001b[38;5;241m.\u001b[39mcurrent_env()\u001b[38;5;241m.\u001b[39mget_recording_manager(\n\u001b[1;32m    836\u001b[0m     user_pipeline, create_if_absent\u001b[38;5;241m=\u001b[39m\u001b[38;5;28;01mTrue\u001b[39;00m)\n",
            "File \u001b[0;32m/usr/local/lib/python3.9/dist-packages/apache_beam/runners/interactive/display/pcoll_visualization.py:272\u001b[0m, in \u001b[0;36mvisualize_computed_pcoll\u001b[0;34m(pcoll_name, pcoll, max_n, max_duration_secs, dynamic_plotting_interval, include_window_info, display_facets)\u001b[0m\n\u001b[1;32m    269\u001b[0m stream \u001b[38;5;241m=\u001b[39m rm\u001b[38;5;241m.\u001b[39mread(\n\u001b[1;32m    270\u001b[0m     pcoll_name, pcoll, max_n\u001b[38;5;241m=\u001b[39mmax_n, max_duration_secs\u001b[38;5;241m=\u001b[39mmax_duration_secs)\n\u001b[1;32m    271\u001b[0m \u001b[38;5;28;01mif\u001b[39;00m stream:\n\u001b[0;32m--> 272\u001b[0m   \u001b[43mvisualize\u001b[49m\u001b[43m(\u001b[49m\n\u001b[1;32m    273\u001b[0m \u001b[43m      \u001b[49m\u001b[43mstream\u001b[49m\u001b[43m,\u001b[49m\n\u001b[1;32m    274\u001b[0m \u001b[43m      \u001b[49m\u001b[43mdynamic_plotting_interval\u001b[49m\u001b[38;5;241;43m=\u001b[39;49m\u001b[43mdynamic_plotting_interval\u001b[49m\u001b[43m,\u001b[49m\n\u001b[1;32m    275\u001b[0m \u001b[43m      \u001b[49m\u001b[43minclude_window_info\u001b[49m\u001b[38;5;241;43m=\u001b[39;49m\u001b[43minclude_window_info\u001b[49m\u001b[43m,\u001b[49m\n\u001b[1;32m    276\u001b[0m \u001b[43m      \u001b[49m\u001b[43mdisplay_facets\u001b[49m\u001b[38;5;241;43m=\u001b[39;49m\u001b[43mdisplay_facets\u001b[49m\u001b[43m,\u001b[49m\n\u001b[1;32m    277\u001b[0m \u001b[43m      \u001b[49m\u001b[43melement_type\u001b[49m\u001b[38;5;241;43m=\u001b[39;49m\u001b[43mpcoll\u001b[49m\u001b[38;5;241;43m.\u001b[39;49m\u001b[43melement_type\u001b[49m\u001b[43m)\u001b[49m\n",
            "File \u001b[0;32m/usr/local/lib/python3.9/dist-packages/apache_beam/runners/interactive/display/pcoll_visualization.py:198\u001b[0m, in \u001b[0;36mvisualize\u001b[0;34m(stream, dynamic_plotting_interval, include_window_info, display_facets, element_type)\u001b[0m\n\u001b[1;32m    192\u001b[0m pv \u001b[38;5;241m=\u001b[39m PCollectionVisualization(\n\u001b[1;32m    193\u001b[0m     stream,\n\u001b[1;32m    194\u001b[0m     include_window_info\u001b[38;5;241m=\u001b[39minclude_window_info,\n\u001b[1;32m    195\u001b[0m     display_facets\u001b[38;5;241m=\u001b[39mdisplay_facets,\n\u001b[1;32m    196\u001b[0m     element_type\u001b[38;5;241m=\u001b[39melement_type)\n\u001b[1;32m    197\u001b[0m \u001b[38;5;28;01mif\u001b[39;00m ie\u001b[38;5;241m.\u001b[39mcurrent_env()\u001b[38;5;241m.\u001b[39mis_in_notebook:\n\u001b[0;32m--> 198\u001b[0m   \u001b[43mpv\u001b[49m\u001b[38;5;241;43m.\u001b[39;49m\u001b[43mdisplay\u001b[49m\u001b[43m(\u001b[49m\u001b[43m)\u001b[49m\n\u001b[1;32m    199\u001b[0m \u001b[38;5;28;01melse\u001b[39;00m:\n\u001b[1;32m    200\u001b[0m   pv\u001b[38;5;241m.\u001b[39mdisplay_plain_text()\n",
            "File \u001b[0;32m/usr/local/lib/python3.9/dist-packages/apache_beam/runners/interactive/display/pcoll_visualization.py:368\u001b[0m, in \u001b[0;36mPCollectionVisualization.display\u001b[0;34m(self, updating_pv)\u001b[0m\n\u001b[1;32m    366\u001b[0m \u001b[38;5;28;01mif\u001b[39;00m \u001b[38;5;28mself\u001b[39m\u001b[38;5;241m.\u001b[39m_display_facets:\n\u001b[1;32m    367\u001b[0m   \u001b[38;5;28mself\u001b[39m\u001b[38;5;241m.\u001b[39m_display_dive(data\u001b[38;5;241m.\u001b[39mcopy(deep\u001b[38;5;241m=\u001b[39m\u001b[38;5;28;01mTrue\u001b[39;00m))\n\u001b[0;32m--> 368\u001b[0m   \u001b[38;5;28;43mself\u001b[39;49m\u001b[38;5;241;43m.\u001b[39;49m\u001b[43m_display_overview\u001b[49m\u001b[43m(\u001b[49m\u001b[43mdata\u001b[49m\u001b[38;5;241;43m.\u001b[39;49m\u001b[43mcopy\u001b[49m\u001b[43m(\u001b[49m\u001b[43mdeep\u001b[49m\u001b[38;5;241;43m=\u001b[39;49m\u001b[38;5;28;43;01mTrue\u001b[39;49;00m\u001b[43m)\u001b[49m\u001b[43m)\u001b[49m\n",
            "File \u001b[0;32m/usr/local/lib/python3.9/dist-packages/apache_beam/runners/interactive/display/pcoll_visualization.py:395\u001b[0m, in \u001b[0;36mPCollectionVisualization._display_overview\u001b[0;34m(self, data, update)\u001b[0m\n\u001b[1;32m    392\u001b[0m data\u001b[38;5;241m.\u001b[39mcolumns \u001b[38;5;241m=\u001b[39m data\u001b[38;5;241m.\u001b[39mcolumns\u001b[38;5;241m.\u001b[39mastype(\u001b[38;5;28mstr\u001b[39m)\n\u001b[1;32m    394\u001b[0m gfsg \u001b[38;5;241m=\u001b[39m GenericFeatureStatisticsGenerator()\n\u001b[0;32m--> 395\u001b[0m proto \u001b[38;5;241m=\u001b[39m \u001b[43mgfsg\u001b[49m\u001b[38;5;241;43m.\u001b[39;49m\u001b[43mProtoFromDataFrames\u001b[49m\u001b[43m(\u001b[49m\u001b[43m[\u001b[49m\u001b[43m{\u001b[49m\u001b[38;5;124;43m'\u001b[39;49m\u001b[38;5;124;43mname\u001b[39;49m\u001b[38;5;124;43m'\u001b[39;49m\u001b[43m:\u001b[49m\u001b[43m \u001b[49m\u001b[38;5;124;43m'\u001b[39;49m\u001b[38;5;124;43mdata\u001b[39;49m\u001b[38;5;124;43m'\u001b[39;49m\u001b[43m,\u001b[49m\u001b[43m \u001b[49m\u001b[38;5;124;43m'\u001b[39;49m\u001b[38;5;124;43mtable\u001b[39;49m\u001b[38;5;124;43m'\u001b[39;49m\u001b[43m:\u001b[49m\u001b[43m \u001b[49m\u001b[43mdata\u001b[49m\u001b[43m}\u001b[49m\u001b[43m]\u001b[49m\u001b[43m)\u001b[49m\n\u001b[1;32m    396\u001b[0m protostr \u001b[38;5;241m=\u001b[39m base64\u001b[38;5;241m.\u001b[39mb64encode(proto\u001b[38;5;241m.\u001b[39mSerializeToString())\u001b[38;5;241m.\u001b[39mdecode(\u001b[38;5;124m'\u001b[39m\u001b[38;5;124mutf-8\u001b[39m\u001b[38;5;124m'\u001b[39m)\n\u001b[1;32m    397\u001b[0m \u001b[38;5;28;01mif\u001b[39;00m update:\n",
            "File \u001b[0;32m/usr/local/lib/python3.9/dist-packages/facets_overview/base_generic_feature_statistics_generator.py:60\u001b[0m, in \u001b[0;36mBaseGenericFeatureStatisticsGenerator.ProtoFromDataFrames\u001b[0;34m(self, dataframes, histogram_categorical_levels_count)\u001b[0m\n\u001b[1;32m     54\u001b[0m     table_entries[col] \u001b[38;5;241m=\u001b[39m \u001b[38;5;28mself\u001b[39m\u001b[38;5;241m.\u001b[39mNdarrayToEntry(table[col])\n\u001b[1;32m     55\u001b[0m   datasets\u001b[38;5;241m.\u001b[39mappend({\n\u001b[1;32m     56\u001b[0m       \u001b[38;5;124m'\u001b[39m\u001b[38;5;124mentries\u001b[39m\u001b[38;5;124m'\u001b[39m: table_entries,\n\u001b[1;32m     57\u001b[0m       \u001b[38;5;124m'\u001b[39m\u001b[38;5;124msize\u001b[39m\u001b[38;5;124m'\u001b[39m: \u001b[38;5;28mlen\u001b[39m(table),\n\u001b[1;32m     58\u001b[0m       \u001b[38;5;124m'\u001b[39m\u001b[38;5;124mname\u001b[39m\u001b[38;5;124m'\u001b[39m: dataframe[\u001b[38;5;124m'\u001b[39m\u001b[38;5;124mname\u001b[39m\u001b[38;5;124m'\u001b[39m]\n\u001b[1;32m     59\u001b[0m   })\n\u001b[0;32m---> 60\u001b[0m \u001b[38;5;28;01mreturn\u001b[39;00m \u001b[38;5;28;43mself\u001b[39;49m\u001b[38;5;241;43m.\u001b[39;49m\u001b[43mGetDatasetsProto\u001b[49m\u001b[43m(\u001b[49m\n\u001b[1;32m     61\u001b[0m \u001b[43m  \u001b[49m\u001b[43mdatasets\u001b[49m\u001b[43m,\u001b[49m\n\u001b[1;32m     62\u001b[0m \u001b[43m  \u001b[49m\u001b[43mhistogram_categorical_levels_count\u001b[49m\u001b[38;5;241;43m=\u001b[39;49m\u001b[43mhistogram_categorical_levels_count\u001b[49m\u001b[43m)\u001b[49m\n",
            "File \u001b[0;32m/usr/local/lib/python3.9/dist-packages/facets_overview/base_generic_feature_statistics_generator.py:281\u001b[0m, in \u001b[0;36mBaseGenericFeatureStatisticsGenerator.GetDatasetsProto\u001b[0;34m(self, datasets, features, histogram_categorical_levels_count)\u001b[0m\n\u001b[1;32m    279\u001b[0m \u001b[38;5;28;01mexcept\u001b[39;00m (\u001b[38;5;167;01mUnicodeDecodeError\u001b[39;00m, \u001b[38;5;167;01mUnicodeEncodeError\u001b[39;00m):\n\u001b[1;32m    280\u001b[0m   printable_val \u001b[38;5;241m=\u001b[39m \u001b[38;5;124m'\u001b[39m\u001b[38;5;124m__BYTES_VALUE__\u001b[39m\u001b[38;5;124m'\u001b[39m\n\u001b[0;32m--> 281\u001b[0m bucket \u001b[38;5;241m=\u001b[39m \u001b[43mfeatstats\u001b[49m\u001b[38;5;241;43m.\u001b[39;49m\u001b[43mrank_histogram\u001b[49m\u001b[38;5;241;43m.\u001b[39;49m\u001b[43mbuckets\u001b[49m\u001b[38;5;241;43m.\u001b[39;49m\u001b[43madd\u001b[49m\u001b[43m(\u001b[49m\n\u001b[1;32m    282\u001b[0m \u001b[43m    \u001b[49m\u001b[43mlow_rank\u001b[49m\u001b[38;5;241;43m=\u001b[39;49m\u001b[43mval_index\u001b[49m\u001b[43m,\u001b[49m\n\u001b[1;32m    283\u001b[0m \u001b[43m    \u001b[49m\u001b[43mhigh_rank\u001b[49m\u001b[38;5;241;43m=\u001b[39;49m\u001b[43mval_index\u001b[49m\u001b[43m,\u001b[49m\n\u001b[1;32m    284\u001b[0m \u001b[43m    \u001b[49m\u001b[43msample_count\u001b[49m\u001b[38;5;241;43m=\u001b[39;49m\u001b[43mval\u001b[49m\u001b[43m[\u001b[49m\u001b[38;5;241;43m0\u001b[39;49m\u001b[43m]\u001b[49m\u001b[38;5;241;43m.\u001b[39;49m\u001b[43mitem\u001b[49m\u001b[43m(\u001b[49m\u001b[43m)\u001b[49m\u001b[43m,\u001b[49m\n\u001b[1;32m    285\u001b[0m \u001b[43m    \u001b[49m\u001b[43mlabel\u001b[49m\u001b[38;5;241;43m=\u001b[39;49m\u001b[43mprintable_val\u001b[49m\u001b[43m)\u001b[49m\n\u001b[1;32m    286\u001b[0m \u001b[38;5;28;01mif\u001b[39;00m val_index \u001b[38;5;241m<\u001b[39m \u001b[38;5;241m2\u001b[39m:\n\u001b[1;32m    287\u001b[0m   featstats\u001b[38;5;241m.\u001b[39mtop_values\u001b[38;5;241m.\u001b[39madd(\n\u001b[1;32m    288\u001b[0m       value\u001b[38;5;241m=\u001b[39mbucket\u001b[38;5;241m.\u001b[39mlabel, frequency\u001b[38;5;241m=\u001b[39mbucket\u001b[38;5;241m.\u001b[39msample_count)\n",
            "\u001b[0;31mTypeError\u001b[0m: [160] has type list, but expected one of: bytes, unicode"
          ]
        }
      ]
    },
    {
      "cell_type": "code",
      "source": [
        "with beam.Pipeline(InteractiveRunner()) as p:\n",
        "  pc6 = ( p\n",
        "    | beam.Create(b)\n",
        "    | beam.Map(lambda x: beam.window.TimestampedValue(x,int(x[1])))\n",
        "    | beam.WindowInto(beam.window.Sessions(60))\n",
        "    | beam.GroupByKey()\n",
        ")"
      ],
      "metadata": {
        "id": "DU8LqANxw0fU"
      },
      "execution_count": 38,
      "outputs": []
    },
    {
      "cell_type": "code",
      "source": [
        "ib.show(pc6, include_window_info=True, visualize_data=True)"
      ],
      "metadata": {
        "colab": {
          "base_uri": "https://localhost:8080/",
          "height": 1000
        },
        "id": "LoF33fZxxb4F",
        "outputId": "a194cc6c-c681-4287-815f-1ef9145153cb"
      },
      "execution_count": 41,
      "outputs": [
        {
          "output_type": "display_data",
          "data": {
            "text/plain": [
              "<IPython.core.display.HTML object>"
            ],
            "text/html": [
              "\n",
              "            <link rel=\"stylesheet\" href=\"https://stackpath.bootstrapcdn.com/bootstrap/4.4.1/css/bootstrap.min.css\" integrity=\"sha384-Vkoo8x4CGsO3+Hhxv8T/Q5PaXtkKtu6ug5TOeNV6gBiFeWPGFN9MuhOf23Q9Ifjh\" crossorigin=\"anonymous\">\n",
              "            <div id=\"progress_indicator_f4ab5cd8a6e8f5f6800a9602b892e7df\">\n",
              "              <div class=\"spinner-border text-info\" role=\"status\"></div>\n",
              "              <span class=\"text-info\">Processing... show</span>\n",
              "            </div>\n",
              "            "
            ]
          },
          "metadata": {}
        },
        {
          "output_type": "display_data",
          "data": {
            "text/plain": [
              "<IPython.core.display.HTML object>"
            ],
            "text/html": [
              "\n",
              "            <style>\n",
              "            .p-Widget.jp-OutputPrompt.jp-OutputArea-prompt:empty {\n",
              "              padding: 0;\n",
              "              border: 0;\n",
              "            }\n",
              "            .p-Widget.jp-RenderedJavaScript.jp-mod-trusted.jp-OutputArea-output:empty {\n",
              "              padding: 0;\n",
              "              border: 0;\n",
              "            }\n",
              "            </style>\n",
              "            <link rel=\"stylesheet\" href=\"https://cdn.datatables.net/1.10.20/css/jquery.dataTables.min.css\">\n",
              "            <table id=\"table_df_c27cd3076567a664b3e474517ac53907\" class=\"display\" style=\"display:block\"></table>\n",
              "            <script>\n",
              "              \n",
              "        if (typeof window.interactive_beam_jquery == 'undefined') {\n",
              "          var jqueryScript = document.createElement('script');\n",
              "          jqueryScript.src = 'https://code.jquery.com/jquery-3.4.1.slim.min.js';\n",
              "          jqueryScript.type = 'text/javascript';\n",
              "          jqueryScript.onload = function() {\n",
              "            var datatableScript = document.createElement('script');\n",
              "            datatableScript.src = 'https://cdn.datatables.net/1.10.20/js/jquery.dataTables.min.js';\n",
              "            datatableScript.type = 'text/javascript';\n",
              "            datatableScript.onload = function() {\n",
              "              window.interactive_beam_jquery = jQuery.noConflict(true);\n",
              "              window.interactive_beam_jquery(document).ready(function($){\n",
              "                \n",
              "            var dt;\n",
              "            if ($.fn.dataTable.isDataTable(\"#table_df_c27cd3076567a664b3e474517ac53907\")) {\n",
              "              dt = $(\"#table_df_c27cd3076567a664b3e474517ac53907\").dataTable();\n",
              "            } else if ($(\"#table_df_c27cd3076567a664b3e474517ac53907_wrapper\").length == 0) {\n",
              "              dt = $(\"#table_df_c27cd3076567a664b3e474517ac53907\").dataTable({\n",
              "                \n",
              "            bAutoWidth: false,\n",
              "            columns: [{'title': ''}, {'title': 'pc6.0'}, {'title': 'pc6.1'}, {'title': 'event_time'}, {'title': 'windows'}, {'title': 'pane_info'}],\n",
              "            destroy: true,\n",
              "            responsive: true,\n",
              "            columnDefs: [\n",
              "              {\n",
              "                targets: \"_all\",\n",
              "                className: \"dt-left\"\n",
              "              },\n",
              "              {\n",
              "                \"targets\": 0,\n",
              "                \"width\": \"10px\",\n",
              "                \"title\": \"\"\n",
              "              }\n",
              "            ]\n",
              "              });\n",
              "            } else {\n",
              "              return;\n",
              "            }\n",
              "            dt.api()\n",
              "              .clear()\n",
              "              .rows.add([{1: 'A', 2: '[10, 40, 70, 100]', 3: '1970-01-01 00:02:39.999000+0000', 4: '1970-01-01 00:00:10.000000+0000 (2m 30s)', 5: 'Pane 0', 0: 0}, {1: 'A', 2: '[160]', 3: '1970-01-01 00:03:39.999000+0000', 4: '1970-01-01 00:02:40.000000+0000 (1m )', 5: 'Pane 0', 0: 1}, {1: 'B', 2: '[20, 50, 80, 110]', 3: '1970-01-01 00:02:49.999000+0000', 4: '1970-01-01 00:00:20.000000+0000 (2m 30s)', 5: 'Pane 0', 0: 2}, {1: 'C', 2: '[30, 60, 90, 120]', 3: '1970-01-01 00:02:59.999000+0000', 4: '1970-01-01 00:00:30.000000+0000 (2m 30s)', 5: 'Pane 0', 0: 3}])\n",
              "              .draw('full-hold');\n",
              "              });\n",
              "            }\n",
              "            document.head.appendChild(datatableScript);\n",
              "          };\n",
              "          document.head.appendChild(jqueryScript);\n",
              "        } else {\n",
              "          window.interactive_beam_jquery(document).ready(function($){\n",
              "            \n",
              "            var dt;\n",
              "            if ($.fn.dataTable.isDataTable(\"#table_df_c27cd3076567a664b3e474517ac53907\")) {\n",
              "              dt = $(\"#table_df_c27cd3076567a664b3e474517ac53907\").dataTable();\n",
              "            } else if ($(\"#table_df_c27cd3076567a664b3e474517ac53907_wrapper\").length == 0) {\n",
              "              dt = $(\"#table_df_c27cd3076567a664b3e474517ac53907\").dataTable({\n",
              "                \n",
              "            bAutoWidth: false,\n",
              "            columns: [{'title': ''}, {'title': 'pc6.0'}, {'title': 'pc6.1'}, {'title': 'event_time'}, {'title': 'windows'}, {'title': 'pane_info'}],\n",
              "            destroy: true,\n",
              "            responsive: true,\n",
              "            columnDefs: [\n",
              "              {\n",
              "                targets: \"_all\",\n",
              "                className: \"dt-left\"\n",
              "              },\n",
              "              {\n",
              "                \"targets\": 0,\n",
              "                \"width\": \"10px\",\n",
              "                \"title\": \"\"\n",
              "              }\n",
              "            ]\n",
              "              });\n",
              "            } else {\n",
              "              return;\n",
              "            }\n",
              "            dt.api()\n",
              "              .clear()\n",
              "              .rows.add([{1: 'A', 2: '[10, 40, 70, 100]', 3: '1970-01-01 00:02:39.999000+0000', 4: '1970-01-01 00:00:10.000000+0000 (2m 30s)', 5: 'Pane 0', 0: 0}, {1: 'A', 2: '[160]', 3: '1970-01-01 00:03:39.999000+0000', 4: '1970-01-01 00:02:40.000000+0000 (1m )', 5: 'Pane 0', 0: 1}, {1: 'B', 2: '[20, 50, 80, 110]', 3: '1970-01-01 00:02:49.999000+0000', 4: '1970-01-01 00:00:20.000000+0000 (2m 30s)', 5: 'Pane 0', 0: 2}, {1: 'C', 2: '[30, 60, 90, 120]', 3: '1970-01-01 00:02:59.999000+0000', 4: '1970-01-01 00:00:30.000000+0000 (2m 30s)', 5: 'Pane 0', 0: 3}])\n",
              "              .draw('full-hold');\n",
              "          });\n",
              "        }\n",
              "            </script>"
            ]
          },
          "metadata": {}
        },
        {
          "output_type": "display_data",
          "data": {
            "text/plain": [
              "<IPython.core.display.HTML object>"
            ],
            "text/html": [
              "\n",
              "            <style>\n",
              "            .p-Widget.jp-OutputPrompt.jp-OutputArea-prompt:empty {\n",
              "              padding: 0;\n",
              "              border: 0;\n",
              "            }\n",
              "            .p-Widget.jp-RenderedJavaScript.jp-mod-trusted.jp-OutputArea-output:empty {\n",
              "              padding: 0;\n",
              "              border: 0;\n",
              "            }\n",
              "            </style>\n",
              "            <iframe id=facets_dive_c27cd3076567a664b3e474517ac53907 style=\"border:none\" width=\"100%\" height=\"600px\"\n",
              "              srcdoc='\n",
              "                <script src=\"https://cdnjs.cloudflare.com/ajax/libs/webcomponentsjs/1.3.3/webcomponents-lite.js\"></script>\n",
              "                <link rel=\"import\" href=\"https://raw.githubusercontent.com/PAIR-code/facets/1.0.0/facets-dist/facets-jupyter.html\">\n",
              "                <facets-dive sprite-image-width=\"64\" sprite-image-height=\"64\" id=\"facets_dive_c27cd3076567a664b3e474517ac53907\" height=\"600\"></facets-dive>\n",
              "                <script>\n",
              "                  document.getElementById(\"facets_dive_c27cd3076567a664b3e474517ac53907\").data = [{&quot;pc6.0&quot;:&quot;A&quot;,&quot;pc6.1&quot;:[10,40,70,100],&quot;event_time&quot;:&quot;1970-01-01 00:02:39.999000+0000&quot;,&quot;windows&quot;:&quot;1970-01-01 00:00:10.000000+0000 (2m 30s)&quot;,&quot;pane_info&quot;:&quot;Pane 0&quot;},{&quot;pc6.0&quot;:&quot;A&quot;,&quot;pc6.1&quot;:[160],&quot;event_time&quot;:&quot;1970-01-01 00:03:39.999000+0000&quot;,&quot;windows&quot;:&quot;1970-01-01 00:02:40.000000+0000 (1m )&quot;,&quot;pane_info&quot;:&quot;Pane 0&quot;},{&quot;pc6.0&quot;:&quot;B&quot;,&quot;pc6.1&quot;:[20,50,80,110],&quot;event_time&quot;:&quot;1970-01-01 00:02:49.999000+0000&quot;,&quot;windows&quot;:&quot;1970-01-01 00:00:20.000000+0000 (2m 30s)&quot;,&quot;pane_info&quot;:&quot;Pane 0&quot;},{&quot;pc6.0&quot;:&quot;C&quot;,&quot;pc6.1&quot;:[30,60,90,120],&quot;event_time&quot;:&quot;1970-01-01 00:02:59.999000+0000&quot;,&quot;windows&quot;:&quot;1970-01-01 00:00:30.000000+0000 (2m 30s)&quot;,&quot;pane_info&quot;:&quot;Pane 0&quot;}];\n",
              "                </script>\n",
              "              '>\n",
              "            </iframe>"
            ]
          },
          "metadata": {}
        },
        {
          "output_type": "stream",
          "name": "stderr",
          "text": [
            "/usr/local/lib/python3.9/dist-packages/numpy/lib/function_base.py:2336: VisibleDeprecationWarning: Creating an ndarray from ragged nested sequences (which is a list-or-tuple of lists-or-tuples-or ndarrays with different lengths or shapes) is deprecated. If you meant to do this, you must specify 'dtype=object' when creating the ndarray.\n",
            "  args = [asarray(arg) for arg in args]\n",
            "/usr/local/lib/python3.9/dist-packages/numpy/lib/arraysetops.py:270: VisibleDeprecationWarning: Creating an ndarray from ragged nested sequences (which is a list-or-tuple of lists-or-tuples-or ndarrays with different lengths or shapes) is deprecated. If you meant to do this, you must specify 'dtype=object' when creating the ndarray.\n",
            "  ar = np.asanyarray(ar)\n"
          ]
        },
        {
          "output_type": "display_data",
          "data": {
            "application/javascript": [
              "\n",
              "        if (typeof window.interactive_beam_jquery == 'undefined') {\n",
              "          var jqueryScript = document.createElement('script');\n",
              "          jqueryScript.src = 'https://code.jquery.com/jquery-3.4.1.slim.min.js';\n",
              "          jqueryScript.type = 'text/javascript';\n",
              "          jqueryScript.onload = function() {\n",
              "            var datatableScript = document.createElement('script');\n",
              "            datatableScript.src = 'https://cdn.datatables.net/1.10.20/js/jquery.dataTables.min.js';\n",
              "            datatableScript.type = 'text/javascript';\n",
              "            datatableScript.onload = function() {\n",
              "              window.interactive_beam_jquery = jQuery.noConflict(true);\n",
              "              window.interactive_beam_jquery(document).ready(function($){\n",
              "                \n",
              "            $(\"#progress_indicator_f4ab5cd8a6e8f5f6800a9602b892e7df\").remove();\n",
              "              });\n",
              "            }\n",
              "            document.head.appendChild(datatableScript);\n",
              "          };\n",
              "          document.head.appendChild(jqueryScript);\n",
              "        } else {\n",
              "          window.interactive_beam_jquery(document).ready(function($){\n",
              "            \n",
              "            $(\"#progress_indicator_f4ab5cd8a6e8f5f6800a9602b892e7df\").remove();\n",
              "          });\n",
              "        }"
            ]
          },
          "metadata": {}
        },
        {
          "output_type": "error",
          "ename": "TypeError",
          "evalue": "ignored",
          "traceback": [
            "\u001b[0;31m---------------------------------------------------------------------------\u001b[0m",
            "\u001b[0;31mTypeError\u001b[0m                                 Traceback (most recent call last)",
            "Cell \u001b[0;32mIn[41], line 1\u001b[0m\n\u001b[0;32m----> 1\u001b[0m \u001b[43mib\u001b[49m\u001b[38;5;241;43m.\u001b[39;49m\u001b[43mshow\u001b[49m\u001b[43m(\u001b[49m\u001b[43mpc6\u001b[49m\u001b[43m,\u001b[49m\u001b[43m \u001b[49m\u001b[43minclude_window_info\u001b[49m\u001b[38;5;241;43m=\u001b[39;49m\u001b[38;5;28;43;01mTrue\u001b[39;49;00m\u001b[43m,\u001b[49m\u001b[43m \u001b[49m\u001b[43mvisualize_data\u001b[49m\u001b[38;5;241;43m=\u001b[39;49m\u001b[38;5;28;43;01mTrue\u001b[39;49;00m\u001b[43m)\u001b[49m\n",
            "File \u001b[0;32m/usr/local/lib/python3.9/dist-packages/apache_beam/runners/interactive/utils.py:278\u001b[0m, in \u001b[0;36mprogress_indicated.<locals>.run_within_progress_indicator\u001b[0;34m(*args, **kwargs)\u001b[0m\n\u001b[1;32m    275\u001b[0m \u001b[38;5;129m@functools\u001b[39m\u001b[38;5;241m.\u001b[39mwraps(func)\n\u001b[1;32m    276\u001b[0m \u001b[38;5;28;01mdef\u001b[39;00m \u001b[38;5;21mrun_within_progress_indicator\u001b[39m(\u001b[38;5;241m*\u001b[39margs, \u001b[38;5;241m*\u001b[39m\u001b[38;5;241m*\u001b[39mkwargs):\n\u001b[1;32m    277\u001b[0m   \u001b[38;5;28;01mwith\u001b[39;00m ProgressIndicator(\u001b[38;5;124mf\u001b[39m\u001b[38;5;124m'\u001b[39m\u001b[38;5;124mProcessing... \u001b[39m\u001b[38;5;132;01m{\u001b[39;00mfunc\u001b[38;5;241m.\u001b[39m\u001b[38;5;18m__name__\u001b[39m\u001b[38;5;132;01m}\u001b[39;00m\u001b[38;5;124m'\u001b[39m, \u001b[38;5;124m'\u001b[39m\u001b[38;5;124mDone.\u001b[39m\u001b[38;5;124m'\u001b[39m):\n\u001b[0;32m--> 278\u001b[0m     \u001b[38;5;28;01mreturn\u001b[39;00m \u001b[43mfunc\u001b[49m\u001b[43m(\u001b[49m\u001b[38;5;241;43m*\u001b[39;49m\u001b[43margs\u001b[49m\u001b[43m,\u001b[49m\u001b[43m \u001b[49m\u001b[38;5;241;43m*\u001b[39;49m\u001b[38;5;241;43m*\u001b[39;49m\u001b[43mkwargs\u001b[49m\u001b[43m)\u001b[49m\n",
            "File \u001b[0;32m/usr/local/lib/python3.9/dist-packages/apache_beam/runners/interactive/interactive_beam.py:826\u001b[0m, in \u001b[0;36mshow\u001b[0;34m(include_window_info, visualize_data, n, duration, *pcolls)\u001b[0m\n\u001b[1;32m    821\u001b[0m previously_computed_pcolls \u001b[38;5;241m=\u001b[39m {\n\u001b[1;32m    822\u001b[0m     pcoll\n\u001b[1;32m    823\u001b[0m     \u001b[38;5;28;01mfor\u001b[39;00m pcoll \u001b[38;5;129;01min\u001b[39;00m pcolls \u001b[38;5;28;01mif\u001b[39;00m pcoll \u001b[38;5;129;01min\u001b[39;00m ie\u001b[38;5;241m.\u001b[39mcurrent_env()\u001b[38;5;241m.\u001b[39mcomputed_pcollections\n\u001b[1;32m    824\u001b[0m }\n\u001b[1;32m    825\u001b[0m \u001b[38;5;28;01mfor\u001b[39;00m pcoll \u001b[38;5;129;01min\u001b[39;00m previously_computed_pcolls:\n\u001b[0;32m--> 826\u001b[0m   \u001b[43mvisualize_computed_pcoll\u001b[49m\u001b[43m(\u001b[49m\n\u001b[1;32m    827\u001b[0m \u001b[43m      \u001b[49m\u001b[43mfind_pcoll_name\u001b[49m\u001b[43m(\u001b[49m\u001b[43mpcoll\u001b[49m\u001b[43m)\u001b[49m\u001b[43m,\u001b[49m\n\u001b[1;32m    828\u001b[0m \u001b[43m      \u001b[49m\u001b[43mpcoll\u001b[49m\u001b[43m,\u001b[49m\n\u001b[1;32m    829\u001b[0m \u001b[43m      \u001b[49m\u001b[43mn\u001b[49m\u001b[43m,\u001b[49m\n\u001b[1;32m    830\u001b[0m \u001b[43m      \u001b[49m\u001b[43mduration\u001b[49m\u001b[43m,\u001b[49m\n\u001b[1;32m    831\u001b[0m \u001b[43m      \u001b[49m\u001b[43minclude_window_info\u001b[49m\u001b[38;5;241;43m=\u001b[39;49m\u001b[43minclude_window_info\u001b[49m\u001b[43m,\u001b[49m\n\u001b[1;32m    832\u001b[0m \u001b[43m      \u001b[49m\u001b[43mdisplay_facets\u001b[49m\u001b[38;5;241;43m=\u001b[39;49m\u001b[43mvisualize_data\u001b[49m\u001b[43m)\u001b[49m\n\u001b[1;32m    833\u001b[0m pcolls \u001b[38;5;241m=\u001b[39m pcolls \u001b[38;5;241m-\u001b[39m previously_computed_pcolls\n\u001b[1;32m    835\u001b[0m recording_manager \u001b[38;5;241m=\u001b[39m ie\u001b[38;5;241m.\u001b[39mcurrent_env()\u001b[38;5;241m.\u001b[39mget_recording_manager(\n\u001b[1;32m    836\u001b[0m     user_pipeline, create_if_absent\u001b[38;5;241m=\u001b[39m\u001b[38;5;28;01mTrue\u001b[39;00m)\n",
            "File \u001b[0;32m/usr/local/lib/python3.9/dist-packages/apache_beam/runners/interactive/display/pcoll_visualization.py:272\u001b[0m, in \u001b[0;36mvisualize_computed_pcoll\u001b[0;34m(pcoll_name, pcoll, max_n, max_duration_secs, dynamic_plotting_interval, include_window_info, display_facets)\u001b[0m\n\u001b[1;32m    269\u001b[0m stream \u001b[38;5;241m=\u001b[39m rm\u001b[38;5;241m.\u001b[39mread(\n\u001b[1;32m    270\u001b[0m     pcoll_name, pcoll, max_n\u001b[38;5;241m=\u001b[39mmax_n, max_duration_secs\u001b[38;5;241m=\u001b[39mmax_duration_secs)\n\u001b[1;32m    271\u001b[0m \u001b[38;5;28;01mif\u001b[39;00m stream:\n\u001b[0;32m--> 272\u001b[0m   \u001b[43mvisualize\u001b[49m\u001b[43m(\u001b[49m\n\u001b[1;32m    273\u001b[0m \u001b[43m      \u001b[49m\u001b[43mstream\u001b[49m\u001b[43m,\u001b[49m\n\u001b[1;32m    274\u001b[0m \u001b[43m      \u001b[49m\u001b[43mdynamic_plotting_interval\u001b[49m\u001b[38;5;241;43m=\u001b[39;49m\u001b[43mdynamic_plotting_interval\u001b[49m\u001b[43m,\u001b[49m\n\u001b[1;32m    275\u001b[0m \u001b[43m      \u001b[49m\u001b[43minclude_window_info\u001b[49m\u001b[38;5;241;43m=\u001b[39;49m\u001b[43minclude_window_info\u001b[49m\u001b[43m,\u001b[49m\n\u001b[1;32m    276\u001b[0m \u001b[43m      \u001b[49m\u001b[43mdisplay_facets\u001b[49m\u001b[38;5;241;43m=\u001b[39;49m\u001b[43mdisplay_facets\u001b[49m\u001b[43m,\u001b[49m\n\u001b[1;32m    277\u001b[0m \u001b[43m      \u001b[49m\u001b[43melement_type\u001b[49m\u001b[38;5;241;43m=\u001b[39;49m\u001b[43mpcoll\u001b[49m\u001b[38;5;241;43m.\u001b[39;49m\u001b[43melement_type\u001b[49m\u001b[43m)\u001b[49m\n",
            "File \u001b[0;32m/usr/local/lib/python3.9/dist-packages/apache_beam/runners/interactive/display/pcoll_visualization.py:198\u001b[0m, in \u001b[0;36mvisualize\u001b[0;34m(stream, dynamic_plotting_interval, include_window_info, display_facets, element_type)\u001b[0m\n\u001b[1;32m    192\u001b[0m pv \u001b[38;5;241m=\u001b[39m PCollectionVisualization(\n\u001b[1;32m    193\u001b[0m     stream,\n\u001b[1;32m    194\u001b[0m     include_window_info\u001b[38;5;241m=\u001b[39minclude_window_info,\n\u001b[1;32m    195\u001b[0m     display_facets\u001b[38;5;241m=\u001b[39mdisplay_facets,\n\u001b[1;32m    196\u001b[0m     element_type\u001b[38;5;241m=\u001b[39melement_type)\n\u001b[1;32m    197\u001b[0m \u001b[38;5;28;01mif\u001b[39;00m ie\u001b[38;5;241m.\u001b[39mcurrent_env()\u001b[38;5;241m.\u001b[39mis_in_notebook:\n\u001b[0;32m--> 198\u001b[0m   \u001b[43mpv\u001b[49m\u001b[38;5;241;43m.\u001b[39;49m\u001b[43mdisplay\u001b[49m\u001b[43m(\u001b[49m\u001b[43m)\u001b[49m\n\u001b[1;32m    199\u001b[0m \u001b[38;5;28;01melse\u001b[39;00m:\n\u001b[1;32m    200\u001b[0m   pv\u001b[38;5;241m.\u001b[39mdisplay_plain_text()\n",
            "File \u001b[0;32m/usr/local/lib/python3.9/dist-packages/apache_beam/runners/interactive/display/pcoll_visualization.py:368\u001b[0m, in \u001b[0;36mPCollectionVisualization.display\u001b[0;34m(self, updating_pv)\u001b[0m\n\u001b[1;32m    366\u001b[0m \u001b[38;5;28;01mif\u001b[39;00m \u001b[38;5;28mself\u001b[39m\u001b[38;5;241m.\u001b[39m_display_facets:\n\u001b[1;32m    367\u001b[0m   \u001b[38;5;28mself\u001b[39m\u001b[38;5;241m.\u001b[39m_display_dive(data\u001b[38;5;241m.\u001b[39mcopy(deep\u001b[38;5;241m=\u001b[39m\u001b[38;5;28;01mTrue\u001b[39;00m))\n\u001b[0;32m--> 368\u001b[0m   \u001b[38;5;28;43mself\u001b[39;49m\u001b[38;5;241;43m.\u001b[39;49m\u001b[43m_display_overview\u001b[49m\u001b[43m(\u001b[49m\u001b[43mdata\u001b[49m\u001b[38;5;241;43m.\u001b[39;49m\u001b[43mcopy\u001b[49m\u001b[43m(\u001b[49m\u001b[43mdeep\u001b[49m\u001b[38;5;241;43m=\u001b[39;49m\u001b[38;5;28;43;01mTrue\u001b[39;49;00m\u001b[43m)\u001b[49m\u001b[43m)\u001b[49m\n",
            "File \u001b[0;32m/usr/local/lib/python3.9/dist-packages/apache_beam/runners/interactive/display/pcoll_visualization.py:395\u001b[0m, in \u001b[0;36mPCollectionVisualization._display_overview\u001b[0;34m(self, data, update)\u001b[0m\n\u001b[1;32m    392\u001b[0m data\u001b[38;5;241m.\u001b[39mcolumns \u001b[38;5;241m=\u001b[39m data\u001b[38;5;241m.\u001b[39mcolumns\u001b[38;5;241m.\u001b[39mastype(\u001b[38;5;28mstr\u001b[39m)\n\u001b[1;32m    394\u001b[0m gfsg \u001b[38;5;241m=\u001b[39m GenericFeatureStatisticsGenerator()\n\u001b[0;32m--> 395\u001b[0m proto \u001b[38;5;241m=\u001b[39m \u001b[43mgfsg\u001b[49m\u001b[38;5;241;43m.\u001b[39;49m\u001b[43mProtoFromDataFrames\u001b[49m\u001b[43m(\u001b[49m\u001b[43m[\u001b[49m\u001b[43m{\u001b[49m\u001b[38;5;124;43m'\u001b[39;49m\u001b[38;5;124;43mname\u001b[39;49m\u001b[38;5;124;43m'\u001b[39;49m\u001b[43m:\u001b[49m\u001b[43m \u001b[49m\u001b[38;5;124;43m'\u001b[39;49m\u001b[38;5;124;43mdata\u001b[39;49m\u001b[38;5;124;43m'\u001b[39;49m\u001b[43m,\u001b[49m\u001b[43m \u001b[49m\u001b[38;5;124;43m'\u001b[39;49m\u001b[38;5;124;43mtable\u001b[39;49m\u001b[38;5;124;43m'\u001b[39;49m\u001b[43m:\u001b[49m\u001b[43m \u001b[49m\u001b[43mdata\u001b[49m\u001b[43m}\u001b[49m\u001b[43m]\u001b[49m\u001b[43m)\u001b[49m\n\u001b[1;32m    396\u001b[0m protostr \u001b[38;5;241m=\u001b[39m base64\u001b[38;5;241m.\u001b[39mb64encode(proto\u001b[38;5;241m.\u001b[39mSerializeToString())\u001b[38;5;241m.\u001b[39mdecode(\u001b[38;5;124m'\u001b[39m\u001b[38;5;124mutf-8\u001b[39m\u001b[38;5;124m'\u001b[39m)\n\u001b[1;32m    397\u001b[0m \u001b[38;5;28;01mif\u001b[39;00m update:\n",
            "File \u001b[0;32m/usr/local/lib/python3.9/dist-packages/facets_overview/base_generic_feature_statistics_generator.py:60\u001b[0m, in \u001b[0;36mBaseGenericFeatureStatisticsGenerator.ProtoFromDataFrames\u001b[0;34m(self, dataframes, histogram_categorical_levels_count)\u001b[0m\n\u001b[1;32m     54\u001b[0m     table_entries[col] \u001b[38;5;241m=\u001b[39m \u001b[38;5;28mself\u001b[39m\u001b[38;5;241m.\u001b[39mNdarrayToEntry(table[col])\n\u001b[1;32m     55\u001b[0m   datasets\u001b[38;5;241m.\u001b[39mappend({\n\u001b[1;32m     56\u001b[0m       \u001b[38;5;124m'\u001b[39m\u001b[38;5;124mentries\u001b[39m\u001b[38;5;124m'\u001b[39m: table_entries,\n\u001b[1;32m     57\u001b[0m       \u001b[38;5;124m'\u001b[39m\u001b[38;5;124msize\u001b[39m\u001b[38;5;124m'\u001b[39m: \u001b[38;5;28mlen\u001b[39m(table),\n\u001b[1;32m     58\u001b[0m       \u001b[38;5;124m'\u001b[39m\u001b[38;5;124mname\u001b[39m\u001b[38;5;124m'\u001b[39m: dataframe[\u001b[38;5;124m'\u001b[39m\u001b[38;5;124mname\u001b[39m\u001b[38;5;124m'\u001b[39m]\n\u001b[1;32m     59\u001b[0m   })\n\u001b[0;32m---> 60\u001b[0m \u001b[38;5;28;01mreturn\u001b[39;00m \u001b[38;5;28;43mself\u001b[39;49m\u001b[38;5;241;43m.\u001b[39;49m\u001b[43mGetDatasetsProto\u001b[49m\u001b[43m(\u001b[49m\n\u001b[1;32m     61\u001b[0m \u001b[43m  \u001b[49m\u001b[43mdatasets\u001b[49m\u001b[43m,\u001b[49m\n\u001b[1;32m     62\u001b[0m \u001b[43m  \u001b[49m\u001b[43mhistogram_categorical_levels_count\u001b[49m\u001b[38;5;241;43m=\u001b[39;49m\u001b[43mhistogram_categorical_levels_count\u001b[49m\u001b[43m)\u001b[49m\n",
            "File \u001b[0;32m/usr/local/lib/python3.9/dist-packages/facets_overview/base_generic_feature_statistics_generator.py:281\u001b[0m, in \u001b[0;36mBaseGenericFeatureStatisticsGenerator.GetDatasetsProto\u001b[0;34m(self, datasets, features, histogram_categorical_levels_count)\u001b[0m\n\u001b[1;32m    279\u001b[0m \u001b[38;5;28;01mexcept\u001b[39;00m (\u001b[38;5;167;01mUnicodeDecodeError\u001b[39;00m, \u001b[38;5;167;01mUnicodeEncodeError\u001b[39;00m):\n\u001b[1;32m    280\u001b[0m   printable_val \u001b[38;5;241m=\u001b[39m \u001b[38;5;124m'\u001b[39m\u001b[38;5;124m__BYTES_VALUE__\u001b[39m\u001b[38;5;124m'\u001b[39m\n\u001b[0;32m--> 281\u001b[0m bucket \u001b[38;5;241m=\u001b[39m \u001b[43mfeatstats\u001b[49m\u001b[38;5;241;43m.\u001b[39;49m\u001b[43mrank_histogram\u001b[49m\u001b[38;5;241;43m.\u001b[39;49m\u001b[43mbuckets\u001b[49m\u001b[38;5;241;43m.\u001b[39;49m\u001b[43madd\u001b[49m\u001b[43m(\u001b[49m\n\u001b[1;32m    282\u001b[0m \u001b[43m    \u001b[49m\u001b[43mlow_rank\u001b[49m\u001b[38;5;241;43m=\u001b[39;49m\u001b[43mval_index\u001b[49m\u001b[43m,\u001b[49m\n\u001b[1;32m    283\u001b[0m \u001b[43m    \u001b[49m\u001b[43mhigh_rank\u001b[49m\u001b[38;5;241;43m=\u001b[39;49m\u001b[43mval_index\u001b[49m\u001b[43m,\u001b[49m\n\u001b[1;32m    284\u001b[0m \u001b[43m    \u001b[49m\u001b[43msample_count\u001b[49m\u001b[38;5;241;43m=\u001b[39;49m\u001b[43mval\u001b[49m\u001b[43m[\u001b[49m\u001b[38;5;241;43m0\u001b[39;49m\u001b[43m]\u001b[49m\u001b[38;5;241;43m.\u001b[39;49m\u001b[43mitem\u001b[49m\u001b[43m(\u001b[49m\u001b[43m)\u001b[49m\u001b[43m,\u001b[49m\n\u001b[1;32m    285\u001b[0m \u001b[43m    \u001b[49m\u001b[43mlabel\u001b[49m\u001b[38;5;241;43m=\u001b[39;49m\u001b[43mprintable_val\u001b[49m\u001b[43m)\u001b[49m\n\u001b[1;32m    286\u001b[0m \u001b[38;5;28;01mif\u001b[39;00m val_index \u001b[38;5;241m<\u001b[39m \u001b[38;5;241m2\u001b[39m:\n\u001b[1;32m    287\u001b[0m   featstats\u001b[38;5;241m.\u001b[39mtop_values\u001b[38;5;241m.\u001b[39madd(\n\u001b[1;32m    288\u001b[0m       value\u001b[38;5;241m=\u001b[39mbucket\u001b[38;5;241m.\u001b[39mlabel, frequency\u001b[38;5;241m=\u001b[39mbucket\u001b[38;5;241m.\u001b[39msample_count)\n",
            "\u001b[0;31mTypeError\u001b[0m: [160] has type list, but expected one of: bytes, unicode"
          ]
        }
      ]
    },
    {
      "cell_type": "code",
      "source": [
        "ib.show_graph(p)"
      ],
      "metadata": {
        "colab": {
          "base_uri": "https://localhost:8080/",
          "height": 1000
        },
        "id": "axGcz4d6xcZT",
        "outputId": "58ef2c42-ee50-46e6-9b98-7cafd882ebb6"
      },
      "execution_count": 42,
      "outputs": [
        {
          "output_type": "display_data",
          "data": {
            "text/plain": [
              "<IPython.core.display.HTML object>"
            ],
            "text/html": [
              "\n",
              "            <link rel=\"stylesheet\" href=\"https://stackpath.bootstrapcdn.com/bootstrap/4.4.1/css/bootstrap.min.css\" integrity=\"sha384-Vkoo8x4CGsO3+Hhxv8T/Q5PaXtkKtu6ug5TOeNV6gBiFeWPGFN9MuhOf23Q9Ifjh\" crossorigin=\"anonymous\">\n",
              "            <div id=\"progress_indicator_fc07661d278eca8abfa2ebe5d297230d\">\n",
              "              <div class=\"spinner-border text-info\" role=\"status\"></div>\n",
              "              <span class=\"text-info\">Processing... show_graph</span>\n",
              "            </div>\n",
              "            "
            ]
          },
          "metadata": {}
        },
        {
          "output_type": "stream",
          "name": "stdout",
          "text": [
            "/usr/bin/dot\n"
          ]
        },
        {
          "output_type": "display_data",
          "data": {
            "text/plain": [
              "<IPython.core.display.HTML object>"
            ],
            "text/html": [
              "<?xml version=\"1.0\" encoding=\"UTF-8\" standalone=\"no\"?>\n",
              "<!DOCTYPE svg PUBLIC \"-//W3C//DTD SVG 1.1//EN\"\n",
              " \"http://www.w3.org/Graphics/SVG/1.1/DTD/svg11.dtd\">\n",
              "<!-- Generated by graphviz version 2.43.0 (0)\n",
              " -->\n",
              "<!-- Title: G Pages: 1 -->\n",
              "<svg width=\"580pt\" height=\"847pt\"\n",
              " viewBox=\"0.00 0.00 580.00 846.80\" xmlns=\"http://www.w3.org/2000/svg\" xmlns:xlink=\"http://www.w3.org/1999/xlink\">\n",
              "<g id=\"graph0\" class=\"graph\" transform=\"scale(1 1) rotate(0) translate(4 842.8)\">\n",
              "<title>G</title>\n",
              "<polygon fill=\"white\" stroke=\"transparent\" points=\"-4,4 -4,-842.8 576,-842.8 576,4 -4,4\"/>\n",
              "<!-- [38]: Create -->\n",
              "<g id=\"node1\" class=\"node\">\n",
              "<title>[38]: Create</title>\n",
              "<polygon fill=\"none\" stroke=\"blue\" points=\"327,-838.8 245,-838.8 245,-802.8 327,-802.8 327,-838.8\"/>\n",
              "<text text-anchor=\"middle\" x=\"286\" y=\"-817.1\" font-family=\"Times,serif\" font-size=\"14.00\" fill=\"blue\">[38]: Create</text>\n",
              "</g>\n",
              "<!-- pcoll4864 -->\n",
              "<g id=\"node2\" class=\"node\">\n",
              "<title>pcoll4864</title>\n",
              "<ellipse fill=\"none\" stroke=\"blue\" cx=\"286\" cy=\"-748.8\" rx=\"18\" ry=\"18\"/>\n",
              "</g>\n",
              "<!-- [38]: Create&#45;&gt;pcoll4864 -->\n",
              "<g id=\"edge1\" class=\"edge\">\n",
              "<title>[38]: Create&#45;&gt;pcoll4864</title>\n",
              "<path fill=\"none\" stroke=\"black\" d=\"M286,-802.49C286,-794.78 286,-785.51 286,-776.91\"/>\n",
              "<polygon fill=\"black\" stroke=\"black\" points=\"289.5,-776.9 286,-766.9 282.5,-776.9 289.5,-776.9\"/>\n",
              "</g>\n",
              "<!-- [38]: Map(&lt;lambda at 4289895552.py:4&gt;) -->\n",
              "<g id=\"node3\" class=\"node\">\n",
              "<title>[38]: Map(&lt;lambda at 4289895552.py:4&gt;)</title>\n",
              "<polygon fill=\"none\" stroke=\"blue\" points=\"411.5,-694.8 160.5,-694.8 160.5,-658.8 411.5,-658.8 411.5,-694.8\"/>\n",
              "<text text-anchor=\"middle\" x=\"286\" y=\"-673.1\" font-family=\"Times,serif\" font-size=\"14.00\" fill=\"blue\">[38]: Map(&lt;lambda at 4289895552.py:4&gt;)</text>\n",
              "</g>\n",
              "<!-- pcoll4864&#45;&gt;[38]: Map(&lt;lambda at 4289895552.py:4&gt;) -->\n",
              "<g id=\"edge2\" class=\"edge\">\n",
              "<title>pcoll4864&#45;&gt;[38]: Map(&lt;lambda at 4289895552.py:4&gt;)</title>\n",
              "<path fill=\"none\" stroke=\"black\" d=\"M286,-730.49C286,-722.78 286,-713.51 286,-704.91\"/>\n",
              "<polygon fill=\"black\" stroke=\"black\" points=\"289.5,-704.9 286,-694.9 282.5,-704.9 289.5,-704.9\"/>\n",
              "</g>\n",
              "<!-- pcoll8402 -->\n",
              "<g id=\"node4\" class=\"node\">\n",
              "<title>pcoll8402</title>\n",
              "<ellipse fill=\"none\" stroke=\"blue\" cx=\"286\" cy=\"-604.8\" rx=\"18\" ry=\"18\"/>\n",
              "</g>\n",
              "<!-- [38]: Map(&lt;lambda at 4289895552.py:4&gt;)&#45;&gt;pcoll8402 -->\n",
              "<g id=\"edge3\" class=\"edge\">\n",
              "<title>[38]: Map(&lt;lambda at 4289895552.py:4&gt;)&#45;&gt;pcoll8402</title>\n",
              "<path fill=\"none\" stroke=\"black\" d=\"M286,-658.49C286,-650.78 286,-641.51 286,-632.91\"/>\n",
              "<polygon fill=\"black\" stroke=\"black\" points=\"289.5,-632.9 286,-622.9 282.5,-632.9 289.5,-632.9\"/>\n",
              "</g>\n",
              "<!-- [38]: WindowInto(WindowIntoFn) -->\n",
              "<g id=\"node5\" class=\"node\">\n",
              "<title>[38]: WindowInto(WindowIntoFn)</title>\n",
              "<polygon fill=\"none\" stroke=\"blue\" points=\"389,-550.8 183,-550.8 183,-514.8 389,-514.8 389,-550.8\"/>\n",
              "<text text-anchor=\"middle\" x=\"286\" y=\"-529.1\" font-family=\"Times,serif\" font-size=\"14.00\" fill=\"blue\">[38]: WindowInto(WindowIntoFn)</text>\n",
              "</g>\n",
              "<!-- pcoll8402&#45;&gt;[38]: WindowInto(WindowIntoFn) -->\n",
              "<g id=\"edge4\" class=\"edge\">\n",
              "<title>pcoll8402&#45;&gt;[38]: WindowInto(WindowIntoFn)</title>\n",
              "<path fill=\"none\" stroke=\"black\" d=\"M286,-586.49C286,-578.78 286,-569.51 286,-560.91\"/>\n",
              "<polygon fill=\"black\" stroke=\"black\" points=\"289.5,-560.9 286,-550.9 282.5,-560.9 289.5,-560.9\"/>\n",
              "</g>\n",
              "<!-- pcoll5105 -->\n",
              "<g id=\"node6\" class=\"node\">\n",
              "<title>pcoll5105</title>\n",
              "<ellipse fill=\"none\" stroke=\"blue\" cx=\"286\" cy=\"-460.8\" rx=\"18\" ry=\"18\"/>\n",
              "</g>\n",
              "<!-- [38]: WindowInto(WindowIntoFn)&#45;&gt;pcoll5105 -->\n",
              "<g id=\"edge5\" class=\"edge\">\n",
              "<title>[38]: WindowInto(WindowIntoFn)&#45;&gt;pcoll5105</title>\n",
              "<path fill=\"none\" stroke=\"black\" d=\"M286,-514.49C286,-506.78 286,-497.51 286,-488.91\"/>\n",
              "<polygon fill=\"black\" stroke=\"black\" points=\"289.5,-488.9 286,-478.9 282.5,-488.9 289.5,-488.9\"/>\n",
              "</g>\n",
              "<!-- [38]: GroupByKey -->\n",
              "<g id=\"node7\" class=\"node\">\n",
              "<title>[38]: GroupByKey</title>\n",
              "<polygon fill=\"none\" stroke=\"blue\" points=\"345.5,-406.8 226.5,-406.8 226.5,-370.8 345.5,-370.8 345.5,-406.8\"/>\n",
              "<text text-anchor=\"middle\" x=\"286\" y=\"-385.1\" font-family=\"Times,serif\" font-size=\"14.00\" fill=\"blue\">[38]: GroupByKey</text>\n",
              "</g>\n",
              "<!-- pcoll5105&#45;&gt;[38]: GroupByKey -->\n",
              "<g id=\"edge6\" class=\"edge\">\n",
              "<title>pcoll5105&#45;&gt;[38]: GroupByKey</title>\n",
              "<path fill=\"none\" stroke=\"black\" d=\"M286,-442.49C286,-434.78 286,-425.51 286,-416.91\"/>\n",
              "<polygon fill=\"black\" stroke=\"black\" points=\"289.5,-416.9 286,-406.9 282.5,-416.9 289.5,-416.9\"/>\n",
              "</g>\n",
              "<!-- pc6 -->\n",
              "<g id=\"node8\" class=\"node\">\n",
              "<title>pc6</title>\n",
              "<ellipse fill=\"none\" stroke=\"blue\" cx=\"286\" cy=\"-311.4\" rx=\"23.3\" ry=\"23.3\"/>\n",
              "<text text-anchor=\"middle\" x=\"286\" y=\"-307.7\" font-family=\"Times,serif\" font-size=\"14.00\" fill=\"blue\">pc6</text>\n",
              "</g>\n",
              "<!-- [38]: GroupByKey&#45;&gt;pc6 -->\n",
              "<g id=\"edge7\" class=\"edge\">\n",
              "<title>[38]: GroupByKey&#45;&gt;pc6</title>\n",
              "<path fill=\"none\" stroke=\"black\" d=\"M286,-370.69C286,-363.07 286,-353.83 286,-344.97\"/>\n",
              "<polygon fill=\"black\" stroke=\"black\" points=\"289.5,-344.88 286,-334.88 282.5,-344.88 289.5,-344.88\"/>\n",
              "</g>\n",
              "<!-- [38]: ReifyBefore_WriteCache_f23e4277c8&#45;139760129055616&#45;139760129053792&#45;139760129069648 -->\n",
              "<g id=\"node9\" class=\"node\">\n",
              "<title>[38]: ReifyBefore_WriteCache_f23e4277c8&#45;139760129055616&#45;139760129053792&#45;139760129069648</title>\n",
              "<polygon fill=\"none\" stroke=\"blue\" points=\"572,-252 0,-252 0,-216 572,-216 572,-252\"/>\n",
              "<text text-anchor=\"middle\" x=\"286\" y=\"-230.3\" font-family=\"Times,serif\" font-size=\"14.00\" fill=\"blue\">[38]: ReifyBefore_WriteCache_f23e4277c8&#45;139760129055616&#45;139760129053792&#45;139760129069648</text>\n",
              "</g>\n",
              "<!-- pc6&#45;&gt;[38]: ReifyBefore_WriteCache_f23e4277c8&#45;139760129055616&#45;139760129053792&#45;139760129069648 -->\n",
              "<g id=\"edge8\" class=\"edge\">\n",
              "<title>pc6&#45;&gt;[38]: ReifyBefore_WriteCache_f23e4277c8&#45;139760129055616&#45;139760129053792&#45;139760129069648</title>\n",
              "<path fill=\"none\" stroke=\"black\" d=\"M286,-287.78C286,-279.72 286,-270.57 286,-262.18\"/>\n",
              "<polygon fill=\"black\" stroke=\"black\" points=\"289.5,-262.09 286,-252.09 282.5,-262.09 289.5,-262.09\"/>\n",
              "</g>\n",
              "<!-- pcoll5022 -->\n",
              "<g id=\"node10\" class=\"node\">\n",
              "<title>pcoll5022</title>\n",
              "<ellipse fill=\"none\" stroke=\"blue\" cx=\"286\" cy=\"-162\" rx=\"18\" ry=\"18\"/>\n",
              "</g>\n",
              "<!-- [38]: ReifyBefore_WriteCache_f23e4277c8&#45;139760129055616&#45;139760129053792&#45;139760129069648&#45;&gt;pcoll5022 -->\n",
              "<g id=\"edge9\" class=\"edge\">\n",
              "<title>[38]: ReifyBefore_WriteCache_f23e4277c8&#45;139760129055616&#45;139760129053792&#45;139760129069648&#45;&gt;pcoll5022</title>\n",
              "<path fill=\"none\" stroke=\"black\" d=\"M286,-215.7C286,-207.98 286,-198.71 286,-190.11\"/>\n",
              "<polygon fill=\"black\" stroke=\"black\" points=\"289.5,-190.1 286,-180.1 282.5,-190.1 289.5,-190.1\"/>\n",
              "</g>\n",
              "<!-- [38]: WriteCache_f23e4277c8&#45;139760129055616&#45;139760129053792&#45;139760129069648 -->\n",
              "<g id=\"node11\" class=\"node\">\n",
              "<title>[38]: WriteCache_f23e4277c8&#45;139760129055616&#45;139760129053792&#45;139760129069648</title>\n",
              "<polygon fill=\"none\" stroke=\"blue\" points=\"535,-108 37,-108 37,-72 535,-72 535,-108\"/>\n",
              "<text text-anchor=\"middle\" x=\"286\" y=\"-86.3\" font-family=\"Times,serif\" font-size=\"14.00\" fill=\"blue\">[38]: WriteCache_f23e4277c8&#45;139760129055616&#45;139760129053792&#45;139760129069648</text>\n",
              "</g>\n",
              "<!-- pcoll5022&#45;&gt;[38]: WriteCache_f23e4277c8&#45;139760129055616&#45;139760129053792&#45;139760129069648 -->\n",
              "<g id=\"edge10\" class=\"edge\">\n",
              "<title>pcoll5022&#45;&gt;[38]: WriteCache_f23e4277c8&#45;139760129055616&#45;139760129053792&#45;139760129069648</title>\n",
              "<path fill=\"none\" stroke=\"black\" d=\"M286,-143.7C286,-135.98 286,-126.71 286,-118.11\"/>\n",
              "<polygon fill=\"black\" stroke=\"black\" points=\"289.5,-118.1 286,-108.1 282.5,-118.1 289.5,-118.1\"/>\n",
              "</g>\n",
              "<!-- pcoll4446 -->\n",
              "<g id=\"node12\" class=\"node\">\n",
              "<title>pcoll4446</title>\n",
              "<ellipse fill=\"none\" stroke=\"blue\" cx=\"286\" cy=\"-18\" rx=\"18\" ry=\"18\"/>\n",
              "</g>\n",
              "<!-- [38]: WriteCache_f23e4277c8&#45;139760129055616&#45;139760129053792&#45;139760129069648&#45;&gt;pcoll4446 -->\n",
              "<g id=\"edge11\" class=\"edge\">\n",
              "<title>[38]: WriteCache_f23e4277c8&#45;139760129055616&#45;139760129053792&#45;139760129069648&#45;&gt;pcoll4446</title>\n",
              "<path fill=\"none\" stroke=\"black\" d=\"M286,-71.7C286,-63.98 286,-54.71 286,-46.11\"/>\n",
              "<polygon fill=\"black\" stroke=\"black\" points=\"289.5,-46.1 286,-36.1 282.5,-46.1 289.5,-46.1\"/>\n",
              "</g>\n",
              "</g>\n",
              "</svg>\n"
            ]
          },
          "metadata": {}
        },
        {
          "output_type": "display_data",
          "data": {
            "application/javascript": [
              "\n",
              "        if (typeof window.interactive_beam_jquery == 'undefined') {\n",
              "          var jqueryScript = document.createElement('script');\n",
              "          jqueryScript.src = 'https://code.jquery.com/jquery-3.4.1.slim.min.js';\n",
              "          jqueryScript.type = 'text/javascript';\n",
              "          jqueryScript.onload = function() {\n",
              "            var datatableScript = document.createElement('script');\n",
              "            datatableScript.src = 'https://cdn.datatables.net/1.10.20/js/jquery.dataTables.min.js';\n",
              "            datatableScript.type = 'text/javascript';\n",
              "            datatableScript.onload = function() {\n",
              "              window.interactive_beam_jquery = jQuery.noConflict(true);\n",
              "              window.interactive_beam_jquery(document).ready(function($){\n",
              "                \n",
              "            $(\"#progress_indicator_fc07661d278eca8abfa2ebe5d297230d\").remove();\n",
              "              });\n",
              "            }\n",
              "            document.head.appendChild(datatableScript);\n",
              "          };\n",
              "          document.head.appendChild(jqueryScript);\n",
              "        } else {\n",
              "          window.interactive_beam_jquery(document).ready(function($){\n",
              "            \n",
              "            $(\"#progress_indicator_fc07661d278eca8abfa2ebe5d297230d\").remove();\n",
              "          });\n",
              "        }"
            ]
          },
          "metadata": {}
        }
      ]
    },
    {
      "cell_type": "markdown",
      "metadata": {
        "id": "Ba3tYIzFYIUD"
      },
      "source": [
        "---\n",
        "If you made it this far, follow [David Regalado](https://beacons.ai/davidregalado) for more code!"
      ]
    }
  ]
}