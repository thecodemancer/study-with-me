{
  "nbformat": 4,
  "nbformat_minor": 0,
  "metadata": {
    "colab": {
      "provenance": [],
      "authorship_tag": "ABX9TyNYwm8TdaAjvcneJ0XiJ+WF",
      "include_colab_link": true
    },
    "kernelspec": {
      "name": "python3",
      "display_name": "Python 3"
    },
    "language_info": {
      "name": "python"
    }
  },
  "cells": [
    {
      "cell_type": "markdown",
      "metadata": {
        "id": "view-in-github",
        "colab_type": "text"
      },
      "source": [
        "<a href=\"https://colab.research.google.com/github/thecodemancer/study-with-me/blob/main/apache-beam/side_inputs.ipynb\" target=\"_parent\"><img src=\"https://colab.research.google.com/assets/colab-badge.svg\" alt=\"Open In Colab\"/></a>"
      ]
    },
    {
      "cell_type": "markdown",
      "source": [
        "# Side Inputs"
      ],
      "metadata": {
        "id": "PmyZbbMrJfhR"
      }
    },
    {
      "cell_type": "markdown",
      "source": [
        "In addition to the main input PCollection, you can provide additional inputs to a ParDo transform in the form of side inputs. A side input is an additional input that your DoFn can access each time it processes an element in the input PCollection. When you specify a side input, you create a view of some other data that can be read from within the ParDo transform’s DoFn while processing each element.\n",
        "\n",
        "Side inputs are useful if your ParDo needs to inject additional data when processing each element in the input PCollection, but the additional data needs to be determined at runtime (and not hard-coded). Such values might be determined by the input data, or depend on a different branch of your pipeline.\n",
        "\n",
        "4.4.1. Passing side inputs to ParDo\n"
      ],
      "metadata": {
        "id": "pQGOT2mDw88D"
      }
    },
    {
      "cell_type": "code",
      "source": [
        "#!pip install apache-beam"
      ],
      "metadata": {
        "id": "OJwzfFGpt0j_"
      },
      "execution_count": null,
      "outputs": []
    },
    {
      "cell_type": "code",
      "source": [
        "import apache_beam as beam"
      ],
      "metadata": {
        "id": "s9SyqkwdKeNL"
      },
      "execution_count": null,
      "outputs": []
    },
    {
      "cell_type": "markdown",
      "source": [
        "## 1. beam.pvalue.AsIter"
      ],
      "metadata": {
        "id": "UEPfVg12JaXD"
      }
    },
    {
      "cell_type": "markdown",
      "source": [
        "Example 1. This example iterates over elements in a side input PCollection:"
      ],
      "metadata": {
        "id": "VAcnfhE3IX_B"
      }
    },
    {
      "cell_type": "code",
      "source": [
        "def process_with_iter(element, side_input):\n",
        "  # Iterate through elements in the side input\n",
        "  for item in side_input:\n",
        "    # Process the element and side input item\n",
        "    yield element + item\n",
        "\n",
        "with beam.Pipeline() as pipeline:\n",
        "  # Create main PCollection\n",
        "  main_data = pipeline | 'Create Main' >> beam.Create([1, 2, 3])\n",
        "\n",
        "  # Create side input PCollection\n",
        "  side_data = pipeline | 'Create Side' >> beam.Create([4, 5, 6, 7])\n",
        "\n",
        "  # Apply ParDo with AsIter for side input\n",
        "  result = main_data | 'Process' >> beam.ParDo(process_with_iter, beam.pvalue.AsIter(side_data))\n",
        "\n",
        "  # Print the result (might be different due to Beam's non-deterministic nature)\n",
        "  output = result | 'Print' >> beam.Map(print)"
      ],
      "metadata": {
        "colab": {
          "base_uri": "https://localhost:8080/"
        },
        "id": "kxwqTKKEIYRx",
        "outputId": "992f186b-7b5b-4293-f262-461f6e268e57"
      },
      "execution_count": 13,
      "outputs": [
        {
          "output_type": "stream",
          "name": "stdout",
          "text": [
            "5\n",
            "6\n",
            "7\n",
            "8\n",
            "6\n",
            "7\n",
            "8\n",
            "9\n",
            "7\n",
            "8\n",
            "9\n",
            "10\n"
          ]
        }
      ]
    },
    {
      "cell_type": "markdown",
      "source": [
        "Example 2. This example filters elements in a side input PCollection:"
      ],
      "metadata": {
        "id": "wfNDV_zhKL1P"
      }
    },
    {
      "cell_type": "code",
      "source": [
        "class MyDoFn(beam.DoFn):\n",
        "\n",
        "    def process(self, element, my_side_input):\n",
        "        my_list = list(my_side_input)  # access the contents of the side input\n",
        "        if element in my_list:\n",
        "            yield element"
      ],
      "metadata": {
        "id": "h_-3qCaHuJ8U"
      },
      "execution_count": 14,
      "outputs": []
    },
    {
      "cell_type": "code",
      "source": [
        "with beam.Pipeline() as p:\n",
        "  my_list = p | 'Create side input' >> beam.Create([1, 2, 3, 4, 5])\n",
        "  output = (p | 'Create PCollection' >> beam.Create([1, 3, 5, 7, 9])\n",
        "           | 'Filter using side input' >> beam.ParDo(MyDoFn(), beam.pvalue.AsIter(my_list))\n",
        "           | 'Print Output' >> beam.Map(print))\n"
      ],
      "metadata": {
        "id": "TTjXxlyZKyVj",
        "colab": {
          "base_uri": "https://localhost:8080/"
        },
        "outputId": "71fd88d8-7c3d-4786-e923-c2cc27d2f41f"
      },
      "execution_count": 15,
      "outputs": [
        {
          "output_type": "stream",
          "name": "stdout",
          "text": [
            "1\n",
            "3\n",
            "5\n"
          ]
        }
      ]
    },
    {
      "cell_type": "markdown",
      "source": [
        "## 2. beam.pvalue.AsSingleton:"
      ],
      "metadata": {
        "id": "Jp7FWBhZKXMw"
      }
    },
    {
      "cell_type": "markdown",
      "source": [
        "Example 1: This example multiplies each element of the PCollection by the number in the side input."
      ],
      "metadata": {
        "id": "IH1OXvkJMIff"
      }
    },
    {
      "cell_type": "code",
      "source": [
        "def process_with_singleton(element, side_input):\n",
        "  # Access the single element from the side input\n",
        "  value = side_input\n",
        "  # Process the element and side input value\n",
        "  yield element * value\n",
        "\n",
        "with beam.Pipeline() as pipeline:\n",
        "  # Create main PCollection\n",
        "  main_data = pipeline | 'Create Main' >> beam.Create([2, 4])\n",
        "\n",
        "  # Create side input PCollection with a single element\n",
        "  side_data = pipeline | 'Create Side' >> beam.Create([3])\n",
        "\n",
        "  # Apply ParDo with AsSingleton for side input\n",
        "  result = main_data | 'Process' >> beam.ParDo(process_with_singleton, beam.pvalue.AsSingleton(side_data))\n",
        "\n",
        "  # Print the result (might be different due to Beam's non-deterministic nature)\n",
        "  output = result | 'Print' >> beam.Map(print)\n"
      ],
      "metadata": {
        "colab": {
          "base_uri": "https://localhost:8080/"
        },
        "id": "6JVGI237KasW",
        "outputId": "d1300bf1-fc75-4fe2-9d73-b014b6232024"
      },
      "execution_count": 22,
      "outputs": [
        {
          "output_type": "stream",
          "name": "stdout",
          "text": [
            "6\n",
            "12\n"
          ]
        }
      ]
    },
    {
      "cell_type": "markdown",
      "source": [
        "## 3. beam.pvalue.AsDict:"
      ],
      "metadata": {
        "id": "5U2Db6XmLGhn"
      }
    },
    {
      "cell_type": "markdown",
      "source": [
        "Example 1: This example calculates the sum per each element of a PCollection using the first element of the side input (\"key1\")"
      ],
      "metadata": {
        "id": "mjbC7gKRLpMF"
      }
    },
    {
      "cell_type": "code",
      "source": [
        "def process_with_dict(element, side_input):\n",
        "  # Access the value associated with a specific key\n",
        "  value = side_input[\"key1\"]\n",
        "  # Process the element and side input value\n",
        "  yield element + value\n",
        "\n",
        "with beam.Pipeline() as pipeline:\n",
        "  # Create main PCollection\n",
        "  main_data = pipeline | 'Create Main' >> beam.Create([10, 20])\n",
        "\n",
        "  # Create side input PCollection as key-value pairs\n",
        "  side_data = pipeline | 'Create Side' >> beam.Create([(\"key1\", 5), (\"key2\", 3)])\n",
        "\n",
        "  # Apply ParDo with AsDict for side input\n",
        "  result = main_data | 'Process' >> beam.ParDo(process_with_dict, beam.pvalue.AsDict(side_data))\n",
        "\n",
        "  # Print the result (might be different due to Beam's non-deterministic nature)\n",
        "  output = result | 'Print' >> beam.Map(print)"
      ],
      "metadata": {
        "colab": {
          "base_uri": "https://localhost:8080/"
        },
        "id": "HLi0z5hfLJKc",
        "outputId": "aeba9506-bf59-4d96-f8c0-83005656743c"
      },
      "execution_count": 24,
      "outputs": [
        {
          "output_type": "stream",
          "name": "stdout",
          "text": [
            "15\n",
            "25\n"
          ]
        }
      ]
    },
    {
      "cell_type": "markdown",
      "source": [
        "Example 2: This example calculates the sum per each element of a PCollection using the first element of the side input (\"key1\")"
      ],
      "metadata": {
        "id": "Q1hZDD2mLTjp"
      }
    },
    {
      "cell_type": "code",
      "source": [
        "def process_with_dict(element, side_input):\n",
        "  # Access the value associated with a specific key\n",
        "  value = side_input[\"key1\"]\n",
        "  # Process the element and side input value\n",
        "  yield element + value\n",
        "\n",
        "with beam.Pipeline() as pipeline:\n",
        "  # Create main PCollection\n",
        "  main_data = pipeline | 'Create Main' >> beam.Create([10, 20])\n",
        "\n",
        "  # Create side input PCollection as key-value pairs\n",
        "  side_data = pipeline | 'Create Side' >> beam.Create({\"key1\": 5, \"key2\": 3})\n",
        "\n",
        "  # Apply ParDo with AsDict for side input\n",
        "  result = main_data | 'Process' >> beam.ParDo(process_with_dict, beam.pvalue.AsDict(side_data))\n",
        "\n",
        "  # Print the result (might be different due to Beam's non-deterministic nature)\n",
        "  output = result | 'Print' >> beam.Map(print)"
      ],
      "metadata": {
        "colab": {
          "base_uri": "https://localhost:8080/"
        },
        "id": "FllGP2TYLS2U",
        "outputId": "0efb65e3-0bfa-444a-ffdf-8aea89673b6d"
      },
      "execution_count": 26,
      "outputs": [
        {
          "output_type": "stream",
          "name": "stdout",
          "text": [
            "15\n",
            "25\n"
          ]
        }
      ]
    },
    {
      "cell_type": "markdown",
      "source": [
        "## 4. beam.pvalue.AsList:"
      ],
      "metadata": {
        "id": "bkzzxv0PwawU"
      }
    },
    {
      "cell_type": "markdown",
      "source": [
        "Example 1: This example does a replace in a given block of text passing a list as a side input."
      ],
      "metadata": {
        "id": "9ABjqZPGwe13"
      }
    },
    {
      "cell_type": "code",
      "source": [
        "import apache_beam as beam\n",
        "import datetime\n",
        "import json\n",
        "\n",
        "def process_with_dict(element, side_input):\n",
        "  example = \"Lorem Ipsum is simply dummy text of the printing and typesetting industry. Lorem Ipsum has been the industry's standard dummy text ever since the 1500s, when an unknown printer took a galley of type and scrambled it to make a type specimen book. It has survived not only five centuries, but also the leap into electronic typesetting, remaining essentially unchanged. It was popularised in the 1960s with the release of Letraset sheets containing Lorem Ipsum passages, and more recently with desktop publishing software like Aldus PageMaker including versions of Lorem Ipsum.\"\n",
        "  # Access specific values by key\n",
        "  output = example.replace(\"Lorem\", str(side_input))\n",
        "  # Process the element and side input value\n",
        "  yield output\n",
        "  #yield element + mtd\n",
        "\n",
        "# Sample data (modify with your actual data source)\n",
        "data = [{\n",
        "    'metric': 'tickets',\n",
        "    'date': datetime.datetime(2024, 3, 1, 0, 0, tzinfo=datetime.timezone.utc),\n",
        "    'last_day': 132.0,\n",
        "    'last_30_days': 82456.0,\n",
        "    'mtd': 3589.0,\n",
        "    'mtd_ratio_with_last_year': 191.52,\n",
        "    'ytd': 170517.0,\n",
        "    'ytd_ratio_with_last_year': 113.78\n",
        "  },\n",
        "  {\n",
        "    'metric': 'sales',\n",
        "    'date': datetime.datetime(2024, 3, 2, 0, 0, tzinfo=datetime.timezone.utc),\n",
        "    'last_day': 43300.99,\n",
        "    'last_30_days': 33619927.1,\n",
        "    'mtd': 1428140.41,\n",
        "    'mtd_ratio_with_last_year': 246.57,\n",
        "    'ytd': 66144943.69,\n",
        "    'ytd_ratio_with_last_year': 114.68\n",
        "  }]\n",
        "\n",
        "with beam.Pipeline() as pipeline:\n",
        "  # Create main PCollection\n",
        "  main_data = pipeline | 'Create Main' >> beam.Create([1, 2, 3, 4, 5])\n",
        "\n",
        "  # Create side input PCollection as dictionaries\n",
        "  side_data = (pipeline | 'Create Side' >> beam.Create(data)\n",
        "                    | 'Format' >> beam.Map(lambda x: ({\n",
        "                        'metric': x['metric'],\n",
        "                        'date': x['date'].strftime('%Y-%m-%d %H:%M:%S %Z'),\n",
        "                        'last_day': x['last_day'],\n",
        "                        'last_30_days': x['last_day'],\n",
        "                        'mtd': x['last_day'],\n",
        "                        'mtd_ratio_with_last_year': x['last_day'],\n",
        "                        'ytd': x['last_day'],\n",
        "                        'ytd_ratio_with_last_year': x['last_day']\n",
        "                        }))\n",
        "              )\n",
        "  #output = side_data | 'Print' >> beam.Map(print)\n",
        "  # Apply ParDo with AsDict for side input\n",
        "  #result = main_data | 'Process' >> beam.ParDo(process_with_dict, side_data)\n",
        "  #result = main_data | 'Process' >> beam.ParDo(process_with_dict, beam.pvalue.AsSingleton(side_data))\n",
        "  #result = main_data | 'Process' >> beam.ParDo(process_with_dict, beam.pvalue.AsIter(side_data))\n",
        "  #result = main_data | 'Process' >> beam.ParDo(process_with_dict, beam.pvalue.AsDict(side_data))\n",
        "  result = main_data | 'Process' >> beam.ParDo(process_with_dict, beam.pvalue.AsList(side_data))\n",
        "  # Print the result (might be different due to Beam's non-deterministic nature)\n",
        "  output = result | 'Print 2' >> beam.Map(print)\n",
        ""
      ],
      "metadata": {
        "colab": {
          "base_uri": "https://localhost:8080/"
        },
        "id": "WfyO0zG4M3uw",
        "outputId": "18130b8d-e40f-4a12-b20a-f910cae73721"
      },
      "execution_count": 98,
      "outputs": [
        {
          "output_type": "stream",
          "name": "stdout",
          "text": [
            "[{'metric': 'tickets', 'date': '2024-03-01 00:00:00 UTC', 'last_day': 132.0, 'last_30_days': 132.0, 'mtd': 132.0, 'mtd_ratio_with_last_year': 132.0, 'ytd': 132.0, 'ytd_ratio_with_last_year': 132.0}, {'metric': 'sales', 'date': '2024-03-02 00:00:00 UTC', 'last_day': 43300.99, 'last_30_days': 43300.99, 'mtd': 43300.99, 'mtd_ratio_with_last_year': 43300.99, 'ytd': 43300.99, 'ytd_ratio_with_last_year': 43300.99}] Ipsum is simply dummy text of the printing and typesetting industry. [{'metric': 'tickets', 'date': '2024-03-01 00:00:00 UTC', 'last_day': 132.0, 'last_30_days': 132.0, 'mtd': 132.0, 'mtd_ratio_with_last_year': 132.0, 'ytd': 132.0, 'ytd_ratio_with_last_year': 132.0}, {'metric': 'sales', 'date': '2024-03-02 00:00:00 UTC', 'last_day': 43300.99, 'last_30_days': 43300.99, 'mtd': 43300.99, 'mtd_ratio_with_last_year': 43300.99, 'ytd': 43300.99, 'ytd_ratio_with_last_year': 43300.99}] Ipsum has been the industry's standard dummy text ever since the 1500s, when an unknown printer took a galley of type and scrambled it to make a type specimen book. It has survived not only five centuries, but also the leap into electronic typesetting, remaining essentially unchanged. It was popularised in the 1960s with the release of Letraset sheets containing [{'metric': 'tickets', 'date': '2024-03-01 00:00:00 UTC', 'last_day': 132.0, 'last_30_days': 132.0, 'mtd': 132.0, 'mtd_ratio_with_last_year': 132.0, 'ytd': 132.0, 'ytd_ratio_with_last_year': 132.0}, {'metric': 'sales', 'date': '2024-03-02 00:00:00 UTC', 'last_day': 43300.99, 'last_30_days': 43300.99, 'mtd': 43300.99, 'mtd_ratio_with_last_year': 43300.99, 'ytd': 43300.99, 'ytd_ratio_with_last_year': 43300.99}] Ipsum passages, and more recently with desktop publishing software like Aldus PageMaker including versions of [{'metric': 'tickets', 'date': '2024-03-01 00:00:00 UTC', 'last_day': 132.0, 'last_30_days': 132.0, 'mtd': 132.0, 'mtd_ratio_with_last_year': 132.0, 'ytd': 132.0, 'ytd_ratio_with_last_year': 132.0}, {'metric': 'sales', 'date': '2024-03-02 00:00:00 UTC', 'last_day': 43300.99, 'last_30_days': 43300.99, 'mtd': 43300.99, 'mtd_ratio_with_last_year': 43300.99, 'ytd': 43300.99, 'ytd_ratio_with_last_year': 43300.99}] Ipsum.\n",
            "[{'metric': 'tickets', 'date': '2024-03-01 00:00:00 UTC', 'last_day': 132.0, 'last_30_days': 132.0, 'mtd': 132.0, 'mtd_ratio_with_last_year': 132.0, 'ytd': 132.0, 'ytd_ratio_with_last_year': 132.0}, {'metric': 'sales', 'date': '2024-03-02 00:00:00 UTC', 'last_day': 43300.99, 'last_30_days': 43300.99, 'mtd': 43300.99, 'mtd_ratio_with_last_year': 43300.99, 'ytd': 43300.99, 'ytd_ratio_with_last_year': 43300.99}] Ipsum is simply dummy text of the printing and typesetting industry. [{'metric': 'tickets', 'date': '2024-03-01 00:00:00 UTC', 'last_day': 132.0, 'last_30_days': 132.0, 'mtd': 132.0, 'mtd_ratio_with_last_year': 132.0, 'ytd': 132.0, 'ytd_ratio_with_last_year': 132.0}, {'metric': 'sales', 'date': '2024-03-02 00:00:00 UTC', 'last_day': 43300.99, 'last_30_days': 43300.99, 'mtd': 43300.99, 'mtd_ratio_with_last_year': 43300.99, 'ytd': 43300.99, 'ytd_ratio_with_last_year': 43300.99}] Ipsum has been the industry's standard dummy text ever since the 1500s, when an unknown printer took a galley of type and scrambled it to make a type specimen book. It has survived not only five centuries, but also the leap into electronic typesetting, remaining essentially unchanged. It was popularised in the 1960s with the release of Letraset sheets containing [{'metric': 'tickets', 'date': '2024-03-01 00:00:00 UTC', 'last_day': 132.0, 'last_30_days': 132.0, 'mtd': 132.0, 'mtd_ratio_with_last_year': 132.0, 'ytd': 132.0, 'ytd_ratio_with_last_year': 132.0}, {'metric': 'sales', 'date': '2024-03-02 00:00:00 UTC', 'last_day': 43300.99, 'last_30_days': 43300.99, 'mtd': 43300.99, 'mtd_ratio_with_last_year': 43300.99, 'ytd': 43300.99, 'ytd_ratio_with_last_year': 43300.99}] Ipsum passages, and more recently with desktop publishing software like Aldus PageMaker including versions of [{'metric': 'tickets', 'date': '2024-03-01 00:00:00 UTC', 'last_day': 132.0, 'last_30_days': 132.0, 'mtd': 132.0, 'mtd_ratio_with_last_year': 132.0, 'ytd': 132.0, 'ytd_ratio_with_last_year': 132.0}, {'metric': 'sales', 'date': '2024-03-02 00:00:00 UTC', 'last_day': 43300.99, 'last_30_days': 43300.99, 'mtd': 43300.99, 'mtd_ratio_with_last_year': 43300.99, 'ytd': 43300.99, 'ytd_ratio_with_last_year': 43300.99}] Ipsum.\n",
            "[{'metric': 'tickets', 'date': '2024-03-01 00:00:00 UTC', 'last_day': 132.0, 'last_30_days': 132.0, 'mtd': 132.0, 'mtd_ratio_with_last_year': 132.0, 'ytd': 132.0, 'ytd_ratio_with_last_year': 132.0}, {'metric': 'sales', 'date': '2024-03-02 00:00:00 UTC', 'last_day': 43300.99, 'last_30_days': 43300.99, 'mtd': 43300.99, 'mtd_ratio_with_last_year': 43300.99, 'ytd': 43300.99, 'ytd_ratio_with_last_year': 43300.99}] Ipsum is simply dummy text of the printing and typesetting industry. [{'metric': 'tickets', 'date': '2024-03-01 00:00:00 UTC', 'last_day': 132.0, 'last_30_days': 132.0, 'mtd': 132.0, 'mtd_ratio_with_last_year': 132.0, 'ytd': 132.0, 'ytd_ratio_with_last_year': 132.0}, {'metric': 'sales', 'date': '2024-03-02 00:00:00 UTC', 'last_day': 43300.99, 'last_30_days': 43300.99, 'mtd': 43300.99, 'mtd_ratio_with_last_year': 43300.99, 'ytd': 43300.99, 'ytd_ratio_with_last_year': 43300.99}] Ipsum has been the industry's standard dummy text ever since the 1500s, when an unknown printer took a galley of type and scrambled it to make a type specimen book. It has survived not only five centuries, but also the leap into electronic typesetting, remaining essentially unchanged. It was popularised in the 1960s with the release of Letraset sheets containing [{'metric': 'tickets', 'date': '2024-03-01 00:00:00 UTC', 'last_day': 132.0, 'last_30_days': 132.0, 'mtd': 132.0, 'mtd_ratio_with_last_year': 132.0, 'ytd': 132.0, 'ytd_ratio_with_last_year': 132.0}, {'metric': 'sales', 'date': '2024-03-02 00:00:00 UTC', 'last_day': 43300.99, 'last_30_days': 43300.99, 'mtd': 43300.99, 'mtd_ratio_with_last_year': 43300.99, 'ytd': 43300.99, 'ytd_ratio_with_last_year': 43300.99}] Ipsum passages, and more recently with desktop publishing software like Aldus PageMaker including versions of [{'metric': 'tickets', 'date': '2024-03-01 00:00:00 UTC', 'last_day': 132.0, 'last_30_days': 132.0, 'mtd': 132.0, 'mtd_ratio_with_last_year': 132.0, 'ytd': 132.0, 'ytd_ratio_with_last_year': 132.0}, {'metric': 'sales', 'date': '2024-03-02 00:00:00 UTC', 'last_day': 43300.99, 'last_30_days': 43300.99, 'mtd': 43300.99, 'mtd_ratio_with_last_year': 43300.99, 'ytd': 43300.99, 'ytd_ratio_with_last_year': 43300.99}] Ipsum.\n",
            "[{'metric': 'tickets', 'date': '2024-03-01 00:00:00 UTC', 'last_day': 132.0, 'last_30_days': 132.0, 'mtd': 132.0, 'mtd_ratio_with_last_year': 132.0, 'ytd': 132.0, 'ytd_ratio_with_last_year': 132.0}, {'metric': 'sales', 'date': '2024-03-02 00:00:00 UTC', 'last_day': 43300.99, 'last_30_days': 43300.99, 'mtd': 43300.99, 'mtd_ratio_with_last_year': 43300.99, 'ytd': 43300.99, 'ytd_ratio_with_last_year': 43300.99}] Ipsum is simply dummy text of the printing and typesetting industry. [{'metric': 'tickets', 'date': '2024-03-01 00:00:00 UTC', 'last_day': 132.0, 'last_30_days': 132.0, 'mtd': 132.0, 'mtd_ratio_with_last_year': 132.0, 'ytd': 132.0, 'ytd_ratio_with_last_year': 132.0}, {'metric': 'sales', 'date': '2024-03-02 00:00:00 UTC', 'last_day': 43300.99, 'last_30_days': 43300.99, 'mtd': 43300.99, 'mtd_ratio_with_last_year': 43300.99, 'ytd': 43300.99, 'ytd_ratio_with_last_year': 43300.99}] Ipsum has been the industry's standard dummy text ever since the 1500s, when an unknown printer took a galley of type and scrambled it to make a type specimen book. It has survived not only five centuries, but also the leap into electronic typesetting, remaining essentially unchanged. It was popularised in the 1960s with the release of Letraset sheets containing [{'metric': 'tickets', 'date': '2024-03-01 00:00:00 UTC', 'last_day': 132.0, 'last_30_days': 132.0, 'mtd': 132.0, 'mtd_ratio_with_last_year': 132.0, 'ytd': 132.0, 'ytd_ratio_with_last_year': 132.0}, {'metric': 'sales', 'date': '2024-03-02 00:00:00 UTC', 'last_day': 43300.99, 'last_30_days': 43300.99, 'mtd': 43300.99, 'mtd_ratio_with_last_year': 43300.99, 'ytd': 43300.99, 'ytd_ratio_with_last_year': 43300.99}] Ipsum passages, and more recently with desktop publishing software like Aldus PageMaker including versions of [{'metric': 'tickets', 'date': '2024-03-01 00:00:00 UTC', 'last_day': 132.0, 'last_30_days': 132.0, 'mtd': 132.0, 'mtd_ratio_with_last_year': 132.0, 'ytd': 132.0, 'ytd_ratio_with_last_year': 132.0}, {'metric': 'sales', 'date': '2024-03-02 00:00:00 UTC', 'last_day': 43300.99, 'last_30_days': 43300.99, 'mtd': 43300.99, 'mtd_ratio_with_last_year': 43300.99, 'ytd': 43300.99, 'ytd_ratio_with_last_year': 43300.99}] Ipsum.\n",
            "[{'metric': 'tickets', 'date': '2024-03-01 00:00:00 UTC', 'last_day': 132.0, 'last_30_days': 132.0, 'mtd': 132.0, 'mtd_ratio_with_last_year': 132.0, 'ytd': 132.0, 'ytd_ratio_with_last_year': 132.0}, {'metric': 'sales', 'date': '2024-03-02 00:00:00 UTC', 'last_day': 43300.99, 'last_30_days': 43300.99, 'mtd': 43300.99, 'mtd_ratio_with_last_year': 43300.99, 'ytd': 43300.99, 'ytd_ratio_with_last_year': 43300.99}] Ipsum is simply dummy text of the printing and typesetting industry. [{'metric': 'tickets', 'date': '2024-03-01 00:00:00 UTC', 'last_day': 132.0, 'last_30_days': 132.0, 'mtd': 132.0, 'mtd_ratio_with_last_year': 132.0, 'ytd': 132.0, 'ytd_ratio_with_last_year': 132.0}, {'metric': 'sales', 'date': '2024-03-02 00:00:00 UTC', 'last_day': 43300.99, 'last_30_days': 43300.99, 'mtd': 43300.99, 'mtd_ratio_with_last_year': 43300.99, 'ytd': 43300.99, 'ytd_ratio_with_last_year': 43300.99}] Ipsum has been the industry's standard dummy text ever since the 1500s, when an unknown printer took a galley of type and scrambled it to make a type specimen book. It has survived not only five centuries, but also the leap into electronic typesetting, remaining essentially unchanged. It was popularised in the 1960s with the release of Letraset sheets containing [{'metric': 'tickets', 'date': '2024-03-01 00:00:00 UTC', 'last_day': 132.0, 'last_30_days': 132.0, 'mtd': 132.0, 'mtd_ratio_with_last_year': 132.0, 'ytd': 132.0, 'ytd_ratio_with_last_year': 132.0}, {'metric': 'sales', 'date': '2024-03-02 00:00:00 UTC', 'last_day': 43300.99, 'last_30_days': 43300.99, 'mtd': 43300.99, 'mtd_ratio_with_last_year': 43300.99, 'ytd': 43300.99, 'ytd_ratio_with_last_year': 43300.99}] Ipsum passages, and more recently with desktop publishing software like Aldus PageMaker including versions of [{'metric': 'tickets', 'date': '2024-03-01 00:00:00 UTC', 'last_day': 132.0, 'last_30_days': 132.0, 'mtd': 132.0, 'mtd_ratio_with_last_year': 132.0, 'ytd': 132.0, 'ytd_ratio_with_last_year': 132.0}, {'metric': 'sales', 'date': '2024-03-02 00:00:00 UTC', 'last_day': 43300.99, 'last_30_days': 43300.99, 'mtd': 43300.99, 'mtd_ratio_with_last_year': 43300.99, 'ytd': 43300.99, 'ytd_ratio_with_last_year': 43300.99}] Ipsum.\n"
          ]
        }
      ]
    },
    {
      "cell_type": "markdown",
      "metadata": {
        "id": "Ba3tYIzFYIUD"
      },
      "source": [
        "---\n",
        "If you made it this far, follow [David Regalado](https://beacons.ai/davidregalado) for more code!"
      ]
    }
  ]
}