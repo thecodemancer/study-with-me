{
  "nbformat": 4,
  "nbformat_minor": 0,
  "metadata": {
    "colab": {
      "provenance": [],
      "authorship_tag": "ABX9TyPEYjST99otjTCfaB5nO0Vf",
      "include_colab_link": true
    },
    "kernelspec": {
      "name": "python3",
      "display_name": "Python 3"
    },
    "language_info": {
      "name": "python"
    }
  },
  "cells": [
    {
      "cell_type": "markdown",
      "metadata": {
        "id": "view-in-github",
        "colab_type": "text"
      },
      "source": [
        "<a href=\"https://colab.research.google.com/github/thecodemancer/study-with-me/blob/main/01_apache_airflow_overview.ipynb\" target=\"_parent\"><img src=\"https://colab.research.google.com/assets/colab-badge.svg\" alt=\"Open In Colab\"/></a>"
      ]
    },
    {
      "cell_type": "markdown",
      "source": [
        "<ceenter><img src=\"https://i0.wp.com/blog.knoldus.com/wp-content/uploads/2021/05/pasted-image-0-1.png?fit=549%2C215&ssl=1\" /></center>\n",
        "\n",
        "# What is Apache Airflow?\n",
        "Airflow is a platform that lets you build and run workflows. A workflow is represented as a DAG (a Directed Acyclic Graph), and contains individual pieces of work called Tasks, arranged with dependencies and data flows taken into account.\n",
        "\n",
        "A DAG specifies the dependencies between Tasks, and the order in which to execute them and run retries; the Tasks themselves describe what to do, be it fetching data, running analysis, triggering other systems, or more."
      ],
      "metadata": {
        "id": "ym-NZ1J-yHAE"
      }
    },
    {
      "cell_type": "markdown",
      "source": [
        "An Airflow installation generally consists of the following components:\n",
        "\n",
        "- A scheduler, which handles both triggering scheduled workflows, and submitting Tasks to the executor to run.\n",
        "- An executor, which handles running tasks. In the default Airflow installation, this runs everything inside the scheduler, but most production-suitable executors actually push task execution out to workers.\n",
        "- A webserver, which presents a handy user interface to inspect, trigger and debug the behaviour of DAGs and tasks.\n",
        "- A folder of DAG files, read by the scheduler and executor (and any workers the executor has)\n",
        "- A metadata database, used by the scheduler, executor and webserver to store state."
      ],
      "metadata": {
        "id": "5hs5b7CKL5ww"
      }
    },
    {
      "cell_type": "markdown",
      "source": [
        "\n",
        "\n",
        "---\n",
        "\n",
        "\n",
        "If you made it this far, follow [David Regalado](https://beacons.ai/davidregalado) for more code!"
      ],
      "metadata": {
        "id": "L7XbzPJmLRpP"
      }
    }
  ]
}