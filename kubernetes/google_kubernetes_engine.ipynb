{
  "nbformat": 4,
  "nbformat_minor": 0,
  "metadata": {
    "colab": {
      "name": "google_kubernetes_engine.ipynb",
      "provenance": [],
      "authorship_tag": "ABX9TyNcDwaC981F1edAzkMA4aEJ",
      "include_colab_link": true
    },
    "kernelspec": {
      "name": "python3",
      "display_name": "Python 3"
    },
    "language_info": {
      "name": "python"
    }
  },
  "cells": [
    {
      "cell_type": "markdown",
      "metadata": {
        "id": "view-in-github",
        "colab_type": "text"
      },
      "source": [
        "<a href=\"https://colab.research.google.com/github/thecodemancer/study-with-me/blob/main/kubernetes/google_kubernetes_engine.ipynb\" target=\"_parent\"><img src=\"https://colab.research.google.com/assets/colab-badge.svg\" alt=\"Open In Colab\"/></a>"
      ]
    },
    {
      "cell_type": "markdown",
      "source": [
        "# Overview\n",
        "\n",
        "Google Kubernetes Engine (GKE) provides a managed environment for deploying, managing, and scaling your containerized applications using Google infrastructure. The Kubernetes Engine environment consists of multiple machines (specifically Compute Engine instances) grouped to form a container cluster. In this lab, you get hands-on practice with container creation and application deployment with GKE.\n",
        "\n",
        "## Cluster orchestration with Google Kubernetes Engine\n",
        "Google Kubernetes Engine (GKE) clusters are powered by the [Kubernetes](https://kubernetes.io/) open source cluster management system. Kubernetes provides the mechanisms through which you interact with your container cluster. You use Kubernetes commands and resources to deploy and manage your applications, perform administrative tasks, set policies, and monitor the health of your deployed workloads.\n",
        "\n",
        "Kubernetes draws on the same design principles that run popular Google services and provides the same benefits: automatic management, monitoring and liveness probes for application containers, automatic scaling, rolling updates, and more. When you run your applications on a container cluster, you're using technology based on Google's 10+ years of experience with running production workloads in containers.\n",
        "\n",
        "## Kubernetes on Google Cloud\n",
        "When you run a GKE cluster, you also gain the benefit of advanced cluster management features that Google Cloud provides. These include:\n",
        "\n",
        "Load balancing for Compute Engine instances\n",
        "\n",
        "* Node pools to designate subsets of nodes within a cluster for additional flexibility\n",
        "* Automatic scaling of your cluster's node instance count\n",
        "* Automatic upgrades for your cluster's node software\n",
        "* Node auto-repair to maintain node health and availability\n",
        "* Logging and Monitoring with Cloud Monitoring for visibility into your cluster\n",
        "\n",
        "Now that you have a basic understanding of Kubernetes, you will learn how to deploy a containerized application with GKE in less than 30 minutes. Follow the steps below to set up your lab environment."
      ],
      "metadata": {
        "id": "ROEa5eW1rGkO"
      }
    },
    {
      "cell_type": "markdown",
      "source": [
        "## Task 1: Set a default compute zone\n"
      ],
      "metadata": {
        "id": "SNfVfdbmsmJ9"
      }
    },
    {
      "cell_type": "markdown",
      "source": [
        "To set your default compute zone to us-central1-a, start a new session in Cloud Shell, and run the following command:\n",
        "\n"
      ],
      "metadata": {
        "id": "EuYJ-A-kylpg"
      }
    },
    {
      "cell_type": "code",
      "source": [
        "gcloud config set compute/zone us-central1-a"
      ],
      "metadata": {
        "colab": {
          "base_uri": "https://localhost:8080/",
          "height": 130
        },
        "collapsed": true,
        "id": "UxnceQh7tVKN",
        "outputId": "d25ff63a-0f6d-47ca-e328-c2a5cf2f37e1"
      },
      "execution_count": null,
      "outputs": [
        {
          "output_type": "error",
          "ename": "SyntaxError",
          "evalue": "ignored",
          "traceback": [
            "\u001b[0;36m  File \u001b[0;32m\"<ipython-input-3-998415c15f20>\"\u001b[0;36m, line \u001b[0;32m1\u001b[0m\n\u001b[0;31m    gcloud config set compute/zone us-central1-a\u001b[0m\n\u001b[0m                ^\u001b[0m\n\u001b[0;31mSyntaxError\u001b[0m\u001b[0;31m:\u001b[0m invalid syntax\n"
          ]
        }
      ]
    },
    {
      "cell_type": "markdown",
      "source": [
        "## Task 2: Create a GKE cluster\n",
        "\n"
      ],
      "metadata": {
        "id": "YUBjw96QswLq"
      }
    },
    {
      "cell_type": "markdown",
      "source": [
        "To create a cluster, run the following command, replacing [CLUSTER-NAME] with the name you choose for the cluster (for example:my-cluster).\n",
        "\n"
      ],
      "metadata": {
        "id": "UAYa9TULyitn"
      }
    },
    {
      "cell_type": "code",
      "source": [
        "gcloud container clusters create [CLUSTER-NAME]"
      ],
      "metadata": {
        "colab": {
          "base_uri": "https://localhost:8080/",
          "height": 130
        },
        "collapsed": true,
        "id": "LUOX-5I_uB8d",
        "outputId": "5ae7a9a8-dc94-4302-eb0c-1b0f1c6b00b1"
      },
      "execution_count": null,
      "outputs": [
        {
          "output_type": "error",
          "ename": "SyntaxError",
          "evalue": "ignored",
          "traceback": [
            "\u001b[0;36m  File \u001b[0;32m\"<ipython-input-4-8bd950bb2953>\"\u001b[0;36m, line \u001b[0;32m1\u001b[0m\n\u001b[0;31m    gcloud container clusters create [CLUSTER-NAME]\u001b[0m\n\u001b[0m                   ^\u001b[0m\n\u001b[0;31mSyntaxError\u001b[0m\u001b[0;31m:\u001b[0m invalid syntax\n"
          ]
        }
      ]
    },
    {
      "cell_type": "markdown",
      "source": [
        "## Task 3: Get authentication credentials for the cluster\n"
      ],
      "metadata": {
        "id": "UBglzs06swXG"
      }
    },
    {
      "cell_type": "markdown",
      "source": [
        "To authenticate the cluster, run the following command, replacing [CLUSTER-NAME] with the name of your cluster:\n",
        "\n"
      ],
      "metadata": {
        "id": "ZaaFsn05yeb-"
      }
    },
    {
      "cell_type": "code",
      "source": [
        "gcloud container clusters get-credentials [CLUSTER-NAME]"
      ],
      "metadata": {
        "id": "feRUnRVQuF4V"
      },
      "execution_count": null,
      "outputs": []
    },
    {
      "cell_type": "markdown",
      "source": [
        "## Task 4: Deploy an application to the cluster\n",
        "\n"
      ],
      "metadata": {
        "id": "Ag0gsDAJswbF"
      }
    },
    {
      "cell_type": "markdown",
      "source": [
        "To create a new Deployment hello-server from the hello-app container image, run the following kubectl create command:\n",
        "\n"
      ],
      "metadata": {
        "id": "EROD0EA9yaku"
      }
    },
    {
      "cell_type": "code",
      "source": [
        "kubectl create deployment hello-server --image=gcr.io/google-samples/hello-app:1.0"
      ],
      "metadata": {
        "id": "_lW49NRKuIXV"
      },
      "execution_count": null,
      "outputs": []
    },
    {
      "cell_type": "markdown",
      "source": [
        "To create a Kubernetes Service, which is a Kubernetes resource that lets you expose your application to external traffic, run the following kubectl expose command:\n",
        "\n"
      ],
      "metadata": {
        "id": "3m32UfDkyXlG"
      }
    },
    {
      "cell_type": "code",
      "source": [
        "kubectl expose deployment hello-server --type=LoadBalancer --port 8080"
      ],
      "metadata": {
        "id": "h77qdcVGyCT-"
      },
      "execution_count": null,
      "outputs": []
    },
    {
      "cell_type": "markdown",
      "source": [
        "To inspect the hello-server Service, run kubectl get:\n",
        "\n"
      ],
      "metadata": {
        "id": "51xMaf1Gy34W"
      }
    },
    {
      "cell_type": "code",
      "source": [
        "kubectl get service"
      ],
      "metadata": {
        "id": "9FwDH03by71-"
      },
      "execution_count": null,
      "outputs": []
    },
    {
      "cell_type": "markdown",
      "source": [
        "To view the application from your web browser, open a new tab and enter the following address, replacing [EXTERNAL IP] with the EXTERNAL-IP for hello-server.\n",
        "\n"
      ],
      "metadata": {
        "id": "2rxxgrfPzGdX"
      }
    },
    {
      "cell_type": "code",
      "source": [
        "http://[EXTERNAL-IP]:8080"
      ],
      "metadata": {
        "id": "9zePpdw4zIpG"
      },
      "execution_count": null,
      "outputs": []
    },
    {
      "cell_type": "markdown",
      "source": [
        "## Task 5: Deleting the cluster\n",
        "\n",
        "\n",
        "\n"
      ],
      "metadata": {
        "id": "oR6XGe5Isw7v"
      }
    },
    {
      "cell_type": "code",
      "execution_count": null,
      "metadata": {
        "id": "dyD2eeknrA3N"
      },
      "outputs": [],
      "source": [
        "gcloud container clusters delete [CLUSTER-NAME]"
      ]
    },
    {
      "cell_type": "markdown",
      "source": [
        "## Congratulations!\n",
        "\n"
      ],
      "metadata": {
        "id": "EoP2UY8gsvY8"
      }
    }
  ]
}